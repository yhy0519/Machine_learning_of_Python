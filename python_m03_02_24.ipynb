{
  "nbformat": 4,
  "nbformat_minor": 0,
  "metadata": {
    "colab": {
      "name": "python_m03_02_24.ipynb",
      "provenance": [],
      "collapsed_sections": [],
      "toc_visible": true,
      "mount_file_id": "18VBULny37H8cggObFMEAlh8BCRZZ6qse",
      "authorship_tag": "ABX9TyPNeUpis2eMOhinSo70b7bj",
      "include_colab_link": true
    },
    "kernelspec": {
      "name": "python3",
      "display_name": "Python 3"
    }
  },
  "cells": [
    {
      "cell_type": "markdown",
      "metadata": {
        "id": "view-in-github",
        "colab_type": "text"
      },
      "source": [
        "<a href=\"https://colab.research.google.com/github/yhy0519/Machine_learning_of_Python/blob/main/python_m03_02_24.ipynb\" target=\"_parent\"><img src=\"https://colab.research.google.com/assets/colab-badge.svg\" alt=\"Open In Colab\"/></a>"
      ]
    },
    {
      "cell_type": "markdown",
      "metadata": {
        "id": "dv7MkJEfxNYs"
      },
      "source": [
        "**■ 머신러닝 데이터 분석 5가지 단계 ( 빅 피쳐 )**\r\n",
        "\r\n",
        "     1. 데이터 수집과 설명 : pandas 를 사용 \r\n",
        "     2. 데이터 탐색 및 시각화 : pandas, matplotlib, seaborn 사용\r\n",
        "     3. 머신러닝 모델 훈련 : sklearn 사용\r\n",
        "     4. 머신러닝 모델 평가 : pandas 사용\r\n",
        "     5. 머신러닝 모델 성능 개선 : pandas 를 사용 ( 파생변수 생성 )\r\n",
        "\r\n",
        "\r\n",
        "성능 개선 방법 : 단순 회귀 ---> 다항회귀로 변경해서 성능을 올린다. \r\n",
        "\r\n",
        "     1. 단순회귀 : 독립변수 한개에 종속변수 한 개 ( 선형 회귀선 ) \r\n",
        "     2. 다항회귀 : 독립변수 한개에 종속변수 한 개 ( 비선형 회귀선 )\r\n",
        "     3. 다중회귀 : 종속변수에 영향을 주는 독립변수가 여러개인 경우.\r\n"
      ]
    },
    {
      "cell_type": "markdown",
      "metadata": {
        "id": "-7MMWGVJxNTj"
      },
      "source": [
        "#**■ 다항 회귀 분석(Polynomial Regression)**\r\n",
        "\r\n",
        "\r\n",
        "\r\n",
        "문제. 무게와 연비간의 예측값과 실제값의 비교 단순회귀분석의 결과 그래프를 보면 실제값은 왼쪽으로 편향되어있고  \r\n",
        "예측값을 반대로 오른쪽으로 편중되는 경향을 보인\r\n",
        "\r\n",
        "```\r\n",
        "# 코드로 형식\r\n",
        "\r\n",
        "```\r\n",
        "# 코드로 형식 지정됨\r\n",
        "```\r\n",
        "\r\n",
        "지정됨\r\n",
        "```\r\n",
        "\r\n",
        "다.  \r\n",
        "\r\n",
        "![image.png](data:image/png;base64,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)\r\n",
        "\r\n",
        "따라서 독립변수(weight) 과 종속변수(mpg) 사이의 선형관계가 있지만, 모형의 오차를 더 줄일 필요가 있어 보인다.  \r\n",
        "앞에서 본 산포도를 보면 직선보다는 곡선이 더 적합해 보인다.  비선형 회귀분석을 통해 모형의 정확도를 더 높이시오.\r\n"
      ]
    },
    {
      "cell_type": "code",
      "metadata": {
        "id": "P_NRwAsvjQg_"
      },
      "source": [
        "### 기본 라이브러리 불러오기\r\n",
        "import pandas as pd\r\n",
        "import numpy as np\r\n",
        "import matplotlib.pyplot as plt\r\n",
        "import seaborn as sns"
      ],
      "execution_count": 40,
      "outputs": []
    },
    {
      "cell_type": "code",
      "metadata": {
        "colab": {
          "base_uri": "https://localhost:8080/",
          "height": 419
        },
        "id": "Qe5-C9inj1JB",
        "outputId": "7761838e-afd0-4cbe-ecd9-3768025d249b"
      },
      "source": [
        "'''\r\n",
        "[Step 1 ~ 4] 데이터 준비\r\n",
        "'''\r\n",
        "\r\n",
        "# CSV 파일을 데이터프레임으로 변환\r\n",
        "df = pd.read_csv('/content/drive/MyDrive/data/auto-mpg.csv', header=None)\r\n",
        "df"
      ],
      "execution_count": 63,
      "outputs": [
        {
          "output_type": "execute_result",
          "data": {
            "text/html": [
              "<div>\n",
              "<style scoped>\n",
              "    .dataframe tbody tr th:only-of-type {\n",
              "        vertical-align: middle;\n",
              "    }\n",
              "\n",
              "    .dataframe tbody tr th {\n",
              "        vertical-align: top;\n",
              "    }\n",
              "\n",
              "    .dataframe thead th {\n",
              "        text-align: right;\n",
              "    }\n",
              "</style>\n",
              "<table border=\"1\" class=\"dataframe\">\n",
              "  <thead>\n",
              "    <tr style=\"text-align: right;\">\n",
              "      <th></th>\n",
              "      <th>0</th>\n",
              "      <th>1</th>\n",
              "      <th>2</th>\n",
              "      <th>3</th>\n",
              "      <th>4</th>\n",
              "      <th>5</th>\n",
              "      <th>6</th>\n",
              "      <th>7</th>\n",
              "      <th>8</th>\n",
              "    </tr>\n",
              "  </thead>\n",
              "  <tbody>\n",
              "    <tr>\n",
              "      <th>0</th>\n",
              "      <td>18.0</td>\n",
              "      <td>8</td>\n",
              "      <td>307.0</td>\n",
              "      <td>130.0</td>\n",
              "      <td>3504.0</td>\n",
              "      <td>12.0</td>\n",
              "      <td>70</td>\n",
              "      <td>1</td>\n",
              "      <td>chevrolet chevelle malibu</td>\n",
              "    </tr>\n",
              "    <tr>\n",
              "      <th>1</th>\n",
              "      <td>15.0</td>\n",
              "      <td>8</td>\n",
              "      <td>350.0</td>\n",
              "      <td>165.0</td>\n",
              "      <td>3693.0</td>\n",
              "      <td>11.5</td>\n",
              "      <td>70</td>\n",
              "      <td>1</td>\n",
              "      <td>buick skylark 320</td>\n",
              "    </tr>\n",
              "    <tr>\n",
              "      <th>2</th>\n",
              "      <td>18.0</td>\n",
              "      <td>8</td>\n",
              "      <td>318.0</td>\n",
              "      <td>150.0</td>\n",
              "      <td>3436.0</td>\n",
              "      <td>11.0</td>\n",
              "      <td>70</td>\n",
              "      <td>1</td>\n",
              "      <td>plymouth satellite</td>\n",
              "    </tr>\n",
              "    <tr>\n",
              "      <th>3</th>\n",
              "      <td>16.0</td>\n",
              "      <td>8</td>\n",
              "      <td>304.0</td>\n",
              "      <td>150.0</td>\n",
              "      <td>3433.0</td>\n",
              "      <td>12.0</td>\n",
              "      <td>70</td>\n",
              "      <td>1</td>\n",
              "      <td>amc rebel sst</td>\n",
              "    </tr>\n",
              "    <tr>\n",
              "      <th>4</th>\n",
              "      <td>17.0</td>\n",
              "      <td>8</td>\n",
              "      <td>302.0</td>\n",
              "      <td>140.0</td>\n",
              "      <td>3449.0</td>\n",
              "      <td>10.5</td>\n",
              "      <td>70</td>\n",
              "      <td>1</td>\n",
              "      <td>ford torino</td>\n",
              "    </tr>\n",
              "    <tr>\n",
              "      <th>...</th>\n",
              "      <td>...</td>\n",
              "      <td>...</td>\n",
              "      <td>...</td>\n",
              "      <td>...</td>\n",
              "      <td>...</td>\n",
              "      <td>...</td>\n",
              "      <td>...</td>\n",
              "      <td>...</td>\n",
              "      <td>...</td>\n",
              "    </tr>\n",
              "    <tr>\n",
              "      <th>393</th>\n",
              "      <td>27.0</td>\n",
              "      <td>4</td>\n",
              "      <td>140.0</td>\n",
              "      <td>86.00</td>\n",
              "      <td>2790.0</td>\n",
              "      <td>15.6</td>\n",
              "      <td>82</td>\n",
              "      <td>1</td>\n",
              "      <td>ford mustang gl</td>\n",
              "    </tr>\n",
              "    <tr>\n",
              "      <th>394</th>\n",
              "      <td>44.0</td>\n",
              "      <td>4</td>\n",
              "      <td>97.0</td>\n",
              "      <td>52.00</td>\n",
              "      <td>2130.0</td>\n",
              "      <td>24.6</td>\n",
              "      <td>82</td>\n",
              "      <td>2</td>\n",
              "      <td>vw pickup</td>\n",
              "    </tr>\n",
              "    <tr>\n",
              "      <th>395</th>\n",
              "      <td>32.0</td>\n",
              "      <td>4</td>\n",
              "      <td>135.0</td>\n",
              "      <td>84.00</td>\n",
              "      <td>2295.0</td>\n",
              "      <td>11.6</td>\n",
              "      <td>82</td>\n",
              "      <td>1</td>\n",
              "      <td>dodge rampage</td>\n",
              "    </tr>\n",
              "    <tr>\n",
              "      <th>396</th>\n",
              "      <td>28.0</td>\n",
              "      <td>4</td>\n",
              "      <td>120.0</td>\n",
              "      <td>79.00</td>\n",
              "      <td>2625.0</td>\n",
              "      <td>18.6</td>\n",
              "      <td>82</td>\n",
              "      <td>1</td>\n",
              "      <td>ford ranger</td>\n",
              "    </tr>\n",
              "    <tr>\n",
              "      <th>397</th>\n",
              "      <td>31.0</td>\n",
              "      <td>4</td>\n",
              "      <td>119.0</td>\n",
              "      <td>82.00</td>\n",
              "      <td>2720.0</td>\n",
              "      <td>19.4</td>\n",
              "      <td>82</td>\n",
              "      <td>1</td>\n",
              "      <td>chevy s-10</td>\n",
              "    </tr>\n",
              "  </tbody>\n",
              "</table>\n",
              "<p>398 rows × 9 columns</p>\n",
              "</div>"
            ],
            "text/plain": [
              "        0  1      2      3       4     5   6  7                          8\n",
              "0    18.0  8  307.0  130.0  3504.0  12.0  70  1  chevrolet chevelle malibu\n",
              "1    15.0  8  350.0  165.0  3693.0  11.5  70  1          buick skylark 320\n",
              "2    18.0  8  318.0  150.0  3436.0  11.0  70  1         plymouth satellite\n",
              "3    16.0  8  304.0  150.0  3433.0  12.0  70  1              amc rebel sst\n",
              "4    17.0  8  302.0  140.0  3449.0  10.5  70  1                ford torino\n",
              "..    ... ..    ...    ...     ...   ...  .. ..                        ...\n",
              "393  27.0  4  140.0  86.00  2790.0  15.6  82  1            ford mustang gl\n",
              "394  44.0  4   97.0  52.00  2130.0  24.6  82  2                  vw pickup\n",
              "395  32.0  4  135.0  84.00  2295.0  11.6  82  1              dodge rampage\n",
              "396  28.0  4  120.0  79.00  2625.0  18.6  82  1                ford ranger\n",
              "397  31.0  4  119.0  82.00  2720.0  19.4  82  1                 chevy s-10\n",
              "\n",
              "[398 rows x 9 columns]"
            ]
          },
          "metadata": {
            "tags": []
          },
          "execution_count": 63
        }
      ]
    },
    {
      "cell_type": "code",
      "metadata": {
        "colab": {
          "base_uri": "https://localhost:8080/",
          "height": 419
        },
        "id": "8FWmdKOPlYAr",
        "outputId": "66cfde9b-975c-4d88-b368-28b261ba4310"
      },
      "source": [
        "# 열 이름 지정\r\n",
        "df.columns = ['mpg','cylinders','displacement','horsepower','weight', 'acceleration','model year','origin','name']\r\n",
        "df"
      ],
      "execution_count": 64,
      "outputs": [
        {
          "output_type": "execute_result",
          "data": {
            "text/html": [
              "<div>\n",
              "<style scoped>\n",
              "    .dataframe tbody tr th:only-of-type {\n",
              "        vertical-align: middle;\n",
              "    }\n",
              "\n",
              "    .dataframe tbody tr th {\n",
              "        vertical-align: top;\n",
              "    }\n",
              "\n",
              "    .dataframe thead th {\n",
              "        text-align: right;\n",
              "    }\n",
              "</style>\n",
              "<table border=\"1\" class=\"dataframe\">\n",
              "  <thead>\n",
              "    <tr style=\"text-align: right;\">\n",
              "      <th></th>\n",
              "      <th>mpg</th>\n",
              "      <th>cylinders</th>\n",
              "      <th>displacement</th>\n",
              "      <th>horsepower</th>\n",
              "      <th>weight</th>\n",
              "      <th>acceleration</th>\n",
              "      <th>model year</th>\n",
              "      <th>origin</th>\n",
              "      <th>name</th>\n",
              "    </tr>\n",
              "  </thead>\n",
              "  <tbody>\n",
              "    <tr>\n",
              "      <th>0</th>\n",
              "      <td>18.0</td>\n",
              "      <td>8</td>\n",
              "      <td>307.0</td>\n",
              "      <td>130.0</td>\n",
              "      <td>3504.0</td>\n",
              "      <td>12.0</td>\n",
              "      <td>70</td>\n",
              "      <td>1</td>\n",
              "      <td>chevrolet chevelle malibu</td>\n",
              "    </tr>\n",
              "    <tr>\n",
              "      <th>1</th>\n",
              "      <td>15.0</td>\n",
              "      <td>8</td>\n",
              "      <td>350.0</td>\n",
              "      <td>165.0</td>\n",
              "      <td>3693.0</td>\n",
              "      <td>11.5</td>\n",
              "      <td>70</td>\n",
              "      <td>1</td>\n",
              "      <td>buick skylark 320</td>\n",
              "    </tr>\n",
              "    <tr>\n",
              "      <th>2</th>\n",
              "      <td>18.0</td>\n",
              "      <td>8</td>\n",
              "      <td>318.0</td>\n",
              "      <td>150.0</td>\n",
              "      <td>3436.0</td>\n",
              "      <td>11.0</td>\n",
              "      <td>70</td>\n",
              "      <td>1</td>\n",
              "      <td>plymouth satellite</td>\n",
              "    </tr>\n",
              "    <tr>\n",
              "      <th>3</th>\n",
              "      <td>16.0</td>\n",
              "      <td>8</td>\n",
              "      <td>304.0</td>\n",
              "      <td>150.0</td>\n",
              "      <td>3433.0</td>\n",
              "      <td>12.0</td>\n",
              "      <td>70</td>\n",
              "      <td>1</td>\n",
              "      <td>amc rebel sst</td>\n",
              "    </tr>\n",
              "    <tr>\n",
              "      <th>4</th>\n",
              "      <td>17.0</td>\n",
              "      <td>8</td>\n",
              "      <td>302.0</td>\n",
              "      <td>140.0</td>\n",
              "      <td>3449.0</td>\n",
              "      <td>10.5</td>\n",
              "      <td>70</td>\n",
              "      <td>1</td>\n",
              "      <td>ford torino</td>\n",
              "    </tr>\n",
              "    <tr>\n",
              "      <th>...</th>\n",
              "      <td>...</td>\n",
              "      <td>...</td>\n",
              "      <td>...</td>\n",
              "      <td>...</td>\n",
              "      <td>...</td>\n",
              "      <td>...</td>\n",
              "      <td>...</td>\n",
              "      <td>...</td>\n",
              "      <td>...</td>\n",
              "    </tr>\n",
              "    <tr>\n",
              "      <th>393</th>\n",
              "      <td>27.0</td>\n",
              "      <td>4</td>\n",
              "      <td>140.0</td>\n",
              "      <td>86.00</td>\n",
              "      <td>2790.0</td>\n",
              "      <td>15.6</td>\n",
              "      <td>82</td>\n",
              "      <td>1</td>\n",
              "      <td>ford mustang gl</td>\n",
              "    </tr>\n",
              "    <tr>\n",
              "      <th>394</th>\n",
              "      <td>44.0</td>\n",
              "      <td>4</td>\n",
              "      <td>97.0</td>\n",
              "      <td>52.00</td>\n",
              "      <td>2130.0</td>\n",
              "      <td>24.6</td>\n",
              "      <td>82</td>\n",
              "      <td>2</td>\n",
              "      <td>vw pickup</td>\n",
              "    </tr>\n",
              "    <tr>\n",
              "      <th>395</th>\n",
              "      <td>32.0</td>\n",
              "      <td>4</td>\n",
              "      <td>135.0</td>\n",
              "      <td>84.00</td>\n",
              "      <td>2295.0</td>\n",
              "      <td>11.6</td>\n",
              "      <td>82</td>\n",
              "      <td>1</td>\n",
              "      <td>dodge rampage</td>\n",
              "    </tr>\n",
              "    <tr>\n",
              "      <th>396</th>\n",
              "      <td>28.0</td>\n",
              "      <td>4</td>\n",
              "      <td>120.0</td>\n",
              "      <td>79.00</td>\n",
              "      <td>2625.0</td>\n",
              "      <td>18.6</td>\n",
              "      <td>82</td>\n",
              "      <td>1</td>\n",
              "      <td>ford ranger</td>\n",
              "    </tr>\n",
              "    <tr>\n",
              "      <th>397</th>\n",
              "      <td>31.0</td>\n",
              "      <td>4</td>\n",
              "      <td>119.0</td>\n",
              "      <td>82.00</td>\n",
              "      <td>2720.0</td>\n",
              "      <td>19.4</td>\n",
              "      <td>82</td>\n",
              "      <td>1</td>\n",
              "      <td>chevy s-10</td>\n",
              "    </tr>\n",
              "  </tbody>\n",
              "</table>\n",
              "<p>398 rows × 9 columns</p>\n",
              "</div>"
            ],
            "text/plain": [
              "      mpg  cylinders  ...  origin                       name\n",
              "0    18.0          8  ...       1  chevrolet chevelle malibu\n",
              "1    15.0          8  ...       1          buick skylark 320\n",
              "2    18.0          8  ...       1         plymouth satellite\n",
              "3    16.0          8  ...       1              amc rebel sst\n",
              "4    17.0          8  ...       1                ford torino\n",
              "..    ...        ...  ...     ...                        ...\n",
              "393  27.0          4  ...       1            ford mustang gl\n",
              "394  44.0          4  ...       2                  vw pickup\n",
              "395  32.0          4  ...       1              dodge rampage\n",
              "396  28.0          4  ...       1                ford ranger\n",
              "397  31.0          4  ...       1                 chevy s-10\n",
              "\n",
              "[398 rows x 9 columns]"
            ]
          },
          "metadata": {
            "tags": []
          },
          "execution_count": 64
        }
      ]
    },
    {
      "cell_type": "markdown",
      "metadata": {
        "id": "g43sML7w9xe3"
      },
      "source": [
        ""
      ]
    },
    {
      "cell_type": "code",
      "metadata": {
        "colab": {
          "base_uri": "https://localhost:8080/"
        },
        "id": "WMDbDOgp68ol",
        "outputId": "0431eb70-9c5c-4f8c-b488-df315c625d9f"
      },
      "source": [
        "# pd.set_option('display.max_row', 500)  # 데이터 더 많이 보고 싶을때 사용\r\n",
        "(df['horsepower']=='?').sum()"
      ],
      "execution_count": 65,
      "outputs": [
        {
          "output_type": "execute_result",
          "data": {
            "text/plain": [
              "6"
            ]
          },
          "metadata": {
            "tags": []
          },
          "execution_count": 65
        }
      ]
    },
    {
      "cell_type": "code",
      "metadata": {
        "colab": {
          "base_uri": "https://localhost:8080/",
          "height": 419
        },
        "id": "tZfJRTIIlh9U",
        "outputId": "49e5b665-624b-4532-add3-9bdfc193193a"
      },
      "source": [
        "# horsepower 열의 자료형 변경 (문자열 -> 숫자)\r\n",
        "df['horsepower'].replace('?', np.nan, inplace=True)     # '?'을 np.nan으로 변경\r\n",
        "df.dropna(subset=['horsepower'], axis=0, inplace=True)  # 누락데이터 행을 삭제(axis = 0 : 행, inplace=True)\r\n",
        "df['horsepower'] = df['horsepower'].astype('float')     # 문자열을 실수형으로 변환\r\n",
        "df"
      ],
      "execution_count": 66,
      "outputs": [
        {
          "output_type": "execute_result",
          "data": {
            "text/html": [
              "<div>\n",
              "<style scoped>\n",
              "    .dataframe tbody tr th:only-of-type {\n",
              "        vertical-align: middle;\n",
              "    }\n",
              "\n",
              "    .dataframe tbody tr th {\n",
              "        vertical-align: top;\n",
              "    }\n",
              "\n",
              "    .dataframe thead th {\n",
              "        text-align: right;\n",
              "    }\n",
              "</style>\n",
              "<table border=\"1\" class=\"dataframe\">\n",
              "  <thead>\n",
              "    <tr style=\"text-align: right;\">\n",
              "      <th></th>\n",
              "      <th>mpg</th>\n",
              "      <th>cylinders</th>\n",
              "      <th>displacement</th>\n",
              "      <th>horsepower</th>\n",
              "      <th>weight</th>\n",
              "      <th>acceleration</th>\n",
              "      <th>model year</th>\n",
              "      <th>origin</th>\n",
              "      <th>name</th>\n",
              "    </tr>\n",
              "  </thead>\n",
              "  <tbody>\n",
              "    <tr>\n",
              "      <th>0</th>\n",
              "      <td>18.0</td>\n",
              "      <td>8</td>\n",
              "      <td>307.0</td>\n",
              "      <td>130.0</td>\n",
              "      <td>3504.0</td>\n",
              "      <td>12.0</td>\n",
              "      <td>70</td>\n",
              "      <td>1</td>\n",
              "      <td>chevrolet chevelle malibu</td>\n",
              "    </tr>\n",
              "    <tr>\n",
              "      <th>1</th>\n",
              "      <td>15.0</td>\n",
              "      <td>8</td>\n",
              "      <td>350.0</td>\n",
              "      <td>165.0</td>\n",
              "      <td>3693.0</td>\n",
              "      <td>11.5</td>\n",
              "      <td>70</td>\n",
              "      <td>1</td>\n",
              "      <td>buick skylark 320</td>\n",
              "    </tr>\n",
              "    <tr>\n",
              "      <th>2</th>\n",
              "      <td>18.0</td>\n",
              "      <td>8</td>\n",
              "      <td>318.0</td>\n",
              "      <td>150.0</td>\n",
              "      <td>3436.0</td>\n",
              "      <td>11.0</td>\n",
              "      <td>70</td>\n",
              "      <td>1</td>\n",
              "      <td>plymouth satellite</td>\n",
              "    </tr>\n",
              "    <tr>\n",
              "      <th>3</th>\n",
              "      <td>16.0</td>\n",
              "      <td>8</td>\n",
              "      <td>304.0</td>\n",
              "      <td>150.0</td>\n",
              "      <td>3433.0</td>\n",
              "      <td>12.0</td>\n",
              "      <td>70</td>\n",
              "      <td>1</td>\n",
              "      <td>amc rebel sst</td>\n",
              "    </tr>\n",
              "    <tr>\n",
              "      <th>4</th>\n",
              "      <td>17.0</td>\n",
              "      <td>8</td>\n",
              "      <td>302.0</td>\n",
              "      <td>140.0</td>\n",
              "      <td>3449.0</td>\n",
              "      <td>10.5</td>\n",
              "      <td>70</td>\n",
              "      <td>1</td>\n",
              "      <td>ford torino</td>\n",
              "    </tr>\n",
              "    <tr>\n",
              "      <th>...</th>\n",
              "      <td>...</td>\n",
              "      <td>...</td>\n",
              "      <td>...</td>\n",
              "      <td>...</td>\n",
              "      <td>...</td>\n",
              "      <td>...</td>\n",
              "      <td>...</td>\n",
              "      <td>...</td>\n",
              "      <td>...</td>\n",
              "    </tr>\n",
              "    <tr>\n",
              "      <th>393</th>\n",
              "      <td>27.0</td>\n",
              "      <td>4</td>\n",
              "      <td>140.0</td>\n",
              "      <td>86.0</td>\n",
              "      <td>2790.0</td>\n",
              "      <td>15.6</td>\n",
              "      <td>82</td>\n",
              "      <td>1</td>\n",
              "      <td>ford mustang gl</td>\n",
              "    </tr>\n",
              "    <tr>\n",
              "      <th>394</th>\n",
              "      <td>44.0</td>\n",
              "      <td>4</td>\n",
              "      <td>97.0</td>\n",
              "      <td>52.0</td>\n",
              "      <td>2130.0</td>\n",
              "      <td>24.6</td>\n",
              "      <td>82</td>\n",
              "      <td>2</td>\n",
              "      <td>vw pickup</td>\n",
              "    </tr>\n",
              "    <tr>\n",
              "      <th>395</th>\n",
              "      <td>32.0</td>\n",
              "      <td>4</td>\n",
              "      <td>135.0</td>\n",
              "      <td>84.0</td>\n",
              "      <td>2295.0</td>\n",
              "      <td>11.6</td>\n",
              "      <td>82</td>\n",
              "      <td>1</td>\n",
              "      <td>dodge rampage</td>\n",
              "    </tr>\n",
              "    <tr>\n",
              "      <th>396</th>\n",
              "      <td>28.0</td>\n",
              "      <td>4</td>\n",
              "      <td>120.0</td>\n",
              "      <td>79.0</td>\n",
              "      <td>2625.0</td>\n",
              "      <td>18.6</td>\n",
              "      <td>82</td>\n",
              "      <td>1</td>\n",
              "      <td>ford ranger</td>\n",
              "    </tr>\n",
              "    <tr>\n",
              "      <th>397</th>\n",
              "      <td>31.0</td>\n",
              "      <td>4</td>\n",
              "      <td>119.0</td>\n",
              "      <td>82.0</td>\n",
              "      <td>2720.0</td>\n",
              "      <td>19.4</td>\n",
              "      <td>82</td>\n",
              "      <td>1</td>\n",
              "      <td>chevy s-10</td>\n",
              "    </tr>\n",
              "  </tbody>\n",
              "</table>\n",
              "<p>392 rows × 9 columns</p>\n",
              "</div>"
            ],
            "text/plain": [
              "      mpg  cylinders  ...  origin                       name\n",
              "0    18.0          8  ...       1  chevrolet chevelle malibu\n",
              "1    15.0          8  ...       1          buick skylark 320\n",
              "2    18.0          8  ...       1         plymouth satellite\n",
              "3    16.0          8  ...       1              amc rebel sst\n",
              "4    17.0          8  ...       1                ford torino\n",
              "..    ...        ...  ...     ...                        ...\n",
              "393  27.0          4  ...       1            ford mustang gl\n",
              "394  44.0          4  ...       2                  vw pickup\n",
              "395  32.0          4  ...       1              dodge rampage\n",
              "396  28.0          4  ...       1                ford ranger\n",
              "397  31.0          4  ...       1                 chevy s-10\n",
              "\n",
              "[392 rows x 9 columns]"
            ]
          },
          "metadata": {
            "tags": []
          },
          "execution_count": 66
        }
      ]
    },
    {
      "cell_type": "markdown",
      "metadata": {
        "id": "8h6YmqL89yGP"
      },
      "source": [
        ""
      ]
    },
    {
      "cell_type": "code",
      "metadata": {
        "colab": {
          "base_uri": "https://localhost:8080/",
          "height": 419
        },
        "id": "4kaXPtthj1Fp",
        "outputId": "2bd405fc-d518-4977-8831-b3c5aff67dcb"
      },
      "source": [
        "# 분석에 활용할 열(속성)을 선택 (연비, 실린더, 출력, 중량)\r\n",
        "ndf = df[['mpg', 'cylinders', 'horsepower', 'weight']]\r\n",
        "ndf"
      ],
      "execution_count": 67,
      "outputs": [
        {
          "output_type": "execute_result",
          "data": {
            "text/html": [
              "<div>\n",
              "<style scoped>\n",
              "    .dataframe tbody tr th:only-of-type {\n",
              "        vertical-align: middle;\n",
              "    }\n",
              "\n",
              "    .dataframe tbody tr th {\n",
              "        vertical-align: top;\n",
              "    }\n",
              "\n",
              "    .dataframe thead th {\n",
              "        text-align: right;\n",
              "    }\n",
              "</style>\n",
              "<table border=\"1\" class=\"dataframe\">\n",
              "  <thead>\n",
              "    <tr style=\"text-align: right;\">\n",
              "      <th></th>\n",
              "      <th>mpg</th>\n",
              "      <th>cylinders</th>\n",
              "      <th>horsepower</th>\n",
              "      <th>weight</th>\n",
              "    </tr>\n",
              "  </thead>\n",
              "  <tbody>\n",
              "    <tr>\n",
              "      <th>0</th>\n",
              "      <td>18.0</td>\n",
              "      <td>8</td>\n",
              "      <td>130.0</td>\n",
              "      <td>3504.0</td>\n",
              "    </tr>\n",
              "    <tr>\n",
              "      <th>1</th>\n",
              "      <td>15.0</td>\n",
              "      <td>8</td>\n",
              "      <td>165.0</td>\n",
              "      <td>3693.0</td>\n",
              "    </tr>\n",
              "    <tr>\n",
              "      <th>2</th>\n",
              "      <td>18.0</td>\n",
              "      <td>8</td>\n",
              "      <td>150.0</td>\n",
              "      <td>3436.0</td>\n",
              "    </tr>\n",
              "    <tr>\n",
              "      <th>3</th>\n",
              "      <td>16.0</td>\n",
              "      <td>8</td>\n",
              "      <td>150.0</td>\n",
              "      <td>3433.0</td>\n",
              "    </tr>\n",
              "    <tr>\n",
              "      <th>4</th>\n",
              "      <td>17.0</td>\n",
              "      <td>8</td>\n",
              "      <td>140.0</td>\n",
              "      <td>3449.0</td>\n",
              "    </tr>\n",
              "    <tr>\n",
              "      <th>...</th>\n",
              "      <td>...</td>\n",
              "      <td>...</td>\n",
              "      <td>...</td>\n",
              "      <td>...</td>\n",
              "    </tr>\n",
              "    <tr>\n",
              "      <th>393</th>\n",
              "      <td>27.0</td>\n",
              "      <td>4</td>\n",
              "      <td>86.0</td>\n",
              "      <td>2790.0</td>\n",
              "    </tr>\n",
              "    <tr>\n",
              "      <th>394</th>\n",
              "      <td>44.0</td>\n",
              "      <td>4</td>\n",
              "      <td>52.0</td>\n",
              "      <td>2130.0</td>\n",
              "    </tr>\n",
              "    <tr>\n",
              "      <th>395</th>\n",
              "      <td>32.0</td>\n",
              "      <td>4</td>\n",
              "      <td>84.0</td>\n",
              "      <td>2295.0</td>\n",
              "    </tr>\n",
              "    <tr>\n",
              "      <th>396</th>\n",
              "      <td>28.0</td>\n",
              "      <td>4</td>\n",
              "      <td>79.0</td>\n",
              "      <td>2625.0</td>\n",
              "    </tr>\n",
              "    <tr>\n",
              "      <th>397</th>\n",
              "      <td>31.0</td>\n",
              "      <td>4</td>\n",
              "      <td>82.0</td>\n",
              "      <td>2720.0</td>\n",
              "    </tr>\n",
              "  </tbody>\n",
              "</table>\n",
              "<p>392 rows × 4 columns</p>\n",
              "</div>"
            ],
            "text/plain": [
              "      mpg  cylinders  horsepower  weight\n",
              "0    18.0          8       130.0  3504.0\n",
              "1    15.0          8       165.0  3693.0\n",
              "2    18.0          8       150.0  3436.0\n",
              "3    16.0          8       150.0  3433.0\n",
              "4    17.0          8       140.0  3449.0\n",
              "..    ...        ...         ...     ...\n",
              "393  27.0          4        86.0  2790.0\n",
              "394  44.0          4        52.0  2130.0\n",
              "395  32.0          4        84.0  2295.0\n",
              "396  28.0          4        79.0  2625.0\n",
              "397  31.0          4        82.0  2720.0\n",
              "\n",
              "[392 rows x 4 columns]"
            ]
          },
          "metadata": {
            "tags": []
          },
          "execution_count": 67
        }
      ]
    },
    {
      "cell_type": "markdown",
      "metadata": {
        "id": "18mP8JmU9y44"
      },
      "source": [
        ""
      ]
    },
    {
      "cell_type": "code",
      "metadata": {
        "colab": {
          "base_uri": "https://localhost:8080/"
        },
        "id": "2b1Hl1qwls4z",
        "outputId": "7305f73f-a694-43a0-c4ed-cd3a3fe4b270"
      },
      "source": [
        "# ndf 데이터를 train data 와 test data로 구분(7:3 비율)\r\n",
        "X=ndf[['weight']] # 독립 변수 X\r\n",
        "y=ndf['mpg']      # 종속 변수 y\r\n",
        " \r\n",
        "# train data 와 test data로 구분(7:3 비율)\r\n",
        "from sklearn.model_selection import train_test_split\r\n",
        "X_train, X_test, y_train, y_test = train_test_split(X, y, test_size=0.3, random_state=10)\r\n",
        "print('훈련 데이터: ', X_train.shape)\r\n",
        "print('검증 데이터: ', X_test.shape)\r\n",
        "print('\\n')"
      ],
      "execution_count": 68,
      "outputs": [
        {
          "output_type": "stream",
          "text": [
            "훈련 데이터:  (274, 1)\n",
            "검증 데이터:  (118, 1)\n",
            "\n",
            "\n"
          ],
          "name": "stdout"
        }
      ]
    },
    {
      "cell_type": "code",
      "metadata": {
        "colab": {
          "base_uri": "https://localhost:8080/"
        },
        "id": "vmNvbichj1Co",
        "outputId": "3f5289e1-a96d-4d96-a2f5-45d5d44bd90c"
      },
      "source": [
        "'''\r\n",
        "Step 5: 비선형회귀분석 모형 - sklearn 사용\r\n",
        "'''\r\n",
        "\r\n",
        "# sklearn 라이브러리에서 필요한 모듈 가져오기\r\n",
        "from sklearn.linear_model import LinearRegression     # 선형회귀분석\r\n",
        "from sklearn.preprocessing import PolynomialFeatures  # 다항식 변환\r\n",
        "\r\n",
        "# 다항식 변환\r\n",
        "poly = PolynomialFeatures(degree=2, include_bias=False)       # 2차항 적용, include_bias=False 옵션 : 상수항 제외하고 출력\r\n",
        "X_train_poly = poly.fit_transform(X_train)  # X_train 데이터를 2차항으로 변형\r\n",
        "print('원 데이터: ', X_train.shape)\r\n",
        "print('2차항 변환 데이터: ', X_train_poly.shape)   # 1, x, x^2 으로 생성\r\n",
        "print('\\n')"
      ],
      "execution_count": 78,
      "outputs": [
        {
          "output_type": "stream",
          "text": [
            "원 데이터:  (274, 1)\n",
            "2차항 변환 데이터:  (274, 2)\n",
            "\n",
            "\n"
          ],
          "name": "stdout"
        }
      ]
    },
    {
      "cell_type": "code",
      "metadata": {
        "colab": {
          "base_uri": "https://localhost:8080/"
        },
        "id": "77mHhpqKmjbC",
        "outputId": "4cae4725-2d1b-4958-846f-cc6ea2544b12"
      },
      "source": [
        "X_train_poly"
      ],
      "execution_count": 70,
      "outputs": [
        {
          "output_type": "execute_result",
          "data": {
            "text/plain": [
              "array([[1.00000000e+00, 4.20900000e+03, 1.77156810e+07, 7.45653013e+10],\n",
              "       [1.00000000e+00, 2.22300000e+03, 4.94172900e+06, 1.09854636e+10],\n",
              "       [1.00000000e+00, 3.41000000e+03, 1.16281000e+07, 3.96518210e+10],\n",
              "       ...,\n",
              "       [1.00000000e+00, 2.83300000e+03, 8.02588900e+06, 2.27373435e+10],\n",
              "       [1.00000000e+00, 2.90100000e+03, 8.41580100e+06, 2.44142387e+10],\n",
              "       [1.00000000e+00, 2.56000000e+03, 6.55360000e+06, 1.67772160e+10]])"
            ]
          },
          "metadata": {
            "tags": []
          },
          "execution_count": 70
        }
      ]
    },
    {
      "cell_type": "code",
      "metadata": {
        "colab": {
          "base_uri": "https://localhost:8080/"
        },
        "id": "7FxqCsEsj09W",
        "outputId": "3d1b2536-e3fd-4eca-aa76-342f3056fe8e"
      },
      "source": [
        "# train data를 가지고 모형 학습\r\n",
        "pr = LinearRegression()\r\n",
        "pr.fit(X_train_poly, y_train)\r\n",
        "\r\n",
        "# 학습을 마친 모형에 test data를 적용하여 결정계수(R-제곱) 계산\r\n",
        "X_test_poly = poly.fit_transform(X_test) # X_test 데이터를 2차항으로 변형\r\n",
        "r_square = pr.score(X_test_poly,y_test)\r\n",
        "print(r_square)\r\n",
        "print('\\n')"
      ],
      "execution_count": 79,
      "outputs": [
        {
          "output_type": "stream",
          "text": [
            "0.7087009262975499\n",
            "\n",
            "\n"
          ],
          "name": "stdout"
        }
      ]
    },
    {
      "cell_type": "code",
      "metadata": {
        "colab": {
          "base_uri": "https://localhost:8080/"
        },
        "id": "evq2yHhlnX-t",
        "outputId": "4ef4bc7a-9950-482c-edd1-b58dc964fefe"
      },
      "source": [
        "a = pr.fit(X_train_poly, y_train)\r\n",
        "a.coef_"
      ],
      "execution_count": 80,
      "outputs": [
        {
          "output_type": "execute_result",
          "data": {
            "text/plain": [
              "array([-1.85768289e-02,  1.70491223e-06])"
            ]
          },
          "metadata": {
            "tags": []
          },
          "execution_count": 80
        }
      ]
    },
    {
      "cell_type": "code",
      "metadata": {
        "colab": {
          "base_uri": "https://localhost:8080/",
          "height": 334
        },
        "id": "vl78J5bOmHHb",
        "outputId": "d4bc5fa5-71e9-4e8c-8261-f9a6f5d61720"
      },
      "source": [
        "# train data의 산점도와 test data로 예측한 회귀선을 그래프로 출력\r\n",
        "y_hat_test = pr.predict(X_test_poly)\r\n",
        "fig = plt.figure(figsize=(10, 5))\r\n",
        "ax = fig.add_subplot(1, 1, 1)\r\n",
        "ax.plot(X_train, y_train, 'o', label='Train Data')             # 데이터 분포\r\n",
        "ax.plot(X_test, y_hat_test, 'r+', label='Predicted Value')     # 모형이 학습한 회귀선\r\n",
        "ax.legend(loc='best')\r\n",
        "plt.xlabel('weight')\r\n",
        "plt.ylabel('mpg')\r\n",
        "plt.show()\r\n",
        "plt.close()"
      ],
      "execution_count": 53,
      "outputs": [
        {
          "output_type": "display_data",
          "data": {
            "image/png": "[encoded data removed]",
            "text/plain": [
              "<Figure size 720x360 with 1 Axes>"
            ]
          },
          "metadata": {
            "tags": [],
            "needs_background": "light"
          }
        }
      ]
    },
    {
      "cell_type": "code",
      "metadata": {
        "colab": {
          "base_uri": "https://localhost:8080/",
          "height": 426
        },
        "id": "QFFfP4_Mp-ha",
        "outputId": "e0c32ed8-2ae1-4e11-c605-bec572e86eab"
      },
      "source": [
        "# 모형에 전체 X 데이터를 입력하여 예측한 값 y_hat을 실제 값 y와 비교\r\n",
        "X_ploy = poly.fit_transform(X)\r\n",
        "y_hat = pr.predict(X_ploy)\r\n",
        "plt.figure(figsize=(10, 5))\r\n",
        "ax1 = sns.distplot(y, hist=False, label=\"y\")\r\n",
        "ax2 = sns.distplot(y_hat, hist=False, label=\"y_hat\", ax=ax1)\r\n",
        "plt.legend()\r\n",
        "plt.show()\r\n",
        "plt.close()"
      ],
      "execution_count": 54,
      "outputs": [
        {
          "output_type": "stream",
          "text": [
            "/usr/local/lib/python3.7/dist-packages/seaborn/distributions.py:2557: FutureWarning: `distplot` is a deprecated function and will be removed in a future version. Please adapt your code to use either `displot` (a figure-level function with similar flexibility) or `kdeplot` (an axes-level function for kernel density plots).\n",
            "  warnings.warn(msg, FutureWarning)\n",
            "/usr/local/lib/python3.7/dist-packages/seaborn/distributions.py:2557: FutureWarning: `distplot` is a deprecated function and will be removed in a future version. Please adapt your code to use either `displot` (a figure-level function with similar flexibility) or `kdeplot` (an axes-level function for kernel density plots).\n",
            "  warnings.warn(msg, FutureWarning)\n"
          ],
          "name": "stderr"
        },
        {
          "output_type": "display_data",
          "data": {
            "image/png": "[encoded data removed]",
            "text/plain": [
              "<Figure size 720x360 with 1 Axes>"
            ]
          },
          "metadata": {
            "tags": [],
            "needs_background": "light"
          }
        }
      ]
    },
    {
      "cell_type": "markdown",
      "metadata": {
        "id": "B1l4yBjKiqic"
      },
      "source": [
        ""
      ]
    },
    {
      "cell_type": "markdown",
      "metadata": {
        "id": "D8aybg5MirHz"
      },
      "source": [
        ""
      ]
    },
    {
      "cell_type": "markdown",
      "metadata": {
        "id": "9PsxFW01fT3P"
      },
      "source": [
        "문제19. 어제 마지막 문제로 풀었던 체중과 키와의 단순 선형 회귀 분석 결과의 테스트 데이터에 대한 결정계수는 0.86 이었습니다.  \r\n",
        "그렇다면 이번에는 다항 회귀로 비선형 회귀선을 만들어 결정계수를 더 올리시오."
      ]
    },
    {
      "cell_type": "code",
      "metadata": {
        "id": "5IWU4iSjfkke"
      },
      "source": [
        "# 필요한 패키지 불러오기\r\n",
        "import pandas as pd\r\n",
        "import numpy as np\r\n",
        "import matplotlib.pyplot as plt\r\n",
        "import seaborn as sns"
      ],
      "execution_count": 86,
      "outputs": []
    },
    {
      "cell_type": "code",
      "metadata": {
        "colab": {
          "base_uri": "https://localhost:8080/",
          "height": 669
        },
        "id": "_oHoAwJ0gC3n",
        "outputId": "f471106c-a671-4a13-affa-defb49e01b69"
      },
      "source": [
        "# step1. 데이터 프레임으로 변환시키기\r\n",
        "\r\n",
        "weight=[ 72, 72, 70, 43, 48, 54, 51, 52, 73, 45, 60, 62, 64, 47, 51, 74, 88,64, 56, 56  ]\r\n",
        "tall = [ 176, 172, 182, 160, 163, 165, 168, 163, 182, 148, 170, 166, 172, 169, 163, 170, 182, 174, 164, 160 ]\r\n",
        "\r\n",
        "dict_data = { 'weight' : [ 72, 72, 70, 43, 48, 54, 51, 52, 73, 45, 60, 62, 64, 47, 51, 74, 88, 64, 56, 56  ],\r\n",
        "                  'tall' : [ 176, 172, 182, 160, 163, 165, 168, 163, 182, 148, 170, 166, 172, 169, 163, 170, 182, 174, 164, 160 ]   }\r\n",
        "\r\n",
        "df = pd.DataFrame(dict_data)\r\n",
        "df"
      ],
      "execution_count": 87,
      "outputs": [
        {
          "output_type": "execute_result",
          "data": {
            "text/html": [
              "<div>\n",
              "<style scoped>\n",
              "    .dataframe tbody tr th:only-of-type {\n",
              "        vertical-align: middle;\n",
              "    }\n",
              "\n",
              "    .dataframe tbody tr th {\n",
              "        vertical-align: top;\n",
              "    }\n",
              "\n",
              "    .dataframe thead th {\n",
              "        text-align: right;\n",
              "    }\n",
              "</style>\n",
              "<table border=\"1\" class=\"dataframe\">\n",
              "  <thead>\n",
              "    <tr style=\"text-align: right;\">\n",
              "      <th></th>\n",
              "      <th>weight</th>\n",
              "      <th>tall</th>\n",
              "    </tr>\n",
              "  </thead>\n",
              "  <tbody>\n",
              "    <tr>\n",
              "      <th>0</th>\n",
              "      <td>72</td>\n",
              "      <td>176</td>\n",
              "    </tr>\n",
              "    <tr>\n",
              "      <th>1</th>\n",
              "      <td>72</td>\n",
              "      <td>172</td>\n",
              "    </tr>\n",
              "    <tr>\n",
              "      <th>2</th>\n",
              "      <td>70</td>\n",
              "      <td>182</td>\n",
              "    </tr>\n",
              "    <tr>\n",
              "      <th>3</th>\n",
              "      <td>43</td>\n",
              "      <td>160</td>\n",
              "    </tr>\n",
              "    <tr>\n",
              "      <th>4</th>\n",
              "      <td>48</td>\n",
              "      <td>163</td>\n",
              "    </tr>\n",
              "    <tr>\n",
              "      <th>5</th>\n",
              "      <td>54</td>\n",
              "      <td>165</td>\n",
              "    </tr>\n",
              "    <tr>\n",
              "      <th>6</th>\n",
              "      <td>51</td>\n",
              "      <td>168</td>\n",
              "    </tr>\n",
              "    <tr>\n",
              "      <th>7</th>\n",
              "      <td>52</td>\n",
              "      <td>163</td>\n",
              "    </tr>\n",
              "    <tr>\n",
              "      <th>8</th>\n",
              "      <td>73</td>\n",
              "      <td>182</td>\n",
              "    </tr>\n",
              "    <tr>\n",
              "      <th>9</th>\n",
              "      <td>45</td>\n",
              "      <td>148</td>\n",
              "    </tr>\n",
              "    <tr>\n",
              "      <th>10</th>\n",
              "      <td>60</td>\n",
              "      <td>170</td>\n",
              "    </tr>\n",
              "    <tr>\n",
              "      <th>11</th>\n",
              "      <td>62</td>\n",
              "      <td>166</td>\n",
              "    </tr>\n",
              "    <tr>\n",
              "      <th>12</th>\n",
              "      <td>64</td>\n",
              "      <td>172</td>\n",
              "    </tr>\n",
              "    <tr>\n",
              "      <th>13</th>\n",
              "      <td>47</td>\n",
              "      <td>169</td>\n",
              "    </tr>\n",
              "    <tr>\n",
              "      <th>14</th>\n",
              "      <td>51</td>\n",
              "      <td>163</td>\n",
              "    </tr>\n",
              "    <tr>\n",
              "      <th>15</th>\n",
              "      <td>74</td>\n",
              "      <td>170</td>\n",
              "    </tr>\n",
              "    <tr>\n",
              "      <th>16</th>\n",
              "      <td>88</td>\n",
              "      <td>182</td>\n",
              "    </tr>\n",
              "    <tr>\n",
              "      <th>17</th>\n",
              "      <td>64</td>\n",
              "      <td>174</td>\n",
              "    </tr>\n",
              "    <tr>\n",
              "      <th>18</th>\n",
              "      <td>56</td>\n",
              "      <td>164</td>\n",
              "    </tr>\n",
              "    <tr>\n",
              "      <th>19</th>\n",
              "      <td>56</td>\n",
              "      <td>160</td>\n",
              "    </tr>\n",
              "  </tbody>\n",
              "</table>\n",
              "</div>"
            ],
            "text/plain": [
              "    weight  tall\n",
              "0       72   176\n",
              "1       72   172\n",
              "2       70   182\n",
              "3       43   160\n",
              "4       48   163\n",
              "5       54   165\n",
              "6       51   168\n",
              "7       52   163\n",
              "8       73   182\n",
              "9       45   148\n",
              "10      60   170\n",
              "11      62   166\n",
              "12      64   172\n",
              "13      47   169\n",
              "14      51   163\n",
              "15      74   170\n",
              "16      88   182\n",
              "17      64   174\n",
              "18      56   164\n",
              "19      56   160"
            ]
          },
          "metadata": {
            "tags": []
          },
          "execution_count": 87
        }
      ]
    },
    {
      "cell_type": "code",
      "metadata": {
        "colab": {
          "base_uri": "https://localhost:8080/"
        },
        "id": "DsnemfgogEqq",
        "outputId": "e8b8d3dc-8cf6-4392-c63d-4f2a74ebfa2e"
      },
      "source": [
        "#Step 2: 데이터셋 구분 - 훈련용(train data)/ 검증용(test data)\r\n",
        "\r\n",
        "# 속성(변수) 선택\r\n",
        "\r\n",
        "X=df[['weight']] # 독립 변수 X\r\n",
        "y=df['tall']     # 종속 변수 Y\r\n",
        "\r\n",
        "# train data 와 test data로 구분(9:1 비율)\r\n",
        "# 데이터 양이 적기 때문에 9대 1로 나눠줌\r\n",
        "from sklearn.model_selection import train_test_split\r\n",
        "X_train, X_test, y_train, y_test = train_test_split(X, # 독립 변수\r\n",
        "                                                    y, # 종속 변수\r\n",
        "                                                    test_size=0.1,   # 검증 10%\r\n",
        "                                                    random_state=10) # 랜덤 추출 값\r\n",
        "\r\n",
        "print('train data 개수: ', len(X_train))   # 18개\r\n",
        "print('test data 개수: ', len(X_test))     # 2개"
      ],
      "execution_count": 88,
      "outputs": [
        {
          "output_type": "stream",
          "text": [
            "train data 개수:  18\n",
            "test data 개수:  2\n"
          ],
          "name": "stdout"
        }
      ]
    },
    {
      "cell_type": "code",
      "metadata": {
        "colab": {
          "base_uri": "https://localhost:8080/"
        },
        "id": "lgNA1ItegJd8",
        "outputId": "ac15c79b-8035-4b0b-88b3-b8efce24dc16"
      },
      "source": [
        "# Step 3: 다중회귀분석 모형 - sklearn 사용\r\n",
        "# sklearn 라이브러리에서 필요한 모듈 가져오기\r\n",
        "from sklearn.linear_model import LinearRegression #선형회귀분석\r\n",
        "from sklearn.preprocessing import PolynomialFeatures #다항식 변환\r\n",
        "\r\n",
        "# 다항식 변환\r\n",
        "poly = PolynomialFeatures(degree=2) # 2차항 적용\r\n",
        "X_train_poly=poly.fit_transform(X_train)  # X_train 데이터를 2차항으로 변형\r\n",
        "print('원 데이터: ', X_train.shape)\r\n",
        "print('2차항 변환 데이터: ', X_train_poly.shape)\r\n",
        "print('\\n')"
      ],
      "execution_count": 89,
      "outputs": [
        {
          "output_type": "stream",
          "text": [
            "원 데이터:  (18, 1)\n",
            "2차항 변환 데이터:  (18, 3)\n",
            "\n",
            "\n"
          ],
          "name": "stdout"
        }
      ]
    },
    {
      "cell_type": "code",
      "metadata": {
        "colab": {
          "base_uri": "https://localhost:8080/"
        },
        "id": "58GW9Pz5j2IK",
        "outputId": "b6b850e2-4efe-4a76-de1e-0c26925aea33"
      },
      "source": [
        "# train data를 가지고 모형 학습\r\n",
        "pr = LinearRegression()\r\n",
        "pr.fit(X_train_poly, y_train)\r\n",
        "\r\n",
        "\r\n",
        "# 학습을 마친 모형에 test data를 적용하여 결정계수(R-제곱) 계산\r\n",
        "X_test_poly = poly.fit_transform(X_test) #X_test 데이터를 2차항으로 변형\r\n",
        "r_square = pr.score(X_test_poly,y_test)\r\n",
        "print(r_square)"
      ],
      "execution_count": 90,
      "outputs": [
        {
          "output_type": "stream",
          "text": [
            "0.926396504610928\n"
          ],
          "name": "stdout"
        }
      ]
    },
    {
      "cell_type": "markdown",
      "metadata": {
        "id": "OsjDDuSrfkUf"
      },
      "source": [
        ""
      ]
    },
    {
      "cell_type": "code",
      "metadata": {
        "colab": {
          "base_uri": "https://localhost:8080/",
          "height": 334
        },
        "id": "Or-BOmDvhImC",
        "outputId": "04f8c510-fed5-4843-d53a-cc0193e974e2"
      },
      "source": [
        "# train data의 산점도와 test data로 예측한 회귀선을 그래프로 출력 \r\n",
        "y_hat_test = pr.predict(X_test_poly)\r\n",
        "\r\n",
        "fig = plt.figure(figsize=(10, 5))\r\n",
        "ax = fig.add_subplot(1, 1, 1)\r\n",
        "ax.plot(X_train, y_train, 'o', label='Train Data')  # 데이터 분포\r\n",
        "ax.plot(X_test, y_hat_test, 'r+', label='Predicted Value') # 모형이 학습한 회귀선\r\n",
        "ax.legend(loc='best')\r\n",
        "plt.xlabel('weight')\r\n",
        "plt.ylabel('mpg')\r\n",
        "plt.show()\r\n",
        "plt.close()"
      ],
      "execution_count": 91,
      "outputs": [
        {
          "output_type": "display_data",
          "data": {
            "image/png": "[encoded data removed]",
            "text/plain": [
              "<Figure size 720x360 with 1 Axes>"
            ]
          },
          "metadata": {
            "tags": [],
            "needs_background": "light"
          }
        }
      ]
    },
    {
      "cell_type": "code",
      "metadata": {
        "colab": {
          "base_uri": "https://localhost:8080/",
          "height": 426
        },
        "id": "Q873nnu_hKrB",
        "outputId": "c84192cc-6ea1-4de9-f396-b67ea5db3857"
      },
      "source": [
        "# 모형에 전체 X 데이터를 입력하여 예측한 값 y_hat을 실제 값 y와 비교 \r\n",
        "X_ploy = poly.fit_transform(X)\r\n",
        "y_hat = pr.predict(X_ploy)\r\n",
        "\r\n",
        "plt.figure(figsize=(10, 5))\r\n",
        "ax1 = sns.distplot(y, hist=False, label=\"y\")\r\n",
        "ax2 = sns.distplot(y_hat, hist=False, label=\"y_hat\", ax=ax1)\r\n",
        "plt.show()\r\n",
        "plt.close()"
      ],
      "execution_count": 61,
      "outputs": [
        {
          "output_type": "stream",
          "text": [
            "/usr/local/lib/python3.7/dist-packages/seaborn/distributions.py:2557: FutureWarning: `distplot` is a deprecated function and will be removed in a future version. Please adapt your code to use either `displot` (a figure-level function with similar flexibility) or `kdeplot` (an axes-level function for kernel density plots).\n",
            "  warnings.warn(msg, FutureWarning)\n",
            "/usr/local/lib/python3.7/dist-packages/seaborn/distributions.py:2557: FutureWarning: `distplot` is a deprecated function and will be removed in a future version. Please adapt your code to use either `displot` (a figure-level function with similar flexibility) or `kdeplot` (an axes-level function for kernel density plots).\n",
            "  warnings.warn(msg, FutureWarning)\n"
          ],
          "name": "stderr"
        },
        {
          "output_type": "display_data",
          "data": {
            "image/png": "[encoded data removed]",
            "text/plain": [
              "<Figure size 720x360 with 1 Axes>"
            ]
          },
          "metadata": {
            "tags": [],
            "needs_background": "light"
          }
        }
      ]
    },
    {
      "cell_type": "markdown",
      "metadata": {
        "id": "rB30yQ47fj9b"
      },
      "source": [
        ""
      ]
    },
    {
      "cell_type": "markdown",
      "metadata": {
        "id": "V5Vzh__Qfj4c"
      },
      "source": [
        ""
      ]
    },
    {
      "cell_type": "markdown",
      "metadata": {
        "id": "2MQVvDurxNnT"
      },
      "source": [
        "#**■ 다중 회귀 분석(Multi Regression)**\r\n",
        "\r\n",
        "종속변수에 영향을 주는 독립변수가 여러개인 경우\r\n",
        "\r\n",
        "예제1. 미국 우주 왕복선 폭파 원인  \r\n",
        "예제2. 미국 대학교 입학점수에 영향을 미치는 과목 분석  \r\n",
        "예제3. 미국 국민 의료비에 영향을 주는 요소 분석  \r\n",
        "\r\n",
        "**▩ 예제1. 미국 우주 왕복선 폭파 원인**\r\n"
      ]
    },
    {
      "cell_type": "code",
      "metadata": {
        "colab": {
          "base_uri": "https://localhost:8080/",
          "height": 733
        },
        "id": "VI3zb4h9w-pf",
        "outputId": "08b74db9-73c0-4a19-966c-08bc2eac6a1c"
      },
      "source": [
        "import numpy as np\r\n",
        "import statsmodels.api as sm\r\n",
        "import statsmodels.formula.api as smf\r\n",
        "import pandas as pd\r\n",
        "\r\n",
        "df = pd.read_csv(\"/content/drive/MyDrive/data/challenger.csv\", engine='python', encoding='CP949')\r\n",
        "df"
      ],
      "execution_count": null,
      "outputs": [
        {
          "output_type": "execute_result",
          "data": {
            "text/html": [
              "<div>\n",
              "<style scoped>\n",
              "    .dataframe tbody tr th:only-of-type {\n",
              "        vertical-align: middle;\n",
              "    }\n",
              "\n",
              "    .dataframe tbody tr th {\n",
              "        vertical-align: top;\n",
              "    }\n",
              "\n",
              "    .dataframe thead th {\n",
              "        text-align: right;\n",
              "    }\n",
              "</style>\n",
              "<table border=\"1\" class=\"dataframe\">\n",
              "  <thead>\n",
              "    <tr style=\"text-align: right;\">\n",
              "      <th></th>\n",
              "      <th>distress_ct</th>\n",
              "      <th>temperature</th>\n",
              "      <th>field_check_pressure</th>\n",
              "      <th>flight_num</th>\n",
              "    </tr>\n",
              "  </thead>\n",
              "  <tbody>\n",
              "    <tr>\n",
              "      <th>0</th>\n",
              "      <td>0</td>\n",
              "      <td>66</td>\n",
              "      <td>50</td>\n",
              "      <td>1</td>\n",
              "    </tr>\n",
              "    <tr>\n",
              "      <th>1</th>\n",
              "      <td>1</td>\n",
              "      <td>70</td>\n",
              "      <td>50</td>\n",
              "      <td>2</td>\n",
              "    </tr>\n",
              "    <tr>\n",
              "      <th>2</th>\n",
              "      <td>0</td>\n",
              "      <td>69</td>\n",
              "      <td>50</td>\n",
              "      <td>3</td>\n",
              "    </tr>\n",
              "    <tr>\n",
              "      <th>3</th>\n",
              "      <td>0</td>\n",
              "      <td>68</td>\n",
              "      <td>50</td>\n",
              "      <td>4</td>\n",
              "    </tr>\n",
              "    <tr>\n",
              "      <th>4</th>\n",
              "      <td>0</td>\n",
              "      <td>67</td>\n",
              "      <td>50</td>\n",
              "      <td>5</td>\n",
              "    </tr>\n",
              "    <tr>\n",
              "      <th>5</th>\n",
              "      <td>0</td>\n",
              "      <td>72</td>\n",
              "      <td>50</td>\n",
              "      <td>6</td>\n",
              "    </tr>\n",
              "    <tr>\n",
              "      <th>6</th>\n",
              "      <td>0</td>\n",
              "      <td>73</td>\n",
              "      <td>100</td>\n",
              "      <td>7</td>\n",
              "    </tr>\n",
              "    <tr>\n",
              "      <th>7</th>\n",
              "      <td>0</td>\n",
              "      <td>70</td>\n",
              "      <td>100</td>\n",
              "      <td>8</td>\n",
              "    </tr>\n",
              "    <tr>\n",
              "      <th>8</th>\n",
              "      <td>1</td>\n",
              "      <td>57</td>\n",
              "      <td>200</td>\n",
              "      <td>9</td>\n",
              "    </tr>\n",
              "    <tr>\n",
              "      <th>9</th>\n",
              "      <td>1</td>\n",
              "      <td>63</td>\n",
              "      <td>200</td>\n",
              "      <td>10</td>\n",
              "    </tr>\n",
              "    <tr>\n",
              "      <th>10</th>\n",
              "      <td>1</td>\n",
              "      <td>70</td>\n",
              "      <td>200</td>\n",
              "      <td>11</td>\n",
              "    </tr>\n",
              "    <tr>\n",
              "      <th>11</th>\n",
              "      <td>0</td>\n",
              "      <td>78</td>\n",
              "      <td>200</td>\n",
              "      <td>12</td>\n",
              "    </tr>\n",
              "    <tr>\n",
              "      <th>12</th>\n",
              "      <td>0</td>\n",
              "      <td>67</td>\n",
              "      <td>200</td>\n",
              "      <td>13</td>\n",
              "    </tr>\n",
              "    <tr>\n",
              "      <th>13</th>\n",
              "      <td>2</td>\n",
              "      <td>53</td>\n",
              "      <td>200</td>\n",
              "      <td>14</td>\n",
              "    </tr>\n",
              "    <tr>\n",
              "      <th>14</th>\n",
              "      <td>0</td>\n",
              "      <td>67</td>\n",
              "      <td>200</td>\n",
              "      <td>15</td>\n",
              "    </tr>\n",
              "    <tr>\n",
              "      <th>15</th>\n",
              "      <td>0</td>\n",
              "      <td>75</td>\n",
              "      <td>200</td>\n",
              "      <td>16</td>\n",
              "    </tr>\n",
              "    <tr>\n",
              "      <th>16</th>\n",
              "      <td>0</td>\n",
              "      <td>70</td>\n",
              "      <td>200</td>\n",
              "      <td>17</td>\n",
              "    </tr>\n",
              "    <tr>\n",
              "      <th>17</th>\n",
              "      <td>0</td>\n",
              "      <td>81</td>\n",
              "      <td>200</td>\n",
              "      <td>18</td>\n",
              "    </tr>\n",
              "    <tr>\n",
              "      <th>18</th>\n",
              "      <td>0</td>\n",
              "      <td>76</td>\n",
              "      <td>200</td>\n",
              "      <td>19</td>\n",
              "    </tr>\n",
              "    <tr>\n",
              "      <th>19</th>\n",
              "      <td>0</td>\n",
              "      <td>79</td>\n",
              "      <td>200</td>\n",
              "      <td>20</td>\n",
              "    </tr>\n",
              "    <tr>\n",
              "      <th>20</th>\n",
              "      <td>2</td>\n",
              "      <td>75</td>\n",
              "      <td>200</td>\n",
              "      <td>21</td>\n",
              "    </tr>\n",
              "    <tr>\n",
              "      <th>21</th>\n",
              "      <td>0</td>\n",
              "      <td>76</td>\n",
              "      <td>200</td>\n",
              "      <td>22</td>\n",
              "    </tr>\n",
              "    <tr>\n",
              "      <th>22</th>\n",
              "      <td>1</td>\n",
              "      <td>58</td>\n",
              "      <td>200</td>\n",
              "      <td>23</td>\n",
              "    </tr>\n",
              "  </tbody>\n",
              "</table>\n",
              "</div>"
            ],
            "text/plain": [
              "    distress_ct  temperature  field_check_pressure  flight_num\n",
              "0             0           66                    50           1\n",
              "1             1           70                    50           2\n",
              "2             0           69                    50           3\n",
              "3             0           68                    50           4\n",
              "4             0           67                    50           5\n",
              "5             0           72                    50           6\n",
              "6             0           73                   100           7\n",
              "7             0           70                   100           8\n",
              "8             1           57                   200           9\n",
              "9             1           63                   200          10\n",
              "10            1           70                   200          11\n",
              "11            0           78                   200          12\n",
              "12            0           67                   200          13\n",
              "13            2           53                   200          14\n",
              "14            0           67                   200          15\n",
              "15            0           75                   200          16\n",
              "16            0           70                   200          17\n",
              "17            0           81                   200          18\n",
              "18            0           76                   200          19\n",
              "19            0           79                   200          20\n",
              "20            2           75                   200          21\n",
              "21            0           76                   200          22\n",
              "22            1           58                   200          23"
            ]
          },
          "metadata": {
            "tags": []
          },
          "execution_count": 2
        }
      ]
    },
    {
      "cell_type": "code",
      "metadata": {
        "colab": {
          "base_uri": "https://localhost:8080/"
        },
        "id": "njQsR3XgyDcG",
        "outputId": "969f2c13-7abc-4a1f-ec09-779b766e7f02"
      },
      "source": [
        "# 다중 회귀 분석 코드\r\n",
        "\r\n",
        "model = smf.ols( formula='distress_ct ~ temperature + field_check_pressure + flight_num',\r\n",
        "                data = df)\r\n",
        "\r\n",
        "result = model.fit()\r\n",
        "print( result.summary() )"
      ],
      "execution_count": null,
      "outputs": [
        {
          "output_type": "stream",
          "text": [
            "                            OLS Regression Results                            \n",
            "==============================================================================\n",
            "Dep. Variable:            distress_ct   R-squared:                       0.360\n",
            "Model:                            OLS   Adj. R-squared:                  0.259\n",
            "Method:                 Least Squares   F-statistic:                     3.563\n",
            "Date:                Wed, 24 Feb 2021   Prob (F-statistic):             0.0337\n",
            "Time:                        02:05:05   Log-Likelihood:                -17.308\n",
            "No. Observations:                  23   AIC:                             42.62\n",
            "Df Residuals:                      19   BIC:                             47.16\n",
            "Df Model:                           3                                         \n",
            "Covariance Type:            nonrobust                                         \n",
            "========================================================================================\n",
            "                           coef    std err          t      P>|t|      [0.025      0.975]\n",
            "----------------------------------------------------------------------------------------\n",
            "Intercept                3.5271      1.307      2.699      0.014       0.791       6.263\n",
            "temperature             -0.0514      0.018     -2.802      0.011      -0.090      -0.013\n",
            "field_check_pressure     0.0018      0.003      0.517      0.611      -0.005       0.009\n",
            "flight_num               0.0143      0.035      0.407      0.689      -0.059       0.088\n",
            "==============================================================================\n",
            "Omnibus:                       17.300   Durbin-Watson:                   2.392\n",
            "Prob(Omnibus):                  0.000   Jarque-Bera (JB):               18.847\n",
            "Skew:                           1.686   Prob(JB):                     8.08e-05\n",
            "Kurtosis:                       5.881   Cond. No.                     1.98e+03\n",
            "==============================================================================\n",
            "\n",
            "Warnings:\n",
            "[1] Standard Errors assume that the covariance matrix of the errors is correctly specified.\n",
            "[2] The condition number is large, 1.98e+03. This might indicate that there are\n",
            "strong multicollinearity or other numerical problems.\n"
          ],
          "name": "stdout"
        }
      ]
    },
    {
      "cell_type": "markdown",
      "metadata": {
        "id": "MzsEC2sU03b0"
      },
      "source": [
        "분석결과 설명: o 형링 파손에 영향을 주는 가장 큰 독립변수는 온도 입니다. 그 다음이 비행기 노후화를 나타내는 비행기 번호 입니다.\r\n",
        "\r\n",
        "    회귀식 : y(distress_ct) = 3.5271 - 0.0514 * x1(temperature) + 0.0018 * x2(field_check_pressure) + 0.0143 * x3(flight_num)"
      ]
    },
    {
      "cell_type": "markdown",
      "metadata": {
        "id": "dIBybeWo0cfQ"
      },
      "source": [
        ""
      ]
    },
    {
      "cell_type": "markdown",
      "metadata": {
        "id": "TFnLd9gZ0cbC"
      },
      "source": [
        ""
      ]
    },
    {
      "cell_type": "markdown",
      "metadata": {
        "id": "gYMt0bUR0cVz"
      },
      "source": [
        "문제20. statsmodels 패키지를 이용해서 방금 다중 회귀 분석을 해보았는데 이번에는 중요한\r\n",
        "   독립변수인 temperature 만 이용해서 단순회귀 분석을 진행하고 분석된 결과를 출력하세요\r\n",
        "\r\n",
        "종속변수 : distress_ct (o 형링 파손수)\r\n",
        "독립변수 : temperature(온도)"
      ]
    },
    {
      "cell_type": "code",
      "metadata": {
        "colab": {
          "base_uri": "https://localhost:8080/"
        },
        "id": "yYqssFNP0dxL",
        "outputId": "553d3fd2-cec7-4c43-acd6-ce7e33e12a57"
      },
      "source": [
        "import numpy as np\r\n",
        "import statsmodels.api as sm\r\n",
        "import statsmodels.formula.api as smf\r\n",
        "import pandas as pd\r\n",
        "\r\n",
        "df = pd.read_csv(\"/content/drive/MyDrive/data/challenger.csv\", engine='python', encoding='CP949')\r\n",
        "print(df)\r\n",
        "\r\n",
        "# 단순 회귀 분석 코드\r\n",
        "\r\n",
        "model = smf.ols( formula='distress_ct ~ temperature',\r\n",
        "                data = df)\r\n",
        "\r\n",
        "result = model.fit()\r\n",
        "print( result.summary() )"
      ],
      "execution_count": null,
      "outputs": [
        {
          "output_type": "stream",
          "text": [
            "    distress_ct  temperature  field_check_pressure  flight_num\n",
            "0             0           66                    50           1\n",
            "1             1           70                    50           2\n",
            "2             0           69                    50           3\n",
            "3             0           68                    50           4\n",
            "4             0           67                    50           5\n",
            "5             0           72                    50           6\n",
            "6             0           73                   100           7\n",
            "7             0           70                   100           8\n",
            "8             1           57                   200           9\n",
            "9             1           63                   200          10\n",
            "10            1           70                   200          11\n",
            "11            0           78                   200          12\n",
            "12            0           67                   200          13\n",
            "13            2           53                   200          14\n",
            "14            0           67                   200          15\n",
            "15            0           75                   200          16\n",
            "16            0           70                   200          17\n",
            "17            0           81                   200          18\n",
            "18            0           76                   200          19\n",
            "19            0           79                   200          20\n",
            "20            2           75                   200          21\n",
            "21            0           76                   200          22\n",
            "22            1           58                   200          23\n",
            "                            OLS Regression Results                            \n",
            "==============================================================================\n",
            "Dep. Variable:            distress_ct   R-squared:                       0.261\n",
            "Model:                            OLS   Adj. R-squared:                  0.226\n",
            "Method:                 Least Squares   F-statistic:                     7.426\n",
            "Date:                Wed, 24 Feb 2021   Prob (F-statistic):             0.0127\n",
            "Time:                        02:15:44   Log-Likelihood:                -18.959\n",
            "No. Observations:                  23   AIC:                             41.92\n",
            "Df Residuals:                      21   BIC:                             44.19\n",
            "Df Model:                           1                                         \n",
            "Covariance Type:            nonrobust                                         \n",
            "===============================================================================\n",
            "                  coef    std err          t      P>|t|      [0.025      0.975]\n",
            "-------------------------------------------------------------------------------\n",
            "Intercept       3.6984      1.220      3.033      0.006       1.162       6.235\n",
            "temperature    -0.0475      0.017     -2.725      0.013      -0.084      -0.011\n",
            "==============================================================================\n",
            "Omnibus:                       18.542   Durbin-Watson:                   2.116\n",
            "Prob(Omnibus):                  0.000   Jarque-Bera (JB):               21.747\n",
            "Skew:                           1.733   Prob(JB):                     1.90e-05\n",
            "Kurtosis:                       6.267   Cond. No.                         708.\n",
            "==============================================================================\n",
            "\n",
            "Warnings:\n",
            "[1] Standard Errors assume that the covariance matrix of the errors is correctly specified.\n"
          ],
          "name": "stdout"
        }
      ]
    },
    {
      "cell_type": "markdown",
      "metadata": {
        "id": "W2VoEC083ysH"
      },
      "source": [
        "회귀식 : \r\n",
        "\r\n",
        "    y(distress_ct) = 3.6984 - 0.0475 * x1 (temperature)\r\n",
        "    ↑                                 ↑\r\n",
        "    파손수                            온도\r\n",
        "\r\n",
        "\t2.21 개                        31도 F(화씨)\r\n",
        "\t0.82 개                        60도 F(화씨)\r\n",
        "\t0.34 개                        70도 F(화씨)\r\n",
        "\r\n",
        "분석결과: 화씨 30도에서 발사하는게 화씨 60도에서 발사하는 것 보다 약 3배 더 위험하고 화씨 70도에서 발사하는 것 보다 약 7~8배 더 위험합니다.\r\n"
      ]
    },
    {
      "cell_type": "markdown",
      "metadata": {
        "id": "lnZirpA94CXm"
      },
      "source": [
        ""
      ]
    },
    {
      "cell_type": "markdown",
      "metadata": {
        "id": "zfNkSoyQ4CQ3"
      },
      "source": [
        ""
      ]
    },
    {
      "cell_type": "markdown",
      "metadata": {
        "id": "XLRk8bd54B-g"
      },
      "source": [
        "**▩ 예제2. 미국 대학교 입학점수에 영향을 미치는 과목 분석**\r\n",
        "\r\n",
        "데이터 : sports.csv\r\n",
        "\r\n",
        "종속변수 : acceptance\r\n",
        "\r\n",
        "독립변수 : academic, sports, music\r\n",
        "\r\n",
        "설명: \r\n",
        "분석요청 : 학과점수, 체육점수, 음악점수 중에 어떤 것이 더 입학 여부에 큰 영향을 주는지 ?  \r\n",
        "\t\t3과목의 점수 단위가 과목마다 다릅니다. (예: 체중과 키 처럼)  \r\n",
        "\t\t그래서 이런 경우에는 표준화를 하고 회귀분석을 해야합니다."
      ]
    },
    {
      "cell_type": "markdown",
      "metadata": {
        "id": "b3cD9GVz4_4s"
      },
      "source": [
        "①. 표준화를 안했을때 ? "
      ]
    },
    {
      "cell_type": "code",
      "metadata": {
        "colab": {
          "base_uri": "https://localhost:8080/"
        },
        "id": "8wetZbdf4qfu",
        "outputId": "6ddc5477-4754-4f3b-8354-b45817c2e811"
      },
      "source": [
        "import numpy as np\r\n",
        "import statsmodels.api as sm\r\n",
        "import statsmodels.formula.api as smf\r\n",
        "import pandas as pd\r\n",
        "from  sklearn.preprocessing import StandardScaler   # 표준화를 위해 필요\r\n",
        "\r\n",
        "# 1. 데이터 불러오기\r\n",
        "df = pd.read_csv(\"/content/drive/MyDrive/data/sports.csv\", engine='python', encoding='CP949') \r\n",
        "df.columns = ['stud_id', 'academic', 'sports', 'music', 'acceptance']   # 컬럼명을 지정합니다.\r\n",
        "print(df)\r\n",
        "\r\n",
        "\r\n",
        "# 2. 모델 생성하기\r\n",
        "model = smf.ols(formula = 'acceptance ~ academic + sports + music', data = df)\r\n",
        "\r\n",
        "result = model.fit()  # 모델 훈련\r\n",
        "print( result.summary() )"
      ],
      "execution_count": null,
      "outputs": [
        {
          "output_type": "stream",
          "text": [
            "     stud_id  academic  sports      music  acceptance\n",
            "0          1     230.1    37.8  62.909091   81.851852\n",
            "1          2      44.5    39.3  41.000000   38.518519\n",
            "2          3      17.2    45.9  63.000000   34.444444\n",
            "3          4     151.5    41.3  68.518519   68.518519\n",
            "4          5     180.8    10.8  53.090909   47.777778\n",
            "..       ...       ...     ...        ...         ...\n",
            "195      196      38.2     3.7  12.545455   28.148148\n",
            "196      197      94.2     4.9   7.363636   35.925926\n",
            "197      198     177.0     9.3   5.818182   47.407407\n",
            "198      199     283.6    42.0  60.181818   94.444444\n",
            "199      200     232.1     8.6   7.909091   49.629630\n",
            "\n",
            "[200 rows x 5 columns]\n",
            "                            OLS Regression Results                            \n",
            "==============================================================================\n",
            "Dep. Variable:             acceptance   R-squared:                       0.907\n",
            "Model:                            OLS   Adj. R-squared:                  0.905\n",
            "Method:                 Least Squares   F-statistic:                     634.8\n",
            "Date:                Wed, 24 Feb 2021   Prob (F-statistic):          1.21e-100\n",
            "Time:                        02:36:20   Log-Likelihood:                -638.38\n",
            "No. Observations:                 200   AIC:                             1285.\n",
            "Df Residuals:                     196   BIC:                             1298.\n",
            "Df Model:                           3                                         \n",
            "Covariance Type:            nonrobust                                         \n",
            "==============================================================================\n",
            "                 coef    std err          t      P>|t|      [0.025      0.975]\n",
            "------------------------------------------------------------------------------\n",
            "Intercept     11.4903      1.053     10.916      0.000       9.414      13.566\n",
            "academic       0.1558      0.006     26.877      0.000       0.144       0.167\n",
            "sports         0.5727      0.040     14.430      0.000       0.494       0.651\n",
            "music          0.1046      0.023      4.465      0.000       0.058       0.151\n",
            "==============================================================================\n",
            "Omnibus:                       59.122   Durbin-Watson:                   2.091\n",
            "Prob(Omnibus):                  0.000   Jarque-Bera (JB):              133.045\n",
            "Skew:                          -1.353   Prob(JB):                     1.29e-29\n",
            "Kurtosis:                       5.940   Cond. No.                         442.\n",
            "==============================================================================\n",
            "\n",
            "Warnings:\n",
            "[1] Standard Errors assume that the covariance matrix of the errors is correctly specified.\n"
          ],
          "name": "stdout"
        }
      ]
    },
    {
      "cell_type": "markdown",
      "metadata": {
        "id": "w_sRDu-y5QcH"
      },
      "source": [
        "분석결과 : 표준화를 안했을때는 체육점수가 학과점수보다 더 영향력이 컸습니다."
      ]
    },
    {
      "cell_type": "markdown",
      "metadata": {
        "id": "k-1P1Npz5QWe"
      },
      "source": [
        ""
      ]
    },
    {
      "cell_type": "markdown",
      "metadata": {
        "id": "eplZEKNx5QTF"
      },
      "source": [
        ""
      ]
    },
    {
      "cell_type": "markdown",
      "metadata": {
        "id": "tpFDjuWW5QPu"
      },
      "source": [
        "②. 표준화를 했을때 ?"
      ]
    },
    {
      "cell_type": "code",
      "metadata": {
        "colab": {
          "base_uri": "https://localhost:8080/",
          "height": 404
        },
        "id": "SyelKNTD52CJ",
        "outputId": "55c05fa9-50e8-45e1-af32-5674eb4c70fa"
      },
      "source": [
        "import numpy as np\r\n",
        "import statsmodels.api as sm\r\n",
        "import statsmodels.formula.api as smf\r\n",
        "import pandas as pd\r\n",
        "from  sklearn.preprocessing import StandardScaler   # 표준화를 위해 필요\r\n",
        "\r\n",
        "# 1. 데이터 불러오기\r\n",
        "df = pd.read_csv(\"/content/drive/MyDrive/data/sports.csv\", engine='python', encoding='CP949') \r\n",
        "df"
      ],
      "execution_count": null,
      "outputs": [
        {
          "output_type": "execute_result",
          "data": {
            "text/html": [
              "<div>\n",
              "<style scoped>\n",
              "    .dataframe tbody tr th:only-of-type {\n",
              "        vertical-align: middle;\n",
              "    }\n",
              "\n",
              "    .dataframe tbody tr th {\n",
              "        vertical-align: top;\n",
              "    }\n",
              "\n",
              "    .dataframe thead th {\n",
              "        text-align: right;\n",
              "    }\n",
              "</style>\n",
              "<table border=\"1\" class=\"dataframe\">\n",
              "  <thead>\n",
              "    <tr style=\"text-align: right;\">\n",
              "      <th></th>\n",
              "      <th>Unnamed: 0</th>\n",
              "      <th>academic</th>\n",
              "      <th>sports</th>\n",
              "      <th>music</th>\n",
              "      <th>acceptance</th>\n",
              "    </tr>\n",
              "  </thead>\n",
              "  <tbody>\n",
              "    <tr>\n",
              "      <th>0</th>\n",
              "      <td>1</td>\n",
              "      <td>230.1</td>\n",
              "      <td>37.8</td>\n",
              "      <td>62.909091</td>\n",
              "      <td>81.851852</td>\n",
              "    </tr>\n",
              "    <tr>\n",
              "      <th>1</th>\n",
              "      <td>2</td>\n",
              "      <td>44.5</td>\n",
              "      <td>39.3</td>\n",
              "      <td>41.000000</td>\n",
              "      <td>38.518519</td>\n",
              "    </tr>\n",
              "    <tr>\n",
              "      <th>2</th>\n",
              "      <td>3</td>\n",
              "      <td>17.2</td>\n",
              "      <td>45.9</td>\n",
              "      <td>63.000000</td>\n",
              "      <td>34.444444</td>\n",
              "    </tr>\n",
              "    <tr>\n",
              "      <th>3</th>\n",
              "      <td>4</td>\n",
              "      <td>151.5</td>\n",
              "      <td>41.3</td>\n",
              "      <td>68.518519</td>\n",
              "      <td>68.518519</td>\n",
              "    </tr>\n",
              "    <tr>\n",
              "      <th>4</th>\n",
              "      <td>5</td>\n",
              "      <td>180.8</td>\n",
              "      <td>10.8</td>\n",
              "      <td>53.090909</td>\n",
              "      <td>47.777778</td>\n",
              "    </tr>\n",
              "    <tr>\n",
              "      <th>...</th>\n",
              "      <td>...</td>\n",
              "      <td>...</td>\n",
              "      <td>...</td>\n",
              "      <td>...</td>\n",
              "      <td>...</td>\n",
              "    </tr>\n",
              "    <tr>\n",
              "      <th>195</th>\n",
              "      <td>196</td>\n",
              "      <td>38.2</td>\n",
              "      <td>3.7</td>\n",
              "      <td>12.545455</td>\n",
              "      <td>28.148148</td>\n",
              "    </tr>\n",
              "    <tr>\n",
              "      <th>196</th>\n",
              "      <td>197</td>\n",
              "      <td>94.2</td>\n",
              "      <td>4.9</td>\n",
              "      <td>7.363636</td>\n",
              "      <td>35.925926</td>\n",
              "    </tr>\n",
              "    <tr>\n",
              "      <th>197</th>\n",
              "      <td>198</td>\n",
              "      <td>177.0</td>\n",
              "      <td>9.3</td>\n",
              "      <td>5.818182</td>\n",
              "      <td>47.407407</td>\n",
              "    </tr>\n",
              "    <tr>\n",
              "      <th>198</th>\n",
              "      <td>199</td>\n",
              "      <td>283.6</td>\n",
              "      <td>42.0</td>\n",
              "      <td>60.181818</td>\n",
              "      <td>94.444444</td>\n",
              "    </tr>\n",
              "    <tr>\n",
              "      <th>199</th>\n",
              "      <td>200</td>\n",
              "      <td>232.1</td>\n",
              "      <td>8.6</td>\n",
              "      <td>7.909091</td>\n",
              "      <td>49.629630</td>\n",
              "    </tr>\n",
              "  </tbody>\n",
              "</table>\n",
              "<p>200 rows × 5 columns</p>\n",
              "</div>"
            ],
            "text/plain": [
              "     Unnamed: 0  academic  sports      music  acceptance\n",
              "0             1     230.1    37.8  62.909091   81.851852\n",
              "1             2      44.5    39.3  41.000000   38.518519\n",
              "2             3      17.2    45.9  63.000000   34.444444\n",
              "3             4     151.5    41.3  68.518519   68.518519\n",
              "4             5     180.8    10.8  53.090909   47.777778\n",
              "..          ...       ...     ...        ...         ...\n",
              "195         196      38.2     3.7  12.545455   28.148148\n",
              "196         197      94.2     4.9   7.363636   35.925926\n",
              "197         198     177.0     9.3   5.818182   47.407407\n",
              "198         199     283.6    42.0  60.181818   94.444444\n",
              "199         200     232.1     8.6   7.909091   49.629630\n",
              "\n",
              "[200 rows x 5 columns]"
            ]
          },
          "metadata": {
            "tags": []
          },
          "execution_count": 8
        }
      ]
    },
    {
      "cell_type": "code",
      "metadata": {
        "colab": {
          "base_uri": "https://localhost:8080/"
        },
        "id": "rzo8J_PO_rhW",
        "outputId": "9a8154bd-63da-4364-c78c-eafd91de1172"
      },
      "source": [
        "# 2. 표준화\r\n",
        "scaler = StandardScaler()\r\n",
        "scaler.fit(df)   # 표준화를 위해 df 데이터를 살펴본다.\r\n",
        "df_scale = scaler.transform(df)  # 표준화 작업 수행한 결과를 df 에 할당\r\n",
        "print(df_scale)   # np.array 로 구성"
      ],
      "execution_count": null,
      "outputs": [
        {
          "output_type": "stream",
          "text": [
            "[[-1.72341210e+00  9.69852266e-01  9.81522472e-01  8.11433037e-01\n",
            "   1.55205313e+00]\n",
            " [-1.70609137e+00 -1.19737623e+00  1.08280781e+00  2.47344000e-02\n",
            "  -6.96046111e-01]\n",
            " [-1.68877065e+00 -1.51615499e+00  1.52846331e+00  8.14697347e-01\n",
            "  -9.07405869e-01]\n",
            " [-1.67144992e+00  5.20496822e-02  1.21785493e+00  1.01285304e+00\n",
            "   8.60330287e-01]\n",
            " [-1.65412920e+00  3.94182198e-01 -8.41613655e-01  4.58887590e-01\n",
            "  -2.15683025e-01]\n",
            " [-1.63680847e+00 -1.61540845e+00  1.73103399e+00  1.00076300e+00\n",
            "  -1.31091086e+00]\n",
            " [-1.61948775e+00 -1.04557682e+00  6.43904671e-01 -6.80356495e-01\n",
            "  -4.27042783e-01]\n",
            " [-1.60216702e+00 -3.13436589e-01 -2.47406325e-01 -1.06880935e+00\n",
            "  -1.58039455e-01]\n",
            " [-1.58484630e+00 -1.61657614e+00 -1.42906863e+00 -1.41482618e+00\n",
            "  -1.77205942e+00]\n",
            " [-1.56752558e+00  6.16042873e-01 -1.39530685e+00 -7.55435618e-01\n",
            "  -6.57617064e-01]\n",
            " [-1.55020485e+00 -9.45155670e-01 -1.17923146e+00 -6.57506327e-01\n",
            "  -1.04190753e+00]\n",
            " [-1.53288413e+00  7.90028350e-01  4.96973404e-02  8.66563601e-01\n",
            "   6.48970529e-01]\n",
            " [-1.51556340e+00 -1.43908760e+00  7.99208859e-01  7.03710817e-01\n",
            "  -9.26620392e-01]\n",
            " [-1.49824268e+00 -5.78501712e-01 -1.05768905e+00 -1.21243898e+00\n",
            "  -8.30547775e-01]\n",
            " [-1.48092195e+00  6.66253447e-01  6.50657027e-01  1.07934823e+00\n",
            "   9.56402904e-01]\n",
            " [-1.46360123e+00  5.64664612e-01  1.65000572e+00  1.53151558e+00\n",
            "   1.60969670e+00]\n",
            " [-1.44628050e+00 -9.25304978e-01  9.00494200e-01  2.27384378e+00\n",
            "  -2.92541119e-01]\n",
            " [-1.42895978e+00  1.56887609e+00  1.10306488e+00  1.79749637e+00\n",
            "   1.99398717e+00]\n",
            " [-1.41163905e+00 -9.08957349e-01 -1.86635121e-01 -8.50100599e-01\n",
            "  -5.23115400e-01]\n",
            " [-1.39431833e+00  3.00679600e-03  4.29449843e-02 -8.23986122e-01\n",
            "   1.10963873e-01]\n",
            " [-1.37699760e+00  8.33232798e-01  2.99534513e-01  9.46357838e-01\n",
            "   7.64257669e-01]\n",
            " [-1.35967688e+00  1.05509347e+00 -1.22649795e+00 -6.80356495e-01\n",
            "  -2.92541119e-01]\n",
            " [-1.34235616e+00 -1.56286250e+00 -4.97243498e-01  1.71628336e-01\n",
            "  -1.61834324e+00]\n",
            " [-1.32503543e+00  9.48833887e-01 -4.29719938e-01 -5.92220133e-01\n",
            "   2.83894584e-01]\n",
            " [-1.30771471e+00 -9.89527805e-01 -7.20071247e-01 -8.50100599e-01\n",
            "  -8.30547775e-01]\n",
            " [-1.29039398e+00  1.35285385e+00 -1.33453565e+00 -8.10928883e-01\n",
            "  -3.88613736e-01]\n",
            " [-1.27307326e+00 -4.83714657e-02  4.07572210e-01 -1.03616625e+00\n",
            "   1.87821967e-01]\n",
            " [-1.25575253e+00  1.08662104e+00 -4.43224650e-01 -6.99942353e-01\n",
            "   3.60752677e-01]\n",
            " [-1.23843181e+00  1.18820988e+00  2.59020377e-01  1.06604919e+00\n",
            "   9.37188380e-01]\n",
            " [-1.22111108e+00 -8.92609721e-01 -4.90491142e-01 -1.15630917e-01\n",
            "  -6.76831588e-01]\n",
            " [-1.20379036e+00  1.70316018e+00  3.40048650e-01  1.39852518e+00\n",
            "   1.41755147e+00]\n",
            " [-1.18646963e+00 -3.98677796e-01 -3.95958157e-01 -1.87445730e-01\n",
            "  -4.07828260e-01]\n",
            " [-1.16914891e+00 -5.82004775e-01 -1.46958277e+00 -4.68176364e-01\n",
            "  -8.49762299e-01]\n",
            " [-1.15182818e+00  1.38438142e+00 -2.20396901e-01  8.66563601e-01\n",
            "   6.48970529e-01]\n",
            " [-1.13450746e+00 -5.99520091e-01 -1.47633512e+00 -1.20591036e+00\n",
            "  -8.68976822e-01]\n",
            " [-1.11718674e+00  1.67747105e+00 -1.29402151e+00 -1.17000295e+00\n",
            "  -2.34897549e-01]\n",
            " [-1.09986601e+00  1.39956136e+00  1.38666383e+00  1.93048676e+00\n",
            "   2.18613240e+00]\n",
            " [-1.08254529e+00 -8.44734522e-01  1.76479577e+00  4.43202582e-02\n",
            "   1.30178396e-01]\n",
            " [-1.06522456e+00 -1.21372386e+00  2.32010953e-01 -3.01696570e-01\n",
            "  -7.53689682e-01]\n",
            " [-1.04790384e+00  9.45330823e-01  9.74770116e-01  1.41182422e+00\n",
            "   1.43676599e+00]\n",
            " [-1.03058311e+00  6.47570443e-01 -6.50927121e-02  7.60171285e-01\n",
            "   4.95254341e-01]\n",
            " [-1.01326239e+00  3.49810063e-01  6.84418807e-01  8.26666483e-01\n",
            "   5.91326959e-01]\n",
            " [-9.95941664e-01  1.71133400e+00  2.99534513e-01  1.30543190e+00\n",
            "   1.28304980e+00]\n",
            " [-9.78620939e-01  6.98948705e-01 -1.00367020e+00 -5.85691514e-01\n",
            "  -2.15683025e-01]\n",
            " [-9.61300215e-01 -1.42390765e+00  1.64487393e-01 -3.40231746e-02\n",
            "  -1.06112206e+00]\n",
            " [-9.43979490e-01  3.27623995e-01 -5.15880000e-02 -4.19211719e-01\n",
            "   1.68607443e-01]\n",
            " [-9.26658765e-01 -6.69581357e-01 -9.02384859e-01 -2.82110712e-01\n",
            "  -6.57617064e-01]\n",
            " [-9.09338041e-01  1.08428567e+00  1.23135965e+00  1.63790789e+00\n",
            "   1.76341289e+00]\n",
            " [-8.92017316e-01  9.35989321e-01 -5.03995854e-01  1.81421265e-01\n",
            "   1.49392920e-01]\n",
            " [-8.74696592e-01 -9.35814168e-01 -7.80842451e-01 -2.46203305e-01\n",
            "  -8.30547775e-01]\n",
            " [-8.57375867e-01  6.16042873e-01 -1.36154507e+00 -3.18018118e-01\n",
            "  -5.03900877e-01]\n",
            " [-8.40055142e-01 -5.44638766e-01 -9.22641928e-01 -1.32995412e+00\n",
            "  -6.38402541e-01]\n",
            " [-8.22734418e-01  8.09879042e-01  1.24486436e+00  1.55811366e+00\n",
            "   1.64812575e+00]\n",
            " [-8.05413693e-01  4.15200577e-01  1.54872038e+00  1.37192710e+00\n",
            "   1.37912242e+00]\n",
            " [-7.88092969e-01  1.35051848e+00  3.73810430e-01  1.23893671e+00\n",
            "   1.18697718e+00]\n",
            " [-7.70772244e-01  6.05533683e-01  1.76479577e+00  1.70440309e+00\n",
            "   1.85948550e+00]\n",
            " [-7.53451519e-01 -1.63175608e+00  3.26543937e-01 -9.60450588e-02\n",
            "  -1.63755776e+00]\n",
            " [-7.36130795e-01 -1.26606546e-01 -2.74415749e-01 -9.05593864e-01\n",
            "  -1.58039455e-01]\n",
            " [-7.18810070e-01  7.44488528e-01  1.77830048e+00  1.71770213e+00\n",
            "   1.87870003e+00]\n",
            " [-7.01489346e-01  7.43320840e-01  4.21076922e-01  9.99553996e-01\n",
            "   8.41115763e-01]\n",
            " [-6.84168621e-01 -1.09228433e+00 -1.43582099e+00 -7.48906998e-01\n",
            "  -1.13798015e+00]\n",
            " [-6.66847897e-01  1.33417085e+00  1.31238792e+00  1.77089829e+00\n",
            "   1.95555812e+00]\n",
            " [-6.49527172e-01  1.07727954e+00 -5.24252922e-01 -5.56312726e-01\n",
            "   3.22323631e-01]\n",
            " [-6.32206447e-01 -5.17781948e-01  4.27829278e-01 -1.17326726e+00\n",
            "  -4.32326777e-03]\n",
            " [-6.14885723e-01 -1.86158622e-01  1.31914027e+00  9.46357838e-01\n",
            "   7.64257669e-01]\n",
            " [-5.97564998e-01 -9.11292725e-01 -9.42898996e-01 -1.41809049e+00\n",
            "  -9.07405869e-01]\n",
            " [-5.80244274e-01 -1.34917564e+00  9.02114765e-02 -1.37565446e+00\n",
            "  -8.68976822e-01]\n",
            " [-5.62923549e-01 -9.04082253e-02 -5.91776482e-01 -1.11450968e+00\n",
            "  -1.19610408e-01]\n",
            " [-5.45602824e-01  1.05509347e+00  2.86029801e-01  1.06604919e+00\n",
            "   9.37188380e-01]\n",
            " [-5.28282100e-01  8.14549794e-01  1.39341619e+00  1.51821654e+00\n",
            "   1.59048218e+00]\n",
            " [-5.10961375e-01  6.07869059e-01  4.95352838e-01  9.86254957e-01\n",
            "   8.21901240e-01]\n",
            " [-4.93640651e-01 -4.34876116e-01 -6.05281194e-01 -4.12683100e-01\n",
            "  -3.11755643e-01]\n",
            " [-4.76319926e-01 -1.40405696e+00  6.57409383e-01 -8.17457502e-01\n",
            "  -1.00347849e+00]\n",
            " [-4.58999202e-01 -2.06009314e-01 -1.18598381e+00 -4.25740338e-01\n",
            "  -5.80758971e-01]\n",
            " [-4.41678477e-01  7.74848409e-01  9.02114765e-02  8.13367443e-01\n",
            "   5.72112435e-01]\n",
            " [-4.24357752e-01 -1.51965805e+00  1.37991148e+00  1.47082360e+00\n",
            "  -1.02269301e+00]\n",
            " [-4.07037028e-01 -1.39588315e+00 -1.46283041e+00 -7.71757166e-01\n",
            "  -1.36855443e+00]\n",
            " [-3.89716303e-01 -3.09933525e-01  3.53553362e-01 -9.83937297e-01\n",
            "   3.41057791e-02]\n",
            " [-3.72395579e-01 -1.65394214e+00  4.48086346e-01 -1.14062416e+00\n",
            "  -1.67598681e+00]\n",
            " [-3.55074854e-01 -3.62479475e-01 -1.05093669e+00 -6.93413734e-01\n",
            "  -5.80758971e-01]\n",
            " [-3.37754129e-01 -8.24883830e-01  2.32010953e-01 -7.19528211e-01\n",
            "  -4.27042783e-01]\n",
            " [-3.20433405e-01  1.08311798e+00 -1.29402151e+00 -2.42938995e-01\n",
            "  -3.30970166e-01]\n",
            " [-3.03112680e-01 -8.37728396e-01 -2.00139833e-01 -3.86568622e-01\n",
            "  -5.23115400e-01]\n",
            " [-2.85791956e-01 -9.18298852e-01  1.43393033e+00 -2.85375021e-01\n",
            "  -8.11813615e-02]\n",
            " [-2.68471231e-01  7.76016097e-01  1.33264499e+00  1.43842230e+00\n",
            "   1.47519504e+00]\n",
            " [-2.51150506e-01  5.38975481e-01 -3.28434597e-01  6.97182198e-01\n",
            "   2.26251013e-01]\n",
            " [-2.33829782e-01 -8.26051518e-01  2.86029801e-01 -9.25179722e-01\n",
            "  -3.88613736e-01]\n",
            " [-2.16509057e-01 -4.24366926e-01  1.17058844e+00  6.15574455e-01\n",
            "   3.79967201e-01]\n",
            " [-1.99188333e-01 -6.85928986e-01  1.50982681e-01  9.48534045e-01\n",
            "  -2.15683025e-01]\n",
            " [-1.81867608e-01 -4.34876116e-01  1.65675807e+00  7.73470324e-01\n",
            "   5.14468865e-01]\n",
            " [-1.64546884e-01 -1.48792614e-01 -1.24000266e+00 -1.14388847e+00\n",
            "  -5.42329924e-01]\n",
            " [-1.47226159e-01 -1.38303858e+00 -1.46958277e+00 -3.70247074e-01\n",
            "  -1.29169634e+00]\n",
            " [-1.29905434e-01  8.25058983e-01  6.91171163e-01  1.13254439e+00\n",
            "   1.03326100e+00]\n",
            " [-1.12584710e-01  1.21273132e+00  8.93741844e-01  9.12626638e-01\n",
            "   1.57126765e+00]\n",
            " [-9.52639852e-02 -4.62900623e-01 -6.25538262e-01 -1.09165952e+00\n",
            "  -4.84686354e-01]\n",
            " [-7.79432606e-02  1.89836839e-01  5.62876398e-01  8.00068403e-01\n",
            "   5.52897912e-01]\n",
            " [-6.06225361e-02  5.90353742e-01 -1.33453565e+00 -1.25487500e+00\n",
            "  -4.46257307e-01]\n",
            " [-4.33018115e-02  4.42057396e-01 -1.52873340e-01 -7.29321140e-01\n",
            "   2.83894584e-01]\n",
            " [-2.59810869e-02  1.66579418e+00  1.28537849e+00  1.93048676e+00\n",
            "   2.18613240e+00]\n",
            " [-8.66036229e-03 -1.38283424e-01  1.24486436e+00  8.39965522e-01\n",
            "   6.10541482e-01]\n",
            " [ 8.66036229e-03  8.79940308e-01 -1.28051680e+00  1.78156956e-01\n",
            "  -4.46257307e-01]\n",
            " [ 2.59810869e-02  1.74402926e+00  8.80237132e-01  1.84621921e+00\n",
            "   1.87870003e+00]\n",
            " [ 4.33018115e-02  1.55486384e+00 -8.88880147e-01 -7.48906998e-01\n",
            "   1.49392920e-01]\n",
            " [ 6.06225361e-02  4.77088029e-01 -4.09462869e-01 -8.63157838e-01\n",
            "   1.30178396e-01]\n",
            " [ 7.79432606e-02  1.06443498e+00  7.45190011e-01  1.30543190e+00\n",
            "   1.28304980e+00]\n",
            " [ 9.52639852e-02 -1.06755854e-01  1.56222509e+00  1.10594631e+00\n",
            "   9.94831951e-01]\n",
            " [ 1.12584710e-01 -1.42507534e+00 -8.28108943e-01 -4.77969294e-01\n",
            "  -1.31091086e+00]\n",
            " [ 1.29905434e-01 -6.61407543e-01 -1.55061104e+00 -6.90149424e-01\n",
            "  -1.02269301e+00]\n",
            " [ 1.47226159e-01 -1.56403019e+00 -1.54385868e+00 -6.11805991e-01\n",
            "  -1.67598681e+00]\n",
            " [ 1.64546884e-01  1.26527727e+00  2.45515665e-01  1.18574055e+00\n",
            "   1.11011909e+00]\n",
            " [ 1.81867608e-01  9.19641692e-01 -1.01717491e+00  3.96865706e-01\n",
            "  -1.19610408e-01]\n",
            " [ 1.99188333e-01  1.10530405e+00  9.95027184e-01  1.45172134e+00\n",
            "   1.49440956e+00]\n",
            " [ 2.16509057e-01  3.34630122e-01 -5.31005278e-01 -1.36912584e+00\n",
            "   1.48912557e-02]\n",
            " [ 2.33829782e-01  7.30476274e-01 -1.79882765e-01 -1.09818814e+00\n",
            "   3.60752677e-01]\n",
            " [ 2.51150506e-01 -8.03865450e-01  1.58923451e+00 -3.21282428e-01\n",
            "   1.10963873e-01]\n",
            " [ 2.68471231e-01 -8.40063771e-01  7.92456503e-01  2.72821937e-01\n",
            "  -2.73326596e-01]\n",
            " [ 2.85791956e-01 -9.15759131e-02 -6.05281194e-01 -6.11805991e-01\n",
            "  -3.50184689e-01]\n",
            " [ 3.03112680e-01 -8.24883830e-01 -1.51684926e+00 -9.64351439e-01\n",
            "  -8.88191346e-01]\n",
            " [ 3.20433405e-01 -2.49213762e-01  9.20751268e-01  1.13786401e+00\n",
            "   3.60752677e-01]\n",
            " [ 3.37754129e-01 -1.49046586e+00 -4.90491142e-01 -7.19528211e-01\n",
            "  -1.42619800e+00]\n",
            " [ 3.55074854e-01 -6.70544700e-02  2.38763309e-01  6.06418067e-02\n",
            "   2.83894584e-01]\n",
            " [ 3.72395579e-01 -1.49747198e+00 -1.05606848e-01  1.97742814e-01\n",
            "  -1.34933991e+00]\n",
            " [ 3.89716303e-01  8.98623313e-01 -1.40881156e+00 -9.38236961e-01\n",
            "  -4.65471830e-01]\n",
            " [ 4.07037028e-01 -2.79573643e-01  7.65447079e-01 -1.04269487e+00\n",
            "   2.26251013e-01]\n",
            " [ 4.24357752e-01  9.62846140e-01  6.10142891e-01  9.74648522e-01\n",
            "   1.09090457e+00]\n",
            " [ 4.41678477e-01 -6.98773552e-01 -7.74090095e-01 -6.02013062e-01\n",
            "  -6.57617064e-01]\n",
            " [ 4.58999202e-01 -1.62591764e+00  1.05579839e+00  2.04271433e-01\n",
            "  -1.42619800e+00]\n",
            " [ 4.76319926e-01 -7.80511695e-01 -1.57086811e+00 -1.14715278e+00\n",
            "  -1.00347849e+00]\n",
            " [ 4.93640651e-01  8.55418865e-01  1.73778635e+00  1.83739349e+00\n",
            "   2.05163074e+00]\n",
            " [ 5.10961375e-01 -1.02105537e+00 -7.60585383e-01 -4.05517940e-02\n",
            "  -8.30547775e-01]\n",
            " [ 5.28282100e-01 -1.70882347e+00  1.10306488e+00 -1.16347433e+00\n",
            "  -2.38692417e+00]\n",
            " [ 5.45602824e-01  1.37971067e+00 -1.37504978e+00 -4.38161037e-02\n",
            "  -2.54112072e-01]\n",
            " [ 5.62923549e-01 -1.61891151e+00  2.65772733e-01 -1.37891877e+00\n",
            "  -1.59912871e+00]\n",
            " [ 5.80244274e-01  8.49580427e-01  6.91171163e-01  1.15914247e+00\n",
            "   1.07169004e+00]\n",
            " [ 5.97564998e-01 -1.28612050e+00  1.03554132e+00  6.93917888e-01\n",
            "  -6.19188018e-01]\n",
            " [ 6.14885723e-01 -1.15300409e+00  1.60273923e+00 -1.17000295e+00\n",
            "  -4.65471830e-01]\n",
            " [ 6.32206447e-01 -1.41806922e+00  1.06255074e+00 -1.14388847e+00\n",
            "  -8.68976822e-01]\n",
            " [ 6.49527172e-01  1.47896413e+00  3.80562786e-01  1.31873094e+00\n",
            "   1.30226433e+00]\n",
            " [ 6.66847897e-01 -1.21489154e+00  1.77992105e-01 -7.78285786e-01\n",
            "  -8.49762299e-01]\n",
            " [ 6.84168621e-01  4.42057396e-01  1.39341619e+00  1.30543190e+00\n",
            "   1.28304980e+00]\n",
            " [ 7.01489346e-01 -8.59914463e-01 -4.22967582e-01 -1.02637332e+00\n",
            "  -5.99973494e-01]\n",
            " [ 7.18810070e-01  5.44813920e-01  8.19465927e-01  1.02034886e+00\n",
            "   9.94831951e-01]\n",
            " [ 7.36130795e-01  8.57754241e-01  6.70914095e-01  1.22563767e+00\n",
            "   1.16776266e+00]\n",
            " [ 7.53451519e-01 -4.95595880e-01 -1.18598381e+00 -3.24546738e-01\n",
            "  -6.96046111e-01]\n",
            " [ 7.70772244e-01 -5.93681653e-01 -5.71519414e-01 -1.77652801e-01\n",
            "  -5.03900877e-01]\n",
            " [ 7.88092969e-01 -7.87313476e-02 -1.44257334e+00 -1.15368140e+00\n",
            "  -7.15260635e-01]\n",
            " [ 8.05413693e-01  1.08662104e+00 -1.07794612e+00 -1.16347433e+00\n",
            "  -1.58039455e-01]\n",
            " [ 8.22734418e-01  1.12281936e+00  1.73778635e+00  1.93048676e+00\n",
            "   2.18613240e+00]\n",
            " [ 8.40055142e-01 -1.27327593e+00  1.15033137e+00 -1.05901642e+00\n",
            "  -5.99973494e-01]\n",
            " [ 8.57375867e-01 -1.19504085e+00  1.71239749e-01 -7.75021476e-01\n",
            "  -7.53689682e-01]\n",
            " [ 8.74696592e-01  1.56070228e+00 -6.32290618e-01 -2.39674686e-01\n",
            "   3.99181724e-01]\n",
            " [ 8.92017316e-01 -3.04095087e-01 -1.00367020e+00  1.42249549e-01\n",
            "  -4.65471830e-01]\n",
            " [ 9.09338041e-01  5.90353742e-01  2.43084817e-03  7.60171285e-01\n",
            "   4.95254341e-01]\n",
            " [ 9.26658765e-01  2.83251860e-01  1.10981724e+00  1.07934823e+00\n",
            "   9.56402904e-01]\n",
            " [ 9.43979490e-01  4.75920341e-01 -1.46120984e-01 -1.13735985e+00\n",
            "   3.03109107e-01]\n",
            " [ 9.61300215e-01 -1.66912209e+00 -7.87594807e-01 -1.26140362e+00\n",
            "  -2.07949180e+00]\n",
            " [ 9.78620939e-01 -6.20538471e-01  1.36640677e+00  2.01007124e-01\n",
            "   2.45465537e-01]\n",
            " [ 9.95941664e-01  3.21989902e-02 -1.48308748e+00 -6.54242017e-01\n",
            "  -7.53689682e-01]\n",
            " [ 1.01326239e+00 -1.58037782e+00  9.20751268e-01  2.79987097e-02\n",
            "  -1.29169634e+00]\n",
            " [ 1.03058311e+00 -1.79152496e-01 -3.28434597e-01 -3.18018118e-01\n",
            "  -2.15683025e-01]\n",
            " [ 1.04790384e+00  2.97264113e-01 -3.48691665e-01 -4.45326197e-01\n",
            "   7.25348259e-02]\n",
            " [ 1.06522456e+00 -7.16288868e-01  8.46475352e-01  1.61835407e-01\n",
            "  -1.38824932e-01]\n",
            " [ 1.08254529e+00  4.82926468e-01 -3.48691665e-01 -6.11805991e-01\n",
            "   1.68607443e-01]\n",
            " [ 1.09986601e+00  1.92172214e-01  9.13998912e-01  9.46357838e-01\n",
            "   7.64257669e-01]\n",
            " [ 1.11718674e+00 -3.48467222e-01 -5.78271770e-01 -1.27119655e+00\n",
            "  -4.07828260e-01]\n",
            " [ 1.13450746e+00  1.02123053e+00 -1.34128800e+00  1.32066535e+00\n",
            "  -4.07828260e-01]\n",
            " [ 1.15182818e+00 -1.50798117e+00  9.68017760e-01 -7.42378379e-01\n",
            "  -1.15719467e+00]\n",
            " [ 1.16914891e+00  6.97781017e-01 -1.21974559e+00 -8.14193192e-01\n",
            "  -3.50184689e-01]\n",
            " [ 1.18646963e+00  7.98202165e-01  2.26879163e-02  8.26666483e-01\n",
            "   5.91326959e-01]\n",
            " [ 1.20379036e+00  1.60273904e+00 -8.55118367e-01 -1.23855345e+00\n",
            "   1.87821967e-01]\n",
            " [ 1.22111108e+00 -1.13315340e+00 -7.87594807e-01 -8.46836289e-01\n",
            "  -1.08033658e+00]\n",
            " [ 1.23843181e+00  2.03849092e-01 -1.59625696e-01  9.98135230e-02\n",
            "   9.17493494e-02]\n",
            " [ 1.25575253e+00 -1.48813048e+00 -2.13644545e-01 -8.92536625e-01\n",
            "  -1.23405277e+00]\n",
            " [ 1.27307326e+00  2.49388915e-01 -1.09145083e+00 -1.02963763e+00\n",
            "  -4.46257307e-01]\n",
            " [ 1.29039398e+00  8.79940308e-01 -1.34128800e+00 -1.01984470e+00\n",
            "  -4.84686354e-01]\n",
            " [ 1.30771471e+00  1.51633014e+00  1.73103399e+00  2.14327139e+00\n",
            "   2.49356478e+00]\n",
            " [ 1.32503543e+00  1.18353913e+00  4.68343414e-01  1.23893671e+00\n",
            "   1.18697718e+00]\n",
            " [ 1.34235616e+00  2.70407294e-01 -1.04418434e+00 -2.98432260e-01\n",
            "  -4.46257307e-01]\n",
            " [ 1.35967688e+00  1.51399477e+00 -1.41556392e+00 -6.73827875e-01\n",
            "  -4.27042783e-01]\n",
            " [ 1.37699760e+00  2.16693657e-01 -8.95632503e-01 -8.72950767e-01\n",
            "  -2.73326596e-01]\n",
            " [ 1.39431833e+00  1.11601758e-01 -1.39530685e+00 -1.17653157e+00\n",
            "  -6.76831588e-01]\n",
            " [ 1.41163905e+00  8.34400486e-01 -1.20624088e+00 -5.53048417e-01\n",
            "  -3.50184689e-01]\n",
            " [ 1.42895978e+00 -1.06075676e+00 -1.18598381e+00 -4.77969294e-01\n",
            "  -1.02269301e+00]\n",
            " [ 1.44628050e+00  1.64127273e+00  1.33264499e+00  8.96305089e-01\n",
            "   2.33984859e+00]\n",
            " [ 1.46360123e+00  1.24659427e+00 -1.32616272e-01  8.93161680e-01\n",
            "   6.87399576e-01]\n",
            " [ 1.48092195e+00  6.76762637e-01  1.47444446e+00  1.55811366e+00\n",
            "   1.64812575e+00]\n",
            " [ 1.49824268e+00 -8.80728498e-02 -1.42906863e+00 -5.79162894e-01\n",
            "  -7.15260635e-01]\n",
            " [ 1.51556340e+00  5.14454038e-01  3.67058074e-01  8.53264562e-01\n",
            "   6.29756005e-01]\n",
            " [ 1.53288413e+00  1.62258973e+00 -6.32290618e-01 -1.32668982e+00\n",
            "   3.60752677e-01]\n",
            " [ 1.55020485e+00 -1.49863967e+00 -7.53833027e-01 -6.83620805e-01\n",
            "  -1.40698348e+00]\n",
            " [ 1.56752558e+00 -1.25576062e+00  1.20435022e+00 -1.25813931e+00\n",
            "  -6.19188018e-01]\n",
            " [ 1.58484630e+00 -8.35393020e-01 -8.41613655e-01 -1.25161069e+00\n",
            "  -7.92118728e-01]\n",
            " [ 1.60216702e+00 -1.51615499e+00 -1.29402151e+00 -4.15947409e-01\n",
            "  -1.56069967e+00]\n",
            " [ 1.61948775e+00  2.30705910e-01  1.26512143e+00  1.15914247e+00\n",
            "   1.07169004e+00]\n",
            " [ 1.63680847e+00  3.10313024e-02  8.32970639e-01  8.53264562e-01\n",
            "   6.29756005e-01]\n",
            " [ 1.65412920e+00 -1.27094056e+00 -1.32103093e+00 -9.96994536e-01\n",
            "  -1.23405277e+00]\n",
            " [ 1.67144992e+00 -6.17035408e-01 -1.24000266e+00 -1.18306019e+00\n",
            "  -8.30547775e-01]\n",
            " [ 1.68877065e+00  3.49810063e-01 -9.42898996e-01 -1.23855345e+00\n",
            "  -2.34897549e-01]\n",
            " [ 1.70609137e+00  1.59456522e+00  1.26512143e+00  7.13503746e-01\n",
            "   2.20534693e+00]\n",
            " [ 1.72341210e+00  9.93206022e-01 -9.90165488e-01 -1.16347433e+00\n",
            "  -1.19610408e-01]]\n"
          ],
          "name": "stdout"
        }
      ]
    },
    {
      "cell_type": "code",
      "metadata": {
        "colab": {
          "base_uri": "https://localhost:8080/",
          "height": 196
        },
        "id": "hh_-0zjg_tPD",
        "outputId": "bacaab65-f109-4e1f-a065-d0c19215a2ab"
      },
      "source": [
        "# 3. 판다스 데이터 프레임으로 구성합니다.\r\n",
        "df_scale2 = pd.DataFrame(df_scale)\r\n",
        "df_scale2.head()"
      ],
      "execution_count": null,
      "outputs": [
        {
          "output_type": "execute_result",
          "data": {
            "text/html": [
              "<div>\n",
              "<style scoped>\n",
              "    .dataframe tbody tr th:only-of-type {\n",
              "        vertical-align: middle;\n",
              "    }\n",
              "\n",
              "    .dataframe tbody tr th {\n",
              "        vertical-align: top;\n",
              "    }\n",
              "\n",
              "    .dataframe thead th {\n",
              "        text-align: right;\n",
              "    }\n",
              "</style>\n",
              "<table border=\"1\" class=\"dataframe\">\n",
              "  <thead>\n",
              "    <tr style=\"text-align: right;\">\n",
              "      <th></th>\n",
              "      <th>0</th>\n",
              "      <th>1</th>\n",
              "      <th>2</th>\n",
              "      <th>3</th>\n",
              "      <th>4</th>\n",
              "    </tr>\n",
              "  </thead>\n",
              "  <tbody>\n",
              "    <tr>\n",
              "      <th>0</th>\n",
              "      <td>-1.723412</td>\n",
              "      <td>0.969852</td>\n",
              "      <td>0.981522</td>\n",
              "      <td>0.811433</td>\n",
              "      <td>1.552053</td>\n",
              "    </tr>\n",
              "    <tr>\n",
              "      <th>1</th>\n",
              "      <td>-1.706091</td>\n",
              "      <td>-1.197376</td>\n",
              "      <td>1.082808</td>\n",
              "      <td>0.024734</td>\n",
              "      <td>-0.696046</td>\n",
              "    </tr>\n",
              "    <tr>\n",
              "      <th>2</th>\n",
              "      <td>-1.688771</td>\n",
              "      <td>-1.516155</td>\n",
              "      <td>1.528463</td>\n",
              "      <td>0.814697</td>\n",
              "      <td>-0.907406</td>\n",
              "    </tr>\n",
              "    <tr>\n",
              "      <th>3</th>\n",
              "      <td>-1.671450</td>\n",
              "      <td>0.052050</td>\n",
              "      <td>1.217855</td>\n",
              "      <td>1.012853</td>\n",
              "      <td>0.860330</td>\n",
              "    </tr>\n",
              "    <tr>\n",
              "      <th>4</th>\n",
              "      <td>-1.654129</td>\n",
              "      <td>0.394182</td>\n",
              "      <td>-0.841614</td>\n",
              "      <td>0.458888</td>\n",
              "      <td>-0.215683</td>\n",
              "    </tr>\n",
              "  </tbody>\n",
              "</table>\n",
              "</div>"
            ],
            "text/plain": [
              "          0         1         2         3         4\n",
              "0 -1.723412  0.969852  0.981522  0.811433  1.552053\n",
              "1 -1.706091 -1.197376  1.082808  0.024734 -0.696046\n",
              "2 -1.688771 -1.516155  1.528463  0.814697 -0.907406\n",
              "3 -1.671450  0.052050  1.217855  1.012853  0.860330\n",
              "4 -1.654129  0.394182 -0.841614  0.458888 -0.215683"
            ]
          },
          "metadata": {
            "tags": []
          },
          "execution_count": 11
        }
      ]
    },
    {
      "cell_type": "code",
      "metadata": {
        "colab": {
          "base_uri": "https://localhost:8080/",
          "height": 196
        },
        "id": "r7gE6Qev_v7G",
        "outputId": "6307a993-108a-471c-9902-239eda9365fe"
      },
      "source": [
        "# 4. 컬럼을 구성합니다.\r\n",
        "df_scale2.columns = ['stud_id', 'academic', 'sports', 'music', 'acceptance']   # 컬럼명을 지정합니다.\r\n",
        "df_scale2.head()"
      ],
      "execution_count": null,
      "outputs": [
        {
          "output_type": "execute_result",
          "data": {
            "text/html": [
              "<div>\n",
              "<style scoped>\n",
              "    .dataframe tbody tr th:only-of-type {\n",
              "        vertical-align: middle;\n",
              "    }\n",
              "\n",
              "    .dataframe tbody tr th {\n",
              "        vertical-align: top;\n",
              "    }\n",
              "\n",
              "    .dataframe thead th {\n",
              "        text-align: right;\n",
              "    }\n",
              "</style>\n",
              "<table border=\"1\" class=\"dataframe\">\n",
              "  <thead>\n",
              "    <tr style=\"text-align: right;\">\n",
              "      <th></th>\n",
              "      <th>stud_id</th>\n",
              "      <th>academic</th>\n",
              "      <th>sports</th>\n",
              "      <th>music</th>\n",
              "      <th>acceptance</th>\n",
              "    </tr>\n",
              "  </thead>\n",
              "  <tbody>\n",
              "    <tr>\n",
              "      <th>0</th>\n",
              "      <td>-1.723412</td>\n",
              "      <td>0.969852</td>\n",
              "      <td>0.981522</td>\n",
              "      <td>0.811433</td>\n",
              "      <td>1.552053</td>\n",
              "    </tr>\n",
              "    <tr>\n",
              "      <th>1</th>\n",
              "      <td>-1.706091</td>\n",
              "      <td>-1.197376</td>\n",
              "      <td>1.082808</td>\n",
              "      <td>0.024734</td>\n",
              "      <td>-0.696046</td>\n",
              "    </tr>\n",
              "    <tr>\n",
              "      <th>2</th>\n",
              "      <td>-1.688771</td>\n",
              "      <td>-1.516155</td>\n",
              "      <td>1.528463</td>\n",
              "      <td>0.814697</td>\n",
              "      <td>-0.907406</td>\n",
              "    </tr>\n",
              "    <tr>\n",
              "      <th>3</th>\n",
              "      <td>-1.671450</td>\n",
              "      <td>0.052050</td>\n",
              "      <td>1.217855</td>\n",
              "      <td>1.012853</td>\n",
              "      <td>0.860330</td>\n",
              "    </tr>\n",
              "    <tr>\n",
              "      <th>4</th>\n",
              "      <td>-1.654129</td>\n",
              "      <td>0.394182</td>\n",
              "      <td>-0.841614</td>\n",
              "      <td>0.458888</td>\n",
              "      <td>-0.215683</td>\n",
              "    </tr>\n",
              "  </tbody>\n",
              "</table>\n",
              "</div>"
            ],
            "text/plain": [
              "    stud_id  academic    sports     music  acceptance\n",
              "0 -1.723412  0.969852  0.981522  0.811433    1.552053\n",
              "1 -1.706091 -1.197376  1.082808  0.024734   -0.696046\n",
              "2 -1.688771 -1.516155  1.528463  0.814697   -0.907406\n",
              "3 -1.671450  0.052050  1.217855  1.012853    0.860330\n",
              "4 -1.654129  0.394182 -0.841614  0.458888   -0.215683"
            ]
          },
          "metadata": {
            "tags": []
          },
          "execution_count": 12
        }
      ]
    },
    {
      "cell_type": "code",
      "metadata": {
        "colab": {
          "base_uri": "https://localhost:8080/"
        },
        "id": "mSfshi37_zGr",
        "outputId": "00eaff96-94b7-4eb5-ca5e-8d3a9db5c530"
      },
      "source": [
        "# 5. 회귀모델을 생성하고 summary 결과를 봅니다.\r\n",
        "model = smf.ols(formula = 'acceptance ~ academic + sports + music', data = df_scale2)\r\n",
        "result = model.fit()  # 모델 훈련\r\n",
        "print( result.summary() )"
      ],
      "execution_count": null,
      "outputs": [
        {
          "output_type": "stream",
          "text": [
            "                            OLS Regression Results                            \n",
            "==============================================================================\n",
            "Dep. Variable:             acceptance   R-squared:                       0.907\n",
            "Model:                            OLS   Adj. R-squared:                  0.905\n",
            "Method:                 Least Squares   F-statistic:                     634.8\n",
            "Date:                Wed, 24 Feb 2021   Prob (F-statistic):          1.21e-100\n",
            "Time:                        03:05:00   Log-Likelihood:                -46.609\n",
            "No. Observations:                 200   AIC:                             101.2\n",
            "Df Residuals:                     196   BIC:                             114.4\n",
            "Df Model:                           3                                         \n",
            "Covariance Type:            nonrobust                                         \n",
            "==============================================================================\n",
            "                 coef    std err          t      P>|t|      [0.025      0.975]\n",
            "------------------------------------------------------------------------------\n",
            "Intercept  -1.388e-17      0.022  -6.36e-16      1.000      -0.043       0.043\n",
            "academic       0.6921      0.026     26.877      0.000       0.641       0.743\n",
            "sports         0.4400      0.030     14.430      0.000       0.380       0.500\n",
            "music          0.1511      0.034      4.465      0.000       0.084       0.218\n",
            "==============================================================================\n",
            "Omnibus:                       59.122   Durbin-Watson:                   2.091\n",
            "Prob(Omnibus):                  0.000   Jarque-Bera (JB):              133.045\n",
            "Skew:                          -1.353   Prob(JB):                     1.29e-29\n",
            "Kurtosis:                       5.940   Cond. No.                         2.74\n",
            "==============================================================================\n",
            "\n",
            "Warnings:\n",
            "[1] Standard Errors assume that the covariance matrix of the errors is correctly specified.\n"
          ],
          "name": "stdout"
        }
      ]
    },
    {
      "cell_type": "markdown",
      "metadata": {
        "id": "DNVmgl09_1lx"
      },
      "source": [
        "분석결과 : 학과점수가 체육점수보다 더 영향력이 큰 독립변수로 나타나고 있습니다."
      ]
    },
    {
      "cell_type": "markdown",
      "metadata": {
        "id": "PhYD0zQj_3Fk"
      },
      "source": [
        ""
      ]
    },
    {
      "cell_type": "markdown",
      "metadata": {
        "id": "UvdEJz0f_2_x"
      },
      "source": [
        ""
      ]
    },
    {
      "cell_type": "markdown",
      "metadata": {
        "id": "6eavo7MX31f7"
      },
      "source": [
        "**▩ 예제3. 미국 국민 의료비에 영향을 주는 요소 분석**"
      ]
    },
    {
      "cell_type": "markdown",
      "metadata": {
        "id": "8iDb0GaJ_24L"
      },
      "source": [
        "문제21. 미국 의료비 데이터(insurance.csv)를 가지고 다중회귀분석을 하시오 !\r\n",
        "\t   회귀분석한 결과를 출력하세요 ~\r\n",
        "\r\n",
        "    종속변수 : expenses\r\n",
        "    독립변수 : age, sex, bmi, children, smoker, region\r\n",
        "\r\n",
        "표준화하지 말고 진행.  \r\n",
        "가족이 한명 늘어날수록 연간 의료비가 얼마나 늘어나는지 보려면 표준화하면 안됩니다."
      ]
    },
    {
      "cell_type": "code",
      "metadata": {
        "colab": {
          "base_uri": "https://localhost:8080/",
          "height": 404
        },
        "id": "OYb0-XF8_1cE",
        "outputId": "5736946e-b638-4bfc-fae3-5318a4baa735"
      },
      "source": [
        "import numpy as np\r\n",
        "import statsmodels.api as sm\r\n",
        "import statsmodels.formula.api as smf\r\n",
        "import pandas as pd\r\n",
        "from  sklearn.preprocessing import StandardScaler   # 표준화를 위해 필요\r\n",
        "\r\n",
        "# 1. 데이터 불러오기\r\n",
        "df = pd.read_csv(\"/content/drive/MyDrive/data/insurance.csv\", engine='python', encoding='CP949') \r\n",
        "df"
      ],
      "execution_count": null,
      "outputs": [
        {
          "output_type": "execute_result",
          "data": {
            "text/html": [
              "<div>\n",
              "<style scoped>\n",
              "    .dataframe tbody tr th:only-of-type {\n",
              "        vertical-align: middle;\n",
              "    }\n",
              "\n",
              "    .dataframe tbody tr th {\n",
              "        vertical-align: top;\n",
              "    }\n",
              "\n",
              "    .dataframe thead th {\n",
              "        text-align: right;\n",
              "    }\n",
              "</style>\n",
              "<table border=\"1\" class=\"dataframe\">\n",
              "  <thead>\n",
              "    <tr style=\"text-align: right;\">\n",
              "      <th></th>\n",
              "      <th>age</th>\n",
              "      <th>sex</th>\n",
              "      <th>bmi</th>\n",
              "      <th>children</th>\n",
              "      <th>smoker</th>\n",
              "      <th>region</th>\n",
              "      <th>expenses</th>\n",
              "    </tr>\n",
              "  </thead>\n",
              "  <tbody>\n",
              "    <tr>\n",
              "      <th>0</th>\n",
              "      <td>19</td>\n",
              "      <td>female</td>\n",
              "      <td>27.9</td>\n",
              "      <td>0</td>\n",
              "      <td>yes</td>\n",
              "      <td>southwest</td>\n",
              "      <td>16884.92</td>\n",
              "    </tr>\n",
              "    <tr>\n",
              "      <th>1</th>\n",
              "      <td>18</td>\n",
              "      <td>male</td>\n",
              "      <td>33.8</td>\n",
              "      <td>1</td>\n",
              "      <td>no</td>\n",
              "      <td>southeast</td>\n",
              "      <td>1725.55</td>\n",
              "    </tr>\n",
              "    <tr>\n",
              "      <th>2</th>\n",
              "      <td>28</td>\n",
              "      <td>male</td>\n",
              "      <td>33.0</td>\n",
              "      <td>3</td>\n",
              "      <td>no</td>\n",
              "      <td>southeast</td>\n",
              "      <td>4449.46</td>\n",
              "    </tr>\n",
              "    <tr>\n",
              "      <th>3</th>\n",
              "      <td>33</td>\n",
              "      <td>male</td>\n",
              "      <td>22.7</td>\n",
              "      <td>0</td>\n",
              "      <td>no</td>\n",
              "      <td>northwest</td>\n",
              "      <td>21984.47</td>\n",
              "    </tr>\n",
              "    <tr>\n",
              "      <th>4</th>\n",
              "      <td>32</td>\n",
              "      <td>male</td>\n",
              "      <td>28.9</td>\n",
              "      <td>0</td>\n",
              "      <td>no</td>\n",
              "      <td>northwest</td>\n",
              "      <td>3866.86</td>\n",
              "    </tr>\n",
              "    <tr>\n",
              "      <th>...</th>\n",
              "      <td>...</td>\n",
              "      <td>...</td>\n",
              "      <td>...</td>\n",
              "      <td>...</td>\n",
              "      <td>...</td>\n",
              "      <td>...</td>\n",
              "      <td>...</td>\n",
              "    </tr>\n",
              "    <tr>\n",
              "      <th>1333</th>\n",
              "      <td>50</td>\n",
              "      <td>male</td>\n",
              "      <td>31.0</td>\n",
              "      <td>3</td>\n",
              "      <td>no</td>\n",
              "      <td>northwest</td>\n",
              "      <td>10600.55</td>\n",
              "    </tr>\n",
              "    <tr>\n",
              "      <th>1334</th>\n",
              "      <td>18</td>\n",
              "      <td>female</td>\n",
              "      <td>31.9</td>\n",
              "      <td>0</td>\n",
              "      <td>no</td>\n",
              "      <td>northeast</td>\n",
              "      <td>2205.98</td>\n",
              "    </tr>\n",
              "    <tr>\n",
              "      <th>1335</th>\n",
              "      <td>18</td>\n",
              "      <td>female</td>\n",
              "      <td>36.9</td>\n",
              "      <td>0</td>\n",
              "      <td>no</td>\n",
              "      <td>southeast</td>\n",
              "      <td>1629.83</td>\n",
              "    </tr>\n",
              "    <tr>\n",
              "      <th>1336</th>\n",
              "      <td>21</td>\n",
              "      <td>female</td>\n",
              "      <td>25.8</td>\n",
              "      <td>0</td>\n",
              "      <td>no</td>\n",
              "      <td>southwest</td>\n",
              "      <td>2007.95</td>\n",
              "    </tr>\n",
              "    <tr>\n",
              "      <th>1337</th>\n",
              "      <td>61</td>\n",
              "      <td>female</td>\n",
              "      <td>29.1</td>\n",
              "      <td>0</td>\n",
              "      <td>yes</td>\n",
              "      <td>northwest</td>\n",
              "      <td>29141.36</td>\n",
              "    </tr>\n",
              "  </tbody>\n",
              "</table>\n",
              "<p>1338 rows × 7 columns</p>\n",
              "</div>"
            ],
            "text/plain": [
              "      age     sex   bmi  children smoker     region  expenses\n",
              "0      19  female  27.9         0    yes  southwest  16884.92\n",
              "1      18    male  33.8         1     no  southeast   1725.55\n",
              "2      28    male  33.0         3     no  southeast   4449.46\n",
              "3      33    male  22.7         0     no  northwest  21984.47\n",
              "4      32    male  28.9         0     no  northwest   3866.86\n",
              "...   ...     ...   ...       ...    ...        ...       ...\n",
              "1333   50    male  31.0         3     no  northwest  10600.55\n",
              "1334   18  female  31.9         0     no  northeast   2205.98\n",
              "1335   18  female  36.9         0     no  southeast   1629.83\n",
              "1336   21  female  25.8         0     no  southwest   2007.95\n",
              "1337   61  female  29.1         0    yes  northwest  29141.36\n",
              "\n",
              "[1338 rows x 7 columns]"
            ]
          },
          "metadata": {
            "tags": []
          },
          "execution_count": 18
        }
      ]
    },
    {
      "cell_type": "code",
      "metadata": {
        "colab": {
          "base_uri": "https://localhost:8080/"
        },
        "id": "SJ5HlMzXlrkB",
        "outputId": "78e5338e-93e7-4e85-d08d-a73e83f3256e"
      },
      "source": [
        "# 2. 모델 생성하기\r\n",
        "model = smf.ols(formula = 'expenses ~ age + sex + bmi + children + smoker + region', data = df)\r\n",
        "\r\n",
        "result = model.fit()  # 모델 훈련\r\n",
        "print( result.summary() )"
      ],
      "execution_count": null,
      "outputs": [
        {
          "output_type": "stream",
          "text": [
            "                            OLS Regression Results                            \n",
            "==============================================================================\n",
            "Dep. Variable:               expenses   R-squared:                       0.751\n",
            "Model:                            OLS   Adj. R-squared:                  0.749\n",
            "Method:                 Least Squares   F-statistic:                     500.9\n",
            "Date:                Wed, 24 Feb 2021   Prob (F-statistic):               0.00\n",
            "Time:                        05:50:43   Log-Likelihood:                -13548.\n",
            "No. Observations:                1338   AIC:                         2.711e+04\n",
            "Df Residuals:                    1329   BIC:                         2.716e+04\n",
            "Df Model:                           8                                         \n",
            "Covariance Type:            nonrobust                                         \n",
            "=======================================================================================\n",
            "                          coef    std err          t      P>|t|      [0.025      0.975]\n",
            "---------------------------------------------------------------------------------------\n",
            "Intercept           -1.194e+04    987.811    -12.089      0.000   -1.39e+04      -1e+04\n",
            "sex[T.male]          -131.3520    332.935     -0.395      0.693    -784.488     521.784\n",
            "smoker[T.yes]        2.385e+04    413.139     57.723      0.000     2.3e+04    2.47e+04\n",
            "region[T.northwest]  -352.7901    476.261     -0.741      0.459   -1287.095     581.515\n",
            "region[T.southeast] -1035.5957    478.681     -2.163      0.031   -1974.648     -96.544\n",
            "region[T.southwest]  -959.3058    477.912     -2.007      0.045   -1896.850     -21.762\n",
            "age                   256.8392     11.899     21.586      0.000     233.497     280.181\n",
            "bmi                   339.2899     28.598     11.864      0.000     283.187     395.393\n",
            "children              475.6889    137.800      3.452      0.001     205.360     746.017\n",
            "==============================================================================\n",
            "Omnibus:                      300.499   Durbin-Watson:                   2.088\n",
            "Prob(Omnibus):                  0.000   Jarque-Bera (JB):              719.382\n",
            "Skew:                           1.212   Prob(JB):                    6.14e-157\n",
            "Kurtosis:                       5.652   Cond. No.                         311.\n",
            "==============================================================================\n",
            "\n",
            "Warnings:\n",
            "[1] Standard Errors assume that the covariance matrix of the errors is correctly specified.\n"
          ],
          "name": "stdout"
        }
      ]
    },
    {
      "cell_type": "markdown",
      "metadata": {
        "id": "2tlAsW1Fhlvc"
      },
      "source": [
        "분석결과:\r\n",
        "\r\n",
        "    sex[T.male] : -131.3520 --> 남성은 여성에 비해 매년 의료비가 131달러 적게 들거라 예상\r\n",
        "    smoker[T.yes] : 2.385e+04 --> 흡연자는 비흡연자보다 매년 의료비가 2.368x10^4=23,680 달러 비용이 더 든다\r\n",
        "    age : 256.8392  --> 나이가 일년씩 더해질 때 마다 평균적으로 의료비가 256달러 더 든다.\r\n",
        "    bmi : 339.2899  --> 비만지수가 증가할 때 마다 339달러 더 들거라 예상\r\n",
        "    children : 475.6889 --> 부양가족이 한명 더 늘어날 때 마다 연간 의료비가 475달러 더 든다.\r\n",
        "    지역별로는 북동지역이 북서, 남동, 남서에 비해 의료비가 더 든다.\r\n",
        "    결정계수(R-squared) : 0.751"
      ]
    },
    {
      "cell_type": "markdown",
      "metadata": {
        "id": "bWTMrt5nhlr3"
      },
      "source": [
        ""
      ]
    },
    {
      "cell_type": "markdown",
      "metadata": {
        "id": "snGv9IY8hlpn"
      },
      "source": [
        ""
      ]
    },
    {
      "cell_type": "markdown",
      "metadata": {
        "id": "Y17rK565hlmX"
      },
      "source": [
        "문제22. 비만인 사람은 의료비가 더 지출이 되는지 파생변수를 추가해서 확인하시오 !  \r\n",
        "\t   bmi30 이라는 파생변수를 추가하는데 bmi 가 30 이상이면 1, 아니면 0 이라고 해서\r\n",
        "\t   컬럼을 하나 만드세요 ~\r\n",
        "\t\r\n",
        "** 파생변수 추가 방법\r\n",
        " 1. R 에서 df$bmi <- ifelse( bmi >= 30, 1, 0)\r\n",
        " 2. 파이썬에서 df['bmi30'] = df['bmi'].apply(함수)"
      ]
    },
    {
      "cell_type": "markdown",
      "metadata": {
        "id": "lOlxIQf-mG21"
      },
      "source": [
        "** 파이썬 함수를 생성하는데 입력값이 30 이상이면 1이고 아니면 0을 출력하는 함수를\r\n",
        "   func_1 이라는 이름으로 생성하시오 !"
      ]
    },
    {
      "cell_type": "code",
      "metadata": {
        "colab": {
          "base_uri": "https://localhost:8080/"
        },
        "id": "19oAs9ZzmIGw",
        "outputId": "b21acfab-dda3-4080-ec38-54e7f08828ea"
      },
      "source": [
        "def func_1(x):\r\n",
        "    if x >= 30:\r\n",
        "        return 1\r\n",
        "    else:\r\n",
        "        return 0\r\n",
        "\r\n",
        "print(func_1(5))\r\n",
        "print(func_1(35))"
      ],
      "execution_count": null,
      "outputs": [
        {
          "output_type": "stream",
          "text": [
            "0\n",
            "1\n"
          ],
          "name": "stdout"
        }
      ]
    },
    {
      "cell_type": "markdown",
      "metadata": {
        "id": "PodbOfOLmFQ_"
      },
      "source": [
        ""
      ]
    },
    {
      "cell_type": "code",
      "metadata": {
        "colab": {
          "base_uri": "https://localhost:8080/",
          "height": 404
        },
        "id": "9ZyZSE3HmVlp",
        "outputId": "d1a4ac63-8a0a-4e14-d6db-b020f6befda0"
      },
      "source": [
        "import numpy as np\r\n",
        "import statsmodels.api as sm\r\n",
        "import statsmodels.formula.api as smf\r\n",
        "import pandas as pd\r\n",
        "from  sklearn.preprocessing import StandardScaler   # 표준화를 위해 필요\r\n",
        "\r\n",
        "# 1. 데이터 불러오기\r\n",
        "df = pd.read_csv(\"/content/drive/MyDrive/data/insurance.csv\", engine='python', encoding='CP949') \r\n",
        "df"
      ],
      "execution_count": null,
      "outputs": [
        {
          "output_type": "execute_result",
          "data": {
            "text/html": [
              "<div>\n",
              "<style scoped>\n",
              "    .dataframe tbody tr th:only-of-type {\n",
              "        vertical-align: middle;\n",
              "    }\n",
              "\n",
              "    .dataframe tbody tr th {\n",
              "        vertical-align: top;\n",
              "    }\n",
              "\n",
              "    .dataframe thead th {\n",
              "        text-align: right;\n",
              "    }\n",
              "</style>\n",
              "<table border=\"1\" class=\"dataframe\">\n",
              "  <thead>\n",
              "    <tr style=\"text-align: right;\">\n",
              "      <th></th>\n",
              "      <th>age</th>\n",
              "      <th>sex</th>\n",
              "      <th>bmi</th>\n",
              "      <th>children</th>\n",
              "      <th>smoker</th>\n",
              "      <th>region</th>\n",
              "      <th>expenses</th>\n",
              "    </tr>\n",
              "  </thead>\n",
              "  <tbody>\n",
              "    <tr>\n",
              "      <th>0</th>\n",
              "      <td>19</td>\n",
              "      <td>female</td>\n",
              "      <td>27.9</td>\n",
              "      <td>0</td>\n",
              "      <td>yes</td>\n",
              "      <td>southwest</td>\n",
              "      <td>16884.92</td>\n",
              "    </tr>\n",
              "    <tr>\n",
              "      <th>1</th>\n",
              "      <td>18</td>\n",
              "      <td>male</td>\n",
              "      <td>33.8</td>\n",
              "      <td>1</td>\n",
              "      <td>no</td>\n",
              "      <td>southeast</td>\n",
              "      <td>1725.55</td>\n",
              "    </tr>\n",
              "    <tr>\n",
              "      <th>2</th>\n",
              "      <td>28</td>\n",
              "      <td>male</td>\n",
              "      <td>33.0</td>\n",
              "      <td>3</td>\n",
              "      <td>no</td>\n",
              "      <td>southeast</td>\n",
              "      <td>4449.46</td>\n",
              "    </tr>\n",
              "    <tr>\n",
              "      <th>3</th>\n",
              "      <td>33</td>\n",
              "      <td>male</td>\n",
              "      <td>22.7</td>\n",
              "      <td>0</td>\n",
              "      <td>no</td>\n",
              "      <td>northwest</td>\n",
              "      <td>21984.47</td>\n",
              "    </tr>\n",
              "    <tr>\n",
              "      <th>4</th>\n",
              "      <td>32</td>\n",
              "      <td>male</td>\n",
              "      <td>28.9</td>\n",
              "      <td>0</td>\n",
              "      <td>no</td>\n",
              "      <td>northwest</td>\n",
              "      <td>3866.86</td>\n",
              "    </tr>\n",
              "    <tr>\n",
              "      <th>...</th>\n",
              "      <td>...</td>\n",
              "      <td>...</td>\n",
              "      <td>...</td>\n",
              "      <td>...</td>\n",
              "      <td>...</td>\n",
              "      <td>...</td>\n",
              "      <td>...</td>\n",
              "    </tr>\n",
              "    <tr>\n",
              "      <th>1333</th>\n",
              "      <td>50</td>\n",
              "      <td>male</td>\n",
              "      <td>31.0</td>\n",
              "      <td>3</td>\n",
              "      <td>no</td>\n",
              "      <td>northwest</td>\n",
              "      <td>10600.55</td>\n",
              "    </tr>\n",
              "    <tr>\n",
              "      <th>1334</th>\n",
              "      <td>18</td>\n",
              "      <td>female</td>\n",
              "      <td>31.9</td>\n",
              "      <td>0</td>\n",
              "      <td>no</td>\n",
              "      <td>northeast</td>\n",
              "      <td>2205.98</td>\n",
              "    </tr>\n",
              "    <tr>\n",
              "      <th>1335</th>\n",
              "      <td>18</td>\n",
              "      <td>female</td>\n",
              "      <td>36.9</td>\n",
              "      <td>0</td>\n",
              "      <td>no</td>\n",
              "      <td>southeast</td>\n",
              "      <td>1629.83</td>\n",
              "    </tr>\n",
              "    <tr>\n",
              "      <th>1336</th>\n",
              "      <td>21</td>\n",
              "      <td>female</td>\n",
              "      <td>25.8</td>\n",
              "      <td>0</td>\n",
              "      <td>no</td>\n",
              "      <td>southwest</td>\n",
              "      <td>2007.95</td>\n",
              "    </tr>\n",
              "    <tr>\n",
              "      <th>1337</th>\n",
              "      <td>61</td>\n",
              "      <td>female</td>\n",
              "      <td>29.1</td>\n",
              "      <td>0</td>\n",
              "      <td>yes</td>\n",
              "      <td>northwest</td>\n",
              "      <td>29141.36</td>\n",
              "    </tr>\n",
              "  </tbody>\n",
              "</table>\n",
              "<p>1338 rows × 7 columns</p>\n",
              "</div>"
            ],
            "text/plain": [
              "      age     sex   bmi  children smoker     region  expenses\n",
              "0      19  female  27.9         0    yes  southwest  16884.92\n",
              "1      18    male  33.8         1     no  southeast   1725.55\n",
              "2      28    male  33.0         3     no  southeast   4449.46\n",
              "3      33    male  22.7         0     no  northwest  21984.47\n",
              "4      32    male  28.9         0     no  northwest   3866.86\n",
              "...   ...     ...   ...       ...    ...        ...       ...\n",
              "1333   50    male  31.0         3     no  northwest  10600.55\n",
              "1334   18  female  31.9         0     no  northeast   2205.98\n",
              "1335   18  female  36.9         0     no  southeast   1629.83\n",
              "1336   21  female  25.8         0     no  southwest   2007.95\n",
              "1337   61  female  29.1         0    yes  northwest  29141.36\n",
              "\n",
              "[1338 rows x 7 columns]"
            ]
          },
          "metadata": {
            "tags": []
          },
          "execution_count": 25
        }
      ]
    },
    {
      "cell_type": "code",
      "metadata": {
        "colab": {
          "base_uri": "https://localhost:8080/",
          "height": 404
        },
        "id": "2RUY7y6NmdkS",
        "outputId": "bd872590-5860-4376-94d0-253906867623"
      },
      "source": [
        "# 2. 파생변수 추가\r\n",
        "def func_1(x):\r\n",
        "    if x >= 30:\r\n",
        "        return 1\r\n",
        "    else:\r\n",
        "        return 0\r\n",
        "\r\n",
        "df['bmi30'] = df['bmi'].apply(func_1)\r\n",
        "df"
      ],
      "execution_count": null,
      "outputs": [
        {
          "output_type": "execute_result",
          "data": {
            "text/html": [
              "<div>\n",
              "<style scoped>\n",
              "    .dataframe tbody tr th:only-of-type {\n",
              "        vertical-align: middle;\n",
              "    }\n",
              "\n",
              "    .dataframe tbody tr th {\n",
              "        vertical-align: top;\n",
              "    }\n",
              "\n",
              "    .dataframe thead th {\n",
              "        text-align: right;\n",
              "    }\n",
              "</style>\n",
              "<table border=\"1\" class=\"dataframe\">\n",
              "  <thead>\n",
              "    <tr style=\"text-align: right;\">\n",
              "      <th></th>\n",
              "      <th>age</th>\n",
              "      <th>sex</th>\n",
              "      <th>bmi</th>\n",
              "      <th>children</th>\n",
              "      <th>smoker</th>\n",
              "      <th>region</th>\n",
              "      <th>expenses</th>\n",
              "      <th>bmi30</th>\n",
              "    </tr>\n",
              "  </thead>\n",
              "  <tbody>\n",
              "    <tr>\n",
              "      <th>0</th>\n",
              "      <td>19</td>\n",
              "      <td>female</td>\n",
              "      <td>27.9</td>\n",
              "      <td>0</td>\n",
              "      <td>yes</td>\n",
              "      <td>southwest</td>\n",
              "      <td>16884.92</td>\n",
              "      <td>0</td>\n",
              "    </tr>\n",
              "    <tr>\n",
              "      <th>1</th>\n",
              "      <td>18</td>\n",
              "      <td>male</td>\n",
              "      <td>33.8</td>\n",
              "      <td>1</td>\n",
              "      <td>no</td>\n",
              "      <td>southeast</td>\n",
              "      <td>1725.55</td>\n",
              "      <td>1</td>\n",
              "    </tr>\n",
              "    <tr>\n",
              "      <th>2</th>\n",
              "      <td>28</td>\n",
              "      <td>male</td>\n",
              "      <td>33.0</td>\n",
              "      <td>3</td>\n",
              "      <td>no</td>\n",
              "      <td>southeast</td>\n",
              "      <td>4449.46</td>\n",
              "      <td>1</td>\n",
              "    </tr>\n",
              "    <tr>\n",
              "      <th>3</th>\n",
              "      <td>33</td>\n",
              "      <td>male</td>\n",
              "      <td>22.7</td>\n",
              "      <td>0</td>\n",
              "      <td>no</td>\n",
              "      <td>northwest</td>\n",
              "      <td>21984.47</td>\n",
              "      <td>0</td>\n",
              "    </tr>\n",
              "    <tr>\n",
              "      <th>4</th>\n",
              "      <td>32</td>\n",
              "      <td>male</td>\n",
              "      <td>28.9</td>\n",
              "      <td>0</td>\n",
              "      <td>no</td>\n",
              "      <td>northwest</td>\n",
              "      <td>3866.86</td>\n",
              "      <td>0</td>\n",
              "    </tr>\n",
              "    <tr>\n",
              "      <th>...</th>\n",
              "      <td>...</td>\n",
              "      <td>...</td>\n",
              "      <td>...</td>\n",
              "      <td>...</td>\n",
              "      <td>...</td>\n",
              "      <td>...</td>\n",
              "      <td>...</td>\n",
              "      <td>...</td>\n",
              "    </tr>\n",
              "    <tr>\n",
              "      <th>1333</th>\n",
              "      <td>50</td>\n",
              "      <td>male</td>\n",
              "      <td>31.0</td>\n",
              "      <td>3</td>\n",
              "      <td>no</td>\n",
              "      <td>northwest</td>\n",
              "      <td>10600.55</td>\n",
              "      <td>1</td>\n",
              "    </tr>\n",
              "    <tr>\n",
              "      <th>1334</th>\n",
              "      <td>18</td>\n",
              "      <td>female</td>\n",
              "      <td>31.9</td>\n",
              "      <td>0</td>\n",
              "      <td>no</td>\n",
              "      <td>northeast</td>\n",
              "      <td>2205.98</td>\n",
              "      <td>1</td>\n",
              "    </tr>\n",
              "    <tr>\n",
              "      <th>1335</th>\n",
              "      <td>18</td>\n",
              "      <td>female</td>\n",
              "      <td>36.9</td>\n",
              "      <td>0</td>\n",
              "      <td>no</td>\n",
              "      <td>southeast</td>\n",
              "      <td>1629.83</td>\n",
              "      <td>1</td>\n",
              "    </tr>\n",
              "    <tr>\n",
              "      <th>1336</th>\n",
              "      <td>21</td>\n",
              "      <td>female</td>\n",
              "      <td>25.8</td>\n",
              "      <td>0</td>\n",
              "      <td>no</td>\n",
              "      <td>southwest</td>\n",
              "      <td>2007.95</td>\n",
              "      <td>0</td>\n",
              "    </tr>\n",
              "    <tr>\n",
              "      <th>1337</th>\n",
              "      <td>61</td>\n",
              "      <td>female</td>\n",
              "      <td>29.1</td>\n",
              "      <td>0</td>\n",
              "      <td>yes</td>\n",
              "      <td>northwest</td>\n",
              "      <td>29141.36</td>\n",
              "      <td>0</td>\n",
              "    </tr>\n",
              "  </tbody>\n",
              "</table>\n",
              "<p>1338 rows × 8 columns</p>\n",
              "</div>"
            ],
            "text/plain": [
              "      age     sex   bmi  children smoker     region  expenses  bmi30\n",
              "0      19  female  27.9         0    yes  southwest  16884.92      0\n",
              "1      18    male  33.8         1     no  southeast   1725.55      1\n",
              "2      28    male  33.0         3     no  southeast   4449.46      1\n",
              "3      33    male  22.7         0     no  northwest  21984.47      0\n",
              "4      32    male  28.9         0     no  northwest   3866.86      0\n",
              "...   ...     ...   ...       ...    ...        ...       ...    ...\n",
              "1333   50    male  31.0         3     no  northwest  10600.55      1\n",
              "1334   18  female  31.9         0     no  northeast   2205.98      1\n",
              "1335   18  female  36.9         0     no  southeast   1629.83      1\n",
              "1336   21  female  25.8         0     no  southwest   2007.95      0\n",
              "1337   61  female  29.1         0    yes  northwest  29141.36      0\n",
              "\n",
              "[1338 rows x 8 columns]"
            ]
          },
          "metadata": {
            "tags": []
          },
          "execution_count": 27
        }
      ]
    },
    {
      "cell_type": "markdown",
      "metadata": {
        "id": "R16FGVdlmdaZ"
      },
      "source": [
        ""
      ]
    },
    {
      "cell_type": "markdown",
      "metadata": {
        "id": "uM5No26VmhX5"
      },
      "source": [
        ""
      ]
    },
    {
      "cell_type": "markdown",
      "metadata": {
        "id": "Z1eY68XZmhsh"
      },
      "source": [
        "문제23. 비만인 사람(bmi30) 을 분류하는 파생변수를 추가했으면 결정계수가 더 올라가는지 확인하시오 !"
      ]
    },
    {
      "cell_type": "code",
      "metadata": {
        "colab": {
          "base_uri": "https://localhost:8080/"
        },
        "id": "0lwLyGKnmjYi",
        "outputId": "6b7ca65a-347c-4712-8d11-91ff52356493"
      },
      "source": [
        "# 3. 모델 생성하기\r\n",
        "model = smf.ols(formula = 'expenses ~ age + sex + bmi + children + smoker + region + bmi30', data = df)\r\n",
        "\r\n",
        "result = model.fit()  # 모델 훈련\r\n",
        "print( result.summary() )"
      ],
      "execution_count": null,
      "outputs": [
        {
          "output_type": "stream",
          "text": [
            "                            OLS Regression Results                            \n",
            "==============================================================================\n",
            "Dep. Variable:               expenses   R-squared:                       0.756\n",
            "Model:                            OLS   Adj. R-squared:                  0.754\n",
            "Method:                 Least Squares   F-statistic:                     456.9\n",
            "Date:                Wed, 24 Feb 2021   Prob (F-statistic):               0.00\n",
            "Time:                        05:54:23   Log-Likelihood:                -13534.\n",
            "No. Observations:                1338   AIC:                         2.709e+04\n",
            "Df Residuals:                    1328   BIC:                         2.714e+04\n",
            "Df Model:                           9                                         \n",
            "Covariance Type:            nonrobust                                         \n",
            "=======================================================================================\n",
            "                          coef    std err          t      P>|t|      [0.025      0.975]\n",
            "---------------------------------------------------------------------------------------\n",
            "Intercept           -7657.5942   1279.440     -5.985      0.000   -1.02e+04   -5147.651\n",
            "sex[T.male]          -161.0991    329.776     -0.489      0.625    -808.038     485.840\n",
            "smoker[T.yes]        2.385e+04    409.158     58.283      0.000     2.3e+04    2.46e+04\n",
            "region[T.northwest]  -388.3787    471.721     -0.823      0.410   -1313.778     537.020\n",
            "region[T.southeast]  -885.4848    474.947     -1.864      0.062   -1817.213      46.243\n",
            "region[T.southwest]  -949.2056    473.310     -2.005      0.045   -1877.722     -20.689\n",
            "age                   257.1922     11.784     21.825      0.000     234.075     280.310\n",
            "bmi                   149.2703     46.259      3.227      0.001      58.522     240.018\n",
            "children              477.8075    136.472      3.501      0.000     210.083     745.532\n",
            "bmi30                2852.8435    549.108      5.195      0.000    1775.629    3930.058\n",
            "==============================================================================\n",
            "Omnibus:                      321.955   Durbin-Watson:                   2.092\n",
            "Prob(Omnibus):                  0.000   Jarque-Bera (JB):              799.114\n",
            "Skew:                           1.280   Prob(JB):                    2.98e-174\n",
            "Kurtosis:                       5.788   Cond. No.                         418.\n",
            "==============================================================================\n",
            "\n",
            "Warnings:\n",
            "[1] Standard Errors assume that the covariance matrix of the errors is correctly specified.\n"
          ],
          "name": "stdout"
        }
      ]
    },
    {
      "cell_type": "markdown",
      "metadata": {
        "id": "nNIZu84xmlXR"
      },
      "source": [
        "분석결과: R-squared 기존 0.751에서 0.756 으로 올라갔습니다."
      ]
    },
    {
      "cell_type": "markdown",
      "metadata": {
        "id": "GJc-XNQ4mniF"
      },
      "source": [
        ""
      ]
    },
    {
      "cell_type": "markdown",
      "metadata": {
        "id": "HyFGK90xmnwp"
      },
      "source": [
        ""
      ]
    },
    {
      "cell_type": "markdown",
      "metadata": {
        "id": "FCpYs1_GmoD7"
      },
      "source": [
        "문제24. 비만이면서 흡연까지 하면 의료비가 더 드는지 확인하시오 !"
      ]
    },
    {
      "cell_type": "code",
      "metadata": {
        "colab": {
          "base_uri": "https://localhost:8080/"
        },
        "id": "O3BmcHuAmp1G",
        "outputId": "9fc8ee3c-030a-4802-fb53-796b22b774ce"
      },
      "source": [
        "# 3. 모델 생성하기\r\n",
        "model = smf.ols(formula = 'expenses ~ age + sex + bmi + children + smoker + region \\\r\n",
        "                + bmi30 + bmi30 * smoker', data = df)\r\n",
        "result = model.fit()  # 모델 훈련\r\n",
        "print( result.summary() )"
      ],
      "execution_count": null,
      "outputs": [
        {
          "output_type": "stream",
          "text": [
            "                            OLS Regression Results                            \n",
            "==============================================================================\n",
            "Dep. Variable:               expenses   R-squared:                       0.864\n",
            "Model:                            OLS   Adj. R-squared:                  0.863\n",
            "Method:                 Least Squares   F-statistic:                     842.1\n",
            "Date:                Wed, 24 Feb 2021   Prob (F-statistic):               0.00\n",
            "Time:                        05:54:45   Log-Likelihood:                -13144.\n",
            "No. Observations:                1338   AIC:                         2.631e+04\n",
            "Df Residuals:                    1327   BIC:                         2.637e+04\n",
            "Df Model:                          10                                         \n",
            "Covariance Type:            nonrobust                                         \n",
            "=======================================================================================\n",
            "                          coef    std err          t      P>|t|      [0.025      0.975]\n",
            "---------------------------------------------------------------------------------------\n",
            "Intercept           -4740.6822    960.019     -4.938      0.000   -6624.002   -2857.362\n",
            "sex[T.male]          -491.1295    246.568     -1.992      0.047    -974.834      -7.425\n",
            "smoker[T.yes]         1.34e+04    443.918     30.191      0.000    1.25e+04    1.43e+04\n",
            "region[T.northwest]  -266.7997    352.417     -0.757      0.449    -958.154     424.555\n",
            "region[T.southeast]  -824.5730    354.812     -2.324      0.020   -1520.627    -128.519\n",
            "region[T.southwest] -1223.8697    353.685     -3.460      0.001   -1917.713    -530.026\n",
            "age                   263.2428      8.805     29.896      0.000     245.969     280.517\n",
            "bmi                   114.8282     34.574      3.321      0.001      47.003     182.653\n",
            "children              520.4738    101.959      5.105      0.000     320.455     720.493\n",
            "bmi30                -863.2546    425.900     -2.027      0.043   -1698.765     -27.744\n",
            "bmi30:smoker[T.yes]  1.979e+04    610.110     32.444      0.000    1.86e+04     2.1e+04\n",
            "==============================================================================\n",
            "Omnibus:                      871.061   Durbin-Watson:                   2.060\n",
            "Prob(Omnibus):                  0.000   Jarque-Bera (JB):             7318.497\n",
            "Skew:                           3.087   Prob(JB):                         0.00\n",
            "Kurtosis:                      12.652   Cond. No.                         420.\n",
            "==============================================================================\n",
            "\n",
            "Warnings:\n",
            "[1] Standard Errors assume that the covariance matrix of the errors is correctly specified.\n"
          ],
          "name": "stdout"
        }
      ]
    },
    {
      "cell_type": "markdown",
      "metadata": {
        "id": "P9m3HvkDmr_f"
      },
      "source": [
        "R-squared : 0.864  \r\n",
        "bmi30 * smoker 의 회귀계수 : 1.979e+04   \r\n",
        "설명 : 비만이면서 흡연까지 하게되면 연간 의료비가 19,790 달러 더 들거라 예상이 됩니다.\r\n"
      ]
    },
    {
      "cell_type": "markdown",
      "metadata": {
        "id": "DcvLJpCQmuUz"
      },
      "source": [
        ""
      ]
    },
    {
      "cell_type": "markdown",
      "metadata": {
        "id": "C-3_uigZmuRe"
      },
      "source": [
        ""
      ]
    },
    {
      "cell_type": "markdown",
      "metadata": {
        "id": "_F1sBVKdmuN6"
      },
      "source": [
        "**■ 다중공선성 확인을 파이썬으로 구현하기**\r\n",
        "\r\n",
        "  다중공선성  \r\n",
        "\r\n",
        "    회귀분석에서 사용된 모형의 일부 독립변수가 다른 독립변수와의 상관정도가 아주 높아서 회귀분석 결과에 부정적 영향을 미치는 현상을 말합니다.\r\n",
        "\r\n",
        "두 독립변수들끼리 서로에게 영향을 주고 있다면 둘 중 하나의 영향력을 검증할 때 다른 하나의 영향력이 약해집니다.\r\n",
        "\r\n",
        "    예: 학업 성취도, 일 평균 음주량, 혈중 알코올 농도\r\n",
        "            ↑\r\n",
        "        종속변수\r\n",
        "\r\n",
        "팽창계수가 보통은 10보다 큰 것을 골라내고 까다롭게 하려면 5보다 큰 것을 골라냅니다.\r\n",
        "\r\n",
        "일 평균 음주량, 혈중 알코올 농도 둘 다 팽창계수가 높게 나온다면 둘중에 하나를 빼고 아래와 같이 실시한다.\r\n",
        "\r\n",
        "    학업 성취도, 일 평균 음주량 ---> 회귀분석\r\n",
        "    학업 성취도, 혈중 알코올 농도 ---> 회귀분석\r\n"
      ]
    },
    {
      "cell_type": "markdown",
      "metadata": {
        "id": "rqvVo2xHnhU4"
      },
      "source": [
        ""
      ]
    },
    {
      "cell_type": "markdown",
      "metadata": {
        "id": "bHRV181hnhAw"
      },
      "source": [
        "예제: crab.csv : 게의 크기, 무게 등에 대한 데이터로 종속변수가 y 컬럼인데 0과 1로 분류하는 데이터 입니다."
      ]
    },
    {
      "cell_type": "code",
      "metadata": {
        "colab": {
          "base_uri": "https://localhost:8080/",
          "height": 196
        },
        "id": "wac9Ht5snkbq",
        "outputId": "bcc36ec4-8262-4420-bfdb-53135ec9bb93"
      },
      "source": [
        "# 1. 데이터 불러오기\r\n",
        "import pandas as pd\r\n",
        "\r\n",
        "df = pd.read_csv(\"/content/drive/MyDrive/data/crab.csv\")\r\n",
        "df.head()"
      ],
      "execution_count": null,
      "outputs": [
        {
          "output_type": "execute_result",
          "data": {
            "text/html": [
              "<div>\n",
              "<style scoped>\n",
              "    .dataframe tbody tr th:only-of-type {\n",
              "        vertical-align: middle;\n",
              "    }\n",
              "\n",
              "    .dataframe tbody tr th {\n",
              "        vertical-align: top;\n",
              "    }\n",
              "\n",
              "    .dataframe thead th {\n",
              "        text-align: right;\n",
              "    }\n",
              "</style>\n",
              "<table border=\"1\" class=\"dataframe\">\n",
              "  <thead>\n",
              "    <tr style=\"text-align: right;\">\n",
              "      <th></th>\n",
              "      <th>crab</th>\n",
              "      <th>sat</th>\n",
              "      <th>y</th>\n",
              "      <th>weight</th>\n",
              "      <th>width</th>\n",
              "      <th>color</th>\n",
              "      <th>spine</th>\n",
              "    </tr>\n",
              "  </thead>\n",
              "  <tbody>\n",
              "    <tr>\n",
              "      <th>0</th>\n",
              "      <td>1</td>\n",
              "      <td>8</td>\n",
              "      <td>1</td>\n",
              "      <td>3.05</td>\n",
              "      <td>28.3</td>\n",
              "      <td>2</td>\n",
              "      <td>3</td>\n",
              "    </tr>\n",
              "    <tr>\n",
              "      <th>1</th>\n",
              "      <td>2</td>\n",
              "      <td>0</td>\n",
              "      <td>0</td>\n",
              "      <td>1.55</td>\n",
              "      <td>22.5</td>\n",
              "      <td>3</td>\n",
              "      <td>3</td>\n",
              "    </tr>\n",
              "    <tr>\n",
              "      <th>2</th>\n",
              "      <td>3</td>\n",
              "      <td>9</td>\n",
              "      <td>1</td>\n",
              "      <td>2.30</td>\n",
              "      <td>26.0</td>\n",
              "      <td>1</td>\n",
              "      <td>1</td>\n",
              "    </tr>\n",
              "    <tr>\n",
              "      <th>3</th>\n",
              "      <td>4</td>\n",
              "      <td>0</td>\n",
              "      <td>0</td>\n",
              "      <td>2.10</td>\n",
              "      <td>24.8</td>\n",
              "      <td>3</td>\n",
              "      <td>3</td>\n",
              "    </tr>\n",
              "    <tr>\n",
              "      <th>4</th>\n",
              "      <td>5</td>\n",
              "      <td>4</td>\n",
              "      <td>1</td>\n",
              "      <td>2.60</td>\n",
              "      <td>26.0</td>\n",
              "      <td>3</td>\n",
              "      <td>3</td>\n",
              "    </tr>\n",
              "  </tbody>\n",
              "</table>\n",
              "</div>"
            ],
            "text/plain": [
              "   crab  sat  y  weight  width  color  spine\n",
              "0     1    8  1    3.05   28.3      2      3\n",
              "1     2    0  0    1.55   22.5      3      3\n",
              "2     3    9  1    2.30   26.0      1      1\n",
              "3     4    0  0    2.10   24.8      3      3\n",
              "4     5    4  1    2.60   26.0      3      3"
            ]
          },
          "metadata": {
            "tags": []
          },
          "execution_count": 31
        }
      ]
    },
    {
      "cell_type": "code",
      "metadata": {
        "colab": {
          "base_uri": "https://localhost:8080/"
        },
        "id": "ustIkZbDnm2a",
        "outputId": "1840eb43-7c4e-48ae-e2c6-ee6be99c877a"
      },
      "source": [
        "df.y.unique()"
      ],
      "execution_count": null,
      "outputs": [
        {
          "output_type": "execute_result",
          "data": {
            "text/plain": [
              "array([1, 0])"
            ]
          },
          "metadata": {
            "tags": []
          },
          "execution_count": 32
        }
      ]
    },
    {
      "cell_type": "code",
      "metadata": {
        "colab": {
          "base_uri": "https://localhost:8080/"
        },
        "id": "sNSjq-UYnsT-",
        "outputId": "8cf0694c-cf81-47e3-cc40-4e9610099b3e"
      },
      "source": [
        "# 2. 다중회귀분석을 하고 종속변수에 영향을 주는 독립변수들이 무엇인지 확인하기\r\n",
        "import statsmodels.formula.api as smf\r\n",
        "\r\n",
        "model = smf.ols('y ~ sat + weight + width', data=df)\r\n",
        "result = model.fit()\r\n",
        "print( result.summary() )"
      ],
      "execution_count": null,
      "outputs": [
        {
          "output_type": "stream",
          "text": [
            "                            OLS Regression Results                            \n",
            "==============================================================================\n",
            "Dep. Variable:                      y   R-squared:                       0.514\n",
            "Model:                            OLS   Adj. R-squared:                  0.506\n",
            "Method:                 Least Squares   F-statistic:                     59.69\n",
            "Date:                Wed, 24 Feb 2021   Prob (F-statistic):           2.30e-26\n",
            "Time:                        05:59:39   Log-Likelihood:                -55.831\n",
            "No. Observations:                 173   AIC:                             119.7\n",
            "Df Residuals:                     169   BIC:                             132.3\n",
            "Df Model:                           3                                         \n",
            "Covariance Type:            nonrobust                                         \n",
            "==============================================================================\n",
            "                 coef    std err          t      P>|t|      [0.025      0.975]\n",
            "------------------------------------------------------------------------------\n",
            "Intercept     -0.9366      0.500     -1.872      0.063      -1.924       0.051\n",
            "sat            0.0971      0.009     11.018      0.000       0.080       0.115\n",
            "weight        -0.0465      0.098     -0.475      0.635      -0.240       0.147\n",
            "width          0.0535      0.026      2.023      0.045       0.001       0.106\n",
            "==============================================================================\n",
            "Omnibus:                       29.724   Durbin-Watson:                   1.475\n",
            "Prob(Omnibus):                  0.000   Jarque-Bera (JB):                7.545\n",
            "Skew:                           0.086   Prob(JB):                       0.0230\n",
            "Kurtosis:                       1.992   Cond. No.                         526.\n",
            "==============================================================================\n",
            "\n",
            "Warnings:\n",
            "[1] Standard Errors assume that the covariance matrix of the errors is correctly specified.\n"
          ],
          "name": "stdout"
        }
      ]
    },
    {
      "cell_type": "markdown",
      "metadata": {
        "id": "5H0mQ13Yn01f"
      },
      "source": [
        "분석결과: width는 종속변수에 영향을 주는 유의미한 독립변수로 나타나지만 weight는 그렇지 않게 보입니다.  \r\n",
        "(weight 의 회귀계수 P>|t| = 0.635)  \r\n",
        "별로 중요한 독립변수로 보고 있지 않습니다. \r\n",
        "             분석을 잘못할 수 있게 됩니다."
      ]
    },
    {
      "cell_type": "code",
      "metadata": {
        "colab": {
          "base_uri": "https://localhost:8080/"
        },
        "id": "ZxlpRT6J0tmq",
        "outputId": "771a698e-4f6b-4802-cf5c-7f9cf966ff70"
      },
      "source": [
        "# 3. 팽창계수를 확인합니다.\r\n",
        "\r\n",
        "from statsmodels.stats.outliers_influence import variance_inflation_factor\r\n",
        "\r\n",
        "print( model.exog_names )   # 모델에서 분석한 독립변수들이 출력\r\n",
        "\r\n",
        "print(variance_inflation_factor(model.exog, 1))  # 위의 출력된 독립변수중에 첫번째 컬럼의 팽창계수 확인\r\n",
        "print(variance_inflation_factor(model.exog, 2))\r\n",
        "print(variance_inflation_factor(model.exog, 3))"
      ],
      "execution_count": null,
      "outputs": [
        {
          "output_type": "stream",
          "text": [
            "['Intercept', 'sat', 'weight', 'width']\n",
            "1.15883687808578\n",
            "4.80167942403924\n",
            "4.688660343641888\n"
          ],
          "name": "stdout"
        }
      ]
    },
    {
      "cell_type": "markdown",
      "metadata": {
        "id": "AtfCzJMv00qG"
      },
      "source": [
        "    1.15883687808578  : sat ~ weight + width 모델의 분산팽창계수\r\n",
        "    4.8016794240392375 : weight ~ sat + width 모델의 분산팽창계수\r\n",
        "    4.688660343641888 : width ~ sat + weight 모델의 분산팽창계수\r\n",
        "\r\n",
        "weight 과 width 가 높은 팽창계수를 보이고 있습니다.\r\n"
      ]
    },
    {
      "cell_type": "code",
      "metadata": {
        "colab": {
          "base_uri": "https://localhost:8080/"
        },
        "id": "W586urp300eg",
        "outputId": "6402358e-8408-4e02-cb33-e4412c3a3f88"
      },
      "source": [
        "# 4. 위의 팽창계수가 높은 두개의 독립변수를 각각 따로따로 이용해서 모델을 생성합니다.\r\n",
        "\r\n",
        "model1 = smf.ols( 'y ~ sat + width', data=df )\r\n",
        "print(model1.fit().summary())"
      ],
      "execution_count": null,
      "outputs": [
        {
          "output_type": "stream",
          "text": [
            "                            OLS Regression Results                            \n",
            "==============================================================================\n",
            "Dep. Variable:                      y   R-squared:                       0.514\n",
            "Model:                            OLS   Adj. R-squared:                  0.508\n",
            "Method:                 Least Squares   F-statistic:                     89.83\n",
            "Date:                Wed, 24 Feb 2021   Prob (F-statistic):           2.39e-27\n",
            "Time:                        06:57:02   Log-Likelihood:                -55.947\n",
            "No. Observations:                 173   AIC:                             117.9\n",
            "Df Residuals:                     170   BIC:                             127.4\n",
            "Df Model:                           2                                         \n",
            "Covariance Type:            nonrobust                                         \n",
            "==============================================================================\n",
            "                 coef    std err          t      P>|t|      [0.025      0.975]\n",
            "------------------------------------------------------------------------------\n",
            "Intercept     -0.7600      0.334     -2.274      0.024      -1.420      -0.100\n",
            "sat            0.0965      0.009     11.105      0.000       0.079       0.114\n",
            "width          0.0426      0.013      3.285      0.001       0.017       0.068\n",
            "==============================================================================\n",
            "Omnibus:                       30.476   Durbin-Watson:                   1.463\n",
            "Prob(Omnibus):                  0.000   Jarque-Bera (JB):                7.700\n",
            "Skew:                           0.102   Prob(JB):                       0.0213\n",
            "Kurtosis:                       1.987   Cond. No.                         347.\n",
            "==============================================================================\n",
            "\n",
            "Warnings:\n",
            "[1] Standard Errors assume that the covariance matrix of the errors is correctly specified.\n"
          ],
          "name": "stdout"
        }
      ]
    },
    {
      "cell_type": "code",
      "metadata": {
        "colab": {
          "base_uri": "https://localhost:8080/"
        },
        "id": "r-MOsdT_079p",
        "outputId": "ab7a9821-8895-4c43-a564-898bd8e65560"
      },
      "source": [
        "model2 = smf.ols( 'y ~ sat + weight', data=df )\r\n",
        "print(model2.fit().summary())"
      ],
      "execution_count": null,
      "outputs": [
        {
          "output_type": "stream",
          "text": [
            "                            OLS Regression Results                            \n",
            "==============================================================================\n",
            "Dep. Variable:                      y   R-squared:                       0.503\n",
            "Model:                            OLS   Adj. R-squared:                  0.497\n",
            "Method:                 Least Squares   F-statistic:                     85.93\n",
            "Date:                Wed, 24 Feb 2021   Prob (F-statistic):           1.63e-26\n",
            "Time:                        06:57:13   Log-Likelihood:                -57.901\n",
            "No. Observations:                 173   AIC:                             121.8\n",
            "Df Residuals:                     170   BIC:                             131.3\n",
            "Df Model:                           2                                         \n",
            "Covariance Type:            nonrobust                                         \n",
            "==============================================================================\n",
            "                 coef    std err          t      P>|t|      [0.025      0.975]\n",
            "------------------------------------------------------------------------------\n",
            "Intercept      0.0495      0.114      0.433      0.665      -0.176       0.275\n",
            "sat            0.0976      0.009     10.982      0.000       0.080       0.115\n",
            "weight         0.1260      0.049      2.598      0.010       0.030       0.222\n",
            "==============================================================================\n",
            "Omnibus:                       40.033   Durbin-Watson:                   1.433\n",
            "Prob(Omnibus):                  0.000   Jarque-Bera (JB):                8.709\n",
            "Skew:                           0.121   Prob(JB):                       0.0128\n",
            "Kurtosis:                       1.928   Cond. No.                         22.7\n",
            "==============================================================================\n",
            "\n",
            "Warnings:\n",
            "[1] Standard Errors assume that the covariance matrix of the errors is correctly specified.\n"
          ],
          "name": "stdout"
        }
      ]
    },
    {
      "cell_type": "markdown",
      "metadata": {
        "id": "YFze1W0O1Asi"
      },
      "source": [
        "설명: 아까는 weight 가 중요하지 않은 독립변수였는데 width 를 빼고 분석해보니 중요한 독립변수임이 확인이 되고 있습니다."
      ]
    },
    {
      "cell_type": "markdown",
      "metadata": {
        "id": "cv7jUbh_1-B8"
      },
      "source": [
        ""
      ]
    },
    {
      "cell_type": "markdown",
      "metadata": {
        "id": "4CmJcHEP19_C"
      },
      "source": [
        ""
      ]
    },
    {
      "cell_type": "markdown",
      "metadata": {
        "id": "tJDaIjuw196T"
      },
      "source": [
        "문제25. test_vif1.csv 를 내려받고 팽창계수를 확인하여 vif 지수가 높은 독립변수들이 무엇이 있는지 확인하시오 !\r\n",
        "\r\n",
        "데이터 설명 : 아이큐, 공부시간, 시험점수로 되어있는 데이터입니다.\r\n"
      ]
    },
    {
      "cell_type": "code",
      "metadata": {
        "colab": {
          "base_uri": "https://localhost:8080/",
          "height": 345
        },
        "id": "stXOnidR2BZT",
        "outputId": "b109fb93-756c-426a-b3f9-58ba5812aa40"
      },
      "source": [
        "# 1. 데이터 불러오기\r\n",
        "import pandas as pd\r\n",
        "\r\n",
        "df = pd.read_csv(\"/content/drive/MyDrive/data/test_vif1.csv\", encoding = 'CP949')\r\n",
        "df"
      ],
      "execution_count": null,
      "outputs": [
        {
          "output_type": "execute_result",
          "data": {
            "text/html": [
              "<div>\n",
              "<style scoped>\n",
              "    .dataframe tbody tr th:only-of-type {\n",
              "        vertical-align: middle;\n",
              "    }\n",
              "\n",
              "    .dataframe tbody tr th {\n",
              "        vertical-align: top;\n",
              "    }\n",
              "\n",
              "    .dataframe thead th {\n",
              "        text-align: right;\n",
              "    }\n",
              "</style>\n",
              "<table border=\"1\" class=\"dataframe\">\n",
              "  <thead>\n",
              "    <tr style=\"text-align: right;\">\n",
              "      <th></th>\n",
              "      <th>학생번호</th>\n",
              "      <th>시험점수</th>\n",
              "      <th>아이큐</th>\n",
              "      <th>공부시간</th>\n",
              "    </tr>\n",
              "  </thead>\n",
              "  <tbody>\n",
              "    <tr>\n",
              "      <th>0</th>\n",
              "      <td>1</td>\n",
              "      <td>100</td>\n",
              "      <td>125</td>\n",
              "      <td>30</td>\n",
              "    </tr>\n",
              "    <tr>\n",
              "      <th>1</th>\n",
              "      <td>2</td>\n",
              "      <td>95</td>\n",
              "      <td>104</td>\n",
              "      <td>40</td>\n",
              "    </tr>\n",
              "    <tr>\n",
              "      <th>2</th>\n",
              "      <td>3</td>\n",
              "      <td>92</td>\n",
              "      <td>110</td>\n",
              "      <td>25</td>\n",
              "    </tr>\n",
              "    <tr>\n",
              "      <th>3</th>\n",
              "      <td>4</td>\n",
              "      <td>90</td>\n",
              "      <td>105</td>\n",
              "      <td>20</td>\n",
              "    </tr>\n",
              "    <tr>\n",
              "      <th>4</th>\n",
              "      <td>5</td>\n",
              "      <td>85</td>\n",
              "      <td>100</td>\n",
              "      <td>20</td>\n",
              "    </tr>\n",
              "    <tr>\n",
              "      <th>5</th>\n",
              "      <td>6</td>\n",
              "      <td>80</td>\n",
              "      <td>100</td>\n",
              "      <td>20</td>\n",
              "    </tr>\n",
              "    <tr>\n",
              "      <th>6</th>\n",
              "      <td>7</td>\n",
              "      <td>78</td>\n",
              "      <td>95</td>\n",
              "      <td>15</td>\n",
              "    </tr>\n",
              "    <tr>\n",
              "      <th>7</th>\n",
              "      <td>8</td>\n",
              "      <td>75</td>\n",
              "      <td>95</td>\n",
              "      <td>10</td>\n",
              "    </tr>\n",
              "    <tr>\n",
              "      <th>8</th>\n",
              "      <td>9</td>\n",
              "      <td>72</td>\n",
              "      <td>85</td>\n",
              "      <td>0</td>\n",
              "    </tr>\n",
              "    <tr>\n",
              "      <th>9</th>\n",
              "      <td>10</td>\n",
              "      <td>65</td>\n",
              "      <td>90</td>\n",
              "      <td>5</td>\n",
              "    </tr>\n",
              "  </tbody>\n",
              "</table>\n",
              "</div>"
            ],
            "text/plain": [
              "   학생번호  시험점수  아이큐  공부시간\n",
              "0     1   100  125    30\n",
              "1     2    95  104    40\n",
              "2     3    92  110    25\n",
              "3     4    90  105    20\n",
              "4     5    85  100    20\n",
              "5     6    80  100    20\n",
              "6     7    78   95    15\n",
              "7     8    75   95    10\n",
              "8     9    72   85     0\n",
              "9    10    65   90     5"
            ]
          },
          "metadata": {
            "tags": []
          },
          "execution_count": 43
        }
      ]
    },
    {
      "cell_type": "code",
      "metadata": {
        "colab": {
          "base_uri": "https://localhost:8080/"
        },
        "id": "-kgds0V12Hg5",
        "outputId": "b75161ed-2ff4-4334-c53c-05edfd21784c"
      },
      "source": [
        "# 2. 다중회귀분석을 하고 종속변수에 영향을 주는 독립변수들이 무엇인지 확인하기\r\n",
        "import statsmodels.formula.api as smf\r\n",
        "\r\n",
        "model = smf.ols('시험점수 ~ 아이큐 + 공부시간', data=df)\r\n",
        "result = model.fit()\r\n",
        "print( result.summary() )"
      ],
      "execution_count": null,
      "outputs": [
        {
          "output_type": "stream",
          "text": [
            "                            OLS Regression Results                            \n",
            "==============================================================================\n",
            "Dep. Variable:                   시험점수   R-squared:                       0.905\n",
            "Model:                            OLS   Adj. R-squared:                  0.878\n",
            "Method:                 Least Squares   F-statistic:                     33.45\n",
            "Date:                Wed, 24 Feb 2021   Prob (F-statistic):           0.000262\n",
            "Time:                        07:02:22   Log-Likelihood:                -25.952\n",
            "No. Observations:                  10   AIC:                             57.90\n",
            "Df Residuals:                       7   BIC:                             58.81\n",
            "Df Model:                           2                                         \n",
            "Covariance Type:            nonrobust                                         \n",
            "==============================================================================\n",
            "                 coef    std err          t      P>|t|      [0.025      0.975]\n",
            "------------------------------------------------------------------------------\n",
            "Intercept     23.1561     15.967      1.450      0.190     -14.600      60.913\n",
            "아이큐            0.5094      0.181      2.818      0.026       0.082       0.937\n",
            "공부시간           0.4671      0.172      2.717      0.030       0.061       0.874\n",
            "==============================================================================\n",
            "Omnibus:                        0.352   Durbin-Watson:                   2.255\n",
            "Prob(Omnibus):                  0.839   Jarque-Bera (JB):                0.090\n",
            "Skew:                          -0.171   Prob(JB):                        0.956\n",
            "Kurtosis:                       2.687   Cond. No.                     1.35e+03\n",
            "==============================================================================\n",
            "\n",
            "Warnings:\n",
            "[1] Standard Errors assume that the covariance matrix of the errors is correctly specified.\n",
            "[2] The condition number is large, 1.35e+03. This might indicate that there are\n",
            "strong multicollinearity or other numerical problems.\n"
          ],
          "name": "stdout"
        },
        {
          "output_type": "stream",
          "text": [
            "/usr/local/lib/python3.7/dist-packages/scipy/stats/stats.py:1535: UserWarning: kurtosistest only valid for n>=20 ... continuing anyway, n=10\n",
            "  \"anyway, n=%i\" % int(n))\n"
          ],
          "name": "stderr"
        }
      ]
    },
    {
      "cell_type": "code",
      "metadata": {
        "colab": {
          "base_uri": "https://localhost:8080/"
        },
        "id": "4Zfi9dht2Kbl",
        "outputId": "fe5abb93-1494-439e-997e-b9a5688684db"
      },
      "source": [
        "# 3. 팽창계수를 확인합니다.\r\n",
        "\r\n",
        "from statsmodels.stats.outliers_influence import variance_inflation_factor\r\n",
        "\r\n",
        "print( model.exog_names )   # 모델에서 분석한 독립변수들이 출력\r\n",
        "\r\n",
        "print(variance_inflation_factor(model.exog, 1))\r\n",
        "print(variance_inflation_factor(model.exog, 2))"
      ],
      "execution_count": null,
      "outputs": [
        {
          "output_type": "stream",
          "text": [
            "['Intercept', '아이큐', '공부시간']\n",
            "2.466400580551524\n",
            "2.466400580551525\n"
          ],
          "name": "stdout"
        }
      ]
    },
    {
      "cell_type": "markdown",
      "metadata": {
        "id": "DYh3FEWF2PfF"
      },
      "source": [
        "VIF 지수가 높은 변수는 없습니다."
      ]
    },
    {
      "cell_type": "markdown",
      "metadata": {
        "id": "GuqplZPw2WhM"
      },
      "source": [
        ""
      ]
    },
    {
      "cell_type": "markdown",
      "metadata": {
        "id": "ZBTiCtgC2Wdz"
      },
      "source": [
        ""
      ]
    },
    {
      "cell_type": "markdown",
      "metadata": {
        "id": "rhHmAqW22WbA"
      },
      "source": [
        "**■ 내가 추가한 파생변수가 유의미한 파생변수인지 확인을 하고 여러 독립변수들 중에 불필요한 독립변수를 제거하고 필요한 독립변수들만 골라내서 회귀분석 할 때 사용하는 step 함수를 파이썬으로 구현하기**"
      ]
    },
    {
      "cell_type": "code",
      "metadata": {
        "id": "qsPqAiKn2ojy"
      },
      "source": [
        "# 1. R 의 step 함수의 기능을 가지고 있는 패키지 등 import 합니다.\r\n",
        "from sklearn.feature_selection import RFE\r\n",
        "from sklearn.linear_model import LinearRegression\r\n",
        "import pandas as pd"
      ],
      "execution_count": null,
      "outputs": []
    },
    {
      "cell_type": "code",
      "metadata": {
        "colab": {
          "base_uri": "https://localhost:8080/",
          "height": 404
        },
        "id": "SD08WGpi2bFx",
        "outputId": "24443824-48d9-4a8b-8f55-5d2486b8a910"
      },
      "source": [
        "# 2. 데이터 불러오기\r\n",
        "df = pd.read_csv(\"/content/drive/MyDrive/data/insurance.csv\", engine='python', encoding='CP949') \r\n",
        "df"
      ],
      "execution_count": null,
      "outputs": [
        {
          "output_type": "execute_result",
          "data": {
            "text/html": [
              "<div>\n",
              "<style scoped>\n",
              "    .dataframe tbody tr th:only-of-type {\n",
              "        vertical-align: middle;\n",
              "    }\n",
              "\n",
              "    .dataframe tbody tr th {\n",
              "        vertical-align: top;\n",
              "    }\n",
              "\n",
              "    .dataframe thead th {\n",
              "        text-align: right;\n",
              "    }\n",
              "</style>\n",
              "<table border=\"1\" class=\"dataframe\">\n",
              "  <thead>\n",
              "    <tr style=\"text-align: right;\">\n",
              "      <th></th>\n",
              "      <th>age</th>\n",
              "      <th>sex</th>\n",
              "      <th>bmi</th>\n",
              "      <th>children</th>\n",
              "      <th>smoker</th>\n",
              "      <th>region</th>\n",
              "      <th>expenses</th>\n",
              "    </tr>\n",
              "  </thead>\n",
              "  <tbody>\n",
              "    <tr>\n",
              "      <th>0</th>\n",
              "      <td>19</td>\n",
              "      <td>female</td>\n",
              "      <td>27.9</td>\n",
              "      <td>0</td>\n",
              "      <td>yes</td>\n",
              "      <td>southwest</td>\n",
              "      <td>16884.92</td>\n",
              "    </tr>\n",
              "    <tr>\n",
              "      <th>1</th>\n",
              "      <td>18</td>\n",
              "      <td>male</td>\n",
              "      <td>33.8</td>\n",
              "      <td>1</td>\n",
              "      <td>no</td>\n",
              "      <td>southeast</td>\n",
              "      <td>1725.55</td>\n",
              "    </tr>\n",
              "    <tr>\n",
              "      <th>2</th>\n",
              "      <td>28</td>\n",
              "      <td>male</td>\n",
              "      <td>33.0</td>\n",
              "      <td>3</td>\n",
              "      <td>no</td>\n",
              "      <td>southeast</td>\n",
              "      <td>4449.46</td>\n",
              "    </tr>\n",
              "    <tr>\n",
              "      <th>3</th>\n",
              "      <td>33</td>\n",
              "      <td>male</td>\n",
              "      <td>22.7</td>\n",
              "      <td>0</td>\n",
              "      <td>no</td>\n",
              "      <td>northwest</td>\n",
              "      <td>21984.47</td>\n",
              "    </tr>\n",
              "    <tr>\n",
              "      <th>4</th>\n",
              "      <td>32</td>\n",
              "      <td>male</td>\n",
              "      <td>28.9</td>\n",
              "      <td>0</td>\n",
              "      <td>no</td>\n",
              "      <td>northwest</td>\n",
              "      <td>3866.86</td>\n",
              "    </tr>\n",
              "    <tr>\n",
              "      <th>...</th>\n",
              "      <td>...</td>\n",
              "      <td>...</td>\n",
              "      <td>...</td>\n",
              "      <td>...</td>\n",
              "      <td>...</td>\n",
              "      <td>...</td>\n",
              "      <td>...</td>\n",
              "    </tr>\n",
              "    <tr>\n",
              "      <th>1333</th>\n",
              "      <td>50</td>\n",
              "      <td>male</td>\n",
              "      <td>31.0</td>\n",
              "      <td>3</td>\n",
              "      <td>no</td>\n",
              "      <td>northwest</td>\n",
              "      <td>10600.55</td>\n",
              "    </tr>\n",
              "    <tr>\n",
              "      <th>1334</th>\n",
              "      <td>18</td>\n",
              "      <td>female</td>\n",
              "      <td>31.9</td>\n",
              "      <td>0</td>\n",
              "      <td>no</td>\n",
              "      <td>northeast</td>\n",
              "      <td>2205.98</td>\n",
              "    </tr>\n",
              "    <tr>\n",
              "      <th>1335</th>\n",
              "      <td>18</td>\n",
              "      <td>female</td>\n",
              "      <td>36.9</td>\n",
              "      <td>0</td>\n",
              "      <td>no</td>\n",
              "      <td>southeast</td>\n",
              "      <td>1629.83</td>\n",
              "    </tr>\n",
              "    <tr>\n",
              "      <th>1336</th>\n",
              "      <td>21</td>\n",
              "      <td>female</td>\n",
              "      <td>25.8</td>\n",
              "      <td>0</td>\n",
              "      <td>no</td>\n",
              "      <td>southwest</td>\n",
              "      <td>2007.95</td>\n",
              "    </tr>\n",
              "    <tr>\n",
              "      <th>1337</th>\n",
              "      <td>61</td>\n",
              "      <td>female</td>\n",
              "      <td>29.1</td>\n",
              "      <td>0</td>\n",
              "      <td>yes</td>\n",
              "      <td>northwest</td>\n",
              "      <td>29141.36</td>\n",
              "    </tr>\n",
              "  </tbody>\n",
              "</table>\n",
              "<p>1338 rows × 7 columns</p>\n",
              "</div>"
            ],
            "text/plain": [
              "      age     sex   bmi  children smoker     region  expenses\n",
              "0      19  female  27.9         0    yes  southwest  16884.92\n",
              "1      18    male  33.8         1     no  southeast   1725.55\n",
              "2      28    male  33.0         3     no  southeast   4449.46\n",
              "3      33    male  22.7         0     no  northwest  21984.47\n",
              "4      32    male  28.9         0     no  northwest   3866.86\n",
              "...   ...     ...   ...       ...    ...        ...       ...\n",
              "1333   50    male  31.0         3     no  northwest  10600.55\n",
              "1334   18  female  31.9         0     no  northeast   2205.98\n",
              "1335   18  female  36.9         0     no  southeast   1629.83\n",
              "1336   21  female  25.8         0     no  southwest   2007.95\n",
              "1337   61  female  29.1         0    yes  northwest  29141.36\n",
              "\n",
              "[1338 rows x 7 columns]"
            ]
          },
          "metadata": {
            "tags": []
          },
          "execution_count": 48
        }
      ]
    },
    {
      "cell_type": "code",
      "metadata": {
        "colab": {
          "base_uri": "https://localhost:8080/"
        },
        "id": "3SiON78R2t7Z",
        "outputId": "d3cb060b-5e8b-4520-8ed7-779005d2b6bb"
      },
      "source": [
        "# 3. 컬럼을 인코딩합니다.(명목형 변수 더미변수로 변환)\r\n",
        "df = pd.get_dummies(df, drop_first=True)\r\n",
        "print(df.head())   # 총 9개의 컬럼이 만들어졌음\r\n",
        "print('\\n')\r\n",
        "print(df.columns.values)  # 컬럼명을 numpy array 형태로 출력"
      ],
      "execution_count": null,
      "outputs": [
        {
          "output_type": "stream",
          "text": [
            "   age   bmi  children  ...  region_northwest  region_southeast  region_southwest\n",
            "0   19  27.9         0  ...                 0                 0                 1\n",
            "1   18  33.8         1  ...                 0                 1                 0\n",
            "2   28  33.0         3  ...                 0                 1                 0\n",
            "3   33  22.7         0  ...                 1                 0                 0\n",
            "4   32  28.9         0  ...                 1                 0                 0\n",
            "\n",
            "[5 rows x 9 columns]\n",
            "\n",
            "\n",
            "['age' 'bmi' 'children' 'expenses' 'sex_male' 'smoker_yes'\n",
            " 'region_northwest' 'region_southeast' 'region_southwest']\n"
          ],
          "name": "stdout"
        }
      ]
    },
    {
      "cell_type": "code",
      "metadata": {
        "id": "rwe0K6A92568"
      },
      "source": [
        "# 4. 독립변수와 종속변수를 numpy array 로 변환합니다.\r\n",
        "#X = # 독립변수들 (numpy array 형태) --> age+sex+bim+children+smoker+region\r\n",
        "X = df.iloc[ : ,[0,1,2,4,5,6,7,8]].to_numpy()\r\n",
        "#y = # 종속변수 --> expenses\r\n",
        "y = df.iloc[ : ,3].to_numpy()"
      ],
      "execution_count": null,
      "outputs": []
    },
    {
      "cell_type": "code",
      "metadata": {
        "id": "D3dDr5oU2-U1"
      },
      "source": [
        "# 5. 회귀 모델을 생성합니다.\r\n",
        "model = LinearRegression()"
      ],
      "execution_count": null,
      "outputs": []
    },
    {
      "cell_type": "code",
      "metadata": {
        "colab": {
          "base_uri": "https://localhost:8080/"
        },
        "id": "QQQlL0cT2_9j",
        "outputId": "f37ec748-2cc3-40f3-c655-7a26a9031a22"
      },
      "source": [
        "# 6.  step 함수를 이용해서 필요한 독립변수들을 선별합니다.\r\n",
        "#selector = RFE(회귀모델명, n_features_to_select=선별할 독립변수의 개수, step=스텝회수)\r\n",
        "selector = RFE(model, n_features_to_select=6, step=1)\r\n",
        "\r\n",
        "selector = selector.fit(X, y)\r\n",
        "\r\n",
        "print(selector.support_)  # 8개의 독립변수들 중에 선택된 6개가 True 로 출력이 됨\r\n",
        "\r\n",
        "print(selector.ranking_)  # 8개의 독립변수들의 중요도 순위가 출력이 됨"
      ],
      "execution_count": null,
      "outputs": [
        {
          "output_type": "stream",
          "text": [
            "[False  True  True False  True  True  True  True]\n",
            "[2 1 1 3 1 1 1 1]\n"
          ],
          "name": "stdout"
        }
      ]
    },
    {
      "cell_type": "markdown",
      "metadata": {
        "id": "tVvk4s_L3HU4"
      },
      "source": [
        "['age' 'bmi' 'children' 'sex_male' 'smoker_yes'\r\n",
        " 'region_northwest' 'region_southeast' 'region_southwest'] 의 8개의 독립변수들 중  \r\n",
        " bmi, children, smoker_yes, region_northwest, region_southeast, region_southwest 6개 변수 선택"
      ]
    },
    {
      "cell_type": "markdown",
      "metadata": {
        "id": "ldZv9Ht-25z9"
      },
      "source": [
        ""
      ]
    },
    {
      "cell_type": "markdown",
      "metadata": {
        "id": "3_mp0gv625p1"
      },
      "source": [
        ""
      ]
    }
  ]
}