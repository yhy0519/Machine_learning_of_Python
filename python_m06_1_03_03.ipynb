{
  "nbformat": 4,
  "nbformat_minor": 0,
  "metadata": {
    "colab": {
      "name": "python_m06-1_03_03.ipynb",
      "provenance": [],
      "collapsed_sections": [],
      "toc_visible": true,
      "mount_file_id": "1rtgG7Q80_YCoESTLY_57dyuIyid4ADqH",
      "authorship_tag": "ABX9TyMjt3FjGL8F0dPGblSSLZpQ",
      "include_colab_link": true
    },
    "kernelspec": {
      "name": "python3",
      "display_name": "Python 3"
    }
  },
  "cells": [
    {
      "cell_type": "markdown",
      "metadata": {
        "id": "view-in-github",
        "colab_type": "text"
      },
      "source": [
        "<a href=\"https://colab.research.google.com/github/yhy0519/Machine_learning_of_Python/blob/main/python_m06_1_03_03.ipynb\" target=\"_parent\"><img src=\"https://colab.research.google.com/assets/colab-badge.svg\" alt=\"Open In Colab\"/></a>"
      ]
    },
    {
      "cell_type": "markdown",
      "metadata": {
        "id": "j3nrny_WkOTT"
      },
      "source": [
        "# **■ kmeans 알고리즘**\r\n",
        "\r\n",
        "주어진 데이터를 k 개의 군집으로 묶는 알고리즘으로 k개 만큼 군집수를 초기값으로 지정하고,\r\n",
        "각 개체를 가까운 초기값에 할당하여 군집을 형성하고 각 군집의 평균을 재계산하여\r\n",
        "초기값을 갱신하는 과정을 반복하여 k 개의 최종군집을 형성한다.\r\n",
        "\r\n",
        "군집 절차 순서 :  \r\n",
        "\r\n",
        "    1. k개 객체 선택 \r\n",
        "\t2. 할당(Assingment)\r\n",
        "\t3. 중심갱신\r\n",
        "\t4. 반복\r\n",
        "\r\n",
        "k-means 의 하이퍼 파라미터 ?  k 값\r\n",
        "\r\n",
        "비지도 학습 ? \r\n",
        "\r\n",
        "    비지도 학습은 데이터에 대한 정답인 레이블(label) 이 없는 상태에서 데이터가 어떻게 구성되었는지 아내는 기계학습 기법입니다.\r\n",
        "\r\n",
        "\t 1. k-means\r\n",
        "\t 2. SOM (자기 조직화 지도) : 인공신경망을 활용한 비지도학습\r\n",
        "\t      ↓\r\n",
        "      self organization map\r\n",
        "\r\n",
        "예제:"
      ]
    },
    {
      "cell_type": "code",
      "metadata": {
        "colab": {
          "base_uri": "https://localhost:8080/",
          "height": 343
        },
        "id": "4qB9TE0QisYF",
        "outputId": "e3cceed0-54ea-425f-e70f-31667379e42d"
      },
      "source": [
        "### 기본 라이브러리 불러오기\r\n",
        "import pandas as pd\r\n",
        "import matplotlib.pyplot as plt\r\n",
        "\r\n",
        "'''\r\n",
        "[Step 1] 데이터 준비\r\n",
        "'''\r\n",
        "\r\n",
        "from pandas import Series, DataFrame\r\n",
        "import numpy as np\r\n",
        "\r\n",
        "df = DataFrame({ \"x\": [3,1,7,5,6,4,9,7,6,2],   \"y\": [4,5,9,4,8,5,8,8,7,1] }, index=['A','B','C','D','E','F','G','H','I','J'])\r\n",
        "df"
      ],
      "execution_count": 1,
      "outputs": [
        {
          "output_type": "execute_result",
          "data": {
            "text/html": [
              "<div>\n",
              "<style scoped>\n",
              "    .dataframe tbody tr th:only-of-type {\n",
              "        vertical-align: middle;\n",
              "    }\n",
              "\n",
              "    .dataframe tbody tr th {\n",
              "        vertical-align: top;\n",
              "    }\n",
              "\n",
              "    .dataframe thead th {\n",
              "        text-align: right;\n",
              "    }\n",
              "</style>\n",
              "<table border=\"1\" class=\"dataframe\">\n",
              "  <thead>\n",
              "    <tr style=\"text-align: right;\">\n",
              "      <th></th>\n",
              "      <th>x</th>\n",
              "      <th>y</th>\n",
              "    </tr>\n",
              "  </thead>\n",
              "  <tbody>\n",
              "    <tr>\n",
              "      <th>A</th>\n",
              "      <td>3</td>\n",
              "      <td>4</td>\n",
              "    </tr>\n",
              "    <tr>\n",
              "      <th>B</th>\n",
              "      <td>1</td>\n",
              "      <td>5</td>\n",
              "    </tr>\n",
              "    <tr>\n",
              "      <th>C</th>\n",
              "      <td>7</td>\n",
              "      <td>9</td>\n",
              "    </tr>\n",
              "    <tr>\n",
              "      <th>D</th>\n",
              "      <td>5</td>\n",
              "      <td>4</td>\n",
              "    </tr>\n",
              "    <tr>\n",
              "      <th>E</th>\n",
              "      <td>6</td>\n",
              "      <td>8</td>\n",
              "    </tr>\n",
              "    <tr>\n",
              "      <th>F</th>\n",
              "      <td>4</td>\n",
              "      <td>5</td>\n",
              "    </tr>\n",
              "    <tr>\n",
              "      <th>G</th>\n",
              "      <td>9</td>\n",
              "      <td>8</td>\n",
              "    </tr>\n",
              "    <tr>\n",
              "      <th>H</th>\n",
              "      <td>7</td>\n",
              "      <td>8</td>\n",
              "    </tr>\n",
              "    <tr>\n",
              "      <th>I</th>\n",
              "      <td>6</td>\n",
              "      <td>7</td>\n",
              "    </tr>\n",
              "    <tr>\n",
              "      <th>J</th>\n",
              "      <td>2</td>\n",
              "      <td>1</td>\n",
              "    </tr>\n",
              "  </tbody>\n",
              "</table>\n",
              "</div>"
            ],
            "text/plain": [
              "   x  y\n",
              "A  3  4\n",
              "B  1  5\n",
              "C  7  9\n",
              "D  5  4\n",
              "E  6  8\n",
              "F  4  5\n",
              "G  9  8\n",
              "H  7  8\n",
              "I  6  7\n",
              "J  2  1"
            ]
          },
          "metadata": {
            "tags": []
          },
          "execution_count": 1
        }
      ]
    },
    {
      "cell_type": "markdown",
      "metadata": {
        "id": "W0xOsCKMtrKP"
      },
      "source": [
        ""
      ]
    },
    {
      "cell_type": "code",
      "metadata": {
        "colab": {
          "base_uri": "https://localhost:8080/"
        },
        "id": "Uk8tY9nEtra5",
        "outputId": "8e615adb-cac9-4a58-91c6-d74a95d90b77"
      },
      "source": [
        "'''\r\n",
        "[Step 2] 데이터 탐색\r\n",
        "'''\r\n",
        "\r\n",
        "# 데이터 살펴보기\r\n",
        "print(df.head())   \r\n",
        "print('\\n')"
      ],
      "execution_count": 2,
      "outputs": [
        {
          "output_type": "stream",
          "text": [
            "   x  y\n",
            "A  3  4\n",
            "B  1  5\n",
            "C  7  9\n",
            "D  5  4\n",
            "E  6  8\n",
            "\n",
            "\n"
          ],
          "name": "stdout"
        }
      ]
    },
    {
      "cell_type": "code",
      "metadata": {
        "colab": {
          "base_uri": "https://localhost:8080/"
        },
        "id": "nUfREgsrtvMF",
        "outputId": "a69b975b-1986-4063-8bc4-31854b418f2e"
      },
      "source": [
        "# 데이터 자료형 확인\r\n",
        "print(df.info())  \r\n",
        "print('\\n')"
      ],
      "execution_count": 3,
      "outputs": [
        {
          "output_type": "stream",
          "text": [
            "<class 'pandas.core.frame.DataFrame'>\n",
            "Index: 10 entries, A to J\n",
            "Data columns (total 2 columns):\n",
            " #   Column  Non-Null Count  Dtype\n",
            "---  ------  --------------  -----\n",
            " 0   x       10 non-null     int64\n",
            " 1   y       10 non-null     int64\n",
            "dtypes: int64(2)\n",
            "memory usage: 240.0+ bytes\n",
            "None\n",
            "\n",
            "\n"
          ],
          "name": "stdout"
        }
      ]
    },
    {
      "cell_type": "code",
      "metadata": {
        "colab": {
          "base_uri": "https://localhost:8080/"
        },
        "id": "9hRTCLCStwJB",
        "outputId": "5f70c982-53f3-432b-e06f-05679e61cdf6"
      },
      "source": [
        "# 데이터 통계 요약정보 확인\r\n",
        "print(df.describe())\r\n",
        "print('\\n')"
      ],
      "execution_count": 4,
      "outputs": [
        {
          "output_type": "stream",
          "text": [
            "               x          y\n",
            "count  10.000000  10.000000\n",
            "mean    5.000000   5.900000\n",
            "std     2.494438   2.514403\n",
            "min     1.000000   1.000000\n",
            "25%     3.250000   4.250000\n",
            "50%     5.500000   6.000000\n",
            "75%     6.750000   8.000000\n",
            "max     9.000000   9.000000\n",
            "\n",
            "\n"
          ],
          "name": "stdout"
        }
      ]
    },
    {
      "cell_type": "code",
      "metadata": {
        "colab": {
          "base_uri": "https://localhost:8080/"
        },
        "id": "Q0LMgRlUt2Xt",
        "outputId": "de017d6f-abc9-4b7d-a783-d6eb9fb31766"
      },
      "source": [
        "## 비지도 학습이라 y 값을 생성하는 부분은 없습니다.\r\n",
        "'''\r\n",
        "[Step 3] 데이터 전처리\r\n",
        "'''\r\n",
        "\r\n",
        "# 분석에 사용할 속성을 선택\r\n",
        "X = df.iloc[:, :]\r\n",
        "print(X[:5])\r\n",
        "print('\\n')"
      ],
      "execution_count": 5,
      "outputs": [
        {
          "output_type": "stream",
          "text": [
            "   x  y\n",
            "A  3  4\n",
            "B  1  5\n",
            "C  7  9\n",
            "D  5  4\n",
            "E  6  8\n",
            "\n",
            "\n"
          ],
          "name": "stdout"
        }
      ]
    },
    {
      "cell_type": "code",
      "metadata": {
        "colab": {
          "base_uri": "https://localhost:8080/"
        },
        "id": "6Bs3FeLNt4Qe",
        "outputId": "0390121b-a0b6-4e55-a4b3-cb2dd1645eb1"
      },
      "source": [
        "## k-means 가 이상치에 민감하므로 이상치의 영향력을 감소시키기 위해 표준화\r\n",
        "# 설명 변수 데이터를 표준화\r\n",
        "from sklearn import preprocessing\r\n",
        "X = preprocessing.StandardScaler().fit(X).transform(X)\r\n",
        "\r\n",
        "print(X[:5])\r\n",
        "print('\\n')"
      ],
      "execution_count": 6,
      "outputs": [
        {
          "output_type": "stream",
          "text": [
            "[[-0.84515425 -0.79652144]\n",
            " [-1.69030851 -0.37729963]\n",
            " [ 0.84515425  1.29958761]\n",
            " [ 0.         -0.79652144]\n",
            " [ 0.42257713  0.8803658 ]]\n",
            "\n",
            "\n"
          ],
          "name": "stdout"
        }
      ]
    },
    {
      "cell_type": "code",
      "metadata": {
        "id": "Xb-rqjVRuDnI"
      },
      "source": [
        "'''\r\n",
        "[Step 4] k-means 군집 모형 - sklearn 사용\r\n",
        "'''\r\n",
        "\r\n",
        "# sklearn 라이브러리에서 cluster 군집 모형 가져오기\r\n",
        "from sklearn import cluster\r\n",
        "\r\n",
        "# 모형 객체 생성 \r\n",
        "kmeans = cluster.KMeans(init='k-means++', n_clusters=2, n_init=10)   # n_clusters=2 -> 군집의 개수 설정\r\n",
        "\r\n",
        "## 설명: n_init 은 seed 값  \r\n",
        "## n_init은 초기 중앙점이 무작위로 선택되기에 가장 나은 결과를 얻기 위해 몇 번 초기값을 변경하여 \r\n",
        "## 알고리즘을 실시할 지를 정하는 것이다. 간단하게 표현하면 초기중심점 선택의 반복 횟수 알고리즘인 것이다.\r\n",
        "## n_init은 초기 중앙점이 무작위로 선택되기 때문에 최상의 결과를 얻기 위해 몇 번 초기값을 변경하여 알고리즘을 실시할지를 정하는 횟수 \r\n",
        "## k-means++ : http://hleecaster.com/k-means-clustering-concept/"
      ],
      "execution_count": 7,
      "outputs": []
    },
    {
      "cell_type": "markdown",
      "metadata": {
        "id": "RBUJr0HQuNwf"
      },
      "source": [
        ""
      ]
    },
    {
      "cell_type": "code",
      "metadata": {
        "colab": {
          "base_uri": "https://localhost:8080/"
        },
        "id": "HVPSYDIWuJLs",
        "outputId": "e9b8cb95-67e5-4e47-b530-dd925e92d806"
      },
      "source": [
        "# 모형 학습\r\n",
        "kmeans.fit(X)   "
      ],
      "execution_count": 8,
      "outputs": [
        {
          "output_type": "execute_result",
          "data": {
            "text/plain": [
              "KMeans(algorithm='auto', copy_x=True, init='k-means++', max_iter=300,\n",
              "       n_clusters=2, n_init=10, n_jobs=None, precompute_distances='auto',\n",
              "       random_state=None, tol=0.0001, verbose=0)"
            ]
          },
          "metadata": {
            "tags": []
          },
          "execution_count": 8
        }
      ]
    },
    {
      "cell_type": "code",
      "metadata": {
        "colab": {
          "base_uri": "https://localhost:8080/"
        },
        "id": "mQcnW5ktuLYy",
        "outputId": "2f000dae-1123-4e34-bfa4-779531fc0ab8"
      },
      "source": [
        "# 예측 (군집) \r\n",
        "cluster_label = kmeans.labels_\r\n",
        "print(cluster_label)\r\n",
        "print('\\n')"
      ],
      "execution_count": 9,
      "outputs": [
        {
          "output_type": "stream",
          "text": [
            "[1 1 0 1 0 1 0 0 0 1]\n",
            "\n",
            "\n"
          ],
          "name": "stdout"
        }
      ]
    },
    {
      "cell_type": "code",
      "metadata": {
        "colab": {
          "base_uri": "https://localhost:8080/"
        },
        "id": "er0PTOGquOUi",
        "outputId": "5ae707d3-d22a-4490-e88a-2381e55d90e0"
      },
      "source": [
        "# 예측 결과를 데이터프레임에 추가\r\n",
        "df['Cluster'] = cluster_label\r\n",
        "print(df)   \r\n",
        "print('\\n')"
      ],
      "execution_count": 10,
      "outputs": [
        {
          "output_type": "stream",
          "text": [
            "   x  y  Cluster\n",
            "A  3  4        1\n",
            "B  1  5        1\n",
            "C  7  9        0\n",
            "D  5  4        1\n",
            "E  6  8        0\n",
            "F  4  5        1\n",
            "G  9  8        0\n",
            "H  7  8        0\n",
            "I  6  7        0\n",
            "J  2  1        1\n",
            "\n",
            "\n"
          ],
          "name": "stdout"
        }
      ]
    },
    {
      "cell_type": "code",
      "metadata": {
        "colab": {
          "base_uri": "https://localhost:8080/",
          "height": 624
        },
        "id": "vCdNLb2OuUb3",
        "outputId": "c9182b62-ec8b-4b2a-c067-4d6765051ffa"
      },
      "source": [
        "# 그래프로 표현 - 시각화\r\n",
        "df.plot(kind='scatter', x='x', y='y', c='Cluster', cmap='Set1',    # cmap : https://codetorial.net/matplotlib/set_colormap.html\r\n",
        "        colorbar=False, figsize=(10, 10))"
      ],
      "execution_count": 11,
      "outputs": [
        {
          "output_type": "execute_result",
          "data": {
            "text/plain": [
              "<matplotlib.axes._subplots.AxesSubplot at 0x7f07363f5c90>"
            ]
          },
          "metadata": {
            "tags": []
          },
          "execution_count": 11
        },
        {
          "output_type": "display_data",
          "data": {
            "image/png": "[encoded data removed]",
            "text/plain": [
              "<Figure size 720x720 with 1 Axes>"
            ]
          },
          "metadata": {
            "tags": [],
            "needs_background": "light"
          }
        }
      ]
    },
    {
      "cell_type": "code",
      "metadata": {
        "colab": {
          "base_uri": "https://localhost:8080/",
          "height": 584
        },
        "id": "7rO7TzbjuVPC",
        "outputId": "fdf2bc82-0fa5-4ce7-fc44-deefe1b948df"
      },
      "source": [
        "df.plot(kind='scatter', x='x', y='y', c='Cluster', cmap='Set1', \r\n",
        "        colorbar=True, figsize=(10, 10))\r\n",
        "plt.show()\r\n",
        "plt.close()"
      ],
      "execution_count": 12,
      "outputs": [
        {
          "output_type": "display_data",
          "data": {
            "image/png": "[encoded data removed]",
            "text/plain": [
              "<Figure size 720x720 with 2 Axes>"
            ]
          },
          "metadata": {
            "tags": [],
            "needs_background": "light"
          }
        }
      ]
    },
    {
      "cell_type": "markdown",
      "metadata": {
        "id": "xcQnLuifzhae"
      },
      "source": [
        ""
      ]
    },
    {
      "cell_type": "markdown",
      "metadata": {
        "id": "-4JEJFykziAh"
      },
      "source": [
        ""
      ]
    },
    {
      "cell_type": "markdown",
      "metadata": {
        "id": "wMRPsO_wzhwO"
      },
      "source": [
        "문제49. 아래의 예제로 데이터 프레임을 만들고 토마토가 어느 군집에 속하는지 출력하시오 ! (군집 3개)"
      ]
    },
    {
      "cell_type": "code",
      "metadata": {
        "colab": {
          "base_uri": "https://localhost:8080/",
          "height": 254
        },
        "id": "YJ-BXe6vzibj",
        "outputId": "29426ad0-3bc4-4aed-fb9a-f26ce5cc0461"
      },
      "source": [
        "### 기본 라이브러리 불러오기\r\n",
        "import pandas as pd\r\n",
        "import matplotlib.pyplot as plt\r\n",
        "\r\n",
        "'''\r\n",
        "[Step 1] 데이터 준비\r\n",
        "'''\r\n",
        "\r\n",
        "from pandas import Series, DataFrame\r\n",
        "import numpy as np\r\n",
        "\r\n",
        "data = DataFrame({ \"x\": [10,1,10,7,3,1,6],   \"y\": [9,4,1,10,10,1,7] }, index=['APPLE','BACON','BANANA','CARROT','CELERY','CHEESE','TOMATO'])\r\n",
        "data"
      ],
      "execution_count": 13,
      "outputs": [
        {
          "output_type": "execute_result",
          "data": {
            "text/html": [
              "<div>\n",
              "<style scoped>\n",
              "    .dataframe tbody tr th:only-of-type {\n",
              "        vertical-align: middle;\n",
              "    }\n",
              "\n",
              "    .dataframe tbody tr th {\n",
              "        vertical-align: top;\n",
              "    }\n",
              "\n",
              "    .dataframe thead th {\n",
              "        text-align: right;\n",
              "    }\n",
              "</style>\n",
              "<table border=\"1\" class=\"dataframe\">\n",
              "  <thead>\n",
              "    <tr style=\"text-align: right;\">\n",
              "      <th></th>\n",
              "      <th>x</th>\n",
              "      <th>y</th>\n",
              "    </tr>\n",
              "  </thead>\n",
              "  <tbody>\n",
              "    <tr>\n",
              "      <th>APPLE</th>\n",
              "      <td>10</td>\n",
              "      <td>9</td>\n",
              "    </tr>\n",
              "    <tr>\n",
              "      <th>BACON</th>\n",
              "      <td>1</td>\n",
              "      <td>4</td>\n",
              "    </tr>\n",
              "    <tr>\n",
              "      <th>BANANA</th>\n",
              "      <td>10</td>\n",
              "      <td>1</td>\n",
              "    </tr>\n",
              "    <tr>\n",
              "      <th>CARROT</th>\n",
              "      <td>7</td>\n",
              "      <td>10</td>\n",
              "    </tr>\n",
              "    <tr>\n",
              "      <th>CELERY</th>\n",
              "      <td>3</td>\n",
              "      <td>10</td>\n",
              "    </tr>\n",
              "    <tr>\n",
              "      <th>CHEESE</th>\n",
              "      <td>1</td>\n",
              "      <td>1</td>\n",
              "    </tr>\n",
              "    <tr>\n",
              "      <th>TOMATO</th>\n",
              "      <td>6</td>\n",
              "      <td>7</td>\n",
              "    </tr>\n",
              "  </tbody>\n",
              "</table>\n",
              "</div>"
            ],
            "text/plain": [
              "         x   y\n",
              "APPLE   10   9\n",
              "BACON    1   4\n",
              "BANANA  10   1\n",
              "CARROT   7  10\n",
              "CELERY   3  10\n",
              "CHEESE   1   1\n",
              "TOMATO   6   7"
            ]
          },
          "metadata": {
            "tags": []
          },
          "execution_count": 13
        }
      ]
    },
    {
      "cell_type": "markdown",
      "metadata": {
        "id": "R68IRGsSzykc"
      },
      "source": [
        ""
      ]
    },
    {
      "cell_type": "code",
      "metadata": {
        "colab": {
          "base_uri": "https://localhost:8080/"
        },
        "id": "LW6Bt9bGzyyH",
        "outputId": "70b581d9-2849-4263-ed5d-545d96553227"
      },
      "source": [
        "'''\r\n",
        "[Step 2] 데이터 탐색\r\n",
        "'''\r\n",
        "\r\n",
        "# 데이터 살펴보기\r\n",
        "print(data)   \r\n",
        "print('\\n')"
      ],
      "execution_count": 14,
      "outputs": [
        {
          "output_type": "stream",
          "text": [
            "         x   y\n",
            "APPLE   10   9\n",
            "BACON    1   4\n",
            "BANANA  10   1\n",
            "CARROT   7  10\n",
            "CELERY   3  10\n",
            "CHEESE   1   1\n",
            "TOMATO   6   7\n",
            "\n",
            "\n"
          ],
          "name": "stdout"
        }
      ]
    },
    {
      "cell_type": "code",
      "metadata": {
        "colab": {
          "base_uri": "https://localhost:8080/"
        },
        "id": "MSh4s6iUz2qR",
        "outputId": "1b71fd6a-abb3-47ee-cb13-bbfd3436fddb"
      },
      "source": [
        "# 데이터 자료형 확인\r\n",
        "print(data.info())  \r\n",
        "print('\\n')"
      ],
      "execution_count": 15,
      "outputs": [
        {
          "output_type": "stream",
          "text": [
            "<class 'pandas.core.frame.DataFrame'>\n",
            "Index: 7 entries, APPLE to TOMATO\n",
            "Data columns (total 2 columns):\n",
            " #   Column  Non-Null Count  Dtype\n",
            "---  ------  --------------  -----\n",
            " 0   x       7 non-null      int64\n",
            " 1   y       7 non-null      int64\n",
            "dtypes: int64(2)\n",
            "memory usage: 168.0+ bytes\n",
            "None\n",
            "\n",
            "\n"
          ],
          "name": "stdout"
        }
      ]
    },
    {
      "cell_type": "code",
      "metadata": {
        "colab": {
          "base_uri": "https://localhost:8080/"
        },
        "id": "JsuSoGSvz4wl",
        "outputId": "da2f404b-2449-404b-f0c8-df007428074a"
      },
      "source": [
        "# 데이터 통계 요약정보 확인\r\n",
        "print(df.describe())\r\n",
        "print('\\n')"
      ],
      "execution_count": 16,
      "outputs": [
        {
          "output_type": "stream",
          "text": [
            "               x          y    Cluster\n",
            "count  10.000000  10.000000  10.000000\n",
            "mean    5.000000   5.900000   0.500000\n",
            "std     2.494438   2.514403   0.527046\n",
            "min     1.000000   1.000000   0.000000\n",
            "25%     3.250000   4.250000   0.000000\n",
            "50%     5.500000   6.000000   0.500000\n",
            "75%     6.750000   8.000000   1.000000\n",
            "max     9.000000   9.000000   1.000000\n",
            "\n",
            "\n"
          ],
          "name": "stdout"
        }
      ]
    },
    {
      "cell_type": "code",
      "metadata": {
        "colab": {
          "base_uri": "https://localhost:8080/"
        },
        "id": "ijihf1_Wz6m6",
        "outputId": "73f287af-8ad3-434a-87f4-067dd50124ff"
      },
      "source": [
        "'''\r\n",
        "[Step 3] 데이터 전처리\r\n",
        "'''\r\n",
        "\r\n",
        "# 분석에 사용할 속성을 선택\r\n",
        "X = data.iloc[:, :]\r\n",
        "print(X)\r\n",
        "print('\\n')"
      ],
      "execution_count": 17,
      "outputs": [
        {
          "output_type": "stream",
          "text": [
            "         x   y\n",
            "APPLE   10   9\n",
            "BACON    1   4\n",
            "BANANA  10   1\n",
            "CARROT   7  10\n",
            "CELERY   3  10\n",
            "CHEESE   1   1\n",
            "TOMATO   6   7\n",
            "\n",
            "\n"
          ],
          "name": "stdout"
        }
      ]
    },
    {
      "cell_type": "code",
      "metadata": {
        "colab": {
          "base_uri": "https://localhost:8080/"
        },
        "id": "GyzEdRsGz__i",
        "outputId": "491115fd-0c1e-4154-8c9d-86ff44bcea73"
      },
      "source": [
        "## k-means 가 이상치에 민감하므로 이상치의 영향력을 감소시키기 위해 표준화\r\n",
        "# 설명 변수 데이터를 표준화\r\n",
        "from sklearn import preprocessing\r\n",
        "X = preprocessing.StandardScaler().fit(X).transform(X)\r\n",
        "\r\n",
        "print(X[:])\r\n",
        "print('\\n')"
      ],
      "execution_count": 18,
      "outputs": [
        {
          "output_type": "stream",
          "text": [
            "[[ 1.27693902  0.81009259]\n",
            " [-1.23703467 -0.54006172]\n",
            " [ 1.27693902 -1.35015431]\n",
            " [ 0.43894779  1.08012345]\n",
            " [-0.67837385  1.08012345]\n",
            " [-1.23703467 -1.35015431]\n",
            " [ 0.15961738  0.27003086]]\n",
            "\n",
            "\n"
          ],
          "name": "stdout"
        }
      ]
    },
    {
      "cell_type": "code",
      "metadata": {
        "id": "F3760VLa0EpW"
      },
      "source": [
        "'''\r\n",
        "[Step 4] k-means 군집 모형 - sklearn 사용\r\n",
        "'''\r\n",
        "\r\n",
        "# sklearn 라이브러리에서 cluster 군집 모형 가져오기\r\n",
        "from sklearn import cluster\r\n",
        "\r\n",
        "# 모형 객체 생성 \r\n",
        "kmeans = cluster.KMeans(init='k-means++', n_clusters=3, n_init=10)"
      ],
      "execution_count": 19,
      "outputs": []
    },
    {
      "cell_type": "markdown",
      "metadata": {
        "id": "pxVaWg930JZE"
      },
      "source": [
        ""
      ]
    },
    {
      "cell_type": "code",
      "metadata": {
        "colab": {
          "base_uri": "https://localhost:8080/"
        },
        "id": "rgOTcXii0Hyr",
        "outputId": "569b6e87-0ce5-489f-cf22-c7e7e71b8d85"
      },
      "source": [
        "# 모형 학습\r\n",
        "kmeans.fit(X)"
      ],
      "execution_count": 20,
      "outputs": [
        {
          "output_type": "execute_result",
          "data": {
            "text/plain": [
              "KMeans(algorithm='auto', copy_x=True, init='k-means++', max_iter=300,\n",
              "       n_clusters=3, n_init=10, n_jobs=None, precompute_distances='auto',\n",
              "       random_state=None, tol=0.0001, verbose=0)"
            ]
          },
          "metadata": {
            "tags": []
          },
          "execution_count": 20
        }
      ]
    },
    {
      "cell_type": "code",
      "metadata": {
        "colab": {
          "base_uri": "https://localhost:8080/"
        },
        "id": "YunXn9Mi0KEU",
        "outputId": "7e96f577-c035-4e99-db35-d4f0bdcd52b8"
      },
      "source": [
        "# 예측 (군집) \r\n",
        "cluster_label = kmeans.labels_   \r\n",
        "print(cluster_label)\r\n",
        "print('\\n')"
      ],
      "execution_count": 21,
      "outputs": [
        {
          "output_type": "stream",
          "text": [
            "[1 0 2 1 1 0 1]\n",
            "\n",
            "\n"
          ],
          "name": "stdout"
        }
      ]
    },
    {
      "cell_type": "code",
      "metadata": {
        "colab": {
          "base_uri": "https://localhost:8080/"
        },
        "id": "6CUwyv_a0Tgf",
        "outputId": "03e11d86-3275-47d0-acc3-520eab2a6a3d"
      },
      "source": [
        "# 예측 결과를 데이터프레임에 추가\r\n",
        "data['Cluster'] = cluster_label\r\n",
        "print(data)   \r\n",
        "print('\\n')"
      ],
      "execution_count": 22,
      "outputs": [
        {
          "output_type": "stream",
          "text": [
            "         x   y  Cluster\n",
            "APPLE   10   9        1\n",
            "BACON    1   4        0\n",
            "BANANA  10   1        2\n",
            "CARROT   7  10        1\n",
            "CELERY   3  10        1\n",
            "CHEESE   1   1        0\n",
            "TOMATO   6   7        1\n",
            "\n",
            "\n"
          ],
          "name": "stdout"
        }
      ]
    },
    {
      "cell_type": "code",
      "metadata": {
        "colab": {
          "base_uri": "https://localhost:8080/",
          "height": 352
        },
        "id": "EZuBYka90U-q",
        "outputId": "0d7d17a1-39ac-4e16-c4cb-a2953c1ac142"
      },
      "source": [
        "# 그래프로 표현 - 시각화\r\n",
        "data.plot(kind='scatter', x='x', y='y', c='Cluster', cmap='Set1', \r\n",
        "        colorbar=False, figsize=(5, 5))"
      ],
      "execution_count": 23,
      "outputs": [
        {
          "output_type": "execute_result",
          "data": {
            "text/plain": [
              "<matplotlib.axes._subplots.AxesSubplot at 0x7f0735db3590>"
            ]
          },
          "metadata": {
            "tags": []
          },
          "execution_count": 23
        },
        {
          "output_type": "display_data",
          "data": {
            "image/png": "[encoded data removed]",
            "text/plain": [
              "<Figure size 360x360 with 1 Axes>"
            ]
          },
          "metadata": {
            "tags": [],
            "needs_background": "light"
          }
        }
      ]
    },
    {
      "cell_type": "code",
      "metadata": {
        "colab": {
          "base_uri": "https://localhost:8080/",
          "height": 313
        },
        "id": "9MqkeHdb0i5h",
        "outputId": "c22bd29a-a6ea-4ec8-8a5c-660ced5482f4"
      },
      "source": [
        "data.plot(kind='scatter', x='x', y='y', c='Cluster', cmap='Set1', \r\n",
        "        colorbar=True, figsize=(5, 5))\r\n",
        "plt.show()\r\n",
        "plt.close()"
      ],
      "execution_count": 24,
      "outputs": [
        {
          "output_type": "display_data",
          "data": {
            "image/png": "[encoded data removed]",
            "text/plain": [
              "<Figure size 360x360 with 2 Axes>"
            ]
          },
          "metadata": {
            "tags": [],
            "needs_background": "light"
          }
        }
      ]
    },
    {
      "cell_type": "markdown",
      "metadata": {
        "id": "b5VD-MfI0wga"
      },
      "source": [
        "결과해석 : 토마토는 단맛 : 6, 아삭함 : 7 로 사과, 당근, 샐러리와 같은 군집(빨간색)에 속한 아이템 입니다."
      ]
    },
    {
      "cell_type": "markdown",
      "metadata": {
        "id": "qHtzaAh81VMo"
      },
      "source": [
        ""
      ]
    },
    {
      "cell_type": "markdown",
      "metadata": {
        "id": "PlpmowhX1VG5"
      },
      "source": [
        ""
      ]
    },
    {
      "cell_type": "markdown",
      "metadata": {
        "id": "0CTrspX-1VDT"
      },
      "source": [
        "문제50. UCI 데이터 중 식품에 관련한 데이터를 k-means 알고리즘으로 분류하시오 !\r\n",
        "\r\n",
        "k 값을 5로 주어서 크게 5개의 군집으로 식품을 분류한다."
      ]
    },
    {
      "cell_type": "code",
      "metadata": {
        "colab": {
          "base_uri": "https://localhost:8080/",
          "height": 402
        },
        "id": "1ct1HvZX0wOC",
        "outputId": "042b9cbb-94a9-4330-8db7-23a90d6b8d8b"
      },
      "source": [
        "# -*- coding: utf-8 -*\r\n",
        "### 기본 라이브러리 불러오기\r\n",
        "import pandas as pd\r\n",
        "import matplotlib.pyplot as plt\r\n",
        "\r\n",
        "'''\r\n",
        "[Step 1] 데이터 준비\r\n",
        "'''\r\n",
        "\r\n",
        "# Wholesale customers 데이터셋 가져오기 (출처: UCI ML Repository)\r\n",
        "uci_path = 'https://archive.ics.uci.edu/ml/machine-learning-databases/\\\r\n",
        "00292/Wholesale%20customers%20data.csv'\r\n",
        "df = pd.read_csv(uci_path, header=0)\r\n",
        "df"
      ],
      "execution_count": 25,
      "outputs": [
        {
          "output_type": "execute_result",
          "data": {
            "text/html": [
              "<div>\n",
              "<style scoped>\n",
              "    .dataframe tbody tr th:only-of-type {\n",
              "        vertical-align: middle;\n",
              "    }\n",
              "\n",
              "    .dataframe tbody tr th {\n",
              "        vertical-align: top;\n",
              "    }\n",
              "\n",
              "    .dataframe thead th {\n",
              "        text-align: right;\n",
              "    }\n",
              "</style>\n",
              "<table border=\"1\" class=\"dataframe\">\n",
              "  <thead>\n",
              "    <tr style=\"text-align: right;\">\n",
              "      <th></th>\n",
              "      <th>Channel</th>\n",
              "      <th>Region</th>\n",
              "      <th>Fresh</th>\n",
              "      <th>Milk</th>\n",
              "      <th>Grocery</th>\n",
              "      <th>Frozen</th>\n",
              "      <th>Detergents_Paper</th>\n",
              "      <th>Delicassen</th>\n",
              "    </tr>\n",
              "  </thead>\n",
              "  <tbody>\n",
              "    <tr>\n",
              "      <th>0</th>\n",
              "      <td>2</td>\n",
              "      <td>3</td>\n",
              "      <td>12669</td>\n",
              "      <td>9656</td>\n",
              "      <td>7561</td>\n",
              "      <td>214</td>\n",
              "      <td>2674</td>\n",
              "      <td>1338</td>\n",
              "    </tr>\n",
              "    <tr>\n",
              "      <th>1</th>\n",
              "      <td>2</td>\n",
              "      <td>3</td>\n",
              "      <td>7057</td>\n",
              "      <td>9810</td>\n",
              "      <td>9568</td>\n",
              "      <td>1762</td>\n",
              "      <td>3293</td>\n",
              "      <td>1776</td>\n",
              "    </tr>\n",
              "    <tr>\n",
              "      <th>2</th>\n",
              "      <td>2</td>\n",
              "      <td>3</td>\n",
              "      <td>6353</td>\n",
              "      <td>8808</td>\n",
              "      <td>7684</td>\n",
              "      <td>2405</td>\n",
              "      <td>3516</td>\n",
              "      <td>7844</td>\n",
              "    </tr>\n",
              "    <tr>\n",
              "      <th>3</th>\n",
              "      <td>1</td>\n",
              "      <td>3</td>\n",
              "      <td>13265</td>\n",
              "      <td>1196</td>\n",
              "      <td>4221</td>\n",
              "      <td>6404</td>\n",
              "      <td>507</td>\n",
              "      <td>1788</td>\n",
              "    </tr>\n",
              "    <tr>\n",
              "      <th>4</th>\n",
              "      <td>2</td>\n",
              "      <td>3</td>\n",
              "      <td>22615</td>\n",
              "      <td>5410</td>\n",
              "      <td>7198</td>\n",
              "      <td>3915</td>\n",
              "      <td>1777</td>\n",
              "      <td>5185</td>\n",
              "    </tr>\n",
              "    <tr>\n",
              "      <th>...</th>\n",
              "      <td>...</td>\n",
              "      <td>...</td>\n",
              "      <td>...</td>\n",
              "      <td>...</td>\n",
              "      <td>...</td>\n",
              "      <td>...</td>\n",
              "      <td>...</td>\n",
              "      <td>...</td>\n",
              "    </tr>\n",
              "    <tr>\n",
              "      <th>435</th>\n",
              "      <td>1</td>\n",
              "      <td>3</td>\n",
              "      <td>29703</td>\n",
              "      <td>12051</td>\n",
              "      <td>16027</td>\n",
              "      <td>13135</td>\n",
              "      <td>182</td>\n",
              "      <td>2204</td>\n",
              "    </tr>\n",
              "    <tr>\n",
              "      <th>436</th>\n",
              "      <td>1</td>\n",
              "      <td>3</td>\n",
              "      <td>39228</td>\n",
              "      <td>1431</td>\n",
              "      <td>764</td>\n",
              "      <td>4510</td>\n",
              "      <td>93</td>\n",
              "      <td>2346</td>\n",
              "    </tr>\n",
              "    <tr>\n",
              "      <th>437</th>\n",
              "      <td>2</td>\n",
              "      <td>3</td>\n",
              "      <td>14531</td>\n",
              "      <td>15488</td>\n",
              "      <td>30243</td>\n",
              "      <td>437</td>\n",
              "      <td>14841</td>\n",
              "      <td>1867</td>\n",
              "    </tr>\n",
              "    <tr>\n",
              "      <th>438</th>\n",
              "      <td>1</td>\n",
              "      <td>3</td>\n",
              "      <td>10290</td>\n",
              "      <td>1981</td>\n",
              "      <td>2232</td>\n",
              "      <td>1038</td>\n",
              "      <td>168</td>\n",
              "      <td>2125</td>\n",
              "    </tr>\n",
              "    <tr>\n",
              "      <th>439</th>\n",
              "      <td>1</td>\n",
              "      <td>3</td>\n",
              "      <td>2787</td>\n",
              "      <td>1698</td>\n",
              "      <td>2510</td>\n",
              "      <td>65</td>\n",
              "      <td>477</td>\n",
              "      <td>52</td>\n",
              "    </tr>\n",
              "  </tbody>\n",
              "</table>\n",
              "<p>440 rows × 8 columns</p>\n",
              "</div>"
            ],
            "text/plain": [
              "     Channel  Region  Fresh  ...  Frozen  Detergents_Paper  Delicassen\n",
              "0          2       3  12669  ...     214              2674        1338\n",
              "1          2       3   7057  ...    1762              3293        1776\n",
              "2          2       3   6353  ...    2405              3516        7844\n",
              "3          1       3  13265  ...    6404               507        1788\n",
              "4          2       3  22615  ...    3915              1777        5185\n",
              "..       ...     ...    ...  ...     ...               ...         ...\n",
              "435        1       3  29703  ...   13135               182        2204\n",
              "436        1       3  39228  ...    4510                93        2346\n",
              "437        2       3  14531  ...     437             14841        1867\n",
              "438        1       3  10290  ...    1038               168        2125\n",
              "439        1       3   2787  ...      65               477          52\n",
              "\n",
              "[440 rows x 8 columns]"
            ]
          },
          "metadata": {
            "tags": []
          },
          "execution_count": 25
        }
      ]
    },
    {
      "cell_type": "markdown",
      "metadata": {
        "id": "Zs66muyY3-Gx"
      },
      "source": [
        "※ 데이터셋 설명 : UCI 머신러닝 저장소에서 제공하는 도매업 고객 데이터셋입니다.  \r\n",
        "각 고객의 연간 구매금액을 상품 카테고리별로 구분하여 정리한 데이터 입니다.  \r\n",
        "모두 8개의 컬럼에 440개의 행으로 되어있고 첫번째 2개의 컬럼은 상품 구매금액이 아니라 고객의 일반정보입니다.  \r\n",
        "Channel 컬럼은 호텔/레스토랑 또는 소매점등의 판매 채널이고 region 은 고객의 소재지를 나타냅니다.\r\n",
        "\r\n",
        "    Channel : 판매채널  \r\n",
        "    Region : 고객의 소재지  \r\n",
        "    Milk : 유제품  \r\n",
        "    Grocery : 식자재  \r\n",
        "    Frozen : 냉동식품  \r\n",
        "    Detergents_Pater : 세제  \r\n",
        "    Delicassen : 햄과 같은 육가공 식품"
      ]
    },
    {
      "cell_type": "code",
      "metadata": {
        "colab": {
          "base_uri": "https://localhost:8080/"
        },
        "id": "ea8dp1LY3RAB",
        "outputId": "35895477-cbd4-48f9-f214-e6b3569abf08"
      },
      "source": [
        "'''\r\n",
        "[Step 2] 데이터 탐색\r\n",
        "'''\r\n",
        "\r\n",
        "# 데이터 살펴보기\r\n",
        "print(df.head())   \r\n",
        "print('\\n')"
      ],
      "execution_count": 26,
      "outputs": [
        {
          "output_type": "stream",
          "text": [
            "   Channel  Region  Fresh  Milk  Grocery  Frozen  Detergents_Paper  Delicassen\n",
            "0        2       3  12669  9656     7561     214              2674        1338\n",
            "1        2       3   7057  9810     9568    1762              3293        1776\n",
            "2        2       3   6353  8808     7684    2405              3516        7844\n",
            "3        1       3  13265  1196     4221    6404               507        1788\n",
            "4        2       3  22615  5410     7198    3915              1777        5185\n",
            "\n",
            "\n"
          ],
          "name": "stdout"
        }
      ]
    },
    {
      "cell_type": "code",
      "metadata": {
        "colab": {
          "base_uri": "https://localhost:8080/"
        },
        "id": "S0bsTDOj3YNX",
        "outputId": "df2638f9-b483-4394-a873-95ca30deacbb"
      },
      "source": [
        "# 데이터 자료형 확인\r\n",
        "print(df.info())    # 정수형 데이터\r\n",
        "print('\\n')"
      ],
      "execution_count": 27,
      "outputs": [
        {
          "output_type": "stream",
          "text": [
            "<class 'pandas.core.frame.DataFrame'>\n",
            "RangeIndex: 440 entries, 0 to 439\n",
            "Data columns (total 8 columns):\n",
            " #   Column            Non-Null Count  Dtype\n",
            "---  ------            --------------  -----\n",
            " 0   Channel           440 non-null    int64\n",
            " 1   Region            440 non-null    int64\n",
            " 2   Fresh             440 non-null    int64\n",
            " 3   Milk              440 non-null    int64\n",
            " 4   Grocery           440 non-null    int64\n",
            " 5   Frozen            440 non-null    int64\n",
            " 6   Detergents_Paper  440 non-null    int64\n",
            " 7   Delicassen        440 non-null    int64\n",
            "dtypes: int64(8)\n",
            "memory usage: 27.6 KB\n",
            "None\n",
            "\n",
            "\n"
          ],
          "name": "stdout"
        }
      ]
    },
    {
      "cell_type": "code",
      "metadata": {
        "colab": {
          "base_uri": "https://localhost:8080/"
        },
        "id": "TxReAZdL3Z1o",
        "outputId": "372f8861-1bef-421b-b074-8eeb57f6ba36"
      },
      "source": [
        "# 데이터 통계 요약정보 확인\r\n",
        "print(df.describe())\r\n",
        "print('\\n')"
      ],
      "execution_count": 28,
      "outputs": [
        {
          "output_type": "stream",
          "text": [
            "          Channel      Region  ...  Detergents_Paper    Delicassen\n",
            "count  440.000000  440.000000  ...        440.000000    440.000000\n",
            "mean     1.322727    2.543182  ...       2881.493182   1524.870455\n",
            "std      0.468052    0.774272  ...       4767.854448   2820.105937\n",
            "min      1.000000    1.000000  ...          3.000000      3.000000\n",
            "25%      1.000000    2.000000  ...        256.750000    408.250000\n",
            "50%      1.000000    3.000000  ...        816.500000    965.500000\n",
            "75%      2.000000    3.000000  ...       3922.000000   1820.250000\n",
            "max      2.000000    3.000000  ...      40827.000000  47943.000000\n",
            "\n",
            "[8 rows x 8 columns]\n",
            "\n",
            "\n"
          ],
          "name": "stdout"
        }
      ]
    },
    {
      "cell_type": "code",
      "metadata": {
        "colab": {
          "base_uri": "https://localhost:8080/"
        },
        "id": "rKOu81qK3cIi",
        "outputId": "3dd65ce8-98e4-49a5-c37d-f8d063b1ca2a"
      },
      "source": [
        "'''\r\n",
        "[Step 3] 데이터 전처리\r\n",
        "'''\r\n",
        "\r\n",
        "# 분석에 사용할 속성을 선택\r\n",
        "X = df.iloc[:, :]\r\n",
        "print(X[:5])\r\n",
        "print('\\n')"
      ],
      "execution_count": 29,
      "outputs": [
        {
          "output_type": "stream",
          "text": [
            "   Channel  Region  Fresh  Milk  Grocery  Frozen  Detergents_Paper  Delicassen\n",
            "0        2       3  12669  9656     7561     214              2674        1338\n",
            "1        2       3   7057  9810     9568    1762              3293        1776\n",
            "2        2       3   6353  8808     7684    2405              3516        7844\n",
            "3        1       3  13265  1196     4221    6404               507        1788\n",
            "4        2       3  22615  5410     7198    3915              1777        5185\n",
            "\n",
            "\n"
          ],
          "name": "stdout"
        }
      ]
    },
    {
      "cell_type": "code",
      "metadata": {
        "colab": {
          "base_uri": "https://localhost:8080/"
        },
        "id": "6MOZDh1A4jMQ",
        "outputId": "39794034-1fc3-42ce-c7c6-1bf90d652d41"
      },
      "source": [
        "# 설명 변수 데이터를 표준화\r\n",
        "from sklearn import preprocessing\r\n",
        "X = preprocessing.StandardScaler().fit(X).transform(X)\r\n",
        "\r\n",
        "print(X[:5])\r\n",
        "print('\\n')"
      ],
      "execution_count": 30,
      "outputs": [
        {
          "output_type": "stream",
          "text": [
            "[[ 1.44865163  0.59066829  0.05293319  0.52356777 -0.04111489 -0.58936716\n",
            "  -0.04356873 -0.06633906]\n",
            " [ 1.44865163  0.59066829 -0.39130197  0.54445767  0.17031835 -0.27013618\n",
            "   0.08640684  0.08915105]\n",
            " [ 1.44865163  0.59066829 -0.44702926  0.40853771 -0.0281571  -0.13753572\n",
            "   0.13323164  2.24329255]\n",
            " [-0.69029709  0.59066829  0.10011141 -0.62401993 -0.3929769   0.6871443\n",
            "  -0.49858822  0.09341105]\n",
            " [ 1.44865163  0.59066829  0.84023948 -0.05239645 -0.07935618  0.17385884\n",
            "  -0.23191782  1.29934689]]\n",
            "\n",
            "\n"
          ],
          "name": "stdout"
        }
      ]
    },
    {
      "cell_type": "code",
      "metadata": {
        "id": "_TVomqDO4nh1"
      },
      "source": [
        "'''\r\n",
        "[Step 4] k-means 군집 모형 - sklearn 사용\r\n",
        "'''\r\n",
        "\r\n",
        "# sklearn 라이브러리에서 cluster 군집 모형 가져오기\r\n",
        "from sklearn import cluster\r\n",
        "\r\n",
        "# 모형 객체 생성 \r\n",
        "kmeans = cluster.KMeans(init='k-means++', n_clusters=5, n_init=10)   # 5개 군집"
      ],
      "execution_count": 31,
      "outputs": []
    },
    {
      "cell_type": "code",
      "metadata": {
        "colab": {
          "base_uri": "https://localhost:8080/"
        },
        "id": "iXeHBO_k4pmA",
        "outputId": "1a19f6d8-8df1-47a5-bf36-691f2d96385f"
      },
      "source": [
        "# 모형 학습\r\n",
        "kmeans.fit(X)   "
      ],
      "execution_count": 32,
      "outputs": [
        {
          "output_type": "execute_result",
          "data": {
            "text/plain": [
              "KMeans(algorithm='auto', copy_x=True, init='k-means++', max_iter=300,\n",
              "       n_clusters=5, n_init=10, n_jobs=None, precompute_distances='auto',\n",
              "       random_state=None, tol=0.0001, verbose=0)"
            ]
          },
          "metadata": {
            "tags": []
          },
          "execution_count": 32
        }
      ]
    },
    {
      "cell_type": "code",
      "metadata": {
        "colab": {
          "base_uri": "https://localhost:8080/"
        },
        "id": "ni2j-y5w4rNd",
        "outputId": "72de87e0-2a5e-41e1-9592-9d29e5384c9d"
      },
      "source": [
        "# 예측 (군집) \r\n",
        "cluster_label = kmeans.labels_   \r\n",
        "print(cluster_label)\r\n",
        "print('\\n')"
      ],
      "execution_count": 33,
      "outputs": [
        {
          "output_type": "stream",
          "text": [
            "[2 2 2 1 2 2 2 2 1 2 2 2 2 2 2 1 2 1 2 1 2 1 1 4 2 2 1 1 2 1 1 1 1 1 1 2 1\n",
            " 2 2 1 1 1 2 2 2 2 2 0 2 2 1 1 2 2 1 1 0 2 1 1 2 0 2 2 1 0 1 2 1 1 1 4 1 2\n",
            " 2 1 1 2 1 1 1 2 2 1 2 0 0 4 1 1 1 1 0 1 2 1 2 1 1 1 2 2 2 1 1 1 2 2 2 2 1\n",
            " 2 1 1 1 1 1 1 1 1 1 1 1 2 1 1 1 2 1 1 1 1 1 1 1 1 1 1 1 1 1 1 1 1 1 2 1 1\n",
            " 1 1 1 1 1 1 1 2 2 1 2 2 2 1 1 2 2 2 2 1 1 1 2 2 1 2 1 2 1 1 1 1 1 4 1 4 1\n",
            " 1 1 1 2 2 1 1 1 2 1 1 3 2 3 3 2 2 3 3 3 2 3 3 3 2 3 0 3 3 2 3 2 3 2 3 3 3\n",
            " 3 3 3 3 3 3 3 3 3 3 3 3 3 3 3 3 3 3 3 3 3 3 3 2 3 3 3 3 3 0 3 3 3 3 3 3 3\n",
            " 3 3 3 3 3 2 3 2 3 2 3 3 3 3 1 1 1 1 1 1 2 1 2 1 1 1 1 1 1 1 1 1 1 1 2 3 2\n",
            " 3 2 2 3 2 2 2 2 2 2 2 3 3 2 3 3 2 3 3 2 3 3 3 2 3 3 3 3 3 4 3 3 3 3 3 2 3\n",
            " 0 3 2 3 3 3 3 2 2 1 2 1 1 2 2 1 2 1 2 1 2 1 1 1 2 1 1 1 1 1 1 1 2 1 1 1 1\n",
            " 2 1 1 2 1 1 2 1 1 2 1 1 1 1 1 1 1 1 1 1 1 1 1 1 1 1 2 1 1 1 1 1 1 1 1 1 1\n",
            " 2 2 1 1 1 1 1 1 2 2 1 2 1 1 2 1 2 2 1 1 1 1 1 1 1 1 1 1 1 1 2 1 1]\n",
            "\n",
            "\n"
          ],
          "name": "stdout"
        }
      ]
    },
    {
      "cell_type": "code",
      "metadata": {
        "colab": {
          "base_uri": "https://localhost:8080/"
        },
        "id": "k7rmqA-v4syK",
        "outputId": "5deafd52-17bf-4609-bda5-fde30764a7dc"
      },
      "source": [
        "# 예측 결과를 데이터프레임에 추가\r\n",
        "df['Cluster'] = cluster_label\r\n",
        "print(df.head())   \r\n",
        "print('\\n')"
      ],
      "execution_count": 34,
      "outputs": [
        {
          "output_type": "stream",
          "text": [
            "   Channel  Region  Fresh  Milk  ...  Frozen  Detergents_Paper  Delicassen  Cluster\n",
            "0        2       3  12669  9656  ...     214              2674        1338        2\n",
            "1        2       3   7057  9810  ...    1762              3293        1776        2\n",
            "2        2       3   6353  8808  ...    2405              3516        7844        2\n",
            "3        1       3  13265  1196  ...    6404               507        1788        1\n",
            "4        2       3  22615  5410  ...    3915              1777        5185        2\n",
            "\n",
            "[5 rows x 9 columns]\n",
            "\n",
            "\n"
          ],
          "name": "stdout"
        }
      ]
    },
    {
      "cell_type": "code",
      "metadata": {
        "colab": {
          "base_uri": "https://localhost:8080/",
          "height": 624
        },
        "id": "qV7YsME94uXg",
        "outputId": "b4210bc3-aee0-452d-a463-9e072095cab9"
      },
      "source": [
        "# 그래프로 표현 - 시각화 (변수 2개씩만 선택하여 시각화)\r\n",
        "df.plot(kind='scatter', x='Grocery', y='Frozen', c='Cluster', cmap='Set1', \r\n",
        "        colorbar=False, figsize=(10, 10))"
      ],
      "execution_count": 35,
      "outputs": [
        {
          "output_type": "execute_result",
          "data": {
            "text/plain": [
              "<matplotlib.axes._subplots.AxesSubplot at 0x7f0735c8eb10>"
            ]
          },
          "metadata": {
            "tags": []
          },
          "execution_count": 35
        },
        {
          "output_type": "display_data",
          "data": {
            "image/png": "[encoded data removed]",
            "text/plain": [
              "<Figure size 720x720 with 1 Axes>"
            ]
          },
          "metadata": {
            "tags": [],
            "needs_background": "light"
          }
        }
      ]
    },
    {
      "cell_type": "code",
      "metadata": {
        "colab": {
          "base_uri": "https://localhost:8080/",
          "height": 77
        },
        "id": "SjiQsMpUi1EQ",
        "outputId": "ab4aa0bc-58b4-448b-fa67-2f6ccb25d381"
      },
      "source": [
        "df[df['Frozen']>60000]"
      ],
      "execution_count": 36,
      "outputs": [
        {
          "output_type": "execute_result",
          "data": {
            "text/html": [
              "<div>\n",
              "<style scoped>\n",
              "    .dataframe tbody tr th:only-of-type {\n",
              "        vertical-align: middle;\n",
              "    }\n",
              "\n",
              "    .dataframe tbody tr th {\n",
              "        vertical-align: top;\n",
              "    }\n",
              "\n",
              "    .dataframe thead th {\n",
              "        text-align: right;\n",
              "    }\n",
              "</style>\n",
              "<table border=\"1\" class=\"dataframe\">\n",
              "  <thead>\n",
              "    <tr style=\"text-align: right;\">\n",
              "      <th></th>\n",
              "      <th>Channel</th>\n",
              "      <th>Region</th>\n",
              "      <th>Fresh</th>\n",
              "      <th>Milk</th>\n",
              "      <th>Grocery</th>\n",
              "      <th>Frozen</th>\n",
              "      <th>Detergents_Paper</th>\n",
              "      <th>Delicassen</th>\n",
              "      <th>Cluster</th>\n",
              "    </tr>\n",
              "  </thead>\n",
              "  <tbody>\n",
              "    <tr>\n",
              "      <th>325</th>\n",
              "      <td>1</td>\n",
              "      <td>2</td>\n",
              "      <td>32717</td>\n",
              "      <td>16784</td>\n",
              "      <td>13626</td>\n",
              "      <td>60869</td>\n",
              "      <td>1272</td>\n",
              "      <td>5609</td>\n",
              "      <td>4</td>\n",
              "    </tr>\n",
              "  </tbody>\n",
              "</table>\n",
              "</div>"
            ],
            "text/plain": [
              "     Channel  Region  Fresh  ...  Detergents_Paper  Delicassen  Cluster\n",
              "325        1       2  32717  ...              1272        5609        4\n",
              "\n",
              "[1 rows x 9 columns]"
            ]
          },
          "metadata": {
            "tags": []
          },
          "execution_count": 36
        }
      ]
    },
    {
      "cell_type": "code",
      "metadata": {
        "colab": {
          "base_uri": "https://localhost:8080/",
          "height": 584
        },
        "id": "fAN46k4N4xz9",
        "outputId": "fa65d09d-ac65-4090-ee3c-2834732a4cbf"
      },
      "source": [
        "df.plot(kind='scatter', x='Milk', y='Delicassen', c='Cluster', cmap='Set1', \r\n",
        "        colorbar=True, figsize=(10, 10))\r\n",
        "plt.show()\r\n",
        "plt.close()"
      ],
      "execution_count": 37,
      "outputs": [
        {
          "output_type": "display_data",
          "data": {
            "image/png": "[encoded data removed]",
            "text/plain": [
              "<Figure size 720x720 with 2 Axes>"
            ]
          },
          "metadata": {
            "tags": [],
            "needs_background": "light"
          }
        }
      ]
    },
    {
      "cell_type": "code",
      "metadata": {
        "id": "nSZglVbu43iq"
      },
      "source": [
        "# 큰 값으로 구성된 클러스터(0, 2)를 제외 - 값이 몰려 있는 구간을 자세하게 분석\r\n",
        "mask = (df['Cluster'] == 0) | (df['Cluster'] == 2)\r\n",
        "ndf = df[~mask]"
      ],
      "execution_count": 38,
      "outputs": []
    },
    {
      "cell_type": "code",
      "metadata": {
        "colab": {
          "base_uri": "https://localhost:8080/",
          "height": 624
        },
        "id": "GzAoR0tx5Hd5",
        "outputId": "d20f4626-0094-4c31-fb6c-432f36d0c2d0"
      },
      "source": [
        "ndf.plot(kind='scatter', x='Grocery', y='Frozen', c='Cluster', cmap='Set1', \r\n",
        "        colorbar=False, figsize=(10, 10))"
      ],
      "execution_count": 39,
      "outputs": [
        {
          "output_type": "execute_result",
          "data": {
            "text/plain": [
              "<matplotlib.axes._subplots.AxesSubplot at 0x7f0735cdab50>"
            ]
          },
          "metadata": {
            "tags": []
          },
          "execution_count": 39
        },
        {
          "output_type": "display_data",
          "data": {
            "image/png": "[encoded data removed]",
            "text/plain": [
              "<Figure size 720x720 with 1 Axes>"
            ]
          },
          "metadata": {
            "tags": [],
            "needs_background": "light"
          }
        }
      ]
    },
    {
      "cell_type": "code",
      "metadata": {
        "colab": {
          "base_uri": "https://localhost:8080/",
          "height": 584
        },
        "id": "_u17xHI15JEs",
        "outputId": "588762ec-0df9-493d-e18e-083a88f98d4d"
      },
      "source": [
        "ndf.plot(kind='scatter', x='Milk', y='Delicassen', c='Cluster', cmap='Set1', \r\n",
        "        colorbar=True, figsize=(10, 10))\r\n",
        "plt.show()\r\n",
        "plt.close()"
      ],
      "execution_count": 40,
      "outputs": [
        {
          "output_type": "display_data",
          "data": {
            "image/png": "[encoded data removed]",
            "text/plain": [
              "<Figure size 720x720 with 2 Axes>"
            ]
          },
          "metadata": {
            "tags": [],
            "needs_background": "light"
          }
        }
      ]
    },
    {
      "cell_type": "markdown",
      "metadata": {
        "id": "w3v8R33w9frs"
      },
      "source": [
        ""
      ]
    },
    {
      "cell_type": "markdown",
      "metadata": {
        "id": "RTmuVpW09fm1"
      },
      "source": [
        ""
      ]
    },
    {
      "cell_type": "markdown",
      "metadata": {
        "id": "eCS57Av49feJ"
      },
      "source": [
        "문제51. 유방암 데이터를 k-means 로 분류하는데 파이썬을 이용해서 분류하시오 !\r\n"
      ]
    },
    {
      "cell_type": "code",
      "metadata": {
        "colab": {
          "base_uri": "https://localhost:8080/",
          "height": 422
        },
        "id": "pZCugFo6jm0c",
        "outputId": "68177ad7-3e6a-4076-c250-946fd348f15a"
      },
      "source": [
        "### 기본 라이브러리 불러오기\r\n",
        "import pandas as pd\r\n",
        "import matplotlib.pyplot as plt\r\n",
        "\r\n",
        "'''\r\n",
        "[Step 1] 데이터 준비\r\n",
        "'''\r\n",
        "\r\n",
        "from pandas import Series, DataFrame\r\n",
        "import numpy as np\r\n",
        "\r\n",
        "df = pd.read_csv('/content/drive/MyDrive/data/wisc_bc_data.csv')\r\n",
        "df"
      ],
      "execution_count": 41,
      "outputs": [
        {
          "output_type": "execute_result",
          "data": {
            "text/html": [
              "<div>\n",
              "<style scoped>\n",
              "    .dataframe tbody tr th:only-of-type {\n",
              "        vertical-align: middle;\n",
              "    }\n",
              "\n",
              "    .dataframe tbody tr th {\n",
              "        vertical-align: top;\n",
              "    }\n",
              "\n",
              "    .dataframe thead th {\n",
              "        text-align: right;\n",
              "    }\n",
              "</style>\n",
              "<table border=\"1\" class=\"dataframe\">\n",
              "  <thead>\n",
              "    <tr style=\"text-align: right;\">\n",
              "      <th></th>\n",
              "      <th>id</th>\n",
              "      <th>diagnosis</th>\n",
              "      <th>radius_mean</th>\n",
              "      <th>texture_mean</th>\n",
              "      <th>perimeter_mean</th>\n",
              "      <th>area_mean</th>\n",
              "      <th>smoothness_mean</th>\n",
              "      <th>compactness_mean</th>\n",
              "      <th>concavity_mean</th>\n",
              "      <th>points_mean</th>\n",
              "      <th>symmetry_mean</th>\n",
              "      <th>dimension_mean</th>\n",
              "      <th>radius_se</th>\n",
              "      <th>texture_se</th>\n",
              "      <th>perimeter_se</th>\n",
              "      <th>area_se</th>\n",
              "      <th>smoothness_se</th>\n",
              "      <th>compactness_se</th>\n",
              "      <th>concavity_se</th>\n",
              "      <th>points_se</th>\n",
              "      <th>symmetry_se</th>\n",
              "      <th>dimension_se</th>\n",
              "      <th>radius_worst</th>\n",
              "      <th>texture_worst</th>\n",
              "      <th>perimeter_worst</th>\n",
              "      <th>area_worst</th>\n",
              "      <th>smoothness_worst</th>\n",
              "      <th>compactness_worst</th>\n",
              "      <th>concavity_worst</th>\n",
              "      <th>points_worst</th>\n",
              "      <th>symmetry_worst</th>\n",
              "      <th>dimension_worst</th>\n",
              "    </tr>\n",
              "  </thead>\n",
              "  <tbody>\n",
              "    <tr>\n",
              "      <th>0</th>\n",
              "      <td>87139402</td>\n",
              "      <td>B</td>\n",
              "      <td>12.32</td>\n",
              "      <td>12.39</td>\n",
              "      <td>78.85</td>\n",
              "      <td>464.1</td>\n",
              "      <td>0.10280</td>\n",
              "      <td>0.06981</td>\n",
              "      <td>0.03987</td>\n",
              "      <td>0.03700</td>\n",
              "      <td>0.1959</td>\n",
              "      <td>0.05955</td>\n",
              "      <td>0.2360</td>\n",
              "      <td>0.6656</td>\n",
              "      <td>1.670</td>\n",
              "      <td>17.43</td>\n",
              "      <td>0.008045</td>\n",
              "      <td>0.011800</td>\n",
              "      <td>0.01683</td>\n",
              "      <td>0.012410</td>\n",
              "      <td>0.01924</td>\n",
              "      <td>0.002248</td>\n",
              "      <td>13.50</td>\n",
              "      <td>15.64</td>\n",
              "      <td>86.97</td>\n",
              "      <td>549.1</td>\n",
              "      <td>0.1385</td>\n",
              "      <td>0.1266</td>\n",
              "      <td>0.12420</td>\n",
              "      <td>0.09391</td>\n",
              "      <td>0.2827</td>\n",
              "      <td>0.06771</td>\n",
              "    </tr>\n",
              "    <tr>\n",
              "      <th>1</th>\n",
              "      <td>8910251</td>\n",
              "      <td>B</td>\n",
              "      <td>10.60</td>\n",
              "      <td>18.95</td>\n",
              "      <td>69.28</td>\n",
              "      <td>346.4</td>\n",
              "      <td>0.09688</td>\n",
              "      <td>0.11470</td>\n",
              "      <td>0.06387</td>\n",
              "      <td>0.02642</td>\n",
              "      <td>0.1922</td>\n",
              "      <td>0.06491</td>\n",
              "      <td>0.4505</td>\n",
              "      <td>1.1970</td>\n",
              "      <td>3.430</td>\n",
              "      <td>27.10</td>\n",
              "      <td>0.007470</td>\n",
              "      <td>0.035810</td>\n",
              "      <td>0.03354</td>\n",
              "      <td>0.013650</td>\n",
              "      <td>0.03504</td>\n",
              "      <td>0.003318</td>\n",
              "      <td>11.88</td>\n",
              "      <td>22.94</td>\n",
              "      <td>78.28</td>\n",
              "      <td>424.8</td>\n",
              "      <td>0.1213</td>\n",
              "      <td>0.2515</td>\n",
              "      <td>0.19160</td>\n",
              "      <td>0.07926</td>\n",
              "      <td>0.2940</td>\n",
              "      <td>0.07587</td>\n",
              "    </tr>\n",
              "    <tr>\n",
              "      <th>2</th>\n",
              "      <td>905520</td>\n",
              "      <td>B</td>\n",
              "      <td>11.04</td>\n",
              "      <td>16.83</td>\n",
              "      <td>70.92</td>\n",
              "      <td>373.2</td>\n",
              "      <td>0.10770</td>\n",
              "      <td>0.07804</td>\n",
              "      <td>0.03046</td>\n",
              "      <td>0.02480</td>\n",
              "      <td>0.1714</td>\n",
              "      <td>0.06340</td>\n",
              "      <td>0.1967</td>\n",
              "      <td>1.3870</td>\n",
              "      <td>1.342</td>\n",
              "      <td>13.54</td>\n",
              "      <td>0.005158</td>\n",
              "      <td>0.009355</td>\n",
              "      <td>0.01056</td>\n",
              "      <td>0.007483</td>\n",
              "      <td>0.01718</td>\n",
              "      <td>0.002198</td>\n",
              "      <td>12.41</td>\n",
              "      <td>26.44</td>\n",
              "      <td>79.93</td>\n",
              "      <td>471.4</td>\n",
              "      <td>0.1369</td>\n",
              "      <td>0.1482</td>\n",
              "      <td>0.10670</td>\n",
              "      <td>0.07431</td>\n",
              "      <td>0.2998</td>\n",
              "      <td>0.07881</td>\n",
              "    </tr>\n",
              "    <tr>\n",
              "      <th>3</th>\n",
              "      <td>868871</td>\n",
              "      <td>B</td>\n",
              "      <td>11.28</td>\n",
              "      <td>13.39</td>\n",
              "      <td>73.00</td>\n",
              "      <td>384.8</td>\n",
              "      <td>0.11640</td>\n",
              "      <td>0.11360</td>\n",
              "      <td>0.04635</td>\n",
              "      <td>0.04796</td>\n",
              "      <td>0.1771</td>\n",
              "      <td>0.06072</td>\n",
              "      <td>0.3384</td>\n",
              "      <td>1.3430</td>\n",
              "      <td>1.851</td>\n",
              "      <td>26.33</td>\n",
              "      <td>0.011270</td>\n",
              "      <td>0.034980</td>\n",
              "      <td>0.02187</td>\n",
              "      <td>0.019650</td>\n",
              "      <td>0.01580</td>\n",
              "      <td>0.003442</td>\n",
              "      <td>11.92</td>\n",
              "      <td>15.77</td>\n",
              "      <td>76.53</td>\n",
              "      <td>434.0</td>\n",
              "      <td>0.1367</td>\n",
              "      <td>0.1822</td>\n",
              "      <td>0.08669</td>\n",
              "      <td>0.08611</td>\n",
              "      <td>0.2102</td>\n",
              "      <td>0.06784</td>\n",
              "    </tr>\n",
              "    <tr>\n",
              "      <th>4</th>\n",
              "      <td>9012568</td>\n",
              "      <td>B</td>\n",
              "      <td>15.19</td>\n",
              "      <td>13.21</td>\n",
              "      <td>97.65</td>\n",
              "      <td>711.8</td>\n",
              "      <td>0.07963</td>\n",
              "      <td>0.06934</td>\n",
              "      <td>0.03393</td>\n",
              "      <td>0.02657</td>\n",
              "      <td>0.1721</td>\n",
              "      <td>0.05544</td>\n",
              "      <td>0.1783</td>\n",
              "      <td>0.4125</td>\n",
              "      <td>1.338</td>\n",
              "      <td>17.72</td>\n",
              "      <td>0.005012</td>\n",
              "      <td>0.014850</td>\n",
              "      <td>0.01551</td>\n",
              "      <td>0.009155</td>\n",
              "      <td>0.01647</td>\n",
              "      <td>0.001767</td>\n",
              "      <td>16.20</td>\n",
              "      <td>15.73</td>\n",
              "      <td>104.50</td>\n",
              "      <td>819.1</td>\n",
              "      <td>0.1126</td>\n",
              "      <td>0.1737</td>\n",
              "      <td>0.13620</td>\n",
              "      <td>0.08178</td>\n",
              "      <td>0.2487</td>\n",
              "      <td>0.06766</td>\n",
              "    </tr>\n",
              "    <tr>\n",
              "      <th>...</th>\n",
              "      <td>...</td>\n",
              "      <td>...</td>\n",
              "      <td>...</td>\n",
              "      <td>...</td>\n",
              "      <td>...</td>\n",
              "      <td>...</td>\n",
              "      <td>...</td>\n",
              "      <td>...</td>\n",
              "      <td>...</td>\n",
              "      <td>...</td>\n",
              "      <td>...</td>\n",
              "      <td>...</td>\n",
              "      <td>...</td>\n",
              "      <td>...</td>\n",
              "      <td>...</td>\n",
              "      <td>...</td>\n",
              "      <td>...</td>\n",
              "      <td>...</td>\n",
              "      <td>...</td>\n",
              "      <td>...</td>\n",
              "      <td>...</td>\n",
              "      <td>...</td>\n",
              "      <td>...</td>\n",
              "      <td>...</td>\n",
              "      <td>...</td>\n",
              "      <td>...</td>\n",
              "      <td>...</td>\n",
              "      <td>...</td>\n",
              "      <td>...</td>\n",
              "      <td>...</td>\n",
              "      <td>...</td>\n",
              "      <td>...</td>\n",
              "    </tr>\n",
              "    <tr>\n",
              "      <th>564</th>\n",
              "      <td>911320502</td>\n",
              "      <td>B</td>\n",
              "      <td>13.17</td>\n",
              "      <td>18.22</td>\n",
              "      <td>84.28</td>\n",
              "      <td>537.3</td>\n",
              "      <td>0.07466</td>\n",
              "      <td>0.05994</td>\n",
              "      <td>0.04859</td>\n",
              "      <td>0.02870</td>\n",
              "      <td>0.1454</td>\n",
              "      <td>0.05549</td>\n",
              "      <td>0.2023</td>\n",
              "      <td>0.6850</td>\n",
              "      <td>1.236</td>\n",
              "      <td>16.89</td>\n",
              "      <td>0.005969</td>\n",
              "      <td>0.014930</td>\n",
              "      <td>0.01564</td>\n",
              "      <td>0.008463</td>\n",
              "      <td>0.01093</td>\n",
              "      <td>0.001672</td>\n",
              "      <td>14.90</td>\n",
              "      <td>23.89</td>\n",
              "      <td>95.10</td>\n",
              "      <td>687.6</td>\n",
              "      <td>0.1282</td>\n",
              "      <td>0.1965</td>\n",
              "      <td>0.18760</td>\n",
              "      <td>0.10450</td>\n",
              "      <td>0.2235</td>\n",
              "      <td>0.06925</td>\n",
              "    </tr>\n",
              "    <tr>\n",
              "      <th>565</th>\n",
              "      <td>898677</td>\n",
              "      <td>B</td>\n",
              "      <td>10.26</td>\n",
              "      <td>14.71</td>\n",
              "      <td>66.20</td>\n",
              "      <td>321.6</td>\n",
              "      <td>0.09882</td>\n",
              "      <td>0.09159</td>\n",
              "      <td>0.03581</td>\n",
              "      <td>0.02037</td>\n",
              "      <td>0.1633</td>\n",
              "      <td>0.07005</td>\n",
              "      <td>0.3380</td>\n",
              "      <td>2.5090</td>\n",
              "      <td>2.394</td>\n",
              "      <td>19.33</td>\n",
              "      <td>0.017360</td>\n",
              "      <td>0.046710</td>\n",
              "      <td>0.02611</td>\n",
              "      <td>0.012960</td>\n",
              "      <td>0.03675</td>\n",
              "      <td>0.006758</td>\n",
              "      <td>10.88</td>\n",
              "      <td>19.48</td>\n",
              "      <td>70.89</td>\n",
              "      <td>357.1</td>\n",
              "      <td>0.1360</td>\n",
              "      <td>0.1636</td>\n",
              "      <td>0.07162</td>\n",
              "      <td>0.04074</td>\n",
              "      <td>0.2434</td>\n",
              "      <td>0.08488</td>\n",
              "    </tr>\n",
              "    <tr>\n",
              "      <th>566</th>\n",
              "      <td>873885</td>\n",
              "      <td>M</td>\n",
              "      <td>15.28</td>\n",
              "      <td>22.41</td>\n",
              "      <td>98.92</td>\n",
              "      <td>710.6</td>\n",
              "      <td>0.09057</td>\n",
              "      <td>0.10520</td>\n",
              "      <td>0.05375</td>\n",
              "      <td>0.03263</td>\n",
              "      <td>0.1727</td>\n",
              "      <td>0.06317</td>\n",
              "      <td>0.2054</td>\n",
              "      <td>0.4956</td>\n",
              "      <td>1.344</td>\n",
              "      <td>19.53</td>\n",
              "      <td>0.003290</td>\n",
              "      <td>0.013950</td>\n",
              "      <td>0.01774</td>\n",
              "      <td>0.006009</td>\n",
              "      <td>0.01172</td>\n",
              "      <td>0.002575</td>\n",
              "      <td>17.80</td>\n",
              "      <td>28.03</td>\n",
              "      <td>113.80</td>\n",
              "      <td>973.1</td>\n",
              "      <td>0.1301</td>\n",
              "      <td>0.3299</td>\n",
              "      <td>0.36300</td>\n",
              "      <td>0.12260</td>\n",
              "      <td>0.3175</td>\n",
              "      <td>0.09772</td>\n",
              "    </tr>\n",
              "    <tr>\n",
              "      <th>567</th>\n",
              "      <td>911201</td>\n",
              "      <td>B</td>\n",
              "      <td>14.53</td>\n",
              "      <td>13.98</td>\n",
              "      <td>93.86</td>\n",
              "      <td>644.2</td>\n",
              "      <td>0.10990</td>\n",
              "      <td>0.09242</td>\n",
              "      <td>0.06895</td>\n",
              "      <td>0.06495</td>\n",
              "      <td>0.1650</td>\n",
              "      <td>0.06121</td>\n",
              "      <td>0.3060</td>\n",
              "      <td>0.7213</td>\n",
              "      <td>2.143</td>\n",
              "      <td>25.70</td>\n",
              "      <td>0.006133</td>\n",
              "      <td>0.012510</td>\n",
              "      <td>0.01615</td>\n",
              "      <td>0.011360</td>\n",
              "      <td>0.02207</td>\n",
              "      <td>0.003563</td>\n",
              "      <td>15.80</td>\n",
              "      <td>16.93</td>\n",
              "      <td>103.10</td>\n",
              "      <td>749.9</td>\n",
              "      <td>0.1347</td>\n",
              "      <td>0.1478</td>\n",
              "      <td>0.13730</td>\n",
              "      <td>0.10690</td>\n",
              "      <td>0.2606</td>\n",
              "      <td>0.07810</td>\n",
              "    </tr>\n",
              "    <tr>\n",
              "      <th>568</th>\n",
              "      <td>9012795</td>\n",
              "      <td>M</td>\n",
              "      <td>21.37</td>\n",
              "      <td>15.10</td>\n",
              "      <td>141.30</td>\n",
              "      <td>1386.0</td>\n",
              "      <td>0.10010</td>\n",
              "      <td>0.15150</td>\n",
              "      <td>0.19320</td>\n",
              "      <td>0.12550</td>\n",
              "      <td>0.1973</td>\n",
              "      <td>0.06183</td>\n",
              "      <td>0.3414</td>\n",
              "      <td>1.3090</td>\n",
              "      <td>2.407</td>\n",
              "      <td>39.06</td>\n",
              "      <td>0.004426</td>\n",
              "      <td>0.026750</td>\n",
              "      <td>0.03437</td>\n",
              "      <td>0.013430</td>\n",
              "      <td>0.01675</td>\n",
              "      <td>0.004367</td>\n",
              "      <td>22.69</td>\n",
              "      <td>21.84</td>\n",
              "      <td>152.10</td>\n",
              "      <td>1535.0</td>\n",
              "      <td>0.1192</td>\n",
              "      <td>0.2840</td>\n",
              "      <td>0.40240</td>\n",
              "      <td>0.19660</td>\n",
              "      <td>0.2730</td>\n",
              "      <td>0.08666</td>\n",
              "    </tr>\n",
              "  </tbody>\n",
              "</table>\n",
              "<p>569 rows × 32 columns</p>\n",
              "</div>"
            ],
            "text/plain": [
              "            id diagnosis  ...  symmetry_worst  dimension_worst\n",
              "0     87139402         B  ...          0.2827          0.06771\n",
              "1      8910251         B  ...          0.2940          0.07587\n",
              "2       905520         B  ...          0.2998          0.07881\n",
              "3       868871         B  ...          0.2102          0.06784\n",
              "4      9012568         B  ...          0.2487          0.06766\n",
              "..         ...       ...  ...             ...              ...\n",
              "564  911320502         B  ...          0.2235          0.06925\n",
              "565     898677         B  ...          0.2434          0.08488\n",
              "566     873885         M  ...          0.3175          0.09772\n",
              "567     911201         B  ...          0.2606          0.07810\n",
              "568    9012795         M  ...          0.2730          0.08666\n",
              "\n",
              "[569 rows x 32 columns]"
            ]
          },
          "metadata": {
            "tags": []
          },
          "execution_count": 41
        }
      ]
    },
    {
      "cell_type": "code",
      "metadata": {
        "colab": {
          "base_uri": "https://localhost:8080/"
        },
        "id": "y2KYFE47jr3c",
        "outputId": "4e409600-0b4b-45f3-bc1f-ab179f584a64"
      },
      "source": [
        "'''\r\n",
        "[Step 2] 데이터 탐색\r\n",
        "'''\r\n",
        "\r\n",
        "# 데이터 살펴보기\r\n",
        "print(df.head())   \r\n",
        "print('\\n')\r\n",
        "\r\n",
        "# 데이터 자료형 확인\r\n",
        "print(df.info())  \r\n",
        "print('\\n')\r\n",
        "\r\n",
        "# 데이터 통계 요약정보 확인\r\n",
        "print(df.describe())\r\n",
        "print('\\n')"
      ],
      "execution_count": 42,
      "outputs": [
        {
          "output_type": "stream",
          "text": [
            "         id diagnosis  ...  symmetry_worst  dimension_worst\n",
            "0  87139402         B  ...          0.2827          0.06771\n",
            "1   8910251         B  ...          0.2940          0.07587\n",
            "2    905520         B  ...          0.2998          0.07881\n",
            "3    868871         B  ...          0.2102          0.06784\n",
            "4   9012568         B  ...          0.2487          0.06766\n",
            "\n",
            "[5 rows x 32 columns]\n",
            "\n",
            "\n",
            "<class 'pandas.core.frame.DataFrame'>\n",
            "RangeIndex: 569 entries, 0 to 568\n",
            "Data columns (total 32 columns):\n",
            " #   Column             Non-Null Count  Dtype  \n",
            "---  ------             --------------  -----  \n",
            " 0   id                 569 non-null    int64  \n",
            " 1   diagnosis          569 non-null    object \n",
            " 2   radius_mean        569 non-null    float64\n",
            " 3   texture_mean       569 non-null    float64\n",
            " 4   perimeter_mean     569 non-null    float64\n",
            " 5   area_mean          569 non-null    float64\n",
            " 6   smoothness_mean    569 non-null    float64\n",
            " 7   compactness_mean   569 non-null    float64\n",
            " 8   concavity_mean     569 non-null    float64\n",
            " 9   points_mean        569 non-null    float64\n",
            " 10  symmetry_mean      569 non-null    float64\n",
            " 11  dimension_mean     569 non-null    float64\n",
            " 12  radius_se          569 non-null    float64\n",
            " 13  texture_se         569 non-null    float64\n",
            " 14  perimeter_se       569 non-null    float64\n",
            " 15  area_se            569 non-null    float64\n",
            " 16  smoothness_se      569 non-null    float64\n",
            " 17  compactness_se     569 non-null    float64\n",
            " 18  concavity_se       569 non-null    float64\n",
            " 19  points_se          569 non-null    float64\n",
            " 20  symmetry_se        569 non-null    float64\n",
            " 21  dimension_se       569 non-null    float64\n",
            " 22  radius_worst       569 non-null    float64\n",
            " 23  texture_worst      569 non-null    float64\n",
            " 24  perimeter_worst    569 non-null    float64\n",
            " 25  area_worst         569 non-null    float64\n",
            " 26  smoothness_worst   569 non-null    float64\n",
            " 27  compactness_worst  569 non-null    float64\n",
            " 28  concavity_worst    569 non-null    float64\n",
            " 29  points_worst       569 non-null    float64\n",
            " 30  symmetry_worst     569 non-null    float64\n",
            " 31  dimension_worst    569 non-null    float64\n",
            "dtypes: float64(30), int64(1), object(1)\n",
            "memory usage: 142.4+ KB\n",
            "None\n",
            "\n",
            "\n",
            "                 id  radius_mean  ...  symmetry_worst  dimension_worst\n",
            "count  5.690000e+02   569.000000  ...      569.000000       569.000000\n",
            "mean   3.037183e+07    14.127292  ...        0.290076         0.083946\n",
            "std    1.250206e+08     3.524049  ...        0.061867         0.018061\n",
            "min    8.670000e+03     6.981000  ...        0.156500         0.055040\n",
            "25%    8.692180e+05    11.700000  ...        0.250400         0.071460\n",
            "50%    9.060240e+05    13.370000  ...        0.282200         0.080040\n",
            "75%    8.813129e+06    15.780000  ...        0.317900         0.092080\n",
            "max    9.113205e+08    28.110000  ...        0.663800         0.207500\n",
            "\n",
            "[8 rows x 31 columns]\n",
            "\n",
            "\n"
          ],
          "name": "stdout"
        }
      ]
    },
    {
      "cell_type": "code",
      "metadata": {
        "colab": {
          "base_uri": "https://localhost:8080/"
        },
        "id": "GAxEkfcAj2ic",
        "outputId": "92d68d4d-b857-46fe-f2c4-c3a5ff264c3a"
      },
      "source": [
        "'''\r\n",
        "[Step 3] 데이터 전처리\r\n",
        "'''\r\n",
        "\r\n",
        "# 분석에 사용할 속성을 선택 (id, diagnosis 제외)\r\n",
        "X = df.iloc[:, 2:]\r\n",
        "print(X[:5])\r\n",
        "print('\\n')\r\n",
        "\r\n",
        "# 설명 변수 데이터를 표준화\r\n",
        "from sklearn import preprocessing\r\n",
        "X = preprocessing.StandardScaler().fit(X).transform(X)\r\n",
        "\r\n",
        "print(X[:5])\r\n",
        "print('\\n')"
      ],
      "execution_count": 43,
      "outputs": [
        {
          "output_type": "stream",
          "text": [
            "   radius_mean  texture_mean  ...  symmetry_worst  dimension_worst\n",
            "0        12.32         12.39  ...          0.2827          0.06771\n",
            "1        10.60         18.95  ...          0.2940          0.07587\n",
            "2        11.04         16.83  ...          0.2998          0.07881\n",
            "3        11.28         13.39  ...          0.2102          0.06784\n",
            "4        15.19         13.21  ...          0.2487          0.06766\n",
            "\n",
            "[5 rows x 30 columns]\n",
            "\n",
            "\n",
            "[[-0.51329651 -1.60559452 -0.54037561 -0.54262379  0.45828543 -0.65441324\n",
            "  -0.61430615 -0.30744224  0.53808104 -0.46038249 -0.61057748 -1.00016329\n",
            "  -0.59208593 -0.5039949   0.33468727 -0.76446488 -0.49946799  0.0995745\n",
            "  -0.15768039 -0.58511846 -0.57345083 -1.63449948 -0.60439078 -0.5827184\n",
            "   0.26877565 -0.81212805 -0.70997823 -0.31513306 -0.11932056 -0.89972108]\n",
            " [-1.00180093 -0.07903849 -0.93456583 -0.87737467  0.03698602  0.19631867\n",
            "  -0.31298684 -0.58034257  0.40299614  0.29945329  0.16359807 -0.03602094\n",
            "   0.27916795 -0.29123837  0.14301283  0.57744296  0.05458586  0.30071448\n",
            "   1.75535997 -0.18038953 -0.90892453 -0.4457398  -0.86322972 -0.80122695\n",
            "  -0.48520169 -0.01758954 -0.38662514 -0.53820271  0.06348865 -0.44752801]\n",
            " [-0.87683468 -0.57237672 -0.8670139  -0.80115272  0.8069961  -0.49844256\n",
            "  -0.73244842 -0.62212882 -0.35640009  0.08539507 -0.75241943  0.3087044\n",
            "  -0.75445597 -0.58958155 -0.62768509 -0.9011148  -0.70736252 -0.69963252\n",
            "  -0.4071021  -0.60403103 -0.79917079  0.12421347 -0.81408308 -0.71930822\n",
            "   0.19863822 -0.67472187 -0.79393489 -0.61357437  0.15731992 -0.28460551]\n",
            " [-0.80867127 -1.37288781 -0.78133828 -0.76816113  1.42613545  0.17547205\n",
            "  -0.53294993 -0.02474019 -0.14829632 -0.29452281 -0.24099437  0.22887326\n",
            "  -0.50248539 -0.30817969  1.40973085  0.53105464 -0.33235659  1.27397248\n",
            "  -0.57419044 -0.13348636 -0.90064123 -1.61332979 -0.91535493 -0.78505416\n",
            "   0.18987104 -0.45843437 -0.88993334 -0.43390052 -1.2922115  -0.89251703]\n",
            " [ 0.30182423 -1.41477502  0.23400015  0.16186043 -1.19061786 -0.66332043\n",
            "  -0.68888267 -0.57647347 -0.33084349 -1.04301776 -0.8188289  -1.45937373\n",
            "  -0.75643609 -0.49761441 -0.67635373 -0.59400178 -0.54323526 -0.42841796\n",
            "  -0.49306784 -0.76705736 -0.014328   -1.61984354 -0.08224503 -0.10808197\n",
            "  -0.86657394 -0.51250624 -0.65240795 -0.49983168 -0.66936597 -0.90249187]]\n",
            "\n",
            "\n"
          ],
          "name": "stdout"
        }
      ]
    },
    {
      "cell_type": "code",
      "metadata": {
        "id": "BjFr6gSij5p7"
      },
      "source": [
        "'''\r\n",
        "[Step 4] k-means 군집 모형 - sklearn 사용\r\n",
        "'''\r\n",
        "\r\n",
        "# sklearn 라이브러리에서 cluster 군집 모형 가져오기\r\n",
        "from sklearn import cluster\r\n",
        "\r\n",
        "# 모형 객체 생성 \r\n",
        "kmeans = cluster.KMeans(init='k-means++', n_clusters=2, n_init=10)"
      ],
      "execution_count": 44,
      "outputs": []
    },
    {
      "cell_type": "code",
      "metadata": {
        "colab": {
          "base_uri": "https://localhost:8080/"
        },
        "id": "-LZHJuQWj8l_",
        "outputId": "72f5b7d2-955c-4e52-8808-fe757e026500"
      },
      "source": [
        "# 모형 학습\r\n",
        "kmeans.fit(X)"
      ],
      "execution_count": 45,
      "outputs": [
        {
          "output_type": "execute_result",
          "data": {
            "text/plain": [
              "KMeans(algorithm='auto', copy_x=True, init='k-means++', max_iter=300,\n",
              "       n_clusters=2, n_init=10, n_jobs=None, precompute_distances='auto',\n",
              "       random_state=None, tol=0.0001, verbose=0)"
            ]
          },
          "metadata": {
            "tags": []
          },
          "execution_count": 45
        }
      ]
    },
    {
      "cell_type": "code",
      "metadata": {
        "colab": {
          "base_uri": "https://localhost:8080/"
        },
        "id": "PKT7Jc3bj-xk",
        "outputId": "95b3556f-aea3-4de8-9b5d-c3d7d684b999"
      },
      "source": [
        "# 예측 (군집)  (0, 1 은 반대로 출력될 수 있음. 자리마다 다름)\r\n",
        "cluster_label = kmeans.labels_   \r\n",
        "print(cluster_label)\r\n",
        "print('\\n')"
      ],
      "execution_count": 46,
      "outputs": [
        {
          "output_type": "stream",
          "text": [
            "[0 0 0 0 0 0 0 1 0 0 1 0 0 0 1 0 0 0 1 0 0 0 0 1 0 0 0 1 0 0 0 0 1 0 0 0 1\n",
            " 0 1 1 1 1 1 0 0 1 0 1 0 0 1 0 0 0 1 1 0 0 1 1 1 1 1 0 1 0 0 0 0 0 0 0 1 0\n",
            " 0 0 0 0 0 1 0 0 0 1 0 0 0 0 1 0 0 0 0 0 1 1 0 0 0 1 0 0 0 0 0 0 0 0 0 0 0\n",
            " 0 1 1 0 1 1 1 1 0 0 1 0 1 0 0 1 0 1 0 1 0 0 1 0 1 0 0 1 0 1 1 1 1 1 0 1 0\n",
            " 0 0 0 0 0 0 1 0 0 0 0 0 0 0 0 0 1 1 0 1 0 0 1 0 1 0 0 0 1 0 1 0 0 1 0 0 0\n",
            " 0 1 1 1 0 1 0 0 1 0 1 1 0 0 0 0 0 0 0 0 1 0 0 0 1 0 1 1 0 0 0 0 0 1 1 0 0\n",
            " 1 0 0 0 0 1 1 0 0 0 1 1 0 0 1 0 0 0 0 0 0 0 1 0 0 0 0 0 0 1 0 1 0 0 0 0 0\n",
            " 0 0 0 1 0 1 1 0 0 0 1 0 1 0 0 1 1 0 1 0 0 1 0 0 0 1 0 1 1 1 0 0 0 1 0 1 1\n",
            " 1 1 0 1 1 0 0 1 1 1 1 0 0 0 1 1 0 0 0 0 1 1 0 0 1 1 1 0 0 1 0 1 0 1 0 0 0\n",
            " 0 1 0 0 1 1 0 0 1 1 1 1 0 0 0 0 0 0 1 0 0 1 0 0 0 1 0 1 0 0 0 0 0 1 0 0 1\n",
            " 0 0 0 0 0 0 0 0 0 0 0 0 0 1 0 0 1 0 0 0 1 0 0 1 0 0 0 0 1 0 0 0 1 1 1 1 0\n",
            " 0 1 0 0 0 0 0 0 1 0 0 1 1 1 0 0 1 0 1 0 0 0 1 0 1 0 1 0 0 0 0 0 0 0 0 1 0\n",
            " 1 0 0 0 0 1 0 1 1 0 0 0 0 1 0 0 1 1 0 0 1 0 0 0 0 0 0 0 0 1 0 1 0 1 0 1 0\n",
            " 0 1 0 0 1 0 1 0 1 1 1 1 0 0 0 0 0 1 1 0 0 1 1 0 0 0 0 1 1 0 0 1 0 1 1 1 1\n",
            " 1 0 0 0 0 0 0 0 0 0 0 0 0 0 0 1 1 0 0 0 0 0 0 0 0 1 1 0 0 0 0 0 0 0 1 0 0\n",
            " 1 0 1 0 0 1 0 0 0 0 0 0 0 1]\n",
            "\n",
            "\n"
          ],
          "name": "stdout"
        }
      ]
    },
    {
      "cell_type": "code",
      "metadata": {
        "colab": {
          "base_uri": "https://localhost:8080/"
        },
        "id": "FqJ2I64DkBjc",
        "outputId": "a8e0e56a-09a8-4193-9ade-6d53386a3e98"
      },
      "source": [
        "# 예측 결과를 데이터프레임에 추가\r\n",
        "df['Cluster'] = cluster_label\r\n",
        "print(df.head())   \r\n",
        "print('\\n')"
      ],
      "execution_count": 47,
      "outputs": [
        {
          "output_type": "stream",
          "text": [
            "         id diagnosis  radius_mean  ...  symmetry_worst  dimension_worst  Cluster\n",
            "0  87139402         B        12.32  ...          0.2827          0.06771        0\n",
            "1   8910251         B        10.60  ...          0.2940          0.07587        0\n",
            "2    905520         B        11.04  ...          0.2998          0.07881        0\n",
            "3    868871         B        11.28  ...          0.2102          0.06784        0\n",
            "4   9012568         B        15.19  ...          0.2487          0.06766        0\n",
            "\n",
            "[5 rows x 33 columns]\n",
            "\n",
            "\n"
          ],
          "name": "stdout"
        }
      ]
    },
    {
      "cell_type": "code",
      "metadata": {
        "colab": {
          "base_uri": "https://localhost:8080/",
          "height": 624
        },
        "id": "YBgkX8YskC6A",
        "outputId": "d38e0d9a-294f-4a6a-ec60-5a8dd4652e0e"
      },
      "source": [
        "# 그래프로 표현 - 시각화\r\n",
        "df.plot(kind='scatter', x='radius_mean', y='texture_mean', c='Cluster', cmap='Set1', \r\n",
        "        colorbar=False, figsize=(10, 10))"
      ],
      "execution_count": 48,
      "outputs": [
        {
          "output_type": "execute_result",
          "data": {
            "text/plain": [
              "<matplotlib.axes._subplots.AxesSubplot at 0x7f072ccb3c90>"
            ]
          },
          "metadata": {
            "tags": []
          },
          "execution_count": 48
        },
        {
          "output_type": "display_data",
          "data": {
            "image/png": "[encoded data removed]",
            "text/plain": [
              "<Figure size 720x720 with 1 Axes>"
            ]
          },
          "metadata": {
            "tags": [],
            "needs_background": "light"
          }
        }
      ]
    },
    {
      "cell_type": "code",
      "metadata": {
        "colab": {
          "base_uri": "https://localhost:8080/",
          "height": 584
        },
        "id": "UQoq0kfykEeh",
        "outputId": "1840c5fc-1964-4d57-d80f-95e60afe39b9"
      },
      "source": [
        "df.plot(kind='scatter', x='radius_mean', y='texture_mean', c='Cluster', cmap='Set1', \r\n",
        "        colorbar=True, figsize=(10, 10))\r\n",
        "plt.show()\r\n",
        "plt.close()"
      ],
      "execution_count": 49,
      "outputs": [
        {
          "output_type": "display_data",
          "data": {
            "image/png": "[encoded data removed]",
            "text/plain": [
              "<Figure size 720x720 with 2 Axes>"
            ]
          },
          "metadata": {
            "tags": [],
            "needs_background": "light"
          }
        }
      ]
    },
    {
      "cell_type": "code",
      "metadata": {
        "colab": {
          "base_uri": "https://localhost:8080/",
          "height": 422
        },
        "id": "-IVuTdj_kJCK",
        "outputId": "8d34b2f4-2824-4de7-9441-cac73a601497"
      },
      "source": [
        "## 양성 종양이면 1 이고 약성 종양이면 0을 출력하는 func 함수로 result 변수 생성\r\n",
        "## 얼마나 잘 맞췄는지 정확도를 보기 위해서\r\n",
        "def func(n):\r\n",
        "    if n=='B':\r\n",
        "        return 1\r\n",
        "    else:\r\n",
        "        return 0\r\n",
        "\r\n",
        "df['result'] = df['diagnosis'].apply(func)\r\n",
        "df"
      ],
      "execution_count": 50,
      "outputs": [
        {
          "output_type": "execute_result",
          "data": {
            "text/html": [
              "<div>\n",
              "<style scoped>\n",
              "    .dataframe tbody tr th:only-of-type {\n",
              "        vertical-align: middle;\n",
              "    }\n",
              "\n",
              "    .dataframe tbody tr th {\n",
              "        vertical-align: top;\n",
              "    }\n",
              "\n",
              "    .dataframe thead th {\n",
              "        text-align: right;\n",
              "    }\n",
              "</style>\n",
              "<table border=\"1\" class=\"dataframe\">\n",
              "  <thead>\n",
              "    <tr style=\"text-align: right;\">\n",
              "      <th></th>\n",
              "      <th>id</th>\n",
              "      <th>diagnosis</th>\n",
              "      <th>radius_mean</th>\n",
              "      <th>texture_mean</th>\n",
              "      <th>perimeter_mean</th>\n",
              "      <th>area_mean</th>\n",
              "      <th>smoothness_mean</th>\n",
              "      <th>compactness_mean</th>\n",
              "      <th>concavity_mean</th>\n",
              "      <th>points_mean</th>\n",
              "      <th>symmetry_mean</th>\n",
              "      <th>dimension_mean</th>\n",
              "      <th>radius_se</th>\n",
              "      <th>texture_se</th>\n",
              "      <th>perimeter_se</th>\n",
              "      <th>area_se</th>\n",
              "      <th>smoothness_se</th>\n",
              "      <th>compactness_se</th>\n",
              "      <th>concavity_se</th>\n",
              "      <th>points_se</th>\n",
              "      <th>symmetry_se</th>\n",
              "      <th>dimension_se</th>\n",
              "      <th>radius_worst</th>\n",
              "      <th>texture_worst</th>\n",
              "      <th>perimeter_worst</th>\n",
              "      <th>area_worst</th>\n",
              "      <th>smoothness_worst</th>\n",
              "      <th>compactness_worst</th>\n",
              "      <th>concavity_worst</th>\n",
              "      <th>points_worst</th>\n",
              "      <th>symmetry_worst</th>\n",
              "      <th>dimension_worst</th>\n",
              "      <th>Cluster</th>\n",
              "      <th>result</th>\n",
              "    </tr>\n",
              "  </thead>\n",
              "  <tbody>\n",
              "    <tr>\n",
              "      <th>0</th>\n",
              "      <td>87139402</td>\n",
              "      <td>B</td>\n",
              "      <td>12.32</td>\n",
              "      <td>12.39</td>\n",
              "      <td>78.85</td>\n",
              "      <td>464.1</td>\n",
              "      <td>0.10280</td>\n",
              "      <td>0.06981</td>\n",
              "      <td>0.03987</td>\n",
              "      <td>0.03700</td>\n",
              "      <td>0.1959</td>\n",
              "      <td>0.05955</td>\n",
              "      <td>0.2360</td>\n",
              "      <td>0.6656</td>\n",
              "      <td>1.670</td>\n",
              "      <td>17.43</td>\n",
              "      <td>0.008045</td>\n",
              "      <td>0.011800</td>\n",
              "      <td>0.01683</td>\n",
              "      <td>0.012410</td>\n",
              "      <td>0.01924</td>\n",
              "      <td>0.002248</td>\n",
              "      <td>13.50</td>\n",
              "      <td>15.64</td>\n",
              "      <td>86.97</td>\n",
              "      <td>549.1</td>\n",
              "      <td>0.1385</td>\n",
              "      <td>0.1266</td>\n",
              "      <td>0.12420</td>\n",
              "      <td>0.09391</td>\n",
              "      <td>0.2827</td>\n",
              "      <td>0.06771</td>\n",
              "      <td>0</td>\n",
              "      <td>1</td>\n",
              "    </tr>\n",
              "    <tr>\n",
              "      <th>1</th>\n",
              "      <td>8910251</td>\n",
              "      <td>B</td>\n",
              "      <td>10.60</td>\n",
              "      <td>18.95</td>\n",
              "      <td>69.28</td>\n",
              "      <td>346.4</td>\n",
              "      <td>0.09688</td>\n",
              "      <td>0.11470</td>\n",
              "      <td>0.06387</td>\n",
              "      <td>0.02642</td>\n",
              "      <td>0.1922</td>\n",
              "      <td>0.06491</td>\n",
              "      <td>0.4505</td>\n",
              "      <td>1.1970</td>\n",
              "      <td>3.430</td>\n",
              "      <td>27.10</td>\n",
              "      <td>0.007470</td>\n",
              "      <td>0.035810</td>\n",
              "      <td>0.03354</td>\n",
              "      <td>0.013650</td>\n",
              "      <td>0.03504</td>\n",
              "      <td>0.003318</td>\n",
              "      <td>11.88</td>\n",
              "      <td>22.94</td>\n",
              "      <td>78.28</td>\n",
              "      <td>424.8</td>\n",
              "      <td>0.1213</td>\n",
              "      <td>0.2515</td>\n",
              "      <td>0.19160</td>\n",
              "      <td>0.07926</td>\n",
              "      <td>0.2940</td>\n",
              "      <td>0.07587</td>\n",
              "      <td>0</td>\n",
              "      <td>1</td>\n",
              "    </tr>\n",
              "    <tr>\n",
              "      <th>2</th>\n",
              "      <td>905520</td>\n",
              "      <td>B</td>\n",
              "      <td>11.04</td>\n",
              "      <td>16.83</td>\n",
              "      <td>70.92</td>\n",
              "      <td>373.2</td>\n",
              "      <td>0.10770</td>\n",
              "      <td>0.07804</td>\n",
              "      <td>0.03046</td>\n",
              "      <td>0.02480</td>\n",
              "      <td>0.1714</td>\n",
              "      <td>0.06340</td>\n",
              "      <td>0.1967</td>\n",
              "      <td>1.3870</td>\n",
              "      <td>1.342</td>\n",
              "      <td>13.54</td>\n",
              "      <td>0.005158</td>\n",
              "      <td>0.009355</td>\n",
              "      <td>0.01056</td>\n",
              "      <td>0.007483</td>\n",
              "      <td>0.01718</td>\n",
              "      <td>0.002198</td>\n",
              "      <td>12.41</td>\n",
              "      <td>26.44</td>\n",
              "      <td>79.93</td>\n",
              "      <td>471.4</td>\n",
              "      <td>0.1369</td>\n",
              "      <td>0.1482</td>\n",
              "      <td>0.10670</td>\n",
              "      <td>0.07431</td>\n",
              "      <td>0.2998</td>\n",
              "      <td>0.07881</td>\n",
              "      <td>0</td>\n",
              "      <td>1</td>\n",
              "    </tr>\n",
              "    <tr>\n",
              "      <th>3</th>\n",
              "      <td>868871</td>\n",
              "      <td>B</td>\n",
              "      <td>11.28</td>\n",
              "      <td>13.39</td>\n",
              "      <td>73.00</td>\n",
              "      <td>384.8</td>\n",
              "      <td>0.11640</td>\n",
              "      <td>0.11360</td>\n",
              "      <td>0.04635</td>\n",
              "      <td>0.04796</td>\n",
              "      <td>0.1771</td>\n",
              "      <td>0.06072</td>\n",
              "      <td>0.3384</td>\n",
              "      <td>1.3430</td>\n",
              "      <td>1.851</td>\n",
              "      <td>26.33</td>\n",
              "      <td>0.011270</td>\n",
              "      <td>0.034980</td>\n",
              "      <td>0.02187</td>\n",
              "      <td>0.019650</td>\n",
              "      <td>0.01580</td>\n",
              "      <td>0.003442</td>\n",
              "      <td>11.92</td>\n",
              "      <td>15.77</td>\n",
              "      <td>76.53</td>\n",
              "      <td>434.0</td>\n",
              "      <td>0.1367</td>\n",
              "      <td>0.1822</td>\n",
              "      <td>0.08669</td>\n",
              "      <td>0.08611</td>\n",
              "      <td>0.2102</td>\n",
              "      <td>0.06784</td>\n",
              "      <td>0</td>\n",
              "      <td>1</td>\n",
              "    </tr>\n",
              "    <tr>\n",
              "      <th>4</th>\n",
              "      <td>9012568</td>\n",
              "      <td>B</td>\n",
              "      <td>15.19</td>\n",
              "      <td>13.21</td>\n",
              "      <td>97.65</td>\n",
              "      <td>711.8</td>\n",
              "      <td>0.07963</td>\n",
              "      <td>0.06934</td>\n",
              "      <td>0.03393</td>\n",
              "      <td>0.02657</td>\n",
              "      <td>0.1721</td>\n",
              "      <td>0.05544</td>\n",
              "      <td>0.1783</td>\n",
              "      <td>0.4125</td>\n",
              "      <td>1.338</td>\n",
              "      <td>17.72</td>\n",
              "      <td>0.005012</td>\n",
              "      <td>0.014850</td>\n",
              "      <td>0.01551</td>\n",
              "      <td>0.009155</td>\n",
              "      <td>0.01647</td>\n",
              "      <td>0.001767</td>\n",
              "      <td>16.20</td>\n",
              "      <td>15.73</td>\n",
              "      <td>104.50</td>\n",
              "      <td>819.1</td>\n",
              "      <td>0.1126</td>\n",
              "      <td>0.1737</td>\n",
              "      <td>0.13620</td>\n",
              "      <td>0.08178</td>\n",
              "      <td>0.2487</td>\n",
              "      <td>0.06766</td>\n",
              "      <td>0</td>\n",
              "      <td>1</td>\n",
              "    </tr>\n",
              "    <tr>\n",
              "      <th>...</th>\n",
              "      <td>...</td>\n",
              "      <td>...</td>\n",
              "      <td>...</td>\n",
              "      <td>...</td>\n",
              "      <td>...</td>\n",
              "      <td>...</td>\n",
              "      <td>...</td>\n",
              "      <td>...</td>\n",
              "      <td>...</td>\n",
              "      <td>...</td>\n",
              "      <td>...</td>\n",
              "      <td>...</td>\n",
              "      <td>...</td>\n",
              "      <td>...</td>\n",
              "      <td>...</td>\n",
              "      <td>...</td>\n",
              "      <td>...</td>\n",
              "      <td>...</td>\n",
              "      <td>...</td>\n",
              "      <td>...</td>\n",
              "      <td>...</td>\n",
              "      <td>...</td>\n",
              "      <td>...</td>\n",
              "      <td>...</td>\n",
              "      <td>...</td>\n",
              "      <td>...</td>\n",
              "      <td>...</td>\n",
              "      <td>...</td>\n",
              "      <td>...</td>\n",
              "      <td>...</td>\n",
              "      <td>...</td>\n",
              "      <td>...</td>\n",
              "      <td>...</td>\n",
              "      <td>...</td>\n",
              "    </tr>\n",
              "    <tr>\n",
              "      <th>564</th>\n",
              "      <td>911320502</td>\n",
              "      <td>B</td>\n",
              "      <td>13.17</td>\n",
              "      <td>18.22</td>\n",
              "      <td>84.28</td>\n",
              "      <td>537.3</td>\n",
              "      <td>0.07466</td>\n",
              "      <td>0.05994</td>\n",
              "      <td>0.04859</td>\n",
              "      <td>0.02870</td>\n",
              "      <td>0.1454</td>\n",
              "      <td>0.05549</td>\n",
              "      <td>0.2023</td>\n",
              "      <td>0.6850</td>\n",
              "      <td>1.236</td>\n",
              "      <td>16.89</td>\n",
              "      <td>0.005969</td>\n",
              "      <td>0.014930</td>\n",
              "      <td>0.01564</td>\n",
              "      <td>0.008463</td>\n",
              "      <td>0.01093</td>\n",
              "      <td>0.001672</td>\n",
              "      <td>14.90</td>\n",
              "      <td>23.89</td>\n",
              "      <td>95.10</td>\n",
              "      <td>687.6</td>\n",
              "      <td>0.1282</td>\n",
              "      <td>0.1965</td>\n",
              "      <td>0.18760</td>\n",
              "      <td>0.10450</td>\n",
              "      <td>0.2235</td>\n",
              "      <td>0.06925</td>\n",
              "      <td>0</td>\n",
              "      <td>1</td>\n",
              "    </tr>\n",
              "    <tr>\n",
              "      <th>565</th>\n",
              "      <td>898677</td>\n",
              "      <td>B</td>\n",
              "      <td>10.26</td>\n",
              "      <td>14.71</td>\n",
              "      <td>66.20</td>\n",
              "      <td>321.6</td>\n",
              "      <td>0.09882</td>\n",
              "      <td>0.09159</td>\n",
              "      <td>0.03581</td>\n",
              "      <td>0.02037</td>\n",
              "      <td>0.1633</td>\n",
              "      <td>0.07005</td>\n",
              "      <td>0.3380</td>\n",
              "      <td>2.5090</td>\n",
              "      <td>2.394</td>\n",
              "      <td>19.33</td>\n",
              "      <td>0.017360</td>\n",
              "      <td>0.046710</td>\n",
              "      <td>0.02611</td>\n",
              "      <td>0.012960</td>\n",
              "      <td>0.03675</td>\n",
              "      <td>0.006758</td>\n",
              "      <td>10.88</td>\n",
              "      <td>19.48</td>\n",
              "      <td>70.89</td>\n",
              "      <td>357.1</td>\n",
              "      <td>0.1360</td>\n",
              "      <td>0.1636</td>\n",
              "      <td>0.07162</td>\n",
              "      <td>0.04074</td>\n",
              "      <td>0.2434</td>\n",
              "      <td>0.08488</td>\n",
              "      <td>0</td>\n",
              "      <td>1</td>\n",
              "    </tr>\n",
              "    <tr>\n",
              "      <th>566</th>\n",
              "      <td>873885</td>\n",
              "      <td>M</td>\n",
              "      <td>15.28</td>\n",
              "      <td>22.41</td>\n",
              "      <td>98.92</td>\n",
              "      <td>710.6</td>\n",
              "      <td>0.09057</td>\n",
              "      <td>0.10520</td>\n",
              "      <td>0.05375</td>\n",
              "      <td>0.03263</td>\n",
              "      <td>0.1727</td>\n",
              "      <td>0.06317</td>\n",
              "      <td>0.2054</td>\n",
              "      <td>0.4956</td>\n",
              "      <td>1.344</td>\n",
              "      <td>19.53</td>\n",
              "      <td>0.003290</td>\n",
              "      <td>0.013950</td>\n",
              "      <td>0.01774</td>\n",
              "      <td>0.006009</td>\n",
              "      <td>0.01172</td>\n",
              "      <td>0.002575</td>\n",
              "      <td>17.80</td>\n",
              "      <td>28.03</td>\n",
              "      <td>113.80</td>\n",
              "      <td>973.1</td>\n",
              "      <td>0.1301</td>\n",
              "      <td>0.3299</td>\n",
              "      <td>0.36300</td>\n",
              "      <td>0.12260</td>\n",
              "      <td>0.3175</td>\n",
              "      <td>0.09772</td>\n",
              "      <td>0</td>\n",
              "      <td>0</td>\n",
              "    </tr>\n",
              "    <tr>\n",
              "      <th>567</th>\n",
              "      <td>911201</td>\n",
              "      <td>B</td>\n",
              "      <td>14.53</td>\n",
              "      <td>13.98</td>\n",
              "      <td>93.86</td>\n",
              "      <td>644.2</td>\n",
              "      <td>0.10990</td>\n",
              "      <td>0.09242</td>\n",
              "      <td>0.06895</td>\n",
              "      <td>0.06495</td>\n",
              "      <td>0.1650</td>\n",
              "      <td>0.06121</td>\n",
              "      <td>0.3060</td>\n",
              "      <td>0.7213</td>\n",
              "      <td>2.143</td>\n",
              "      <td>25.70</td>\n",
              "      <td>0.006133</td>\n",
              "      <td>0.012510</td>\n",
              "      <td>0.01615</td>\n",
              "      <td>0.011360</td>\n",
              "      <td>0.02207</td>\n",
              "      <td>0.003563</td>\n",
              "      <td>15.80</td>\n",
              "      <td>16.93</td>\n",
              "      <td>103.10</td>\n",
              "      <td>749.9</td>\n",
              "      <td>0.1347</td>\n",
              "      <td>0.1478</td>\n",
              "      <td>0.13730</td>\n",
              "      <td>0.10690</td>\n",
              "      <td>0.2606</td>\n",
              "      <td>0.07810</td>\n",
              "      <td>0</td>\n",
              "      <td>1</td>\n",
              "    </tr>\n",
              "    <tr>\n",
              "      <th>568</th>\n",
              "      <td>9012795</td>\n",
              "      <td>M</td>\n",
              "      <td>21.37</td>\n",
              "      <td>15.10</td>\n",
              "      <td>141.30</td>\n",
              "      <td>1386.0</td>\n",
              "      <td>0.10010</td>\n",
              "      <td>0.15150</td>\n",
              "      <td>0.19320</td>\n",
              "      <td>0.12550</td>\n",
              "      <td>0.1973</td>\n",
              "      <td>0.06183</td>\n",
              "      <td>0.3414</td>\n",
              "      <td>1.3090</td>\n",
              "      <td>2.407</td>\n",
              "      <td>39.06</td>\n",
              "      <td>0.004426</td>\n",
              "      <td>0.026750</td>\n",
              "      <td>0.03437</td>\n",
              "      <td>0.013430</td>\n",
              "      <td>0.01675</td>\n",
              "      <td>0.004367</td>\n",
              "      <td>22.69</td>\n",
              "      <td>21.84</td>\n",
              "      <td>152.10</td>\n",
              "      <td>1535.0</td>\n",
              "      <td>0.1192</td>\n",
              "      <td>0.2840</td>\n",
              "      <td>0.40240</td>\n",
              "      <td>0.19660</td>\n",
              "      <td>0.2730</td>\n",
              "      <td>0.08666</td>\n",
              "      <td>1</td>\n",
              "      <td>0</td>\n",
              "    </tr>\n",
              "  </tbody>\n",
              "</table>\n",
              "<p>569 rows × 34 columns</p>\n",
              "</div>"
            ],
            "text/plain": [
              "            id diagnosis  radius_mean  ...  dimension_worst  Cluster  result\n",
              "0     87139402         B        12.32  ...          0.06771        0       1\n",
              "1      8910251         B        10.60  ...          0.07587        0       1\n",
              "2       905520         B        11.04  ...          0.07881        0       1\n",
              "3       868871         B        11.28  ...          0.06784        0       1\n",
              "4      9012568         B        15.19  ...          0.06766        0       1\n",
              "..         ...       ...          ...  ...              ...      ...     ...\n",
              "564  911320502         B        13.17  ...          0.06925        0       1\n",
              "565     898677         B        10.26  ...          0.08488        0       1\n",
              "566     873885         M        15.28  ...          0.09772        0       0\n",
              "567     911201         B        14.53  ...          0.07810        0       1\n",
              "568    9012795         M        21.37  ...          0.08666        1       0\n",
              "\n",
              "[569 rows x 34 columns]"
            ]
          },
          "metadata": {
            "tags": []
          },
          "execution_count": 50
        }
      ]
    },
    {
      "cell_type": "code",
      "metadata": {
        "colab": {
          "base_uri": "https://localhost:8080/"
        },
        "id": "Gd2sMMP3kLY0",
        "outputId": "c5e1d885-cdde-49e4-8329-893560b9d8a3"
      },
      "source": [
        "sum(df.result==df.Cluster)/len(df)  # 정확도"
      ],
      "execution_count": 51,
      "outputs": [
        {
          "output_type": "execute_result",
          "data": {
            "text/plain": [
              "0.08963093145869948"
            ]
          },
          "metadata": {
            "tags": []
          },
          "execution_count": 51
        }
      ]
    },
    {
      "cell_type": "markdown",
      "metadata": {
        "id": "CSNKsllfkUZt"
      },
      "source": [
        ""
      ]
    },
    {
      "cell_type": "markdown",
      "metadata": {
        "id": "r3WFHlC_kUVm"
      },
      "source": [
        ""
      ]
    },
    {
      "cell_type": "markdown",
      "metadata": {
        "id": "uifbjCI8kUQv"
      },
      "source": [
        "문제 52. 아래의 사이트를 참고해서 iris 데이터를 사이킷런의 som 패키지로 군집화하는 실습을 수행하시오  \r\n",
        "\r\n",
        "https://pypi.org/project/sklearn-som/"
      ]
    },
    {
      "cell_type": "code",
      "metadata": {
        "colab": {
          "base_uri": "https://localhost:8080/"
        },
        "id": "B2xNUmOPkkcB",
        "outputId": "38e9790c-fa1e-4fb7-a868-229359ceb72c"
      },
      "source": [
        "pip  install  sklearn-som"
      ],
      "execution_count": 52,
      "outputs": [
        {
          "output_type": "stream",
          "text": [
            "Requirement already satisfied: sklearn-som in /usr/local/lib/python3.7/dist-packages (1.0.0)\n",
            "Requirement already satisfied: numpy in /usr/local/lib/python3.7/dist-packages (from sklearn-som) (1.19.5)\n"
          ],
          "name": "stdout"
        }
      ]
    },
    {
      "cell_type": "code",
      "metadata": {
        "id": "L2BqxgzSkcGJ"
      },
      "source": [
        "from sklearn_som.som import SOM\r\n",
        "from sklearn import datasets\r\n",
        "\r\n",
        "iris = datasets.load_iris()\r\n",
        "iris_data = iris.data[:, :2]"
      ],
      "execution_count": 53,
      "outputs": []
    },
    {
      "cell_type": "code",
      "metadata": {
        "colab": {
          "base_uri": "https://localhost:8080/"
        },
        "id": "gduypa-gkxea",
        "outputId": "97732e48-7dd5-4859-8b71-e5781c681ecf"
      },
      "source": [
        "iris_label = iris.target\r\n",
        "iris_label"
      ],
      "execution_count": 54,
      "outputs": [
        {
          "output_type": "execute_result",
          "data": {
            "text/plain": [
              "array([0, 0, 0, 0, 0, 0, 0, 0, 0, 0, 0, 0, 0, 0, 0, 0, 0, 0, 0, 0, 0, 0,\n",
              "       0, 0, 0, 0, 0, 0, 0, 0, 0, 0, 0, 0, 0, 0, 0, 0, 0, 0, 0, 0, 0, 0,\n",
              "       0, 0, 0, 0, 0, 0, 1, 1, 1, 1, 1, 1, 1, 1, 1, 1, 1, 1, 1, 1, 1, 1,\n",
              "       1, 1, 1, 1, 1, 1, 1, 1, 1, 1, 1, 1, 1, 1, 1, 1, 1, 1, 1, 1, 1, 1,\n",
              "       1, 1, 1, 1, 1, 1, 1, 1, 1, 1, 1, 1, 2, 2, 2, 2, 2, 2, 2, 2, 2, 2,\n",
              "       2, 2, 2, 2, 2, 2, 2, 2, 2, 2, 2, 2, 2, 2, 2, 2, 2, 2, 2, 2, 2, 2,\n",
              "       2, 2, 2, 2, 2, 2, 2, 2, 2, 2, 2, 2, 2, 2, 2, 2, 2, 2])"
            ]
          },
          "metadata": {
            "tags": []
          },
          "execution_count": 54
        }
      ]
    },
    {
      "cell_type": "code",
      "metadata": {
        "id": "J0fC4ICAkg5O"
      },
      "source": [
        "iris_som = SOM(m=3, n=1, dim=2)  # SOM 모델 생성\r\n",
        "# 설명 : dim 이 input 데이터의 shape (iris.data[:, :2])\r\n",
        "# m 이 뉴런의 개수, n 이 층수"
      ],
      "execution_count": 55,
      "outputs": []
    },
    {
      "cell_type": "code",
      "metadata": {
        "id": "CrYT-pb4k_KC"
      },
      "source": [
        "iris_som.fit(iris_data)"
      ],
      "execution_count": 56,
      "outputs": []
    },
    {
      "cell_type": "code",
      "metadata": {
        "colab": {
          "base_uri": "https://localhost:8080/"
        },
        "id": "0d_pzypSlAa0",
        "outputId": "28adfb11-5e67-4647-8a69-5dd13919e706"
      },
      "source": [
        "predictions = iris_som.predict(iris_data)\r\n",
        "predictions"
      ],
      "execution_count": 58,
      "outputs": [
        {
          "output_type": "execute_result",
          "data": {
            "text/plain": [
              "array([0, 0, 0, 0, 0, 0, 0, 0, 0, 0, 0, 0, 0, 0, 0, 0, 0, 0, 0, 0, 0, 0,\n",
              "       0, 0, 0, 0, 0, 0, 0, 0, 0, 0, 0, 0, 0, 0, 0, 0, 0, 0, 0, 0, 0, 0,\n",
              "       0, 0, 0, 0, 0, 0, 2, 2, 2, 1, 2, 1, 2, 0, 2, 0, 1, 1, 1, 1, 1, 2,\n",
              "       1, 1, 2, 1, 1, 1, 2, 1, 2, 2, 2, 2, 1, 1, 1, 1, 1, 1, 0, 1, 2, 2,\n",
              "       1, 1, 1, 1, 1, 0, 1, 1, 1, 2, 0, 1, 2, 1, 2, 2, 2, 2, 0, 2, 2, 2,\n",
              "       2, 2, 2, 1, 1, 2, 2, 2, 2, 1, 2, 1, 2, 2, 2, 2, 2, 1, 2, 2, 2, 2,\n",
              "       2, 2, 1, 2, 2, 2, 1, 2, 2, 2, 1, 2, 2, 2, 2, 2, 2, 1])"
            ]
          },
          "metadata": {
            "tags": []
          },
          "execution_count": 58
        }
      ]
    },
    {
      "cell_type": "code",
      "metadata": {
        "colab": {
          "base_uri": "https://localhost:8080/"
        },
        "id": "p6VOgX9dphhr",
        "outputId": "6d3cbc21-eb55-4cdb-80a7-774c3b3bac21"
      },
      "source": [
        "sum(iris_label==predictions)/len(iris_data) "
      ],
      "execution_count": 59,
      "outputs": [
        {
          "output_type": "execute_result",
          "data": {
            "text/plain": [
              "0.7866666666666666"
            ]
          },
          "metadata": {
            "tags": []
          },
          "execution_count": 59
        }
      ]
    }
  ]
}