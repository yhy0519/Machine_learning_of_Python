{
  "nbformat": 4,
  "nbformat_minor": 0,
  "metadata": {
    "colab": {
      "name": "python_m01_02_22.ipynb",
      "provenance": [],
      "collapsed_sections": [],
      "mount_file_id": "15ysyy0qAKXPV296408IJcvt26Y-8tMtD",
      "authorship_tag": "ABX9TyN0nKSL70ZXK509JJpT5ge+",
      "include_colab_link": true
    },
    "kernelspec": {
      "name": "python3",
      "display_name": "Python 3"
    }
  },
  "cells": [
    {
      "cell_type": "markdown",
      "metadata": {
        "id": "view-in-github",
        "colab_type": "text"
      },
      "source": [
        "<a href=\"https://colab.research.google.com/github/yhy0519/Machine_learning_of_Python/blob/main/python_m01_02_22.ipynb\" target=\"_parent\"><img src=\"https://colab.research.google.com/assets/colab-badge.svg\" alt=\"Open In Colab\"/></a>"
      ]
    },
    {
      "cell_type": "markdown",
      "metadata": {
        "id": "YBDU8NCU0NIJ"
      },
      "source": [
        "#**■ KNN**\r\n",
        "\r\n",
        "유방암 데이터의 악성종양을 knn 으로 분류하기  \r\n",
        "유방암 데이터:  R을 활용한 머신러닝 -에이콘 출판사\r\n",
        "\r\n",
        "wisc_bc_data.csv\r\n"
      ]
    },
    {
      "cell_type": "code",
      "metadata": {
        "id": "D-wf4Vzcx-dj"
      },
      "source": [
        "import pandas as pd     # 데이터 전처리를 위해서 \r\n",
        "import seaborn as sns   # 시각화를 위해서\r\n",
        "\r\n",
        "df = pd.read_csv(\"/content/drive/MyDrive/data/wisc_bc_data.csv\")\r\n",
        "#설명: R 과는 다르게 stringsAsFactor=TRUE 를 지정하지 않아도 됩니다."
      ],
      "execution_count": null,
      "outputs": []
    },
    {
      "cell_type": "code",
      "metadata": {
        "colab": {
          "base_uri": "https://localhost:8080/"
        },
        "id": "CkdFyJo-90RS",
        "outputId": "dfb7d16c-054b-4d32-e643-873fb6e42701"
      },
      "source": [
        "# DataFrame 확인\r\n",
        "print(df.shape)    # (569, 32)  569행 32열"
      ],
      "execution_count": null,
      "outputs": [
        {
          "output_type": "stream",
          "text": [
            "(569, 32)\n"
          ],
          "name": "stdout"
        }
      ]
    },
    {
      "cell_type": "code",
      "metadata": {
        "colab": {
          "base_uri": "https://localhost:8080/"
        },
        "id": "4A9Dr_OJ9pU0",
        "outputId": "6edf3577-199d-4223-b323-ca09d4a61cc8"
      },
      "source": [
        "print(df.info())     # R 에서 str(df) 명령어와 유사합니다."
      ],
      "execution_count": null,
      "outputs": [
        {
          "output_type": "stream",
          "text": [
            "<class 'pandas.core.frame.DataFrame'>\n",
            "RangeIndex: 569 entries, 0 to 568\n",
            "Data columns (total 32 columns):\n",
            " #   Column             Non-Null Count  Dtype  \n",
            "---  ------             --------------  -----  \n",
            " 0   id                 569 non-null    int64  \n",
            " 1   diagnosis          569 non-null    object \n",
            " 2   radius_mean        569 non-null    float64\n",
            " 3   texture_mean       569 non-null    float64\n",
            " 4   perimeter_mean     569 non-null    float64\n",
            " 5   area_mean          569 non-null    float64\n",
            " 6   smoothness_mean    569 non-null    float64\n",
            " 7   compactness_mean   569 non-null    float64\n",
            " 8   concavity_mean     569 non-null    float64\n",
            " 9   points_mean        569 non-null    float64\n",
            " 10  symmetry_mean      569 non-null    float64\n",
            " 11  dimension_mean     569 non-null    float64\n",
            " 12  radius_se          569 non-null    float64\n",
            " 13  texture_se         569 non-null    float64\n",
            " 14  perimeter_se       569 non-null    float64\n",
            " 15  area_se            569 non-null    float64\n",
            " 16  smoothness_se      569 non-null    float64\n",
            " 17  compactness_se     569 non-null    float64\n",
            " 18  concavity_se       569 non-null    float64\n",
            " 19  points_se          569 non-null    float64\n",
            " 20  symmetry_se        569 non-null    float64\n",
            " 21  dimension_se       569 non-null    float64\n",
            " 22  radius_worst       569 non-null    float64\n",
            " 23  texture_worst      569 non-null    float64\n",
            " 24  perimeter_worst    569 non-null    float64\n",
            " 25  area_worst         569 non-null    float64\n",
            " 26  smoothness_worst   569 non-null    float64\n",
            " 27  compactness_worst  569 non-null    float64\n",
            " 28  concavity_worst    569 non-null    float64\n",
            " 29  points_worst       569 non-null    float64\n",
            " 30  symmetry_worst     569 non-null    float64\n",
            " 31  dimension_worst    569 non-null    float64\n",
            "dtypes: float64(30), int64(1), object(1)\n",
            "memory usage: 142.4+ KB\n"
          ],
          "name": "stdout"
        }
      ]
    },
    {
      "cell_type": "code",
      "metadata": {
        "colab": {
          "base_uri": "https://localhost:8080/"
        },
        "id": "a4gOjPMD9qwi",
        "outputId": "00978d3e-8a62-405d-93c8-605bdcb5f9dc"
      },
      "source": [
        "print(df.describe())  # R 에서의 summary(df) 의 결과와 유사합니다. 요약통계"
      ],
      "execution_count": null,
      "outputs": [
        {
          "output_type": "stream",
          "text": [
            "                 id  radius_mean  ...  symmetry_worst  dimension_worst\n",
            "count  5.690000e+02   569.000000  ...      569.000000       569.000000\n",
            "mean   3.037183e+07    14.127292  ...        0.290076         0.083946\n",
            "std    1.250206e+08     3.524049  ...        0.061867         0.018061\n",
            "min    8.670000e+03     6.981000  ...        0.156500         0.055040\n",
            "25%    8.692180e+05    11.700000  ...        0.250400         0.071460\n",
            "50%    9.060240e+05    13.370000  ...        0.282200         0.080040\n",
            "75%    8.813129e+06    15.780000  ...        0.317900         0.092080\n",
            "max    9.113205e+08    28.110000  ...        0.663800         0.207500\n",
            "\n",
            "[8 rows x 31 columns]\n"
          ],
          "name": "stdout"
        }
      ]
    },
    {
      "cell_type": "code",
      "metadata": {
        "colab": {
          "base_uri": "https://localhost:8080/"
        },
        "id": "R0MzuIvk9tAb",
        "outputId": "dc5a1bad-b6dd-4e35-b972-6d59fb6b69f9"
      },
      "source": [
        "# 행을 선택하는 방법 emp[행][열]  --->  emp[조건][컬럼명]\r\n",
        "print(df.iloc[0:5, ])    # 0~4번째 행을 가져와라  df.iloc[행번호, 열번호]"
      ],
      "execution_count": null,
      "outputs": [
        {
          "output_type": "stream",
          "text": [
            "         id diagnosis  ...  symmetry_worst  dimension_worst\n",
            "0  87139402         B  ...          0.2827          0.06771\n",
            "1   8910251         B  ...          0.2940          0.07587\n",
            "2    905520         B  ...          0.2998          0.07881\n",
            "3    868871         B  ...          0.2102          0.06784\n",
            "4   9012568         B  ...          0.2487          0.06766\n",
            "\n",
            "[5 rows x 32 columns]\n"
          ],
          "name": "stdout"
        }
      ]
    },
    {
      "cell_type": "code",
      "metadata": {
        "colab": {
          "base_uri": "https://localhost:8080/"
        },
        "id": "g3siliDF9uXK",
        "outputId": "705244a0-4a6c-4987-f5c1-208c44468c70"
      },
      "source": [
        "print(df.iloc[-5: ,])     # 뒤에서 5번째 행부터 끝행까지 가져와라"
      ],
      "execution_count": null,
      "outputs": [
        {
          "output_type": "stream",
          "text": [
            "            id diagnosis  ...  symmetry_worst  dimension_worst\n",
            "564  911320502         B  ...          0.2235          0.06925\n",
            "565     898677         B  ...          0.2434          0.08488\n",
            "566     873885         M  ...          0.3175          0.09772\n",
            "567     911201         B  ...          0.2606          0.07810\n",
            "568    9012795         M  ...          0.2730          0.08666\n",
            "\n",
            "[5 rows x 32 columns]\n"
          ],
          "name": "stdout"
        }
      ]
    },
    {
      "cell_type": "code",
      "metadata": {
        "colab": {
          "base_uri": "https://localhost:8080/"
        },
        "id": "OYUfGGhL9wHa",
        "outputId": "37a0b3bf-eda8-4cfd-b65e-f37fa12430bf"
      },
      "source": [
        "# 열을 선택하는 방법 emp[행][열]  --->  emp[조건][c(\"ename\", \"sal\")]\r\n",
        "print(df.iloc[ :, [0,1] ])  # 0번째 열과 1번째 열을 가져와라"
      ],
      "execution_count": null,
      "outputs": [
        {
          "output_type": "stream",
          "text": [
            "            id diagnosis\n",
            "0     87139402         B\n",
            "1      8910251         B\n",
            "2       905520         B\n",
            "3       868871         B\n",
            "4      9012568         B\n",
            "..         ...       ...\n",
            "564  911320502         B\n",
            "565     898677         B\n",
            "566     873885         M\n",
            "567     911201         B\n",
            "568    9012795         M\n",
            "\n",
            "[569 rows x 2 columns]\n"
          ],
          "name": "stdout"
        }
      ]
    },
    {
      "cell_type": "code",
      "metadata": {
        "colab": {
          "base_uri": "https://localhost:8080/"
        },
        "id": "47eWV1Ax9v_6",
        "outputId": "9236da82-f60b-4b4e-8ffa-7cb4b50fe98e"
      },
      "source": [
        "print(df.iloc[ :, : ])       # 전체 행, 열 다 가져와라"
      ],
      "execution_count": null,
      "outputs": [
        {
          "output_type": "stream",
          "text": [
            "            id diagnosis  ...  symmetry_worst  dimension_worst\n",
            "0     87139402         B  ...          0.2827          0.06771\n",
            "1      8910251         B  ...          0.2940          0.07587\n",
            "2       905520         B  ...          0.2998          0.07881\n",
            "3       868871         B  ...          0.2102          0.06784\n",
            "4      9012568         B  ...          0.2487          0.06766\n",
            "..         ...       ...  ...             ...              ...\n",
            "564  911320502         B  ...          0.2235          0.06925\n",
            "565     898677         B  ...          0.2434          0.08488\n",
            "566     873885         M  ...          0.3175          0.09772\n",
            "567     911201         B  ...          0.2606          0.07810\n",
            "568    9012795         M  ...          0.2730          0.08666\n",
            "\n",
            "[569 rows x 32 columns]\n"
          ],
          "name": "stdout"
        }
      ]
    },
    {
      "cell_type": "markdown",
      "metadata": {
        "id": "ZSn_kw8d_CG-"
      },
      "source": [
        "판다스 데이터 프레임이 어떻게 구성되었는가 ?\r\n",
        "\r\n",
        "    numpy 리스트(일반 리스트)로 컬럼 하나를 구성 --> 시리즈\r\n",
        "    numpy 리스트(일반 리스트)로 컬럼 여러개로 구성 --> 데이터 프레임\r\n"
      ]
    },
    {
      "cell_type": "code",
      "metadata": {
        "colab": {
          "base_uri": "https://localhost:8080/"
        },
        "id": "L60FEgat97lq",
        "outputId": "cd994ec9-aa3c-44ac-9ef7-55b41c551696"
      },
      "source": [
        "# 데이터 전처리 : 정규화 ---> 훈련과 테스트로 데이터를 분리\r\n",
        "\r\n",
        "# X = 전체 행, 마지막 열 제외한 모든 열 데이터 -> n차원 공간의 포인트\r\n",
        "X = df.iloc[:, 2:].to_numpy()    # 0(id), 1(diagnosis:정답컬럼) 번 열 제외하고 numpy array 로 변환\r\n",
        "y = df['diagnosis'].to_numpy()   # 정답컬럼\r\n",
        "\r\n",
        "print(len(X))\r\n",
        "print(len(y))"
      ],
      "execution_count": null,
      "outputs": [
        {
          "output_type": "stream",
          "text": [
            "569\n",
            "569\n"
          ],
          "name": "stdout"
        }
      ]
    },
    {
      "cell_type": "code",
      "metadata": {
        "id": "_2EJ7Ocq-O6C"
      },
      "source": [
        "# 데이터 정규화를 수행한다.\r\n",
        "# 1. 스케일(scale) : 평균은 0이고 표준편차 1인 데이터로 분포시킴\r\n",
        "# 2. min/max 정규화 : 0~1 사이의 숫자로 변경\r\n",
        "# 아래의 코드는 min/max 정규화는 아니고 scale 입니다\r\n",
        "\r\n",
        "from sklearn import preprocessing \r\n",
        "X=preprocessing.StandardScaler().fit(X).transform(X)   # scale 함수로 정규화"
      ],
      "execution_count": null,
      "outputs": []
    },
    {
      "cell_type": "code",
      "metadata": {
        "colab": {
          "base_uri": "https://localhost:8080/"
        },
        "id": "0DAm-xGm-S-y",
        "outputId": "4dd2a153-14f3-4b78-fbfc-32669165a7de"
      },
      "source": [
        "from sklearn.model_selection import train_test_split \r\n",
        "\r\n",
        "# 훈련 데이터 70, 테스트 데이터 30으로 나눈다. (X : 데이터, y : 정답라벨)\r\n",
        "X_train, X_test, y_train, y_test = train_test_split(X,y,test_size =0.3, random_state = 10)\r\n",
        "# 설명: test_size =0.3 은 데이터를 훈련:테스트=7:3 비율로 나눈다.\r\n",
        "# random_state = 10 는 seed 값 설정하는 부분\r\n",
        "# 어느 자리에서든 동일한 정확도를 보기 위해서 sedd 값 설정\r\n",
        "\r\n",
        "print(X_train.shape) \r\n",
        "print(y_train.shape) "
      ],
      "execution_count": null,
      "outputs": [
        {
          "output_type": "stream",
          "text": [
            "(398, 30)\n",
            "(398,)\n"
          ],
          "name": "stdout"
        }
      ]
    },
    {
      "cell_type": "code",
      "metadata": {
        "colab": {
          "base_uri": "https://localhost:8080/"
        },
        "id": "fUZfMK8i-YT6",
        "outputId": "8fb46ffd-1393-467e-845b-10d5c1ed87e8"
      },
      "source": [
        "# 스케일링(z-score 표준화 수행 결과 확인)\r\n",
        "for col in range(4):\r\n",
        "    print(f'평균 = {X_train[:, col].mean()}, 표준편차= {X_train[:, col].std()}')\r\n",
        "print('-------------------------------------------------------------')\r\n",
        "for col in range(4):\r\n",
        "    print(f'평균 = {X_test[:, col].mean()}, 표준편차= {X_test[:, col].std()}')\r\n",
        "\r\n",
        "# 설명: 평균은 0에 가깝고 표준편차는 1에 가까운 결과가 출력"
      ],
      "execution_count": null,
      "outputs": [
        {
          "output_type": "stream",
          "text": [
            "평균 = -0.04236386611612179, 표준편차= 0.9823199764297084\n",
            "평균 = -0.026468988492404984, 표준편차= 0.9992699584982397\n",
            "평균 = -0.04486992263549647, 표준편차= 0.9797413763706516\n",
            "평균 = -0.040052991664378236, 표준편차= 0.9845418716843576\n",
            "-------------------------------------------------------------\n",
            "평균 = 0.09860127903050526, 표준편차= 1.0332826894145961\n",
            "평균 = 0.0616061837425541, 표준편차= 0.998985037997365\n",
            "평균 = 0.10443408894109663, 표준편차= 1.038150107005553\n",
            "평균 = 0.09322275252878608, 표준편차= 1.0290659076476931\n"
          ],
          "name": "stdout"
        }
      ]
    },
    {
      "cell_type": "code",
      "metadata": {
        "colab": {
          "base_uri": "https://localhost:8080/"
        },
        "id": "W_lUNEix-eNR",
        "outputId": "60d48fc4-d6a2-440e-d1a9-3249b5915788"
      },
      "source": [
        "# 학습/예측(Training/Pradiction)\r\n",
        "from sklearn.neighbors import KNeighborsClassifier\r\n",
        "\r\n",
        "# k-NN 분류기를 생성\r\n",
        "classifier = KNeighborsClassifier(n_neighbors=5)   # knn 모델 생성. k=5\r\n",
        "\r\n",
        "# 분류기 학습\r\n",
        "classifier.fit(X_train, y_train)   # 훈련 데이터와 훈련 데이터의 라벨로 훈련을 한다.\r\n",
        "\r\n",
        "# 예측\r\n",
        "y_pred= classifier.predict(X_test)    # 테스트 데이터를 예측한다.\r\n",
        "print(y_pred)"
      ],
      "execution_count": null,
      "outputs": [
        {
          "output_type": "stream",
          "text": [
            "['M' 'B' 'B' 'B' 'M' 'B' 'B' 'B' 'M' 'B' 'B' 'M' 'M' 'B' 'M' 'M' 'B' 'B'\n",
            " 'B' 'M' 'M' 'M' 'B' 'M' 'M' 'B' 'B' 'M' 'M' 'M' 'B' 'B' 'M' 'M' 'B' 'B'\n",
            " 'B' 'B' 'B' 'B' 'B' 'M' 'B' 'B' 'B' 'B' 'B' 'M' 'M' 'B' 'B' 'B' 'B' 'B'\n",
            " 'M' 'M' 'M' 'B' 'M' 'B' 'B' 'M' 'B' 'M' 'M' 'B' 'M' 'B' 'B' 'M' 'M' 'M'\n",
            " 'B' 'M' 'B' 'B' 'B' 'M' 'M' 'B' 'M' 'M' 'B' 'B' 'B' 'M' 'M' 'B' 'B' 'B'\n",
            " 'B' 'B' 'B' 'B' 'B' 'B' 'B' 'B' 'B' 'B' 'M' 'B' 'B' 'B' 'B' 'M' 'B' 'B'\n",
            " 'M' 'M' 'M' 'B' 'B' 'M' 'B' 'M' 'B' 'B' 'M' 'M' 'M' 'M' 'B' 'M' 'M' 'M'\n",
            " 'B' 'B' 'M' 'M' 'B' 'B' 'B' 'M' 'B' 'B' 'B' 'B' 'B' 'B' 'B' 'M' 'M' 'M'\n",
            " 'M' 'B' 'B' 'M' 'B' 'B' 'B' 'B' 'M' 'B' 'B' 'B' 'B' 'M' 'M' 'M' 'B' 'M'\n",
            " 'M' 'M' 'M' 'B' 'B' 'B' 'B' 'B' 'M']\n"
          ],
          "name": "stdout"
        }
      ]
    },
    {
      "cell_type": "code",
      "metadata": {
        "colab": {
          "base_uri": "https://localhost:8080/"
        },
        "id": "fdUkraIL-kT6",
        "outputId": "6710c700-a44f-4e6a-c6c5-ed6d9fd84713"
      },
      "source": [
        "# 모델 평가 -- 작은 이원교차표 출력\r\n",
        "from sklearn.metrics import confusion_matrix\r\n",
        "conf_matrix= confusion_matrix(y_test, y_pred)\r\n",
        "print(conf_matrix)    "
      ],
      "execution_count": null,
      "outputs": [
        {
          "output_type": "stream",
          "text": [
            "[[97  1]\n",
            " [ 5 68]]\n"
          ],
          "name": "stdout"
        }
      ]
    },
    {
      "cell_type": "code",
      "metadata": {
        "colab": {
          "base_uri": "https://localhost:8080/"
        },
        "id": "rfY9r6Gu_p7J",
        "outputId": "450afca8-6aa7-47a4-8f51-6c06d037473c"
      },
      "source": [
        "# 민감도, 재현율, 정확도, F1 스코어를 확인한다.\r\n",
        "from sklearn.metrics import classification_report\r\n",
        "report = classification_report(y_test, y_pred)\r\n",
        "print(report)"
      ],
      "execution_count": null,
      "outputs": [
        {
          "output_type": "stream",
          "text": [
            "              precision    recall  f1-score   support\n",
            "\n",
            "           B       0.95      0.99      0.97        98\n",
            "           M       0.99      0.93      0.96        73\n",
            "\n",
            "    accuracy                           0.96       171\n",
            "   macro avg       0.97      0.96      0.96       171\n",
            "weighted avg       0.97      0.96      0.96       171\n",
            "\n"
          ],
          "name": "stdout"
        }
      ]
    },
    {
      "cell_type": "code",
      "metadata": {
        "colab": {
          "base_uri": "https://localhost:8080/"
        },
        "id": "IXEJaHck_tGz",
        "outputId": "615a5cf9-aecc-4b11-d9ec-6cbd04ddf15b"
      },
      "source": [
        "# 정확도 확인하는 코드 \r\n",
        "from sklearn.metrics import accuracy_score\r\n",
        "accuracy = accuracy_score( y_test, y_pred)\r\n",
        "print(accuracy)   \r\n",
        "\r\n",
        "# k 값이 5 일 때 정확도 0.9649"
      ],
      "execution_count": null,
      "outputs": [
        {
          "output_type": "stream",
          "text": [
            "0.9649122807017544\n"
          ],
          "name": "stdout"
        }
      ]
    },
    {
      "cell_type": "markdown",
      "metadata": {
        "id": "cLRm_6QA_x5U"
      },
      "source": [
        ""
      ]
    },
    {
      "cell_type": "markdown",
      "metadata": {
        "id": "B89u2UGJ_xz6"
      },
      "source": [
        ""
      ]
    },
    {
      "cell_type": "markdown",
      "metadata": {
        "id": "WVEuB9CS_xuc"
      },
      "source": [
        "문제1. 위의 코드에서 적절한 k 값을 알아내는 for 문을 구현하세요."
      ]
    },
    {
      "cell_type": "code",
      "metadata": {
        "colab": {
          "base_uri": "https://localhost:8080/"
        },
        "id": "SYQq3E-__yxf",
        "outputId": "2ef240e1-601b-4fe1-8a1c-bb9dfa9b2c19"
      },
      "source": [
        "import  numpy  as np\r\n",
        "\r\n",
        "errors = []\r\n",
        "for i in range(1, 31):\r\n",
        "    knn = KNeighborsClassifier(n_neighbors = i)\r\n",
        "    knn.fit(X_train, y_train)\r\n",
        "    pred_i = knn.predict(X_test)\r\n",
        "    errors.append(np.mean(pred_i != y_test))\r\n",
        "print(errors)"
      ],
      "execution_count": null,
      "outputs": [
        {
          "output_type": "stream",
          "text": [
            "[0.04678362573099415, 0.04093567251461988, 0.03508771929824561, 0.04093567251461988, 0.03508771929824561, 0.04678362573099415, 0.029239766081871343, 0.023391812865497075, 0.023391812865497075, 0.023391812865497075, 0.023391812865497075, 0.029239766081871343, 0.029239766081871343, 0.029239766081871343, 0.029239766081871343, 0.03508771929824561, 0.029239766081871343, 0.03508771929824561, 0.03508771929824561, 0.03508771929824561, 0.03508771929824561, 0.03508771929824561, 0.03508771929824561, 0.04093567251461988, 0.03508771929824561, 0.04678362573099415, 0.03508771929824561, 0.03508771929824561, 0.03508771929824561, 0.04093567251461988]\n"
          ],
          "name": "stdout"
        }
      ]
    },
    {
      "cell_type": "code",
      "metadata": {
        "colab": {
          "base_uri": "https://localhost:8080/"
        },
        "id": "q_g08_T7_06x",
        "outputId": "9d7cf9f3-6722-4f39-cb5e-03913caff136"
      },
      "source": [
        "for k, i in enumerate(errors):\r\n",
        "    print(k+1, '--->', i)"
      ],
      "execution_count": null,
      "outputs": [
        {
          "output_type": "stream",
          "text": [
            "1 ---> 0.04678362573099415\n",
            "2 ---> 0.04093567251461988\n",
            "3 ---> 0.03508771929824561\n",
            "4 ---> 0.04093567251461988\n",
            "5 ---> 0.03508771929824561\n",
            "6 ---> 0.04678362573099415\n",
            "7 ---> 0.029239766081871343\n",
            "8 ---> 0.023391812865497075\n",
            "9 ---> 0.023391812865497075\n",
            "10 ---> 0.023391812865497075\n",
            "11 ---> 0.023391812865497075\n",
            "12 ---> 0.029239766081871343\n",
            "13 ---> 0.029239766081871343\n",
            "14 ---> 0.029239766081871343\n",
            "15 ---> 0.029239766081871343\n",
            "16 ---> 0.03508771929824561\n",
            "17 ---> 0.029239766081871343\n",
            "18 ---> 0.03508771929824561\n",
            "19 ---> 0.03508771929824561\n",
            "20 ---> 0.03508771929824561\n",
            "21 ---> 0.03508771929824561\n",
            "22 ---> 0.03508771929824561\n",
            "23 ---> 0.03508771929824561\n",
            "24 ---> 0.04093567251461988\n",
            "25 ---> 0.03508771929824561\n",
            "26 ---> 0.04678362573099415\n",
            "27 ---> 0.03508771929824561\n",
            "28 ---> 0.03508771929824561\n",
            "29 ---> 0.03508771929824561\n",
            "30 ---> 0.04093567251461988\n"
          ],
          "name": "stdout"
        }
      ]
    },
    {
      "cell_type": "code",
      "metadata": {
        "colab": {
          "base_uri": "https://localhost:8080/",
          "height": 295
        },
        "id": "rriTEK69_4Hw",
        "outputId": "4610181e-be90-4f5b-8d9a-10fcdfd21a35"
      },
      "source": [
        "# 시각화\r\n",
        "import matplotlib.pyplot as plt\r\n",
        "\r\n",
        "plt.plot(range(1, 31), errors, marker='o')\r\n",
        "plt.title('Mean error with K-Value')\r\n",
        "plt.xlabel('k-value')\r\n",
        "plt.ylabel('mean error')\r\n",
        "plt.show()"
      ],
      "execution_count": null,
      "outputs": [
        {
          "output_type": "display_data",
          "data": {
            "image/png": "[encoded data removed]",
            "text/plain": [
              "<Figure size 432x288 with 1 Axes>"
            ]
          },
          "metadata": {
            "tags": [],
            "needs_background": "light"
          }
        }
      ]
    },
    {
      "cell_type": "markdown",
      "metadata": {
        "id": "poMbed0r_5tJ"
      },
      "source": [
        ""
      ]
    },
    {
      "cell_type": "markdown",
      "metadata": {
        "id": "HiY34nvK_5o6"
      },
      "source": [
        ""
      ]
    },
    {
      "cell_type": "markdown",
      "metadata": {
        "id": "MBBKJ6x8_5jC"
      },
      "source": [
        "문제2. 위에서 알아낸 가장 에러가 낮은 k 값은 8,9,10,11 입니다.\r\n",
        "\t  그러면 k 값을 8을 넣었을때의 정확도를 보시오 ~"
      ]
    },
    {
      "cell_type": "code",
      "metadata": {
        "colab": {
          "base_uri": "https://localhost:8080/"
        },
        "id": "4p-WZ0g1CAXw",
        "outputId": "a4a30f6e-5397-41ab-ceec-a6ba8e3ba377"
      },
      "source": [
        "import pandas as pd     # 데이터 전처리를 위해서 \r\n",
        "import seaborn as sns   # 시각화를 위해서\r\n",
        "\r\n",
        "df = pd.read_csv(\"/content/drive/MyDrive/data/wisc_bc_data.csv\")\r\n",
        "\r\n",
        "# 데이터 전처리 : 정규화 ---> 훈련과 테스트로 데이터를 분리\r\n",
        "\r\n",
        "# X = 전체 행, 마지막 열 제외한 모든 열 데이터 -> n차원 공간의 포인트\r\n",
        "X = df.iloc[:, 2:].to_numpy()  # 0(id), 1(diagnosis:정답컬럼) 번 열 제외하고 numpy array 로 변환\r\n",
        "y = df['diagnosis'].to_numpy()   # 정답컬럼\r\n",
        "\r\n",
        "# 데이터 정규화를 수행한다.\r\n",
        "from sklearn import preprocessing \r\n",
        "X=preprocessing.StandardScaler().fit(X).transform(X)   # 정규화\r\n",
        "\r\n",
        "# 훈련 데이터와 테스트 데이터를 분리하는 작업\r\n",
        "from sklearn.model_selection import train_test_split            \r\n",
        "                     \r\n",
        "# 훈련 데이터 70, 테스트 데이터 30으로 나눈다. (X : 데이터, y : 정답라벨)\r\n",
        "X_train, X_test, y_train, y_test = train_test_split(X,y,test_size =0.3, random_state = 10)\r\n",
        "\r\n",
        "# 학습/예측(Training/Pradiction)\r\n",
        "from sklearn.neighbors import KNeighborsClassifier\r\n",
        "\r\n",
        "# k-NN 분류기를 생성\r\n",
        "classifier = KNeighborsClassifier(n_neighbors=8)  # knn 모델 생성. k=8\r\n",
        "\r\n",
        "# 분류기 학습\r\n",
        "classifier.fit(X_train, y_train)   # 훈련 데이터와 훈련 데이터의 라벨로 훈련을 한다.\r\n",
        "\r\n",
        "# 예측\r\n",
        "y_pred= classifier.predict(X_test)  # 테스트 데이터를 예측한다.\r\n",
        "\r\n",
        "# 정확도 확인하는 코드 \r\n",
        "from sklearn.metrics import accuracy_score\r\n",
        "accuracy = accuracy_score( y_test, y_pred)\r\n",
        "print(accuracy)   # 0.9649122807017544"
      ],
      "execution_count": null,
      "outputs": [
        {
          "output_type": "stream",
          "text": [
            "0.9766081871345029\n"
          ],
          "name": "stdout"
        }
      ]
    },
    {
      "cell_type": "markdown",
      "metadata": {
        "id": "-ZSG7MeSCZF0"
      },
      "source": [
        "설명: 0.976 의 정확도가 나옵니다. 의료 데이터이므로 정확도가 아주 높아야 합니다.  \r\n",
        "\t그런데 정확도가 100% 가 나오면 좋겠는데 100% 의 정확도가 나오기 어려우므로 FN 을 0으로 만들면  \r\n",
        "  정확도가 100% 가 아니더라도 쓰겠다.  \r\n",
        "\tFN : False Negative(정상) --> 암환자를 정상환자로 잘못 예측했다.\r\n",
        "\t관심범주는 positive(암)"
      ]
    },
    {
      "cell_type": "markdown",
      "metadata": {
        "id": "2M8jEQdFCk7c"
      },
      "source": [
        ""
      ]
    },
    {
      "cell_type": "markdown",
      "metadata": {
        "id": "tkwmO2FzCk2u"
      },
      "source": [
        ""
      ]
    },
    {
      "cell_type": "markdown",
      "metadata": {
        "id": "XP7AJ4-UCkwu"
      },
      "source": [
        "문제3. 지금 방금했던 시각화는 k 값에 따른 오류율 변동을 2차원 그래프로 시각화 한 것이고\r\n",
        "\t  이번에는 k 값에 따른 FN 값과 정확도가 어떻게 되는지 확인을 해야합니다.\r\n"
      ]
    },
    {
      "cell_type": "code",
      "metadata": {
        "colab": {
          "base_uri": "https://localhost:8080/"
        },
        "id": "O6DBg64yCmBP",
        "outputId": "c437d14b-1c44-4df8-d939-150402545509"
      },
      "source": [
        "\r\n",
        "import matplotlib.pyplot as plt\r\n",
        "from sklearn.neighbors import KNeighborsClassifier\r\n",
        "from sklearn.model_selection import train_test_split\r\n",
        "from sklearn import metrics\r\n",
        "import numpy as np\r\n",
        "\r\n",
        "acclist = []\r\n",
        "err_list = []\r\n",
        "fn_list = []\r\n",
        "\r\n",
        "for i in range(1,30):\r\n",
        "    knn = KNeighborsClassifier(n_neighbors=i)\r\n",
        "    knn.fit(X_train, y_train)\r\n",
        "    y_pred = knn.predict(X_test)\r\n",
        "\r\n",
        "    tn,fp,fn,tp = metrics.confusion_matrix(y_test, y_pred).ravel()\r\n",
        "    # 설명: .ravel() 함수를 안쓰면 작은 이원교차표가 나오는데\r\n",
        "    # .ravel() 을 쓰면 이원교차표의 값들을 출력할 수 있습니다.\r\n",
        "    # .ravel() : 다차원을 1차원으로 푸는 것\r\n",
        "\r\n",
        "    fn_list.append(fn)\r\n",
        "    acclist.append(accuracy_score(y_test, y_pred))\r\n",
        "\r\n",
        "    err_list.append(np.mean(y_pred != y_test))\r\n",
        "\r\n",
        "    print(f'k : {i} , acc : {accuracy_score(y_test, y_pred)} , FN : {fn}')"
      ],
      "execution_count": null,
      "outputs": [
        {
          "output_type": "stream",
          "text": [
            "k : 1 , acc : 0.9532163742690059 , FN : 5\n",
            "k : 2 , acc : 0.9590643274853801 , FN : 7\n",
            "k : 3 , acc : 0.9649122807017544 , FN : 5\n",
            "k : 4 , acc : 0.9590643274853801 , FN : 6\n",
            "k : 5 , acc : 0.9649122807017544 , FN : 5\n",
            "k : 6 , acc : 0.9532163742690059 , FN : 7\n",
            "k : 7 , acc : 0.9707602339181286 , FN : 4\n",
            "k : 8 , acc : 0.9766081871345029 , FN : 4\n",
            "k : 9 , acc : 0.9766081871345029 , FN : 4\n",
            "k : 10 , acc : 0.9766081871345029 , FN : 4\n",
            "k : 11 , acc : 0.9766081871345029 , FN : 4\n",
            "k : 12 , acc : 0.9707602339181286 , FN : 5\n",
            "k : 13 , acc : 0.9707602339181286 , FN : 5\n",
            "k : 14 , acc : 0.9707602339181286 , FN : 5\n",
            "k : 15 , acc : 0.9707602339181286 , FN : 5\n",
            "k : 16 , acc : 0.9649122807017544 , FN : 6\n",
            "k : 17 , acc : 0.9707602339181286 , FN : 5\n",
            "k : 18 , acc : 0.9649122807017544 , FN : 6\n",
            "k : 19 , acc : 0.9649122807017544 , FN : 6\n",
            "k : 20 , acc : 0.9649122807017544 , FN : 6\n",
            "k : 21 , acc : 0.9649122807017544 , FN : 6\n",
            "k : 22 , acc : 0.9649122807017544 , FN : 6\n",
            "k : 23 , acc : 0.9649122807017544 , FN : 6\n",
            "k : 24 , acc : 0.9590643274853801 , FN : 7\n",
            "k : 25 , acc : 0.9649122807017544 , FN : 6\n",
            "k : 26 , acc : 0.9532163742690059 , FN : 8\n",
            "k : 27 , acc : 0.9649122807017544 , FN : 6\n",
            "k : 28 , acc : 0.9649122807017544 , FN : 6\n",
            "k : 29 , acc : 0.9649122807017544 , FN : 6\n"
          ],
          "name": "stdout"
        }
      ]
    },
    {
      "cell_type": "code",
      "metadata": {
        "colab": {
          "base_uri": "https://localhost:8080/",
          "height": 425
        },
        "id": "YKlEDfv_FX4n",
        "outputId": "498c52c4-f357-4c27-833b-67c57e329b59"
      },
      "source": [
        "# 그래프 사이즈 조정하는 부분\r\n",
        "plt.figure(figsize=(12,6))\r\n",
        "plt.subplots_adjust(left=0.125,\r\n",
        "                    bottom=0.1, \r\n",
        "                    right=1, \r\n",
        "                    top=0.9, \r\n",
        "                    wspace=0.2, \r\n",
        "                    hspace=0.35)\r\n",
        "\r\n",
        "# k 값이 변경될 때 마다 정확도가 어떻게 되는지 시각화 하는 부분\r\n",
        "plt.subplot(131)\r\n",
        "plt.plot(acclist,color='blue', marker='o', markerfacecolor='red')\r\n",
        "plt.title('Accuracy', size=15)\r\n",
        "plt.xlabel(\"k value\")\r\n",
        "plt.ylabel('Accuracy')\r\n",
        "\r\n",
        "# k 값이 변경될 때 마다 에러가 어떻게 되는지 시각화 하는 부분\r\n",
        "plt.subplot(132)\r\n",
        "plt.plot(err_list, color='red', marker='o', markerfacecolor='blue')\r\n",
        "plt.title('Error', size=15)\r\n",
        "plt.xlabel(\"k value\")\r\n",
        "plt.ylabel('error')\r\n",
        "\r\n",
        "# k 값이 변경될 때 마다 FN 값이 어떻게 되는지 시각화 하는 부분\r\n",
        "plt.subplot(133)\r\n",
        "plt.plot(fn_list, color='green', marker='o', markerfacecolor='yellow')\r\n",
        "plt.title('FN Value', size=15)\r\n",
        "plt.xlabel(\"k value\")\r\n",
        "plt.ylabel('fn value')\r\n",
        "\r\n",
        "plt.show()"
      ],
      "execution_count": null,
      "outputs": [
        {
          "output_type": "display_data",
          "data": {
            "image/png": "[encoded data removed]",
            "text/plain": [
              "<Figure size 864x432 with 3 Axes>"
            ]
          },
          "metadata": {
            "tags": [],
            "needs_background": "light"
          }
        }
      ]
    },
    {
      "cell_type": "markdown",
      "metadata": {
        "id": "-E7njrJyFZ_L"
      },
      "source": [
        ""
      ]
    },
    {
      "cell_type": "markdown",
      "metadata": {
        "id": "c669KCWNFZ6Q"
      },
      "source": [
        ""
      ]
    },
    {
      "cell_type": "markdown",
      "metadata": {
        "id": "iJsCt6l-FZ1X"
      },
      "source": [
        "문제4. iris2.csv 데이터를 knn 으로 분류하세요 !"
      ]
    },
    {
      "cell_type": "code",
      "metadata": {
        "colab": {
          "base_uri": "https://localhost:8080/"
        },
        "id": "ZW9N4wQoFal3",
        "outputId": "89b9cc0c-7b98-4888-86ca-79277210f675"
      },
      "source": [
        "import matplotlib.pyplot as plt\r\n",
        "from sklearn import metrics\r\n",
        "import numpy as np\r\n",
        "import pandas  as pd\r\n",
        "\r\n",
        "# 데이터 준비\r\n",
        "col_names = ['sepal-length', 'sepal-width','petal-length', 'petal-width','Class']\r\n",
        "\r\n",
        "# csv 파일에서 DataFrame을 생성\r\n",
        "dataset = pd.read_csv('/content/drive/MyDrive/data/iris2.csv', encoding='UTF-8', header=None, names=col_names)\r\n",
        "print(dataset)"
      ],
      "execution_count": null,
      "outputs": [
        {
          "output_type": "stream",
          "text": [
            "     sepal-length  sepal-width  petal-length  petal-width           Class\n",
            "0             5.1          3.5           1.4          0.2     Iris-setosa\n",
            "1             4.9          3.0           1.4          0.2     Iris-setosa\n",
            "2             4.7          3.2           1.3          0.2     Iris-setosa\n",
            "3             4.6          3.1           1.5          0.2     Iris-setosa\n",
            "4             5.0          3.6           1.4          0.2     Iris-setosa\n",
            "..            ...          ...           ...          ...             ...\n",
            "145           6.7          3.0           5.2          2.3  Iris-virginica\n",
            "146           6.3          2.5           5.0          1.9  Iris-virginica\n",
            "147           6.5          3.0           5.2          2.0  Iris-virginica\n",
            "148           6.2          3.4           5.4          2.3  Iris-virginica\n",
            "149           5.9          3.0           5.1          1.8  Iris-virginica\n",
            "\n",
            "[150 rows x 5 columns]\n"
          ],
          "name": "stdout"
        }
      ]
    },
    {
      "cell_type": "code",
      "metadata": {
        "colab": {
          "base_uri": "https://localhost:8080/"
        },
        "id": "wPO5D9EbIw97",
        "outputId": "5b5e1960-aa90-422d-9c82-4b568a7ab9e8"
      },
      "source": [
        "# DataFrame 확인\r\n",
        "print(dataset.shape)   # (150, 5)"
      ],
      "execution_count": null,
      "outputs": [
        {
          "output_type": "stream",
          "text": [
            "(150, 5)\n"
          ],
          "name": "stdout"
        }
      ]
    },
    {
      "cell_type": "code",
      "metadata": {
        "colab": {
          "base_uri": "https://localhost:8080/"
        },
        "id": "WkEHDm0GI1XG",
        "outputId": "841fab4f-827c-4162-90cd-1b5951ea128c"
      },
      "source": [
        "print(dataset.info())"
      ],
      "execution_count": null,
      "outputs": [
        {
          "output_type": "stream",
          "text": [
            "<class 'pandas.core.frame.DataFrame'>\n",
            "RangeIndex: 150 entries, 0 to 149\n",
            "Data columns (total 5 columns):\n",
            " #   Column        Non-Null Count  Dtype  \n",
            "---  ------        --------------  -----  \n",
            " 0   sepal-length  150 non-null    float64\n",
            " 1   sepal-width   150 non-null    float64\n",
            " 2   petal-length  150 non-null    float64\n",
            " 3   petal-width   150 non-null    float64\n",
            " 4   Class         150 non-null    object \n",
            "dtypes: float64(4), object(1)\n",
            "memory usage: 6.0+ KB\n",
            "None\n"
          ],
          "name": "stdout"
        }
      ]
    },
    {
      "cell_type": "code",
      "metadata": {
        "colab": {
          "base_uri": "https://localhost:8080/"
        },
        "id": "1Rbag7BkI3j9",
        "outputId": "ed79afd0-0bf6-4bf9-c4bb-1fe2a01bac80"
      },
      "source": [
        "print(dataset.iloc[:,:-1].describe())"
      ],
      "execution_count": null,
      "outputs": [
        {
          "output_type": "stream",
          "text": [
            "       sepal-length  sepal-width  petal-length  petal-width\n",
            "count    150.000000   150.000000    150.000000   150.000000\n",
            "mean       5.843333     3.054000      3.758667     1.198667\n",
            "std        0.828066     0.433594      1.764420     0.763161\n",
            "min        4.300000     2.000000      1.000000     0.100000\n",
            "25%        5.100000     2.800000      1.600000     0.300000\n",
            "50%        5.800000     3.000000      4.350000     1.300000\n",
            "75%        6.400000     3.300000      5.100000     1.800000\n",
            "max        7.900000     4.400000      6.900000     2.500000\n"
          ],
          "name": "stdout"
        }
      ]
    },
    {
      "cell_type": "code",
      "metadata": {
        "colab": {
          "base_uri": "https://localhost:8080/"
        },
        "id": "xbGwT_beIxnd",
        "outputId": "8cd33125-9518-44fa-9fa5-5802aa98b4ee"
      },
      "source": [
        "# X = 전체 행, 마지막 열 제외한 모든 열 데이터 -> n차원 공간의 포인트\r\n",
        "X = dataset.iloc[:, :-1].to_numpy() \r\n",
        "y = dataset['Class'].to_numpy()   \r\n",
        "\r\n",
        "print(len(X)) \r\n",
        "print(len(y)) "
      ],
      "execution_count": null,
      "outputs": [
        {
          "output_type": "stream",
          "text": [
            "150\n",
            "150\n"
          ],
          "name": "stdout"
        }
      ]
    },
    {
      "cell_type": "code",
      "metadata": {
        "id": "7u9l1pT4I_ug"
      },
      "source": [
        "from sklearn import preprocessing \r\n",
        "X=preprocessing.StandardScaler().fit(X).transform(X)    # 정규화"
      ],
      "execution_count": null,
      "outputs": []
    },
    {
      "cell_type": "code",
      "metadata": {
        "colab": {
          "base_uri": "https://localhost:8080/"
        },
        "id": "x37jtd-QJQky",
        "outputId": "03f1fe92-8708-4750-db13-ca9f95991503"
      },
      "source": [
        "from sklearn.model_selection import train_test_split \r\n",
        "                                                                \r\n",
        "# 훈련 데이터 80, 테스트 데이터 20으로 나눈다. \r\n",
        "X_train, X_test, y_train, y_test = train_test_split(X,y,test_size = 0.2, random_state = 10)\r\n",
        "\r\n",
        "print(X_train.shape)  \r\n",
        "print(y_train.shape) "
      ],
      "execution_count": null,
      "outputs": [
        {
          "output_type": "stream",
          "text": [
            "(120, 4)\n",
            "(120,)\n"
          ],
          "name": "stdout"
        }
      ]
    },
    {
      "cell_type": "code",
      "metadata": {
        "colab": {
          "base_uri": "https://localhost:8080/"
        },
        "id": "8kggTHTYJT3t",
        "outputId": "b183130f-d6bf-4c8c-8567-265221c3e5f1"
      },
      "source": [
        "# 스케일링(z-score 표준화 수행 결과 확인)\r\n",
        "for col in range(4):\r\n",
        "    print(f'평균 = {X_train[:, col].mean()}, 표준편차= {X_train[:, col].std()}')\r\n",
        "print('----------------------------------------------------')\r\n",
        "for col in range(4):\r\n",
        "    print(f'평균 = {X_test[:, col].mean()}, 표준편차= {X_test[:, col].std()}')"
      ],
      "execution_count": null,
      "outputs": [
        {
          "output_type": "stream",
          "text": [
            "평균 = 0.03231143211830658, 표준편차= 1.0154031412483953\n",
            "평균 = 0.03316775833559367, 표준편차= 0.9943972353619907\n",
            "평균 = 0.013079111917528315, 표준편차= 1.010679798690753\n",
            "평균 = 0.02476074268698191, 표준편차= 1.016355293219859\n",
            "----------------------------------------------------\n",
            "평균 = -0.1292457284732285, 표준편차= 0.9246325054100397\n",
            "평균 = -0.13267103334237781, 표준편차= 1.011283614698444\n",
            "평균 = -0.05231644767011185, 표준편차= 0.9542977075853483\n",
            "평균 = -0.09904297074792832, 표준편차= 0.9251085256377652\n"
          ],
          "name": "stdout"
        }
      ]
    },
    {
      "cell_type": "code",
      "metadata": {
        "colab": {
          "base_uri": "https://localhost:8080/"
        },
        "id": "EHc9v_sLJbIO",
        "outputId": "6b847996-ffc7-4f8b-e813-d0a75955216d"
      },
      "source": [
        "# 학습/예측(Training/Pradiction)\r\n",
        "from sklearn.neighbors import KNeighborsClassifier\r\n",
        "\r\n",
        "# k-NN 분류기를 생성\r\n",
        "classifier = KNeighborsClassifier(n_neighbors=7)  # knn 모델 생성. k=7\r\n",
        "\r\n",
        "# 분류기 학습\r\n",
        "classifier.fit(X_train, y_train)\r\n",
        "\r\n",
        "# 예측\r\n",
        "y_pred= classifier.predict(X_test)\r\n",
        "print(y_pred)"
      ],
      "execution_count": null,
      "outputs": [
        {
          "output_type": "stream",
          "text": [
            "['Iris-versicolor' 'Iris-virginica' 'Iris-setosa' 'Iris-versicolor'\n",
            " 'Iris-setosa' 'Iris-versicolor' 'Iris-virginica' 'Iris-versicolor'\n",
            " 'Iris-setosa' 'Iris-versicolor' 'Iris-versicolor' 'Iris-virginica'\n",
            " 'Iris-versicolor' 'Iris-setosa' 'Iris-setosa' 'Iris-virginica'\n",
            " 'Iris-virginica' 'Iris-setosa' 'Iris-setosa' 'Iris-setosa'\n",
            " 'Iris-virginica' 'Iris-virginica' 'Iris-virginica' 'Iris-setosa'\n",
            " 'Iris-versicolor' 'Iris-setosa' 'Iris-versicolor' 'Iris-versicolor'\n",
            " 'Iris-versicolor' 'Iris-virginica']\n"
          ],
          "name": "stdout"
        }
      ]
    },
    {
      "cell_type": "code",
      "metadata": {
        "colab": {
          "base_uri": "https://localhost:8080/"
        },
        "id": "ainheaAQJdky",
        "outputId": "15ff16bd-c105-42ea-b099-6d8b561329ae"
      },
      "source": [
        "# 모델 평가 -- 작은 이원교차표\r\n",
        "from sklearn.metrics import confusion_matrix\r\n",
        "conf_matrix= confusion_matrix(y_test, y_pred)\r\n",
        "print(conf_matrix)    "
      ],
      "execution_count": null,
      "outputs": [
        {
          "output_type": "stream",
          "text": [
            "[[10  0  0]\n",
            " [ 0 11  2]\n",
            " [ 0  0  7]]\n"
          ],
          "name": "stdout"
        }
      ]
    },
    {
      "cell_type": "code",
      "metadata": {
        "colab": {
          "base_uri": "https://localhost:8080/"
        },
        "id": "UUF2_Yz9JexZ",
        "outputId": "6bef3f8f-1186-45ba-c0e0-ad3e278f4073"
      },
      "source": [
        "# 정밀도 , 재현율, f1 score 확인\r\n",
        "from sklearn.metrics import classification_report\r\n",
        "report = classification_report(y_test, y_pred)\r\n",
        "print(report)"
      ],
      "execution_count": null,
      "outputs": [
        {
          "output_type": "stream",
          "text": [
            "                 precision    recall  f1-score   support\n",
            "\n",
            "    Iris-setosa       1.00      1.00      1.00        10\n",
            "Iris-versicolor       1.00      0.85      0.92        13\n",
            " Iris-virginica       0.78      1.00      0.88         7\n",
            "\n",
            "       accuracy                           0.93        30\n",
            "      macro avg       0.93      0.95      0.93        30\n",
            "   weighted avg       0.95      0.93      0.93        30\n",
            "\n"
          ],
          "name": "stdout"
        }
      ]
    },
    {
      "cell_type": "code",
      "metadata": {
        "colab": {
          "base_uri": "https://localhost:8080/"
        },
        "id": "pjYMMFvCJgC2",
        "outputId": "e5b648ec-54a7-47d9-b825-01c816d353f8"
      },
      "source": [
        "# 정확도 확인하는 코드 \r\n",
        "from sklearn.metrics import accuracy_score\r\n",
        "accuracy = accuracy_score( y_test, y_pred)\r\n",
        "print(accuracy) "
      ],
      "execution_count": null,
      "outputs": [
        {
          "output_type": "stream",
          "text": [
            "0.9333333333333333\n"
          ],
          "name": "stdout"
        }
      ]
    },
    {
      "cell_type": "markdown",
      "metadata": {
        "id": "3QkoDbN3JyRt"
      },
      "source": [
        ""
      ]
    },
    {
      "cell_type": "markdown",
      "metadata": {
        "id": "Oa0q4GIbJyL6"
      },
      "source": [
        ""
      ]
    },
    {
      "cell_type": "markdown",
      "metadata": {
        "id": "vdR6JW90JyFb"
      },
      "source": [
        "문제5. iris 데이터에 대해서 가장 정확도가 좋은 k 값을 지정해서 아이리스 데이터를 분류하는 knn 모델을 생성하시오\r\n"
      ]
    },
    {
      "cell_type": "code",
      "metadata": {
        "colab": {
          "base_uri": "https://localhost:8080/"
        },
        "id": "Eqr9z0MyKFqP",
        "outputId": "24ae44c8-8c9c-479c-dc0e-3d6d5aa15dc4"
      },
      "source": [
        "import  numpy  as np\r\n",
        "\r\n",
        "errors = []\r\n",
        "for i in range(1, 31):\r\n",
        "    knn = KNeighborsClassifier(n_neighbors = i)\r\n",
        "    knn.fit(X_train, y_train)\r\n",
        "    pred_i = knn.predict(X_test)\r\n",
        "    errors.append(np.mean(pred_i != y_test))\r\n",
        "print(errors)"
      ],
      "execution_count": null,
      "outputs": [
        {
          "output_type": "stream",
          "text": [
            "[0.03333333333333333, 0.03333333333333333, 0.03333333333333333, 0.03333333333333333, 0.03333333333333333, 0.03333333333333333, 0.06666666666666667, 0.06666666666666667, 0.06666666666666667, 0.06666666666666667, 0.06666666666666667, 0.03333333333333333, 0.03333333333333333, 0.0, 0.03333333333333333, 0.0, 0.0, 0.0, 0.0, 0.0, 0.0, 0.0, 0.0, 0.0, 0.0, 0.0, 0.0, 0.0, 0.0, 0.03333333333333333]\n"
          ],
          "name": "stdout"
        }
      ]
    },
    {
      "cell_type": "code",
      "metadata": {
        "colab": {
          "base_uri": "https://localhost:8080/"
        },
        "id": "B3SaELmSKNwh",
        "outputId": "8ec9382c-9447-4e89-ab42-b41dc83a7df2"
      },
      "source": [
        "for k, i in enumerate(errors):\r\n",
        "    print(k+1, '--->', i)"
      ],
      "execution_count": null,
      "outputs": [
        {
          "output_type": "stream",
          "text": [
            "1 ---> 0.03333333333333333\n",
            "2 ---> 0.03333333333333333\n",
            "3 ---> 0.03333333333333333\n",
            "4 ---> 0.03333333333333333\n",
            "5 ---> 0.03333333333333333\n",
            "6 ---> 0.03333333333333333\n",
            "7 ---> 0.06666666666666667\n",
            "8 ---> 0.06666666666666667\n",
            "9 ---> 0.06666666666666667\n",
            "10 ---> 0.06666666666666667\n",
            "11 ---> 0.06666666666666667\n",
            "12 ---> 0.03333333333333333\n",
            "13 ---> 0.03333333333333333\n",
            "14 ---> 0.0\n",
            "15 ---> 0.03333333333333333\n",
            "16 ---> 0.0\n",
            "17 ---> 0.0\n",
            "18 ---> 0.0\n",
            "19 ---> 0.0\n",
            "20 ---> 0.0\n",
            "21 ---> 0.0\n",
            "22 ---> 0.0\n",
            "23 ---> 0.0\n",
            "24 ---> 0.0\n",
            "25 ---> 0.0\n",
            "26 ---> 0.0\n",
            "27 ---> 0.0\n",
            "28 ---> 0.0\n",
            "29 ---> 0.0\n",
            "30 ---> 0.03333333333333333\n"
          ],
          "name": "stdout"
        }
      ]
    },
    {
      "cell_type": "code",
      "metadata": {
        "colab": {
          "base_uri": "https://localhost:8080/",
          "height": 295
        },
        "id": "OqX_jBwVKPx6",
        "outputId": "18c8a068-f473-4a69-f488-4e2ae3f66b09"
      },
      "source": [
        "import matplotlib.pyplot as plt\r\n",
        "\r\n",
        "plt.plot(range(1, 31), errors, marker='o')\r\n",
        "plt.title('Mean error with K-Value')\r\n",
        "plt.xlabel('k-value')\r\n",
        "plt.ylabel('mean error')\r\n",
        "plt.show()"
      ],
      "execution_count": null,
      "outputs": [
        {
          "output_type": "display_data",
          "data": {
            "image/png": "[encoded data removed]",
            "text/plain": [
              "<Figure size 432x288 with 1 Axes>"
            ]
          },
          "metadata": {
            "tags": [],
            "needs_background": "light"
          }
        }
      ]
    },
    {
      "cell_type": "markdown",
      "metadata": {
        "id": "R7_vqbyfKtal"
      },
      "source": [
        "k = 14 에서 에러율 0 으로 정확도 1"
      ]
    },
    {
      "cell_type": "code",
      "metadata": {
        "colab": {
          "base_uri": "https://localhost:8080/"
        },
        "id": "hemT8n0WKhUg",
        "outputId": "952ab1ab-fda0-4cf2-d0d1-5d97e33a3acc"
      },
      "source": [
        "from sklearn import metrics\r\n",
        "import pandas  as pd\r\n",
        "\r\n",
        "# 데이터 준비\r\n",
        "col_names = ['sepal-length', 'sepal-width','petal-length', 'petal-width','Class']\r\n",
        "\r\n",
        "# csv 파일에서 DataFrame을 생성\r\n",
        "dataset = pd.read_csv('/content/drive/MyDrive/data/iris2.csv', encoding='UTF-8', header=None, names=col_names)\r\n",
        "\r\n",
        "# X = 전체 행, 마지막 열 제외한 모든 열 데이터 -> n차원 공간의 포인트\r\n",
        "X = dataset.iloc[:, :-1].to_numpy() \r\n",
        "y = dataset['Class'].to_numpy()   \r\n",
        "\r\n",
        "\r\n",
        "from sklearn import preprocessing \r\n",
        "X=preprocessing.StandardScaler().fit(X).transform(X) \r\n",
        "\r\n",
        "from sklearn.model_selection import train_test_split                                                  \r\n",
        "                     \r\n",
        "# 훈련 데이터 80, 테스트 데이터 20으로 나눈다. \r\n",
        "X_train, X_test, y_train, y_test = train_test_split(X,y,test_size = 0.2, random_state = 10)\r\n",
        "\r\n",
        "# 학습/예측(Training/Pradiction)\r\n",
        "from sklearn.neighbors import KNeighborsClassifier\r\n",
        "\r\n",
        "# k-NN 분류기를 생성\r\n",
        "classifier = KNeighborsClassifier(n_neighbors=14)  # knn 모델 생성. k=14\r\n",
        "\r\n",
        "# 분류기 학습\r\n",
        "classifier.fit(X_train, y_train)\r\n",
        "\r\n",
        "# 예측\r\n",
        "y_pred= classifier.predict(X_test)\r\n",
        "\r\n",
        "# 정확도 확인하는 코드 \r\n",
        "from sklearn.metrics import accuracy_score\r\n",
        "accuracy = accuracy_score(y_test, y_pred)\r\n",
        "print(accuracy)"
      ],
      "execution_count": null,
      "outputs": [
        {
          "output_type": "stream",
          "text": [
            "1.0\n"
          ],
          "name": "stdout"
        }
      ]
    },
    {
      "cell_type": "markdown",
      "metadata": {
        "id": "jHdKkzxJK51i"
      },
      "source": [
        ""
      ]
    },
    {
      "cell_type": "markdown",
      "metadata": {
        "id": "tRXhmF7SK5xl"
      },
      "source": [
        ""
      ]
    },
    {
      "cell_type": "markdown",
      "metadata": {
        "id": "zjz3ehNBK5qy"
      },
      "source": [
        "문제6. 유방암 데이터의 정확도를 더 올리시오 !\r\n",
        "\r\n",
        "    k=12\r\n",
        "    기존 정확도 : 0.9707602339181286\r\n",
        "\r\n",
        "정규화 --> scale 함수가 아닌 min/max 함수 적용  \r\n",
        "min/max 함수가 머신러닝에서는 더 좋은 결과를 나타냄\r\n"
      ]
    },
    {
      "cell_type": "code",
      "metadata": {
        "colab": {
          "base_uri": "https://localhost:8080/"
        },
        "id": "btsTOQIIK6hs",
        "outputId": "b74bf5c1-f522-4193-e73b-0437e37acec4"
      },
      "source": [
        "import pandas as pd  # 데이터 전처리를 위해서 \r\n",
        "import seaborn as sns # 시각화를 위해서 \r\n",
        "\r\n",
        "df = pd.read_csv(\"/content/drive/MyDrive/data/wisc_bc_data.csv\") \r\n",
        "\r\n",
        "# X = 전체 행, 마지막 열 제외한 모든 열 데이터 -> n차원 공간의 포인트\r\n",
        "X = df.iloc[:, 2:].to_numpy() \r\n",
        "y = df['diagnosis'].to_numpy()   \r\n",
        "\r\n",
        "                       \r\n",
        "from sklearn import preprocessing \r\n",
        "# X=preprocessing.StandardScaler().fit(X).transform(X)  # scale 함수 적용\r\n",
        "X=preprocessing.MinMaxScaler().fit(X).transform(X)      # min/max 함수 적용\r\n",
        "\r\n",
        "\r\n",
        "from sklearn.model_selection import train_test_split \r\n",
        "                                                               \r\n",
        "# 훈련 데이터 70, 테스트 데이터 30으로 나눈다. \r\n",
        "X_train, X_test, y_train, y_test = train_test_split(X,y,test_size=0.3, random_state = 10)\r\n",
        "\r\n",
        "# 학습/예측(Training/Pradiction)\r\n",
        "from sklearn.neighbors import KNeighborsClassifier\r\n",
        "\r\n",
        "# k-NN 분류기를 생성\r\n",
        "classifier = KNeighborsClassifier(n_neighbors=12)\r\n",
        "\r\n",
        "# 분류기 학습\r\n",
        "classifier.fit(X_train, y_train)\r\n",
        "\r\n",
        "# 예측\r\n",
        "y_pred= classifier.predict(X_test)\r\n",
        "\r\n",
        "# 모델 평가\r\n",
        "from sklearn.metrics import confusion_matrix\r\n",
        "conf_matrix= confusion_matrix(y_test, y_pred)\r\n",
        "print(conf_matrix)    "
      ],
      "execution_count": null,
      "outputs": [
        {
          "output_type": "stream",
          "text": [
            "[[98  0]\n",
            " [ 2 71]]\n"
          ],
          "name": "stdout"
        }
      ]
    },
    {
      "cell_type": "code",
      "metadata": {
        "colab": {
          "base_uri": "https://localhost:8080/"
        },
        "id": "JwTfYFaNLTtc",
        "outputId": "2da1c2d7-dac0-4843-df7f-339f94a3196c"
      },
      "source": [
        "# 정밀도 , 재현율, f1 score 확인\r\n",
        "from sklearn.metrics import classification_report\r\n",
        "report = classification_report(y_test, y_pred)\r\n",
        "print(report)"
      ],
      "execution_count": null,
      "outputs": [
        {
          "output_type": "stream",
          "text": [
            "              precision    recall  f1-score   support\n",
            "\n",
            "           B       0.98      1.00      0.99        98\n",
            "           M       1.00      0.97      0.99        73\n",
            "\n",
            "    accuracy                           0.99       171\n",
            "   macro avg       0.99      0.99      0.99       171\n",
            "weighted avg       0.99      0.99      0.99       171\n",
            "\n"
          ],
          "name": "stdout"
        }
      ]
    },
    {
      "cell_type": "code",
      "metadata": {
        "colab": {
          "base_uri": "https://localhost:8080/"
        },
        "id": "b0F2i8X9LTkk",
        "outputId": "64b38cd6-983a-4d8f-d93e-0141b87e87bd"
      },
      "source": [
        "# 정확도 확인하는 코드 \r\n",
        "from sklearn.metrics import accuracy_score\r\n",
        "accuracy = accuracy_score( y_test, y_pred)\r\n",
        "print(accuracy)"
      ],
      "execution_count": null,
      "outputs": [
        {
          "output_type": "stream",
          "text": [
            "0.9883040935672515\n"
          ],
          "name": "stdout"
        }
      ]
    },
    {
      "cell_type": "markdown",
      "metadata": {
        "id": "xr8qbAhsLPxX"
      },
      "source": [
        "기존 정확도 : 0.9707602339181286  ---->  0.9883040935672515  \r\n",
        "기존 scale 함수를 이용했을때 보다 정확도가 더 올라갔습니다."
      ]
    },
    {
      "cell_type": "markdown",
      "metadata": {
        "id": "_tEeNCcBLe5_"
      },
      "source": [
        ""
      ]
    },
    {
      "cell_type": "markdown",
      "metadata": {
        "id": "GjihvZkTLe2w"
      },
      "source": [
        ""
      ]
    },
    {
      "cell_type": "markdown",
      "metadata": {
        "id": "b9AMePXeLewT"
      },
      "source": [
        "#**■ 나이브 베이즈(Naive Bayes)**\r\n",
        "\r\n",
        "R이 좋은 함수와 패키지가 파이썬보다 더 많다. (역사가 더 깊다.)\r\n",
        "\r\n",
        "파이썬으로 머신러닝을 구현하는 경우가 현업에서는 더 많습니다.\r\n",
        "\r\n",
        "앞에서 knn 으로 머신러닝 구현할 때 R 과의 차이점은 ? Factor 로 변환할 필요가 없었다.\r\n",
        "\r\n",
        "구현 코드 :   iris 데이터 분류 \r\n"
      ]
    },
    {
      "cell_type": "code",
      "metadata": {
        "colab": {
          "base_uri": "https://localhost:8080/"
        },
        "id": "ZIr1EjKwLPPI",
        "outputId": "775b09f8-d3e7-482b-f90f-f7bd0c5f75b0"
      },
      "source": [
        "import matplotlib.pyplot as plt\r\n",
        "from sklearn.model_selection import train_test_split\r\n",
        "from sklearn import metrics\r\n",
        "import numpy as np\r\n",
        "import pandas  as pd\r\n",
        "\r\n",
        "\r\n",
        "# 1. 데이터 준비\r\n",
        "col_names = ['sepal-length', 'sepal-width','petal-length', 'petal-width','Class']\r\n",
        "\r\n",
        "# csv 파일에서 DataFrame을 생성\r\n",
        "dataset = pd.read_csv('/content/drive/MyDrive/data/iris2.csv', encoding='UTF-8', header=None, names=col_names)\r\n",
        "print(dataset)"
      ],
      "execution_count": null,
      "outputs": [
        {
          "output_type": "stream",
          "text": [
            "     sepal-length  sepal-width  petal-length  petal-width           Class\n",
            "0             5.1          3.5           1.4          0.2     Iris-setosa\n",
            "1             4.9          3.0           1.4          0.2     Iris-setosa\n",
            "2             4.7          3.2           1.3          0.2     Iris-setosa\n",
            "3             4.6          3.1           1.5          0.2     Iris-setosa\n",
            "4             5.0          3.6           1.4          0.2     Iris-setosa\n",
            "..            ...          ...           ...          ...             ...\n",
            "145           6.7          3.0           5.2          2.3  Iris-virginica\n",
            "146           6.3          2.5           5.0          1.9  Iris-virginica\n",
            "147           6.5          3.0           5.2          2.0  Iris-virginica\n",
            "148           6.2          3.4           5.4          2.3  Iris-virginica\n",
            "149           5.9          3.0           5.1          1.8  Iris-virginica\n",
            "\n",
            "[150 rows x 5 columns]\n"
          ],
          "name": "stdout"
        }
      ]
    },
    {
      "cell_type": "code",
      "metadata": {
        "colab": {
          "base_uri": "https://localhost:8080/"
        },
        "id": "8ABAky_7L_3z",
        "outputId": "69a3009f-9835-4929-ccaa-59e20cba3763"
      },
      "source": [
        "# DataFrame 확인\r\n",
        "print(dataset.shape) # (row개수, column개수)"
      ],
      "execution_count": null,
      "outputs": [
        {
          "output_type": "stream",
          "text": [
            "(150, 5)\n"
          ],
          "name": "stdout"
        }
      ]
    },
    {
      "cell_type": "code",
      "metadata": {
        "colab": {
          "base_uri": "https://localhost:8080/"
        },
        "id": "t4STA23GMBD2",
        "outputId": "3fb53f5b-f07a-42f3-b4f4-db9d4d1ea7ec"
      },
      "source": [
        "print(dataset.info()) # 데이터 타입, row 개수, column 개수, 컬럼 데이터 타입"
      ],
      "execution_count": null,
      "outputs": [
        {
          "output_type": "stream",
          "text": [
            "<class 'pandas.core.frame.DataFrame'>\n",
            "RangeIndex: 150 entries, 0 to 149\n",
            "Data columns (total 5 columns):\n",
            " #   Column        Non-Null Count  Dtype  \n",
            "---  ------        --------------  -----  \n",
            " 0   sepal-length  150 non-null    float64\n",
            " 1   sepal-width   150 non-null    float64\n",
            " 2   petal-length  150 non-null    float64\n",
            " 3   petal-width   150 non-null    float64\n",
            " 4   Class         150 non-null    object \n",
            "dtypes: float64(4), object(1)\n",
            "memory usage: 6.0+ KB\n",
            "None\n"
          ],
          "name": "stdout"
        }
      ]
    },
    {
      "cell_type": "code",
      "metadata": {
        "colab": {
          "base_uri": "https://localhost:8080/"
        },
        "id": "hKEQczcuMA9I",
        "outputId": "aa0b9c64-9ea2-44d4-8d34-4a5c634d2de7"
      },
      "source": [
        "print(dataset.describe()) # 요약 통계 정보"
      ],
      "execution_count": null,
      "outputs": [
        {
          "output_type": "stream",
          "text": [
            "       sepal-length  sepal-width  petal-length  petal-width\n",
            "count    150.000000   150.000000    150.000000   150.000000\n",
            "mean       5.843333     3.054000      3.758667     1.198667\n",
            "std        0.828066     0.433594      1.764420     0.763161\n",
            "min        4.300000     2.000000      1.000000     0.100000\n",
            "25%        5.100000     2.800000      1.600000     0.300000\n",
            "50%        5.800000     3.000000      4.350000     1.300000\n",
            "75%        6.400000     3.300000      5.100000     1.800000\n",
            "max        7.900000     4.400000      6.900000     2.500000\n"
          ],
          "name": "stdout"
        }
      ]
    },
    {
      "cell_type": "code",
      "metadata": {
        "colab": {
          "base_uri": "https://localhost:8080/"
        },
        "id": "9_U_mV_KMA2j",
        "outputId": "51c8054a-6c20-456b-91a2-d0105b9df856"
      },
      "source": [
        "print(dataset.iloc[0:5]) # dataset.head()"
      ],
      "execution_count": null,
      "outputs": [
        {
          "output_type": "stream",
          "text": [
            "   sepal-length  sepal-width  petal-length  petal-width        Class\n",
            "0           5.1          3.5           1.4          0.2  Iris-setosa\n",
            "1           4.9          3.0           1.4          0.2  Iris-setosa\n",
            "2           4.7          3.2           1.3          0.2  Iris-setosa\n",
            "3           4.6          3.1           1.5          0.2  Iris-setosa\n",
            "4           5.0          3.6           1.4          0.2  Iris-setosa\n"
          ],
          "name": "stdout"
        }
      ]
    },
    {
      "cell_type": "code",
      "metadata": {
        "colab": {
          "base_uri": "https://localhost:8080/"
        },
        "id": "GSrrRuRdMDpd",
        "outputId": "92b53482-8e06-47b2-8a76-3c4e231fbb5c"
      },
      "source": [
        "print(dataset.iloc[-5:]) # dataset.tail()"
      ],
      "execution_count": null,
      "outputs": [
        {
          "output_type": "stream",
          "text": [
            "     sepal-length  sepal-width  petal-length  petal-width           Class\n",
            "145           6.7          3.0           5.2          2.3  Iris-virginica\n",
            "146           6.3          2.5           5.0          1.9  Iris-virginica\n",
            "147           6.5          3.0           5.2          2.0  Iris-virginica\n",
            "148           6.2          3.4           5.4          2.3  Iris-virginica\n",
            "149           5.9          3.0           5.1          1.8  Iris-virginica\n"
          ],
          "name": "stdout"
        }
      ]
    },
    {
      "cell_type": "code",
      "metadata": {
        "id": "UpwI3pyYMLu8"
      },
      "source": [
        "# X = 전체 행, 마지막 열 제외한 모든 열 데이터 -> n차원 공간의 포인트\r\n",
        "X = dataset.iloc[:,:-1].to_numpy()  # DataFrame을 np.ndarray로 변환\r\n",
        "\r\n",
        "# y = 전체 행, 마지막 열 데이터\r\n",
        "y = dataset.iloc[:, 4].to_numpy()"
      ],
      "execution_count": null,
      "outputs": []
    },
    {
      "cell_type": "code",
      "metadata": {
        "colab": {
          "base_uri": "https://localhost:8080/"
        },
        "id": "JKBxrXTSMYET",
        "outputId": "33f0d28c-33bf-40bf-9b35-dd654ca89430"
      },
      "source": [
        "# 2. 데이터 분리 \r\n",
        "from sklearn.model_selection import train_test_split\r\n",
        "# 전체 데이터 세트를 학습 세트(training set)와 검증 세트(test set)로 나눔\r\n",
        "X_train, X_test, y_train, y_test = train_test_split(X, y, test_size=0.2, random_state = 10)\r\n",
        "print(len(X_train), len(X_test))\r\n",
        "\r\n",
        "print(X_train[:3])\r\n",
        "print(y_train[:3])"
      ],
      "execution_count": null,
      "outputs": [
        {
          "output_type": "stream",
          "text": [
            "120 30\n",
            "[[6.6 2.9 4.6 1.3]\n",
            " [6.2 2.9 4.3 1.3]\n",
            " [7.2 3.  5.8 1.6]]\n",
            "['Iris-versicolor' 'Iris-versicolor' 'Iris-virginica']\n"
          ],
          "name": "stdout"
        }
      ]
    },
    {
      "cell_type": "code",
      "metadata": {
        "colab": {
          "base_uri": "https://localhost:8080/"
        },
        "id": "X0NSPlQEMr67",
        "outputId": "d42bfe21-8a17-4811-f073-81125ace8849"
      },
      "source": [
        "# 3. 거리 계산을 위해서 각 특성들을 스케일링(표준화)\r\n",
        "# Z-score 표준화: 평균을 0, 표준편차 1로 변환\r\n",
        "\r\n",
        "from sklearn.preprocessing import StandardScaler\r\n",
        "\r\n",
        "scaler = StandardScaler() # Scaler 객체 생성\r\n",
        "scaler.fit(X_train) # 스케일링(표준화)를 위한 평균과 표준 편차 계산\r\n",
        "X_train = scaler.transform(X_train) # 스케일링(표준화 수행)\r\n",
        "X_test = scaler.transform(X_test)\r\n",
        "\r\n",
        "# 스케일링(z-score 표준화 수행 결과 확인)\r\n",
        "for col in range(4):\r\n",
        "    print(f'평균 = {X_train[:, col].mean()}, 표준편차= {X_train[:, col].std()}')\r\n",
        "print('-----------------------------------------------------------')\r\n",
        "for col in range(4):\r\n",
        "    print(f'평균 = {X_test[:, col].mean()}, 표준편차= {X_test[:, col].std()}')    "
      ],
      "execution_count": null,
      "outputs": [
        {
          "output_type": "stream",
          "text": [
            "평균 = 1.4802973661668754e-17, 표준편차= 1.0000000000000004\n",
            "평균 = 2.960594732333751e-17, 표준편차= 0.9999999999999998\n",
            "평균 = -1.4802973661668754e-17, 표준편차= 0.9999999999999999\n",
            "평균 = 2.960594732333751e-17, 표준편차= 0.9999999999999998\n",
            "-----------------------------------------------------------\n",
            "평균 = -0.1591064219014602, 표준편차= 0.9106063078288726\n",
            "평균 = -0.16677318256783077, 표준편차= 1.0169815228119636\n",
            "평균 = -0.06470452825153368, 표준편차= 0.9442136953974514\n",
            "평균 = -0.1218114514292482, 표준편차= 0.9102215847245505\n"
          ],
          "name": "stdout"
        }
      ]
    },
    {
      "cell_type": "code",
      "metadata": {
        "colab": {
          "base_uri": "https://localhost:8080/"
        },
        "id": "uii_8dG7N9UY",
        "outputId": "9934bb96-74c8-4f7d-fa45-c1f7a7c9de68"
      },
      "source": [
        "# 4. 학습/예측(Training/Pradiction)\r\n",
        "from sklearn.naive_bayes import BernoulliNB\r\n",
        "#from sklearn.naive_bayes import GaussianNB\r\n",
        "#model = GaussianNB() # Gaussian Naive Bayes 모델 선택 - 연속형 자료\r\n",
        "#model = GaussianNB(var_smoothing=1e-09) # Gaussian Naive Bayes 모델 선택 - 연속형 자료, \r\n",
        "#var_smoothing= 라플라스 값 지정 옵션, 1e-09 : 0.000000001\r\n",
        "\r\n",
        "model = BernoulliNB()\r\n",
        "model.fit( X_train, y_train )\r\n",
        "\r\n",
        "# 예측\r\n",
        "y_pred= model.predict(X_test)\r\n",
        "print(y_pred)"
      ],
      "execution_count": null,
      "outputs": [
        {
          "output_type": "stream",
          "text": [
            "['Iris-virginica' 'Iris-virginica' 'Iris-setosa' 'Iris-virginica'\n",
            " 'Iris-setosa' 'Iris-setosa' 'Iris-virginica' 'Iris-versicolor'\n",
            " 'Iris-setosa' 'Iris-versicolor' 'Iris-versicolor' 'Iris-versicolor'\n",
            " 'Iris-versicolor' 'Iris-setosa' 'Iris-setosa' 'Iris-virginica'\n",
            " 'Iris-virginica' 'Iris-setosa' 'Iris-setosa' 'Iris-setosa'\n",
            " 'Iris-virginica' 'Iris-virginica' 'Iris-virginica' 'Iris-setosa'\n",
            " 'Iris-virginica' 'Iris-setosa' 'Iris-versicolor' 'Iris-versicolor'\n",
            " 'Iris-virginica' 'Iris-virginica']\n"
          ],
          "name": "stdout"
        }
      ]
    },
    {
      "cell_type": "code",
      "metadata": {
        "colab": {
          "base_uri": "https://localhost:8080/"
        },
        "id": "ENdptwzGOKau",
        "outputId": "d2b9fa73-5374-4b3a-ed30-0a0b0b4b8dc6"
      },
      "source": [
        "#5. 모델 평가\r\n",
        "from sklearn.metrics import confusion_matrix\r\n",
        "conf_matrix= confusion_matrix(y_test, y_pred)\r\n",
        "print(conf_matrix)\r\n",
        "\r\n",
        "# 이원교차표 -- 대각선에 있는 숫자가 정답을 맞춘 것, 그 외가 틀린 것"
      ],
      "execution_count": null,
      "outputs": [
        {
          "output_type": "stream",
          "text": [
            "[[10  0  0]\n",
            " [ 0 13  0]\n",
            " [ 0  0  7]]\n"
          ],
          "name": "stdout"
        }
      ]
    },
    {
      "cell_type": "code",
      "metadata": {
        "colab": {
          "base_uri": "https://localhost:8080/"
        },
        "id": "zTTJiJZnOMGy",
        "outputId": "a89b60ad-3cc9-4f65-8971-08e06f6dd72d"
      },
      "source": [
        "# 정밀도 , 재현율, f1 score 확인\r\n",
        "from sklearn.metrics import classification_report\r\n",
        "report = classification_report(y_test, y_pred)\r\n",
        "print(report)"
      ],
      "execution_count": null,
      "outputs": [
        {
          "output_type": "stream",
          "text": [
            "                 precision    recall  f1-score   support\n",
            "\n",
            "    Iris-setosa       0.91      1.00      0.95        10\n",
            "Iris-versicolor       0.86      0.46      0.60        13\n",
            " Iris-virginica       0.50      0.86      0.63         7\n",
            "\n",
            "       accuracy                           0.73        30\n",
            "      macro avg       0.76      0.77      0.73        30\n",
            "   weighted avg       0.79      0.73      0.72        30\n",
            "\n"
          ],
          "name": "stdout"
        }
      ]
    },
    {
      "cell_type": "code",
      "metadata": {
        "colab": {
          "base_uri": "https://localhost:8080/"
        },
        "id": "4OVQO7LfOMxb",
        "outputId": "3b6ba136-77a1-4e71-9744-220cab072b3c"
      },
      "source": [
        "# 정확도 확인하는 코드 \r\n",
        "from sklearn.metrics import accuracy_score\r\n",
        "accuracy = accuracy_score( y_test, y_pred)\r\n",
        "print(accuracy)  "
      ],
      "execution_count": null,
      "outputs": [
        {
          "output_type": "stream",
          "text": [
            "0.7333333333333333\n"
          ],
          "name": "stdout"
        }
      ]
    },
    {
      "cell_type": "markdown",
      "metadata": {
        "id": "l_GYoaFOOnZ2"
      },
      "source": [
        ""
      ]
    },
    {
      "cell_type": "markdown",
      "metadata": {
        "id": "XJoccA9FOnUR"
      },
      "source": [
        ""
      ]
    },
    {
      "cell_type": "markdown",
      "metadata": {
        "id": "0LgQy2p6OnPW"
      },
      "source": [
        "문제7. 위의 나이브 베이즈 모델의 성능을 더 올리시오 ~\r\n",
        "\r\n",
        "    기존 정확도 : 0.7333 -----> 개선후 정확도 :  ?\r\n",
        "         ↓                          ↓\r\n",
        "    BernoulliNB                  GaussianNB\r\n"
      ]
    },
    {
      "cell_type": "code",
      "metadata": {
        "colab": {
          "base_uri": "https://localhost:8080/"
        },
        "id": "2wMsdaJyOn_c",
        "outputId": "37f3da02-b846-4adb-b6a4-f50e611b2440"
      },
      "source": [
        "import matplotlib.pyplot as plt\r\n",
        "from sklearn.model_selection import train_test_split\r\n",
        "from sklearn import metrics\r\n",
        "import numpy as np\r\n",
        "import pandas  as pd\r\n",
        "\r\n",
        "# 1. 데이터 준비\r\n",
        "col_names = ['sepal-length', 'sepal-width','petal-length', 'petal-width','Class']\r\n",
        "\r\n",
        "# csv 파일에서 DataFrame을 생성\r\n",
        "dataset = pd.read_csv('/content/drive/MyDrive/data/iris2.csv', encoding='UTF-8', header=None, names=col_names)\r\n",
        "\r\n",
        "# X = 전체 행, 마지막 열 제외한 모든 열 데이터 -> n차원 공간의 포인트\r\n",
        "X = dataset.iloc[:,:-1].to_numpy() # DataFrame을 np.ndarray로 변환\r\n",
        "\r\n",
        "# y = 전체 행, 마지막 열 데이터\r\n",
        "y = dataset.iloc[:, 4].to_numpy()\r\n",
        "\r\n",
        "# 데이터 분리 \r\n",
        "from sklearn.model_selection import train_test_split\r\n",
        "\r\n",
        "# 전체 데이터 세트를 학습 세트(training set)와 검증 세트(test set)로 나눔\r\n",
        "X_train, X_test, y_train, y_test = train_test_split(X, y, test_size=0.2, random_state = 10)\r\n",
        "\r\n",
        "# 3. 거리 계산을 위해서 각 특성들을 스케일링(표준화)\r\n",
        "# Z-score 표준화: 평균을 0, 표준편차 1로 변환\r\n",
        "\r\n",
        "from sklearn.preprocessing import StandardScaler\r\n",
        "\r\n",
        "scaler = StandardScaler() # Scaler 객체 생성\r\n",
        "scaler.fit(X_train) # 스케일링(표준화)를 위한 평균과 표준 편차 계산\r\n",
        "X_train = scaler.transform(X_train) # 스케일링(표준화 수행)\r\n",
        "X_test = scaler.transform(X_test)\r\n",
        "\r\n",
        "\r\n",
        "# 4. 학습/예측(Training/Pradiction)\r\n",
        "#from sklearn.naive_bayes import BernoulliNB\r\n",
        "from sklearn.naive_bayes import GaussianNB\r\n",
        "\r\n",
        "#model = BernoulliNB()\r\n",
        "model = GaussianNB()\r\n",
        "model.fit( X_train, y_train )\r\n",
        "\r\n",
        "# 예측\r\n",
        "y_pred= model.predict(X_test)\r\n",
        "\r\n",
        "#5. 모델 평가\r\n",
        "from sklearn.metrics import confusion_matrix\r\n",
        "conf_matrix= confusion_matrix(y_test, y_pred)\r\n",
        "print(conf_matrix)\r\n",
        "\r\n",
        "# 이원교차표 -- 대각선에 있는 숫자가 정답을 맞춘 것, 그 외가 틀린 것"
      ],
      "execution_count": null,
      "outputs": [
        {
          "output_type": "stream",
          "text": [
            "[[10  0  0]\n",
            " [ 0 13  0]\n",
            " [ 0  0  7]]\n"
          ],
          "name": "stdout"
        }
      ]
    },
    {
      "cell_type": "code",
      "metadata": {
        "colab": {
          "base_uri": "https://localhost:8080/"
        },
        "id": "zd6hVrPZQMxQ",
        "outputId": "cd25b12a-a41b-4ed2-ad4a-8d8dd61b090f"
      },
      "source": [
        "# 정밀도 , 재현율, f1 score 확인\r\n",
        "from sklearn.metrics import classification_report\r\n",
        "report = classification_report(y_test, y_pred)\r\n",
        "print(report)"
      ],
      "execution_count": null,
      "outputs": [
        {
          "output_type": "stream",
          "text": [
            "                 precision    recall  f1-score   support\n",
            "\n",
            "    Iris-setosa       1.00      1.00      1.00        10\n",
            "Iris-versicolor       1.00      1.00      1.00        13\n",
            " Iris-virginica       1.00      1.00      1.00         7\n",
            "\n",
            "       accuracy                           1.00        30\n",
            "      macro avg       1.00      1.00      1.00        30\n",
            "   weighted avg       1.00      1.00      1.00        30\n",
            "\n"
          ],
          "name": "stdout"
        }
      ]
    },
    {
      "cell_type": "code",
      "metadata": {
        "colab": {
          "base_uri": "https://localhost:8080/"
        },
        "id": "40LyVdoKQMpj",
        "outputId": "d4598228-ad9e-40eb-c641-decc517c005f"
      },
      "source": [
        "# 정확도 확인하는 코드 \r\n",
        "from sklearn.metrics import accuracy_score\r\n",
        "accuracy = accuracy_score( y_test, y_pred)\r\n",
        "print(accuracy)  "
      ],
      "execution_count": null,
      "outputs": [
        {
          "output_type": "stream",
          "text": [
            "1.0\n"
          ],
          "name": "stdout"
        }
      ]
    },
    {
      "cell_type": "markdown",
      "metadata": {
        "id": "7nMek9cdQbDI"
      },
      "source": [
        "    기존 정확도 : 0.7333 -----> 개선후 정확도 :  1.0\r\n",
        "         ↓                          ↓\r\n",
        "    BernoulliNB                  GaussianNB"
      ]
    },
    {
      "cell_type": "markdown",
      "metadata": {
        "id": "roGmspC5Qf86"
      },
      "source": [
        ""
      ]
    },
    {
      "cell_type": "markdown",
      "metadata": {
        "id": "StMPoVXhQf3z"
      },
      "source": [
        ""
      ]
    },
    {
      "cell_type": "markdown",
      "metadata": {
        "id": "Vb2--QrrQfyj"
      },
      "source": [
        "문제8. 유방암 데이터의 나이브베이즈 모델을 파이썬으로 생성하고 정확도를 확인하시오\r\n"
      ]
    },
    {
      "cell_type": "code",
      "metadata": {
        "colab": {
          "base_uri": "https://localhost:8080/"
        },
        "id": "8tnzYHU5QgxY",
        "outputId": "d1092c85-7beb-46ce-bee9-6b3a9fadf35b"
      },
      "source": [
        "import pandas as pd  # 데이터 전처리를 위해서 \r\n",
        "import seaborn as sns # 시각화를 위해서 \r\n",
        "\r\n",
        "df = pd.read_csv(\"/content/drive/MyDrive/data/wisc_bc_data.csv\") \r\n",
        "\r\n",
        "# X = 전체 행, 마지막 열 제외한 모든 열 데이터 -> n차원 공간의 포인트\r\n",
        "X = df.iloc[:, 2:].to_numpy() \r\n",
        "y = df['diagnosis'].to_numpy()   \r\n",
        "\r\n",
        "                       \r\n",
        "from sklearn import preprocessing \r\n",
        "\r\n",
        "#X=preprocessing.StandardScaler().fit(X).transform(X) \r\n",
        "X=preprocessing.MinMaxScaler().fit(X).transform(X) \r\n",
        "\r\n",
        "from sklearn.model_selection import train_test_split \r\n",
        "                                                                \r\n",
        "# 훈련 데이터 70, 테스트 데이터 30으로 나눈다. \r\n",
        "X_train, X_test, y_train, y_test = train_test_split(X,y,test_size=0.3, random_state = 10)\r\n",
        "\r\n",
        "\r\n",
        "# 학습/예측(Training/Pradiction)\r\n",
        "#from sklearn.neighbors import KNeighborsClassifier\r\n",
        "from sklearn.naive_bayes import GaussianNB\r\n",
        "\r\n",
        "# k-NN 분류기를 생성\r\n",
        "#classifier = KNeighborsClassifier(n_neighbors=12)\r\n",
        "\r\n",
        "# 나이브베이즈 분류기를 생성\r\n",
        "classifier = GaussianNB() \r\n",
        "\r\n",
        "# 분류기 학습\r\n",
        "classifier.fit(X_train, y_train)\r\n",
        "\r\n",
        "# 예측\r\n",
        "y_pred= classifier.predict(X_test)\r\n",
        "print(y_pred)"
      ],
      "execution_count": null,
      "outputs": [
        {
          "output_type": "stream",
          "text": [
            "['M' 'B' 'B' 'B' 'M' 'B' 'B' 'B' 'M' 'B' 'B' 'M' 'M' 'B' 'B' 'M' 'B' 'B'\n",
            " 'B' 'M' 'M' 'M' 'B' 'M' 'M' 'B' 'B' 'M' 'B' 'M' 'B' 'B' 'M' 'M' 'B' 'B'\n",
            " 'B' 'B' 'B' 'B' 'B' 'M' 'B' 'B' 'B' 'B' 'B' 'M' 'M' 'B' 'B' 'B' 'B' 'B'\n",
            " 'M' 'M' 'M' 'B' 'M' 'B' 'B' 'M' 'B' 'M' 'M' 'B' 'M' 'B' 'B' 'M' 'M' 'M'\n",
            " 'B' 'M' 'B' 'B' 'B' 'M' 'M' 'B' 'B' 'M' 'B' 'B' 'B' 'M' 'M' 'B' 'B' 'B'\n",
            " 'B' 'B' 'B' 'M' 'B' 'B' 'B' 'B' 'B' 'B' 'M' 'B' 'B' 'B' 'B' 'M' 'B' 'B'\n",
            " 'M' 'M' 'M' 'B' 'B' 'M' 'B' 'M' 'B' 'B' 'M' 'M' 'M' 'M' 'B' 'M' 'M' 'M'\n",
            " 'M' 'B' 'M' 'M' 'B' 'B' 'B' 'M' 'B' 'B' 'B' 'B' 'B' 'B' 'B' 'M' 'M' 'M'\n",
            " 'M' 'B' 'B' 'M' 'B' 'B' 'B' 'M' 'M' 'B' 'B' 'B' 'B' 'M' 'M' 'M' 'B' 'M'\n",
            " 'M' 'M' 'M' 'B' 'B' 'B' 'B' 'B' 'M']\n"
          ],
          "name": "stdout"
        }
      ]
    },
    {
      "cell_type": "code",
      "metadata": {
        "colab": {
          "base_uri": "https://localhost:8080/"
        },
        "id": "sjhrsWIaQuFi",
        "outputId": "7e14f27c-bdd3-4069-ad46-9a24bd397812"
      },
      "source": [
        "# 작은 이원교차표\r\n",
        "from sklearn.metrics import confusion_matrix\r\n",
        "conf_matrix= confusion_matrix(y_test, y_pred)\r\n",
        "print(conf_matrix)    "
      ],
      "execution_count": null,
      "outputs": [
        {
          "output_type": "stream",
          "text": [
            "[[95  3]\n",
            " [ 7 66]]\n"
          ],
          "name": "stdout"
        }
      ]
    },
    {
      "cell_type": "code",
      "metadata": {
        "colab": {
          "base_uri": "https://localhost:8080/"
        },
        "id": "cpnOLLyUQwZS",
        "outputId": "9ba43d8f-28fe-44a8-fe1f-9bcaba85c66d"
      },
      "source": [
        "# 정밀도 , 재현율, f1 score 확인 \r\n",
        "from sklearn.metrics import classification_report\r\n",
        "report = classification_report(y_test, y_pred)\r\n",
        "print(report)"
      ],
      "execution_count": null,
      "outputs": [
        {
          "output_type": "stream",
          "text": [
            "              precision    recall  f1-score   support\n",
            "\n",
            "           B       0.93      0.97      0.95        98\n",
            "           M       0.96      0.90      0.93        73\n",
            "\n",
            "    accuracy                           0.94       171\n",
            "   macro avg       0.94      0.94      0.94       171\n",
            "weighted avg       0.94      0.94      0.94       171\n",
            "\n"
          ],
          "name": "stdout"
        }
      ]
    },
    {
      "cell_type": "code",
      "metadata": {
        "colab": {
          "base_uri": "https://localhost:8080/"
        },
        "id": "jSsi8sK9Qxq9",
        "outputId": "7e8a29ea-ef3b-4a01-9dd4-c6c151f0c9a4"
      },
      "source": [
        "# 정확도 확인하는 코드 \r\n",
        "from sklearn.metrics import accuracy_score\r\n",
        "accuracy = accuracy_score( y_test, y_pred)\r\n",
        "print(accuracy)  "
      ],
      "execution_count": null,
      "outputs": [
        {
          "output_type": "stream",
          "text": [
            "0.9415204678362573\n"
          ],
          "name": "stdout"
        }
      ]
    },
    {
      "cell_type": "markdown",
      "metadata": {
        "id": "pBsIs6uXQ0Hp"
      },
      "source": [
        ""
      ]
    },
    {
      "cell_type": "markdown",
      "metadata": {
        "id": "TrYaxLSGQ0BH"
      },
      "source": [
        ""
      ]
    },
    {
      "cell_type": "markdown",
      "metadata": {
        "id": "8AIluaYjQz67"
      },
      "source": [
        "문제9. 위의 나이브 베이즈 모델을 생성할때 위에서는 min/max 정규화를 했는데 이번에는 scale 함수를 적용해서 수행하고 정확도를 확인하시오\r\n"
      ]
    },
    {
      "cell_type": "code",
      "metadata": {
        "colab": {
          "base_uri": "https://localhost:8080/"
        },
        "id": "8r3j2xkbQ2uC",
        "outputId": "2854fc99-56e5-4f54-a11d-ed4babe9c827"
      },
      "source": [
        "import pandas as pd  # 데이터 전처리를 위해서 \r\n",
        "import seaborn as sns # 시각화를 위해서 \r\n",
        "\r\n",
        "df = pd.read_csv(\"/content/drive/MyDrive/data/wisc_bc_data.csv\") \r\n",
        "\r\n",
        "# X = 전체 행, 마지막 열 제외한 모든 열 데이터 -> n차원 공간의 포인트\r\n",
        "X = df.iloc[:, 2:].to_numpy() \r\n",
        "y = df['diagnosis'].to_numpy()   \r\n",
        "\r\n",
        "                       \r\n",
        "from sklearn import preprocessing \r\n",
        "\r\n",
        "X=preprocessing.StandardScaler().fit(X).transform(X) \r\n",
        "#X=preprocessing.MinMaxScaler().fit(X).transform(X) \r\n",
        "\r\n",
        "from sklearn.model_selection import train_test_split \r\n",
        "                                                                \r\n",
        "# 훈련 데이터 70, 테스트 데이터 30으로 나눈다. \r\n",
        "X_train, X_test, y_train, y_test = train_test_split(X,y,test_size=0.3, random_state = 10)\r\n",
        "\r\n",
        "\r\n",
        "# 학습/예측(Training/Pradiction)\r\n",
        "#from sklearn.neighbors import KNeighborsClassifier\r\n",
        "from sklearn.naive_bayes import GaussianNB\r\n",
        "\r\n",
        "# k-NN 분류기를 생성\r\n",
        "#classifier = KNeighborsClassifier(n_neighbors=12)\r\n",
        "\r\n",
        "# 나이브베이즈 분류기를 생성\r\n",
        "classifier = GaussianNB() \r\n",
        "\r\n",
        "# 분류기 학습\r\n",
        "classifier.fit(X_train, y_train)\r\n",
        "\r\n",
        "# 예측\r\n",
        "y_pred= classifier.predict(X_test)\r\n",
        "\r\n",
        "# 정확도 확인하는 코드 \r\n",
        "from sklearn.metrics import accuracy_score\r\n",
        "accuracy = accuracy_score( y_test, y_pred)\r\n",
        "print(accuracy)  "
      ],
      "execution_count": null,
      "outputs": [
        {
          "output_type": "stream",
          "text": [
            "0.9415204678362573\n"
          ],
          "name": "stdout"
        }
      ]
    },
    {
      "cell_type": "markdown",
      "metadata": {
        "id": "VgMGhcr6Q_i6"
      },
      "source": [
        "설명: 0.9415204678362573 로 min/max 와 차이는 없습니다."
      ]
    },
    {
      "cell_type": "markdown",
      "metadata": {
        "id": "iw_LOD0dRC3g"
      },
      "source": [
        ""
      ]
    },
    {
      "cell_type": "markdown",
      "metadata": {
        "id": "mHpLl9YXRCx5"
      },
      "source": [
        ""
      ]
    },
    {
      "cell_type": "markdown",
      "metadata": {
        "id": "cQduy4ICRCrb"
      },
      "source": [
        "문제10. wine 데이터를 나이브 베이즈 모델로 분류하시오\r\n",
        "\r\n",
        "데이터 선별 : 유방암 데이터, iris 데이터와 같이 종속변수가 분류이면서 수치형 데이터인 데이터로 선별합니다."
      ]
    },
    {
      "cell_type": "code",
      "metadata": {
        "colab": {
          "base_uri": "https://localhost:8080/"
        },
        "id": "Hje10MD6RJZi",
        "outputId": "7ae589d0-082b-453f-c3a4-d1030726dd29"
      },
      "source": [
        "import pandas as pd  # 데이터 전처리를 위해서 \r\n",
        "import seaborn as sns # 시각화를 위해서 \r\n",
        "\r\n",
        "df = pd.read_csv('/content/drive/MyDrive/data/wine.csv')\r\n",
        "print(df)"
      ],
      "execution_count": null,
      "outputs": [
        {
          "output_type": "stream",
          "text": [
            "    Type  Alcohol  Malic   Ash  ...  Color   Hue  Dilution  Proline\n",
            "0     t1    14.23   1.71  2.43  ...   5.64  1.04      3.92     1065\n",
            "1     t1    13.20   1.78  2.14  ...   4.38  1.05      3.40     1050\n",
            "2     t1    13.16   2.36  2.67  ...   5.68  1.03      3.17     1185\n",
            "3     t1    14.37   1.95  2.50  ...   7.80  0.86      3.45     1480\n",
            "4     t1    13.24   2.59  2.87  ...   4.32  1.04      2.93      735\n",
            "..   ...      ...    ...   ...  ...    ...   ...       ...      ...\n",
            "173   t3    13.71   5.65  2.45  ...   7.70  0.64      1.74      740\n",
            "174   t3    13.40   3.91  2.48  ...   7.30  0.70      1.56      750\n",
            "175   t3    13.27   4.28  2.26  ...  10.20  0.59      1.56      835\n",
            "176   t3    13.17   2.59  2.37  ...   9.30  0.60      1.62      840\n",
            "177   t3    14.13   4.10  2.74  ...   9.20  0.61      1.60      560\n",
            "\n",
            "[178 rows x 14 columns]\n"
          ],
          "name": "stdout"
        }
      ]
    },
    {
      "cell_type": "code",
      "metadata": {
        "colab": {
          "base_uri": "https://localhost:8080/"
        },
        "id": "fnXTwb9WR8Wm",
        "outputId": "29eb8205-1ecc-418d-fa95-0da7d8f43e66"
      },
      "source": [
        "# DataFrame 확인\r\n",
        "print(df.shape)  # (178, 14)"
      ],
      "execution_count": null,
      "outputs": [
        {
          "output_type": "stream",
          "text": [
            "(178, 14)\n"
          ],
          "name": "stdout"
        }
      ]
    },
    {
      "cell_type": "code",
      "metadata": {
        "colab": {
          "base_uri": "https://localhost:8080/"
        },
        "id": "8G0w6O8YR86C",
        "outputId": "5d1ebd29-8e65-48fb-c6a6-ce25323466ea"
      },
      "source": [
        "print(df.info())  # Type 이 라벨 컬럼 입니다. "
      ],
      "execution_count": null,
      "outputs": [
        {
          "output_type": "stream",
          "text": [
            "<class 'pandas.core.frame.DataFrame'>\n",
            "RangeIndex: 178 entries, 0 to 177\n",
            "Data columns (total 14 columns):\n",
            " #   Column           Non-Null Count  Dtype  \n",
            "---  ------           --------------  -----  \n",
            " 0   Type             178 non-null    object \n",
            " 1   Alcohol          178 non-null    float64\n",
            " 2   Malic            178 non-null    float64\n",
            " 3   Ash              178 non-null    float64\n",
            " 4   Alcalinity       178 non-null    float64\n",
            " 5   Magnesium        178 non-null    int64  \n",
            " 6   Phenols          178 non-null    float64\n",
            " 7   Flavanoids       178 non-null    float64\n",
            " 8   Nonflavanoids    178 non-null    float64\n",
            " 9   Proanthocyanins  178 non-null    float64\n",
            " 10  Color            178 non-null    float64\n",
            " 11  Hue              178 non-null    float64\n",
            " 12  Dilution         178 non-null    float64\n",
            " 13  Proline          178 non-null    int64  \n",
            "dtypes: float64(11), int64(2), object(1)\n",
            "memory usage: 19.6+ KB\n",
            "None\n"
          ],
          "name": "stdout"
        }
      ]
    },
    {
      "cell_type": "code",
      "metadata": {
        "colab": {
          "base_uri": "https://localhost:8080/"
        },
        "id": "KFQ2z52BR976",
        "outputId": "95c02c26-0a76-42db-ec2b-2dae76c3b47f"
      },
      "source": [
        "print(df.describe()) # 요약 통계정보를 확인한다. "
      ],
      "execution_count": null,
      "outputs": [
        {
          "output_type": "stream",
          "text": [
            "          Alcohol       Malic         Ash  ...         Hue    Dilution      Proline\n",
            "count  178.000000  178.000000  178.000000  ...  178.000000  178.000000   178.000000\n",
            "mean    13.000618    2.336348    2.366517  ...    0.957449    2.611685   746.893258\n",
            "std      0.811827    1.117146    0.274344  ...    0.228572    0.709990   314.907474\n",
            "min     11.030000    0.740000    1.360000  ...    0.480000    1.270000   278.000000\n",
            "25%     12.362500    1.602500    2.210000  ...    0.782500    1.937500   500.500000\n",
            "50%     13.050000    1.865000    2.360000  ...    0.965000    2.780000   673.500000\n",
            "75%     13.677500    3.082500    2.557500  ...    1.120000    3.170000   985.000000\n",
            "max     14.830000    5.800000    3.230000  ...    1.710000    4.000000  1680.000000\n",
            "\n",
            "[8 rows x 13 columns]\n"
          ],
          "name": "stdout"
        }
      ]
    },
    {
      "cell_type": "code",
      "metadata": {
        "colab": {
          "base_uri": "https://localhost:8080/"
        },
        "id": "_VeLqvtbR061",
        "outputId": "ee47243f-cf79-44ef-94d0-75a3cddb69e7"
      },
      "source": [
        "# X = 전체 행, 마지막 열 제외한 모든 열 데이터 -> n차원 공간의 포인트\r\n",
        "X = df.iloc[:, 1:].to_numpy() \r\n",
        "y = df['Type'].to_numpy()   \r\n",
        "\r\n",
        "print(df.shape)\r\n",
        "print(len(X))\r\n",
        "print(len(y))"
      ],
      "execution_count": null,
      "outputs": [
        {
          "output_type": "stream",
          "text": [
            "(178, 14)\n",
            "178\n",
            "178\n"
          ],
          "name": "stdout"
        }
      ]
    },
    {
      "cell_type": "code",
      "metadata": {
        "id": "qCENa4NGRwQq"
      },
      "source": [
        "# 정규화 진행                     \r\n",
        "from sklearn import preprocessing \r\n",
        "\r\n",
        "#X=preprocessing.StandardScaler().fit(X).transform(X) \r\n",
        "X=preprocessing.MinMaxScaler().fit(X).transform(X) "
      ],
      "execution_count": null,
      "outputs": []
    },
    {
      "cell_type": "code",
      "metadata": {
        "colab": {
          "base_uri": "https://localhost:8080/"
        },
        "id": "7MeV0OEHRkjY",
        "outputId": "7d8d3c2c-b9bd-4a7e-a0a4-dcf3fd3526e4"
      },
      "source": [
        "from sklearn.model_selection import train_test_split \r\n",
        "                                                                \r\n",
        "# 훈련 데이터 90, 테스트 데이터 10으로 나눈다. \r\n",
        "X_train, X_test, y_train, y_test = train_test_split(X,y,test_size=0.1, random_state = 10)\r\n",
        "\r\n",
        "print(len(X_train))\r\n",
        "print(len(X_test))"
      ],
      "execution_count": null,
      "outputs": [
        {
          "output_type": "stream",
          "text": [
            "160\n",
            "18\n"
          ],
          "name": "stdout"
        }
      ]
    },
    {
      "cell_type": "code",
      "metadata": {
        "colab": {
          "base_uri": "https://localhost:8080/"
        },
        "id": "VQazc0TvRgGy",
        "outputId": "1dbfb5cf-8ee4-46b3-dbef-b462c8b65607"
      },
      "source": [
        "# 학습/예측(Training/Pradiction)\r\n",
        "from sklearn.naive_bayes import GaussianNB\r\n",
        "\r\n",
        "# 나이브베이즈 분류기를 생성\r\n",
        "classifier = GaussianNB()\r\n",
        "\r\n",
        "# 분류기 학습\r\n",
        "classifier.fit(X_train, y_train)\r\n",
        "\r\n",
        "# 예측\r\n",
        "y_pred= classifier.predict(X_test)\r\n",
        "print(y_pred)"
      ],
      "execution_count": null,
      "outputs": [
        {
          "output_type": "stream",
          "text": [
            "['t2' 't2' 't1' 't2' 't1' 't2' 't2' 't1' 't3' 't1' 't1' 't2' 't1' 't3'\n",
            " 't2' 't2' 't3' 't2']\n"
          ],
          "name": "stdout"
        }
      ]
    },
    {
      "cell_type": "code",
      "metadata": {
        "colab": {
          "base_uri": "https://localhost:8080/"
        },
        "id": "PYcvPDmXRTXS",
        "outputId": "a63d4f4e-0237-483b-8069-487534459e71"
      },
      "source": [
        "# 작은 이원교차표\r\n",
        "from sklearn.metrics import confusion_matrix\r\n",
        "conf_matrix= confusion_matrix(y_test, y_pred)\r\n",
        "print(conf_matrix)    "
      ],
      "execution_count": null,
      "outputs": [
        {
          "output_type": "stream",
          "text": [
            "[[6 0 0]\n",
            " [0 9 2]\n",
            " [0 0 1]]\n"
          ],
          "name": "stdout"
        }
      ]
    },
    {
      "cell_type": "code",
      "metadata": {
        "colab": {
          "base_uri": "https://localhost:8080/"
        },
        "id": "8B6FO2NVRUkK",
        "outputId": "96b56c81-1ec0-4d94-92c8-52a7623cd190"
      },
      "source": [
        "# 정밀도 , 재현율, f1 score 확인 \r\n",
        "from sklearn.metrics import classification_report\r\n",
        "report = classification_report(y_test, y_pred)\r\n",
        "print(report)"
      ],
      "execution_count": null,
      "outputs": [
        {
          "output_type": "stream",
          "text": [
            "              precision    recall  f1-score   support\n",
            "\n",
            "          t1       1.00      1.00      1.00         6\n",
            "          t2       1.00      0.82      0.90        11\n",
            "          t3       0.33      1.00      0.50         1\n",
            "\n",
            "    accuracy                           0.89        18\n",
            "   macro avg       0.78      0.94      0.80        18\n",
            "weighted avg       0.96      0.89      0.91        18\n",
            "\n"
          ],
          "name": "stdout"
        }
      ]
    },
    {
      "cell_type": "code",
      "metadata": {
        "colab": {
          "base_uri": "https://localhost:8080/"
        },
        "id": "fpg_BTIXRVi6",
        "outputId": "ac89e1e5-01b8-45a0-9560-464b0332f382"
      },
      "source": [
        "# 정확도 확인하는 코드 \r\n",
        "from sklearn.metrics import accuracy_score\r\n",
        "accuracy = accuracy_score( y_test, y_pred)\r\n",
        "print(accuracy)"
      ],
      "execution_count": null,
      "outputs": [
        {
          "output_type": "stream",
          "text": [
            "0.8888888888888888\n"
          ],
          "name": "stdout"
        }
      ]
    },
    {
      "cell_type": "markdown",
      "metadata": {
        "id": "zkS17ZztSGko"
      },
      "source": [
        ""
      ]
    },
    {
      "cell_type": "markdown",
      "metadata": {
        "id": "aFam01WkSGgF"
      },
      "source": [
        ""
      ]
    },
    {
      "cell_type": "markdown",
      "metadata": {
        "id": "2_IgAueMSGa4"
      },
      "source": [
        "문제11. 위의 와인 데이터 분류의 나이브 베이즈 모델의 정확도는 0.88 이었습니다.  \r\n",
        "\t   이번에는 knn 으로 정확도를 확인하세요 ~"
      ]
    },
    {
      "cell_type": "code",
      "metadata": {
        "colab": {
          "base_uri": "https://localhost:8080/"
        },
        "id": "uE_1vvxfSIDp",
        "outputId": "3a7d4034-32f5-4ff2-9750-484bba7c1233"
      },
      "source": [
        "import pandas as pd  # 데이터 전처리를 위해서 \r\n",
        "import seaborn as sns # 시각화를 위해서 \r\n",
        "\r\n",
        "df = pd.read_csv('/content/drive/MyDrive/data/wine.csv')\r\n",
        "\r\n",
        "# X = 전체 행, 마지막 열 제외한 모든 열 데이터 -> n차원 공간의 포인트\r\n",
        "X = df.iloc[:, 1:].to_numpy() \r\n",
        "y = df['Type'].to_numpy()   \r\n",
        "\r\n",
        "# 정규화 진행                     \r\n",
        "from sklearn import preprocessing \r\n",
        "\r\n",
        "#X=preprocessing.StandardScaler().fit(X).transform(X) \r\n",
        "X=preprocessing.MinMaxScaler().fit(X).transform(X) \r\n",
        "\r\n",
        "from sklearn.model_selection import train_test_split \r\n",
        "                                                                \r\n",
        "# 훈련 데이터 90, 테스트 데이터 10으로 나눈다. \r\n",
        "X_train, X_test, y_train, y_test = train_test_split(X,y,test_size=0.1, random_state = 10)\r\n",
        "\r\n",
        "# 학습/예측(Training/Pradiction)\r\n",
        "from sklearn.neighbors import KNeighborsClassifier\r\n",
        "#from sklearn.naive_bayes import GaussianNB\r\n",
        "#from sklearn.naive_bayes import MultinomialNB\r\n",
        "\r\n",
        "# k-NN 분류기를 생성\r\n",
        "classifier = KNeighborsClassifier(n_neighbors=6)\r\n",
        "\r\n",
        "# 분류기 학습\r\n",
        "classifier.fit(X_train, y_train)\r\n",
        "\r\n",
        "# 예측\r\n",
        "y_pred= classifier.predict(X_test)\r\n",
        "print(y_pred)"
      ],
      "execution_count": null,
      "outputs": [
        {
          "output_type": "stream",
          "text": [
            "['t2' 't2' 't1' 't2' 't1' 't2' 't2' 't1' 't3' 't1' 't1' 't2' 't1' 't2'\n",
            " 't2' 't2' 't3' 't2']\n"
          ],
          "name": "stdout"
        }
      ]
    },
    {
      "cell_type": "code",
      "metadata": {
        "colab": {
          "base_uri": "https://localhost:8080/"
        },
        "id": "q0a20wiYSi9P",
        "outputId": "bcf93ed0-7f5b-4608-eaeb-e03f5ac5e495"
      },
      "source": [
        "# 작은 이원교차표\r\n",
        "from sklearn.metrics import confusion_matrix\r\n",
        "conf_matrix= confusion_matrix(y_test, y_pred)\r\n",
        "print(conf_matrix)    "
      ],
      "execution_count": null,
      "outputs": [
        {
          "output_type": "stream",
          "text": [
            "[[ 6  0  0]\n",
            " [ 0 10  1]\n",
            " [ 0  0  1]]\n"
          ],
          "name": "stdout"
        }
      ]
    },
    {
      "cell_type": "code",
      "metadata": {
        "colab": {
          "base_uri": "https://localhost:8080/"
        },
        "id": "JL01t5JFSlda",
        "outputId": "95c02cee-5fbf-4241-c6c1-1031992efaf7"
      },
      "source": [
        "# 정밀도 , 재현율, f1 score 확인 \r\n",
        "from sklearn.metrics import classification_report\r\n",
        "report = classification_report(y_test, y_pred)\r\n",
        "print(report)"
      ],
      "execution_count": null,
      "outputs": [
        {
          "output_type": "stream",
          "text": [
            "              precision    recall  f1-score   support\n",
            "\n",
            "          t1       1.00      1.00      1.00         6\n",
            "          t2       1.00      0.91      0.95        11\n",
            "          t3       0.50      1.00      0.67         1\n",
            "\n",
            "    accuracy                           0.94        18\n",
            "   macro avg       0.83      0.97      0.87        18\n",
            "weighted avg       0.97      0.94      0.95        18\n",
            "\n"
          ],
          "name": "stdout"
        }
      ]
    },
    {
      "cell_type": "code",
      "metadata": {
        "colab": {
          "base_uri": "https://localhost:8080/"
        },
        "id": "djAdODYgSj7G",
        "outputId": "3ed026cd-e9d4-4524-fa57-3a0204580fe3"
      },
      "source": [
        "# 정확도 확인하는 코드 \r\n",
        "from sklearn.metrics import accuracy_score\r\n",
        "accuracy = accuracy_score( y_test, y_pred)\r\n",
        "print(accuracy)  "
      ],
      "execution_count": null,
      "outputs": [
        {
          "output_type": "stream",
          "text": [
            "0.9444444444444444\n"
          ],
          "name": "stdout"
        }
      ]
    },
    {
      "cell_type": "markdown",
      "metadata": {
        "id": "goaeVE4BSn5C"
      },
      "source": [
        ""
      ]
    },
    {
      "cell_type": "markdown",
      "metadata": {
        "id": "RD48jBqfSnzX"
      },
      "source": [
        ""
      ]
    },
    {
      "cell_type": "markdown",
      "metadata": {
        "id": "2oe0MSbXSnsZ"
      },
      "source": [
        "**■ 파이썬 나이브 베이즈 사이킷런 함수 3가지**\r\n",
        "\r\n",
        " 1. BernoulliNB : 이진형 데이터를 분류할 때 적합\r\n",
        " 2. GaussianNB : 연속형 데이터를 분류할 때 적합\r\n",
        " 3. MultinomialNB : 범주형 데이터를 분류할 때 적합"
      ]
    },
    {
      "cell_type": "markdown",
      "metadata": {
        "id": "-_x1R1dlSsT8"
      },
      "source": [
        "문제12. 독버섯을 나이브 베이즈로 분류하시오 !\r\n",
        "\r\n",
        "** 독버섯 데이터를 나이브 베이즈 모델로 분류하기 \r\n",
        "\r\n",
        "     1. R 에서:\r\n",
        "     mushroom <- read.csv(\"mushrooms.csv\", header=T, stringsAsFactors=TRUE)\r\n",
        "\r\n",
        "     2. 파이썬에서:\r\n",
        "     df = pd.read.csv('c:\\\\data\\\\mushrooms.csv')\r\n"
      ]
    },
    {
      "cell_type": "code",
      "metadata": {
        "id": "_MKrj7daSr92"
      },
      "source": [
        "import pandas as pd  # 데이터 전처리를 위해서 \r\n",
        "import seaborn as sns # 시각화를 위해서 \r\n",
        "\r\n",
        "df = pd.read_csv('/content/drive/MyDrive/data/mushrooms.csv') \r\n",
        "df = pd.get_dummies(df)"
      ],
      "execution_count": null,
      "outputs": []
    },
    {
      "cell_type": "code",
      "metadata": {
        "colab": {
          "base_uri": "https://localhost:8080/"
        },
        "id": "q7KSN0MJTExZ",
        "outputId": "0a0e7acd-ed0c-417e-a786-09807e5c84dd"
      },
      "source": [
        "# DataFrame 확인\r\n",
        "print(df.shape) # 컬럼이 119개로 늘어남.\r\n",
        "# 왜 뻥튀기가됐냐? 독:1 아니면 :0, 독버섯데이터가 명목형데이터라 cap-shape만해도 6개를 만듬."
      ],
      "execution_count": null,
      "outputs": [
        {
          "output_type": "stream",
          "text": [
            "(8124, 119)\n"
          ],
          "name": "stdout"
        }
      ]
    },
    {
      "cell_type": "code",
      "metadata": {
        "colab": {
          "base_uri": "https://localhost:8080/"
        },
        "id": "AN4KK8n1TPEy",
        "outputId": "60aee911-6062-41bd-8a6d-9d3933ef3a72"
      },
      "source": [
        "print(df.info()) #전부 문자형(object)로 되어있음."
      ],
      "execution_count": null,
      "outputs": [
        {
          "output_type": "stream",
          "text": [
            "<class 'pandas.core.frame.DataFrame'>\n",
            "RangeIndex: 8124 entries, 0 to 8123\n",
            "Columns: 119 entries, type_edible to habitat_woods\n",
            "dtypes: uint8(119)\n",
            "memory usage: 944.2 KB\n",
            "None\n"
          ],
          "name": "stdout"
        }
      ]
    },
    {
      "cell_type": "code",
      "metadata": {
        "colab": {
          "base_uri": "https://localhost:8080/"
        },
        "id": "Eya-ORFITUzJ",
        "outputId": "246e8622-cb7e-49fe-e63c-9ee204da1ac7"
      },
      "source": [
        "print(df.describe()) #요약 통계정보를 확인한다."
      ],
      "execution_count": null,
      "outputs": [
        {
          "output_type": "stream",
          "text": [
            "       type_edible  type_poisonous  ...  habitat_waste  habitat_woods\n",
            "count  8124.000000     8124.000000  ...    8124.000000    8124.000000\n",
            "mean      0.517971        0.482029  ...       0.023634       0.387494\n",
            "std       0.499708        0.499708  ...       0.151914       0.487208\n",
            "min       0.000000        0.000000  ...       0.000000       0.000000\n",
            "25%       0.000000        0.000000  ...       0.000000       0.000000\n",
            "50%       1.000000        0.000000  ...       0.000000       0.000000\n",
            "75%       1.000000        1.000000  ...       0.000000       1.000000\n",
            "max       1.000000        1.000000  ...       1.000000       1.000000\n",
            "\n",
            "[8 rows x 119 columns]\n"
          ],
          "name": "stdout"
        }
      ]
    },
    {
      "cell_type": "code",
      "metadata": {
        "colab": {
          "base_uri": "https://localhost:8080/"
        },
        "id": "03Bv5YA-TCva",
        "outputId": "164c8e87-50c7-4acb-ccfa-60683aa5fb59"
      },
      "source": [
        "# X = 전체 행, 마지막 열 제외한 모든 열 데이터 -> n차원 공간의 포인트\r\n",
        "X = df.iloc[:, 2:].to_numpy() \r\n",
        "y = df.iloc[:,1].to_numpy()   \r\n",
        "  \r\n",
        "from sklearn.model_selection import train_test_split \r\n",
        "                                                                \r\n",
        "# 훈련 데이터 75, 테스트 데이터 25으로 나눈다. \r\n",
        "X_train, X_test, y_train, y_test = train_test_split(X,y,test_size=0.25, random_state = 10)\r\n",
        "\r\n",
        "# 학습/예측(Training/Pradiction)\r\n",
        "from sklearn.naive_bayes import MultinomialNB\r\n",
        "\r\n",
        "# 나이브베이즈 분류기를 생성\r\n",
        "classifier = MultinomialNB()\r\n",
        "\r\n",
        "# 분류기 학습\r\n",
        "classifier.fit(X_train, y_train)\r\n",
        "\r\n",
        "# 예측\r\n",
        "y_pred= classifier.predict(X_test)\r\n",
        "\r\n",
        "# 정확도 확인하는 코드 \r\n",
        "from sklearn.metrics import accuracy_score\r\n",
        "accuracy = accuracy_score( y_test, y_pred)\r\n",
        "print(accuracy)"
      ],
      "execution_count": null,
      "outputs": [
        {
          "output_type": "stream",
          "text": [
            "0.9497784342688331\n"
          ],
          "name": "stdout"
        }
      ]
    },
    {
      "cell_type": "code",
      "metadata": {
        "colab": {
          "base_uri": "https://localhost:8080/"
        },
        "id": "AfnSOWlKTbAE",
        "outputId": "905eaba5-5612-4a8c-b605-72fcdaf5a5f2"
      },
      "source": [
        "# 학습/예측(Training/Pradiction)\r\n",
        "from sklearn.naive_bayes import GaussianNB\r\n",
        "\r\n",
        "# 나이브베이즈 분류기를 생성\r\n",
        "classifier = GaussianNB() \r\n",
        "\r\n",
        "# 분류기 학습\r\n",
        "classifier.fit(X_train, y_train)\r\n",
        "\r\n",
        "# 예측\r\n",
        "y_pred= classifier.predict(X_test)\r\n",
        "\r\n",
        "# 정확도 확인하는 코드 \r\n",
        "from sklearn.metrics import accuracy_score\r\n",
        "accuracy = accuracy_score( y_test, y_pred)\r\n",
        "print(accuracy)"
      ],
      "execution_count": null,
      "outputs": [
        {
          "output_type": "stream",
          "text": [
            "0.9615952732644018\n"
          ],
          "name": "stdout"
        }
      ]
    },
    {
      "cell_type": "code",
      "metadata": {
        "colab": {
          "base_uri": "https://localhost:8080/"
        },
        "id": "l64nDAIDTiU1",
        "outputId": "1a7ef31b-7ec9-4b31-fffa-5f86af0240fa"
      },
      "source": [
        "# 학습/예측(Training/Pradiction)\r\n",
        "from sklearn.naive_bayes import BernoulliNB\r\n",
        "\r\n",
        "# 나이브베이즈 분류기를 생성\r\n",
        "classifier = BernoulliNB() \r\n",
        "\r\n",
        "# 분류기 학습\r\n",
        "classifier.fit(X_train, y_train)\r\n",
        "\r\n",
        "# 예측\r\n",
        "y_pred= classifier.predict(X_test)\r\n",
        "\r\n",
        "# 정확도 확인하는 코드 \r\n",
        "from sklearn.metrics import accuracy_score\r\n",
        "accuracy = accuracy_score( y_test, y_pred)\r\n",
        "print(accuracy)"
      ],
      "execution_count": null,
      "outputs": [
        {
          "output_type": "stream",
          "text": [
            "0.9350073855243722\n"
          ],
          "name": "stdout"
        }
      ]
    },
    {
      "cell_type": "markdown",
      "metadata": {
        "id": "f-n9IUm1TsG-"
      },
      "source": [
        "    classifier = MultinomialNB() --> 정확도 : 0.9497784342688331\r\n",
        "    classifier = GaussianNB() --> 정확도 : 0.9615952732644018 \r\n",
        "    classifier = BernoulliNB() --> 정확도 : 0.9350073855243722 \r\n"
      ]
    },
    {
      "cell_type": "markdown",
      "metadata": {
        "id": "pbvJqLXJT9M1"
      },
      "source": [
        ""
      ]
    },
    {
      "cell_type": "markdown",
      "metadata": {
        "id": "5wjNPDHfT9H9"
      },
      "source": [
        ""
      ]
    },
    {
      "cell_type": "markdown",
      "metadata": {
        "id": "h3olD0YST9Cm"
      },
      "source": [
        "문제13. 위에서 수행했던 독버섯 분류 나이브 베이즈 모델의 정확도를 아래와 같이 0.99 로 만드는 laplace 값을 알아내시오 !\r\n",
        "\r\n",
        "나이브베이즈 분류기를 생성\r\n",
        "    classifier = GaussianNB(var_smoothing= ?  )\r\n",
        "\r\n",
        "    0.9916297390448056\r\n",
        "\r\n",
        "힌트 코드: \r\n",
        "\r\n",
        "    import  numpy  as np\r\n",
        "\r\n",
        "    errors = []\r\n",
        "    for i in np.arange(0.001, 0.01 , 0.001):\r\n",
        "        nb = GaussianNB(var_smoothing=i)\r\n",
        "        nb.fit(X_train, y_train)\r\n",
        "        pred_i = nb.predict(X_test)\r\n",
        "        errors.append(np.mean(pred_i != y_test))\r\n",
        "    print(errors)\r\n",
        "\r\n",
        "    for k, i  in  zip(np.arange(0.001, 0.01 , 0.001),errors):\r\n",
        "        print (k, '--->', i)"
      ]
    },
    {
      "cell_type": "code",
      "metadata": {
        "colab": {
          "base_uri": "https://localhost:8080/"
        },
        "id": "uGbtdmaiUB62",
        "outputId": "604c10a9-b31a-4966-f3ee-2615db3ebd8d"
      },
      "source": [
        "# ■ mushrooms 독버섯데이터로 나이브베이즈\r\n",
        "\r\n",
        "import pandas as pd  # 데이터 전처리를 위해서 \r\n",
        "import seaborn as sns # 시각화를 위해서 \r\n",
        "\r\n",
        "df = pd.read_csv('/content/drive/MyDrive/data/mushrooms.csv') \r\n",
        "df = pd.get_dummies(df)\r\n",
        "\r\n",
        "# X = 전체 행, 마지막 열 제외한 모든 열 데이터 -> n차원 공간의 포인트\r\n",
        "X = df.iloc[:, 2:].to_numpy() \r\n",
        "y = df.iloc[:,1].to_numpy()   \r\n",
        "  \r\n",
        "from sklearn.model_selection import train_test_split \r\n",
        "                                                                \r\n",
        "# 훈련 데이터 75, 테스트 데이터 25으로 나눈다. \r\n",
        "X_train, X_test, y_train, y_test = train_test_split(X,y,test_size=0.25, random_state = 10)\r\n",
        "\r\n",
        "import  numpy  as np\r\n",
        "from sklearn.naive_bayes import GaussianNB\r\n",
        "\r\n",
        "errors = []\r\n",
        "\r\n",
        "for i in np.arange(0.001,0.01,0.001):   # 0.001, 0.002 , ... , 0.010\r\n",
        "    nb = GaussianNB(var_smoothing=i)\r\n",
        "    nb.fit(X_train, y_train)\r\n",
        "    pred_i = nb.predict(X_test)\r\n",
        "    errors.append(np.mean(pred_i != y_test))\r\n",
        "print(errors)"
      ],
      "execution_count": null,
      "outputs": [
        {
          "output_type": "stream",
          "text": [
            "[0.009354997538158542, 0.008862629246676515, 0.008862629246676515, 0.008370260955194485, 0.008370260955194485, 0.008370260955194485, 0.008370260955194485, 0.008370260955194485, 0.008370260955194485]\n"
          ],
          "name": "stdout"
        }
      ]
    },
    {
      "cell_type": "code",
      "metadata": {
        "colab": {
          "base_uri": "https://localhost:8080/"
        },
        "id": "LaEE2PCgUSA1",
        "outputId": "431d1ab4-ba6e-4b56-c4ae-320eb9d49611"
      },
      "source": [
        "for k, i  in  zip(np.arange(0.001,0.01,0.001), errors):\r\n",
        "    print (round(k, 3), '--->', i)"
      ],
      "execution_count": null,
      "outputs": [
        {
          "output_type": "stream",
          "text": [
            "0.001 ---> 0.009354997538158542\n",
            "0.002 ---> 0.008862629246676515\n",
            "0.003 ---> 0.008862629246676515\n",
            "0.004 ---> 0.008370260955194485\n",
            "0.005 ---> 0.008370260955194485\n",
            "0.006 ---> 0.008370260955194485\n",
            "0.007 ---> 0.008370260955194485\n",
            "0.008 ---> 0.008370260955194485\n",
            "0.009 ---> 0.008370260955194485\n"
          ],
          "name": "stdout"
        }
      ]
    },
    {
      "cell_type": "code",
      "metadata": {
        "colab": {
          "base_uri": "https://localhost:8080/",
          "height": 295
        },
        "id": "Sk93jFiNUUXr",
        "outputId": "e687e07e-8b63-4cba-da63-15aa79502a31"
      },
      "source": [
        "import matplotlib.pyplot as plt\r\n",
        "\r\n",
        "plt.plot(np.arange(0.001,0.01,0.001), errors, marker='o')\r\n",
        "plt.title('Mean error with K-Value')\r\n",
        "plt.xlabel('laplace value')\r\n",
        "plt.ylabel('mean error')\r\n",
        "plt.show()"
      ],
      "execution_count": null,
      "outputs": [
        {
          "output_type": "display_data",
          "data": {
            "image/png": "[encoded data removed]",
            "text/plain": [
              "<Figure size 432x288 with 1 Axes>"
            ]
          },
          "metadata": {
            "tags": [],
            "needs_background": "light"
          }
        }
      ]
    },
    {
      "cell_type": "markdown",
      "metadata": {
        "id": "HyBWh21TUWcq"
      },
      "source": [
        "Laplace 값 0.004 에서 오류율 최소  \r\n",
        "정확도 : 1 - 0.00837 = 0.99163"
      ]
    },
    {
      "cell_type": "code",
      "metadata": {
        "colab": {
          "base_uri": "https://localhost:8080/"
        },
        "id": "dGPPlWpWUwyS",
        "outputId": "2d929951-5ae4-41c3-be38-e167e0ea717d"
      },
      "source": [
        "# 학습/예측(Training/Pradiction)\r\n",
        "from sklearn.naive_bayes import GaussianNB\r\n",
        "\r\n",
        "# 나이브베이즈 분류기를 생성\r\n",
        "classifier = GaussianNB(var_smoothing=0.004) \r\n",
        "\r\n",
        "# 분류기 학습\r\n",
        "classifier.fit(X_train, y_train)\r\n",
        "\r\n",
        "# 예측\r\n",
        "y_pred= classifier.predict(X_test)\r\n",
        "\r\n",
        "# 작은 이원교차표\r\n",
        "from sklearn.metrics import confusion_matrix\r\n",
        "conf_matrix= confusion_matrix(y_test, y_pred)\r\n",
        "print(conf_matrix)"
      ],
      "execution_count": null,
      "outputs": [
        {
          "output_type": "stream",
          "text": [
            "[[1055   17]\n",
            " [   0  959]]\n"
          ],
          "name": "stdout"
        }
      ]
    },
    {
      "cell_type": "code",
      "metadata": {
        "colab": {
          "base_uri": "https://localhost:8080/"
        },
        "id": "vi7tXKzaU0NG",
        "outputId": "396a625d-7423-4924-a0f6-d80a5ce0144e"
      },
      "source": [
        "# 정밀도 , 재현율, f1 score 확인 \r\n",
        "from sklearn.metrics import classification_report\r\n",
        "report = classification_report(y_test, y_pred)\r\n",
        "print(report)"
      ],
      "execution_count": null,
      "outputs": [
        {
          "output_type": "stream",
          "text": [
            "              precision    recall  f1-score   support\n",
            "\n",
            "           0       1.00      0.98      0.99      1072\n",
            "           1       0.98      1.00      0.99       959\n",
            "\n",
            "    accuracy                           0.99      2031\n",
            "   macro avg       0.99      0.99      0.99      2031\n",
            "weighted avg       0.99      0.99      0.99      2031\n",
            "\n"
          ],
          "name": "stdout"
        }
      ]
    },
    {
      "cell_type": "code",
      "metadata": {
        "colab": {
          "base_uri": "https://localhost:8080/"
        },
        "id": "pz4UiDTTU1l6",
        "outputId": "c80bcbfa-2e3e-40ea-f5a4-5ec2c5086f7e"
      },
      "source": [
        "# 정확도 확인하는 코드 \r\n",
        "from sklearn.metrics import accuracy_score\r\n",
        "accuracy = accuracy_score( y_test, y_pred)\r\n",
        "print(accuracy) "
      ],
      "execution_count": null,
      "outputs": [
        {
          "output_type": "stream",
          "text": [
            "0.9916297390448056\n"
          ],
          "name": "stdout"
        }
      ]
    }
  ]
}