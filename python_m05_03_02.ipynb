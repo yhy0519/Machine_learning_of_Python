{
  "nbformat": 4,
  "nbformat_minor": 0,
  "metadata": {
    "colab": {
      "name": "python_m05_03_02.ipynb",
      "provenance": [],
      "collapsed_sections": [],
      "mount_file_id": "1aEGsaZ_KS9edfsGZWYqKOCh4cdFwqI-L",
      "authorship_tag": "ABX9TyMqwinQ3wtPwvRDfBZ8iYaD",
      "include_colab_link": true
    },
    "kernelspec": {
      "name": "python3",
      "display_name": "Python 3"
    }
  },
  "cells": [
    {
      "cell_type": "markdown",
      "metadata": {
        "id": "view-in-github",
        "colab_type": "text"
      },
      "source": [
        "<a href=\"https://colab.research.google.com/github/yhy0519/Machine_learning_of_Python/blob/main/python_m05_03_02.ipynb\" target=\"_parent\"><img src=\"https://colab.research.google.com/assets/colab-badge.svg\" alt=\"Open In Colab\"/></a>"
      ]
    },
    {
      "cell_type": "markdown",
      "metadata": {
        "id": "zD9vA-GdhWc6"
      },
      "source": [
        "# **■ 신경망(Neural Network)**\r\n",
        "\r\n",
        "          사람의 뇌   ------------------------>   컴퓨터를 이용한 지능처리\r\n",
        "              ↓                                             ↓   \r\n",
        "       생물학적 신경망내에서                   인공신경망에서는 가중치라는 것으로\r\n",
        "    반복적인 시그널이 발생할 때              기억의 효과를 대체할 수 있음을 설명했다.\r\n",
        "    그 시그널을 기억하는 일종의\r\n",
        "         학습효과가 있다"
      ]
    },
    {
      "cell_type": "markdown",
      "metadata": {
        "id": "_TsjZBIqmzEv"
      },
      "source": [
        ""
      ]
    },
    {
      "cell_type": "markdown",
      "metadata": {
        "id": "yOB_4rvYlnp8"
      },
      "source": [
        "※ 파라미터와 하이퍼 파라미터의 차이 ? (수제비3-12)\r\n",
        "\r\n",
        " ①. 파라미터 ? \r\n",
        " \r\n",
        "    모델 내부에서 확인이 가능한 변수로 데이터를 통해서 산출이 가능한 값\r\n",
        "    예측을 수행할 때, 모델에 의해 요귀되어지는 값들\r\n",
        "    사람의 수작업으로 측정되지 않음\r\n",
        "\t\r\n",
        "\t예: 신경망에서의 가중치, 회귀분석에서의 결정계수, 서포트 벡터 머신에서의 서포트 벡터\r\n",
        "\r\n",
        " ②. 하이퍼 파라미터 ? \r\n",
        "\r\n",
        "    모델에서 외적인 요소로 데이터 분석을 통해 얻어지는 값이 아니라 사용자가 직접 설정해주는 값\r\n",
        "    모델의 파라미터값을 측정하기 위해 알고리즘 구현 과정에서 사용\r\n",
        "    하이퍼 파라미터는 주로 알고리즘 사용자에 의해 결정\r\n",
        "\t\t\t\t\r\n",
        "\t예: 신경망에서의 학습률(러닝레이트), \r\n",
        "\t     knn 에서의 k 값, \r\n",
        "\t     의사결정트리에서의 나무의 깊이,\r\n",
        "\t     서포트 벡터머신에서의 C 값과 gamma 값\r\n",
        "\t\r\n",
        "\r\n",
        " 최적의 하이퍼 파라미터를 알아내는 기법 ? \r\n",
        "\r\n",
        "\t파이썬  →  grid search 기법\r\n",
        "\tR  →  caret 패키지"
      ]
    },
    {
      "cell_type": "markdown",
      "metadata": {
        "id": "5oRABN7QmySk"
      },
      "source": [
        ""
      ]
    },
    {
      "cell_type": "markdown",
      "metadata": {
        "id": "9o7IJZKOmCDd"
      },
      "source": [
        "** 퍼셉트론 ? 뇌의 신경세포 하나를 컴퓨터로 흉내낸 것\r\n",
        "\r\n",
        "\t\t            \t\t반복 학습 (중요도)\r\n",
        "\t\t\t\t              \t↓\r\n",
        "    1. 뇌 : 신호  ------------------------------------->  암기\r\n",
        "\r\n",
        "\t\t\t\t\t                  가중치\r\n",
        "\t\t\t\t                  \t  ↓             1 신호가 흐른다.\r\n",
        "    2. 인공신경망 : 신호  --------------------------->  \r\n",
        "\t\t\t\t\t\t\t\t                       0 신호가 흐르지 않는다.\r\n",
        "\r\n",
        "              컴퓨터                                      뇌\r\n",
        "                ↓                                        ↓\r\n",
        "    정보를 메모리의 특정 위치에 저장      뇌는 정보를 저장하는 공간이 따로 없다.\r\n",
        "\t\t                            \t\t\t\t\t  ↓\r\n",
        "                                         신경세포(뉴런)의 연결관계를 변경하는 방식으로 정보를 저장한다.\r\n",
        "\r\n",
        "    - R : nearnlnet 함수 구현 : 콘크리트의 강도를 예측\r\n",
        "    - 파이썬 : 사이킷런의 neural_network 함수 구현 : 콘크리트 강도를 예측\r\n",
        "\t\t 1. 예측 : 콘크리트 데이터\r\n",
        "\t\t 2. 분류 : 타이타닉 데이터"
      ]
    },
    {
      "cell_type": "markdown",
      "metadata": {
        "id": "2Dz88vanmgv1"
      },
      "source": [
        ""
      ]
    },
    {
      "cell_type": "markdown",
      "metadata": {
        "id": "qTxlH_PZmgsc"
      },
      "source": [
        ""
      ]
    },
    {
      "cell_type": "markdown",
      "metadata": {
        "id": "heDtwI_Fmgo8"
      },
      "source": [
        "문제39. 콘크리트 데이터를 파이썬의 신경망으로 강도를 예측을 하시오 !\r\n",
        "\r\n",
        "    ** 콘크리트 데이터 설명\r\n",
        "    1. cement: 콘크리트의 총량\r\n",
        "    2. slag  :  시멘트 \r\n",
        "    3. ash   :  분 (시멘트)\r\n",
        "    4. water :  물\r\n",
        "    5. superplasticizer :  고성능 감수재(콘크리트 강도를 높이는 첨가제)\r\n",
        "    6. coarse aggregate :  굵은 자갈\r\n",
        "    7. fine  aggregate :  잔 자갈\r\n",
        "    8. aging time  :  숙성시간 \r\n",
        "    9. strength : 콘크리트 강도"
      ]
    },
    {
      "cell_type": "code",
      "metadata": {
        "colab": {
          "base_uri": "https://localhost:8080/",
          "height": 402
        },
        "id": "QNKI-DteYb3Z",
        "outputId": "d36d8392-690e-4757-9026-f913686eb066"
      },
      "source": [
        "### 기본 라이브러리 불러오기\r\n",
        "import pandas as pd\r\n",
        "\r\n",
        "'''\r\n",
        "[Step 1] 데이터 준비/ 기본 설정\r\n",
        "'''\r\n",
        "# load_dataset 함수를 사용하여 데이터프레임으로 변환\r\n",
        "df = pd.read_csv('/content/drive/MyDrive/data/concrete.csv')\r\n",
        "df"
      ],
      "execution_count": 1,
      "outputs": [
        {
          "output_type": "execute_result",
          "data": {
            "text/html": [
              "<div>\n",
              "<style scoped>\n",
              "    .dataframe tbody tr th:only-of-type {\n",
              "        vertical-align: middle;\n",
              "    }\n",
              "\n",
              "    .dataframe tbody tr th {\n",
              "        vertical-align: top;\n",
              "    }\n",
              "\n",
              "    .dataframe thead th {\n",
              "        text-align: right;\n",
              "    }\n",
              "</style>\n",
              "<table border=\"1\" class=\"dataframe\">\n",
              "  <thead>\n",
              "    <tr style=\"text-align: right;\">\n",
              "      <th></th>\n",
              "      <th>cement</th>\n",
              "      <th>slag</th>\n",
              "      <th>ash</th>\n",
              "      <th>water</th>\n",
              "      <th>superplastic</th>\n",
              "      <th>coarseagg</th>\n",
              "      <th>fineagg</th>\n",
              "      <th>age</th>\n",
              "      <th>strength</th>\n",
              "    </tr>\n",
              "  </thead>\n",
              "  <tbody>\n",
              "    <tr>\n",
              "      <th>0</th>\n",
              "      <td>141.3</td>\n",
              "      <td>212.0</td>\n",
              "      <td>0.0</td>\n",
              "      <td>203.5</td>\n",
              "      <td>0.0</td>\n",
              "      <td>971.8</td>\n",
              "      <td>748.5</td>\n",
              "      <td>28</td>\n",
              "      <td>29.89</td>\n",
              "    </tr>\n",
              "    <tr>\n",
              "      <th>1</th>\n",
              "      <td>168.9</td>\n",
              "      <td>42.2</td>\n",
              "      <td>124.3</td>\n",
              "      <td>158.3</td>\n",
              "      <td>10.8</td>\n",
              "      <td>1080.8</td>\n",
              "      <td>796.2</td>\n",
              "      <td>14</td>\n",
              "      <td>23.51</td>\n",
              "    </tr>\n",
              "    <tr>\n",
              "      <th>2</th>\n",
              "      <td>250.0</td>\n",
              "      <td>0.0</td>\n",
              "      <td>95.7</td>\n",
              "      <td>187.4</td>\n",
              "      <td>5.5</td>\n",
              "      <td>956.9</td>\n",
              "      <td>861.2</td>\n",
              "      <td>28</td>\n",
              "      <td>29.22</td>\n",
              "    </tr>\n",
              "    <tr>\n",
              "      <th>3</th>\n",
              "      <td>266.0</td>\n",
              "      <td>114.0</td>\n",
              "      <td>0.0</td>\n",
              "      <td>228.0</td>\n",
              "      <td>0.0</td>\n",
              "      <td>932.0</td>\n",
              "      <td>670.0</td>\n",
              "      <td>28</td>\n",
              "      <td>45.85</td>\n",
              "    </tr>\n",
              "    <tr>\n",
              "      <th>4</th>\n",
              "      <td>154.8</td>\n",
              "      <td>183.4</td>\n",
              "      <td>0.0</td>\n",
              "      <td>193.3</td>\n",
              "      <td>9.1</td>\n",
              "      <td>1047.4</td>\n",
              "      <td>696.7</td>\n",
              "      <td>28</td>\n",
              "      <td>18.29</td>\n",
              "    </tr>\n",
              "    <tr>\n",
              "      <th>...</th>\n",
              "      <td>...</td>\n",
              "      <td>...</td>\n",
              "      <td>...</td>\n",
              "      <td>...</td>\n",
              "      <td>...</td>\n",
              "      <td>...</td>\n",
              "      <td>...</td>\n",
              "      <td>...</td>\n",
              "      <td>...</td>\n",
              "    </tr>\n",
              "    <tr>\n",
              "      <th>1025</th>\n",
              "      <td>135.0</td>\n",
              "      <td>0.0</td>\n",
              "      <td>166.0</td>\n",
              "      <td>180.0</td>\n",
              "      <td>10.0</td>\n",
              "      <td>961.0</td>\n",
              "      <td>805.0</td>\n",
              "      <td>28</td>\n",
              "      <td>13.29</td>\n",
              "    </tr>\n",
              "    <tr>\n",
              "      <th>1026</th>\n",
              "      <td>531.3</td>\n",
              "      <td>0.0</td>\n",
              "      <td>0.0</td>\n",
              "      <td>141.8</td>\n",
              "      <td>28.2</td>\n",
              "      <td>852.1</td>\n",
              "      <td>893.7</td>\n",
              "      <td>3</td>\n",
              "      <td>41.30</td>\n",
              "    </tr>\n",
              "    <tr>\n",
              "      <th>1027</th>\n",
              "      <td>276.4</td>\n",
              "      <td>116.0</td>\n",
              "      <td>90.3</td>\n",
              "      <td>179.6</td>\n",
              "      <td>8.9</td>\n",
              "      <td>870.1</td>\n",
              "      <td>768.3</td>\n",
              "      <td>28</td>\n",
              "      <td>44.28</td>\n",
              "    </tr>\n",
              "    <tr>\n",
              "      <th>1028</th>\n",
              "      <td>342.0</td>\n",
              "      <td>38.0</td>\n",
              "      <td>0.0</td>\n",
              "      <td>228.0</td>\n",
              "      <td>0.0</td>\n",
              "      <td>932.0</td>\n",
              "      <td>670.0</td>\n",
              "      <td>270</td>\n",
              "      <td>55.06</td>\n",
              "    </tr>\n",
              "    <tr>\n",
              "      <th>1029</th>\n",
              "      <td>540.0</td>\n",
              "      <td>0.0</td>\n",
              "      <td>0.0</td>\n",
              "      <td>173.0</td>\n",
              "      <td>0.0</td>\n",
              "      <td>1125.0</td>\n",
              "      <td>613.0</td>\n",
              "      <td>7</td>\n",
              "      <td>52.61</td>\n",
              "    </tr>\n",
              "  </tbody>\n",
              "</table>\n",
              "<p>1030 rows × 9 columns</p>\n",
              "</div>"
            ],
            "text/plain": [
              "      cement   slag    ash  water  ...  coarseagg  fineagg  age  strength\n",
              "0      141.3  212.0    0.0  203.5  ...      971.8    748.5   28     29.89\n",
              "1      168.9   42.2  124.3  158.3  ...     1080.8    796.2   14     23.51\n",
              "2      250.0    0.0   95.7  187.4  ...      956.9    861.2   28     29.22\n",
              "3      266.0  114.0    0.0  228.0  ...      932.0    670.0   28     45.85\n",
              "4      154.8  183.4    0.0  193.3  ...     1047.4    696.7   28     18.29\n",
              "...      ...    ...    ...    ...  ...        ...      ...  ...       ...\n",
              "1025   135.0    0.0  166.0  180.0  ...      961.0    805.0   28     13.29\n",
              "1026   531.3    0.0    0.0  141.8  ...      852.1    893.7    3     41.30\n",
              "1027   276.4  116.0   90.3  179.6  ...      870.1    768.3   28     44.28\n",
              "1028   342.0   38.0    0.0  228.0  ...      932.0    670.0  270     55.06\n",
              "1029   540.0    0.0    0.0  173.0  ...     1125.0    613.0    7     52.61\n",
              "\n",
              "[1030 rows x 9 columns]"
            ]
          },
          "metadata": {
            "tags": []
          },
          "execution_count": 1
        }
      ]
    },
    {
      "cell_type": "markdown",
      "metadata": {
        "id": "iM-oR0UHivh7"
      },
      "source": [
        ""
      ]
    },
    {
      "cell_type": "code",
      "metadata": {
        "colab": {
          "base_uri": "https://localhost:8080/"
        },
        "id": "hhQmGYt5ivwA",
        "outputId": "caffbd86-4e9e-49bf-d8b3-b93dc703f56f"
      },
      "source": [
        "'''\r\n",
        "[Step 2] 데이터 탐색/ 전처리\r\n",
        "'''\r\n",
        "# 결측치 확인\r\n",
        "df.isnull().sum()"
      ],
      "execution_count": 2,
      "outputs": [
        {
          "output_type": "execute_result",
          "data": {
            "text/plain": [
              "cement          0\n",
              "slag            0\n",
              "ash             0\n",
              "water           0\n",
              "superplastic    0\n",
              "coarseagg       0\n",
              "fineagg         0\n",
              "age             0\n",
              "strength        0\n",
              "dtype: int64"
            ]
          },
          "metadata": {
            "tags": []
          },
          "execution_count": 2
        }
      ]
    },
    {
      "cell_type": "markdown",
      "metadata": {
        "id": "qQp5cmshnLkV"
      },
      "source": [
        ""
      ]
    },
    {
      "cell_type": "code",
      "metadata": {
        "colab": {
          "base_uri": "https://localhost:8080/",
          "height": 195
        },
        "id": "cLqIqp1tnK86",
        "outputId": "f8720891-cd7a-4944-d04d-1b80e1d2c709"
      },
      "source": [
        "df.head()"
      ],
      "execution_count": 3,
      "outputs": [
        {
          "output_type": "execute_result",
          "data": {
            "text/html": [
              "<div>\n",
              "<style scoped>\n",
              "    .dataframe tbody tr th:only-of-type {\n",
              "        vertical-align: middle;\n",
              "    }\n",
              "\n",
              "    .dataframe tbody tr th {\n",
              "        vertical-align: top;\n",
              "    }\n",
              "\n",
              "    .dataframe thead th {\n",
              "        text-align: right;\n",
              "    }\n",
              "</style>\n",
              "<table border=\"1\" class=\"dataframe\">\n",
              "  <thead>\n",
              "    <tr style=\"text-align: right;\">\n",
              "      <th></th>\n",
              "      <th>cement</th>\n",
              "      <th>slag</th>\n",
              "      <th>ash</th>\n",
              "      <th>water</th>\n",
              "      <th>superplastic</th>\n",
              "      <th>coarseagg</th>\n",
              "      <th>fineagg</th>\n",
              "      <th>age</th>\n",
              "      <th>strength</th>\n",
              "    </tr>\n",
              "  </thead>\n",
              "  <tbody>\n",
              "    <tr>\n",
              "      <th>0</th>\n",
              "      <td>141.3</td>\n",
              "      <td>212.0</td>\n",
              "      <td>0.0</td>\n",
              "      <td>203.5</td>\n",
              "      <td>0.0</td>\n",
              "      <td>971.8</td>\n",
              "      <td>748.5</td>\n",
              "      <td>28</td>\n",
              "      <td>29.89</td>\n",
              "    </tr>\n",
              "    <tr>\n",
              "      <th>1</th>\n",
              "      <td>168.9</td>\n",
              "      <td>42.2</td>\n",
              "      <td>124.3</td>\n",
              "      <td>158.3</td>\n",
              "      <td>10.8</td>\n",
              "      <td>1080.8</td>\n",
              "      <td>796.2</td>\n",
              "      <td>14</td>\n",
              "      <td>23.51</td>\n",
              "    </tr>\n",
              "    <tr>\n",
              "      <th>2</th>\n",
              "      <td>250.0</td>\n",
              "      <td>0.0</td>\n",
              "      <td>95.7</td>\n",
              "      <td>187.4</td>\n",
              "      <td>5.5</td>\n",
              "      <td>956.9</td>\n",
              "      <td>861.2</td>\n",
              "      <td>28</td>\n",
              "      <td>29.22</td>\n",
              "    </tr>\n",
              "    <tr>\n",
              "      <th>3</th>\n",
              "      <td>266.0</td>\n",
              "      <td>114.0</td>\n",
              "      <td>0.0</td>\n",
              "      <td>228.0</td>\n",
              "      <td>0.0</td>\n",
              "      <td>932.0</td>\n",
              "      <td>670.0</td>\n",
              "      <td>28</td>\n",
              "      <td>45.85</td>\n",
              "    </tr>\n",
              "    <tr>\n",
              "      <th>4</th>\n",
              "      <td>154.8</td>\n",
              "      <td>183.4</td>\n",
              "      <td>0.0</td>\n",
              "      <td>193.3</td>\n",
              "      <td>9.1</td>\n",
              "      <td>1047.4</td>\n",
              "      <td>696.7</td>\n",
              "      <td>28</td>\n",
              "      <td>18.29</td>\n",
              "    </tr>\n",
              "  </tbody>\n",
              "</table>\n",
              "</div>"
            ],
            "text/plain": [
              "   cement   slag    ash  water  superplastic  coarseagg  fineagg  age  strength\n",
              "0   141.3  212.0    0.0  203.5           0.0      971.8    748.5   28     29.89\n",
              "1   168.9   42.2  124.3  158.3          10.8     1080.8    796.2   14     23.51\n",
              "2   250.0    0.0   95.7  187.4           5.5      956.9    861.2   28     29.22\n",
              "3   266.0  114.0    0.0  228.0           0.0      932.0    670.0   28     45.85\n",
              "4   154.8  183.4    0.0  193.3           9.1     1047.4    696.7   28     18.29"
            ]
          },
          "metadata": {
            "tags": []
          },
          "execution_count": 3
        }
      ]
    },
    {
      "cell_type": "markdown",
      "metadata": {
        "id": "GQgTMyg1nM10"
      },
      "source": [
        ""
      ]
    },
    {
      "cell_type": "code",
      "metadata": {
        "colab": {
          "base_uri": "https://localhost:8080/"
        },
        "id": "DlXeKfoynNE8",
        "outputId": "14a4c80c-88ff-4f7b-b148-b4987c295b39"
      },
      "source": [
        "df.info()"
      ],
      "execution_count": 4,
      "outputs": [
        {
          "output_type": "stream",
          "text": [
            "<class 'pandas.core.frame.DataFrame'>\n",
            "RangeIndex: 1030 entries, 0 to 1029\n",
            "Data columns (total 9 columns):\n",
            " #   Column        Non-Null Count  Dtype  \n",
            "---  ------        --------------  -----  \n",
            " 0   cement        1030 non-null   float64\n",
            " 1   slag          1030 non-null   float64\n",
            " 2   ash           1030 non-null   float64\n",
            " 3   water         1030 non-null   float64\n",
            " 4   superplastic  1030 non-null   float64\n",
            " 5   coarseagg     1030 non-null   float64\n",
            " 6   fineagg       1030 non-null   float64\n",
            " 7   age           1030 non-null   int64  \n",
            " 8   strength      1030 non-null   float64\n",
            "dtypes: float64(8), int64(1)\n",
            "memory usage: 72.5 KB\n"
          ],
          "name": "stdout"
        }
      ]
    },
    {
      "cell_type": "markdown",
      "metadata": {
        "id": "fMeYQLwXnO5F"
      },
      "source": [
        ""
      ]
    },
    {
      "cell_type": "code",
      "metadata": {
        "id": "HOjKa30PnP-c"
      },
      "source": [
        "'''\r\n",
        "[Step 3] 분석에 사용할 속성을 선택\r\n",
        "'''\r\n",
        "# 속성(변수) 선택\r\n",
        "X=df[['cement', 'slag','ash','water','superplastic','coarseagg','fineagg','age']]  # 독립 변수 X\r\n",
        "\r\n",
        "y=df['strength']           # 종속 변수 Y"
      ],
      "execution_count": 5,
      "outputs": []
    },
    {
      "cell_type": "markdown",
      "metadata": {
        "id": "Kcz8uV-inOzk"
      },
      "source": [
        ""
      ]
    },
    {
      "cell_type": "code",
      "metadata": {
        "colab": {
          "base_uri": "https://localhost:8080/",
          "height": 195
        },
        "id": "tnv4w0-1nT29",
        "outputId": "0c87c631-b6a0-4512-e215-29357e1ae461"
      },
      "source": [
        "'''\r\n",
        "[Step 4] 데이터셋 구분 - 훈련용(train data)/ 검증용(test data)\r\n",
        "'''\r\n",
        "X.head()"
      ],
      "execution_count": 6,
      "outputs": [
        {
          "output_type": "execute_result",
          "data": {
            "text/html": [
              "<div>\n",
              "<style scoped>\n",
              "    .dataframe tbody tr th:only-of-type {\n",
              "        vertical-align: middle;\n",
              "    }\n",
              "\n",
              "    .dataframe tbody tr th {\n",
              "        vertical-align: top;\n",
              "    }\n",
              "\n",
              "    .dataframe thead th {\n",
              "        text-align: right;\n",
              "    }\n",
              "</style>\n",
              "<table border=\"1\" class=\"dataframe\">\n",
              "  <thead>\n",
              "    <tr style=\"text-align: right;\">\n",
              "      <th></th>\n",
              "      <th>cement</th>\n",
              "      <th>slag</th>\n",
              "      <th>ash</th>\n",
              "      <th>water</th>\n",
              "      <th>superplastic</th>\n",
              "      <th>coarseagg</th>\n",
              "      <th>fineagg</th>\n",
              "      <th>age</th>\n",
              "    </tr>\n",
              "  </thead>\n",
              "  <tbody>\n",
              "    <tr>\n",
              "      <th>0</th>\n",
              "      <td>141.3</td>\n",
              "      <td>212.0</td>\n",
              "      <td>0.0</td>\n",
              "      <td>203.5</td>\n",
              "      <td>0.0</td>\n",
              "      <td>971.8</td>\n",
              "      <td>748.5</td>\n",
              "      <td>28</td>\n",
              "    </tr>\n",
              "    <tr>\n",
              "      <th>1</th>\n",
              "      <td>168.9</td>\n",
              "      <td>42.2</td>\n",
              "      <td>124.3</td>\n",
              "      <td>158.3</td>\n",
              "      <td>10.8</td>\n",
              "      <td>1080.8</td>\n",
              "      <td>796.2</td>\n",
              "      <td>14</td>\n",
              "    </tr>\n",
              "    <tr>\n",
              "      <th>2</th>\n",
              "      <td>250.0</td>\n",
              "      <td>0.0</td>\n",
              "      <td>95.7</td>\n",
              "      <td>187.4</td>\n",
              "      <td>5.5</td>\n",
              "      <td>956.9</td>\n",
              "      <td>861.2</td>\n",
              "      <td>28</td>\n",
              "    </tr>\n",
              "    <tr>\n",
              "      <th>3</th>\n",
              "      <td>266.0</td>\n",
              "      <td>114.0</td>\n",
              "      <td>0.0</td>\n",
              "      <td>228.0</td>\n",
              "      <td>0.0</td>\n",
              "      <td>932.0</td>\n",
              "      <td>670.0</td>\n",
              "      <td>28</td>\n",
              "    </tr>\n",
              "    <tr>\n",
              "      <th>4</th>\n",
              "      <td>154.8</td>\n",
              "      <td>183.4</td>\n",
              "      <td>0.0</td>\n",
              "      <td>193.3</td>\n",
              "      <td>9.1</td>\n",
              "      <td>1047.4</td>\n",
              "      <td>696.7</td>\n",
              "      <td>28</td>\n",
              "    </tr>\n",
              "  </tbody>\n",
              "</table>\n",
              "</div>"
            ],
            "text/plain": [
              "   cement   slag    ash  water  superplastic  coarseagg  fineagg  age\n",
              "0   141.3  212.0    0.0  203.5           0.0      971.8    748.5   28\n",
              "1   168.9   42.2  124.3  158.3          10.8     1080.8    796.2   14\n",
              "2   250.0    0.0   95.7  187.4           5.5      956.9    861.2   28\n",
              "3   266.0  114.0    0.0  228.0           0.0      932.0    670.0   28\n",
              "4   154.8  183.4    0.0  193.3           9.1     1047.4    696.7   28"
            ]
          },
          "metadata": {
            "tags": []
          },
          "execution_count": 6
        }
      ]
    },
    {
      "cell_type": "markdown",
      "metadata": {
        "id": "E2aQRjYNnU6c"
      },
      "source": [
        ""
      ]
    },
    {
      "cell_type": "code",
      "metadata": {
        "colab": {
          "base_uri": "https://localhost:8080/"
        },
        "id": "B5rSeOYGnVK4",
        "outputId": "f8c4b9c2-00bf-4a5c-d87c-f858859253dd"
      },
      "source": [
        "# 설명 변수 데이터를 표준화(normalization)\r\n",
        "from sklearn import preprocessing\r\n",
        "X = preprocessing.StandardScaler().fit(X).transform(X)\r\n",
        "print(X)\r\n",
        "print('\\n')\r\n",
        "print(X.shape)\r\n",
        "print('\\n')\r\n",
        "print(type(X))"
      ],
      "execution_count": 7,
      "outputs": [
        {
          "output_type": "stream",
          "text": [
            "[[-1.33901711  1.60144087 -0.84714393 ... -0.01439767 -0.31296991\n",
            "  -0.27973311]\n",
            " [-1.07479007 -0.36754132  1.09607803 ...  1.38814131  0.28226038\n",
            "  -0.50146528]\n",
            " [-0.29838379 -0.85688789  0.64896501 ... -0.20612089  1.09337085\n",
            "  -0.27973311]\n",
            " ...\n",
            " [-0.04564488  0.4882354   0.56454507 ... -1.32300514 -0.06589318\n",
            "  -0.27973311]\n",
            " [ 0.58237302 -0.41624406 -0.84714393 ... -0.52651741 -1.29254178\n",
            "   3.55306569]\n",
            " [ 2.47791487 -0.85688789 -0.84714393 ...  1.9568773  -2.00382326\n",
            "  -0.61233136]]\n",
            "\n",
            "\n",
            "(1030, 8)\n",
            "\n",
            "\n",
            "<class 'numpy.ndarray'>\n"
          ],
          "name": "stdout"
        }
      ]
    },
    {
      "cell_type": "markdown",
      "metadata": {
        "id": "nuvc_mwZnXlO"
      },
      "source": [
        ""
      ]
    },
    {
      "cell_type": "code",
      "metadata": {
        "colab": {
          "base_uri": "https://localhost:8080/"
        },
        "id": "QePRUBeFnYEk",
        "outputId": "16d9fc85-8574-4c81-8a3e-9e9558ff6d3d"
      },
      "source": [
        "# train data 와 test data로 구분(8:2 비율)\r\n",
        "from sklearn.model_selection import train_test_split\r\n",
        "X_train, X_test, y_train, y_test = train_test_split(X, y, test_size=0.2, random_state=10) \r\n",
        "\r\n",
        "print('train data 개수: ', X_train.shape)\r\n",
        "print('test data 개수: ', X_test.shape)\r\n",
        "print('\\n')"
      ],
      "execution_count": 8,
      "outputs": [
        {
          "output_type": "stream",
          "text": [
            "train data 개수:  (824, 8)\n",
            "test data 개수:  (206, 8)\n",
            "\n",
            "\n"
          ],
          "name": "stdout"
        }
      ]
    },
    {
      "cell_type": "code",
      "metadata": {
        "id": "hQO2xSBdnc7g"
      },
      "source": [
        "'''\r\n",
        "[Step 5] 신경망 모형 - sklearn 사용\r\n",
        "'''\r\n",
        "##### from sklearn.neural_network\r\n",
        "##### 1. 분류 : MLPClassifier\r\n",
        "##### 2. 수치예측 : MLPRegressor\r\n",
        "\r\n",
        "from sklearn.neural_network import MLPRegressor  # 수치예측\r\n",
        "\r\n",
        "# neural network 모델 적합\r\n",
        "clf = MLPRegressor(random_state=0, max_iter=500)  # 학습을 500번 하겠다."
      ],
      "execution_count": 9,
      "outputs": []
    },
    {
      "cell_type": "markdown",
      "metadata": {
        "id": "A0fPAMCmnedI"
      },
      "source": [
        ""
      ]
    },
    {
      "cell_type": "code",
      "metadata": {
        "colab": {
          "base_uri": "https://localhost:8080/"
        },
        "id": "NfJXFusBneQr",
        "outputId": "e8581bda-7701-4431-c5c0-0ab20d73125c"
      },
      "source": [
        "'''\r\n",
        "[Step 6] train data를 가지고 모형 학습\r\n",
        "'''\r\n",
        "# train data를 가지고 모형 학습\r\n",
        "clf.fit(X_train, y_train)"
      ],
      "execution_count": 10,
      "outputs": [
        {
          "output_type": "stream",
          "text": [
            "/usr/local/lib/python3.7/dist-packages/sklearn/neural_network/_multilayer_perceptron.py:571: ConvergenceWarning: Stochastic Optimizer: Maximum iterations (500) reached and the optimization hasn't converged yet.\n",
            "  % self.max_iter, ConvergenceWarning)\n"
          ],
          "name": "stderr"
        },
        {
          "output_type": "execute_result",
          "data": {
            "text/plain": [
              "MLPRegressor(activation='relu', alpha=0.0001, batch_size='auto', beta_1=0.9,\n",
              "             beta_2=0.999, early_stopping=False, epsilon=1e-08,\n",
              "             hidden_layer_sizes=(100,), learning_rate='constant',\n",
              "             learning_rate_init=0.001, max_fun=15000, max_iter=500,\n",
              "             momentum=0.9, n_iter_no_change=10, nesterovs_momentum=True,\n",
              "             power_t=0.5, random_state=0, shuffle=True, solver='adam',\n",
              "             tol=0.0001, validation_fraction=0.1, verbose=False,\n",
              "             warm_start=False)"
            ]
          },
          "metadata": {
            "tags": []
          },
          "execution_count": 10
        }
      ]
    },
    {
      "cell_type": "markdown",
      "metadata": {
        "id": "VDe1fHHCngkW"
      },
      "source": [
        ""
      ]
    },
    {
      "cell_type": "code",
      "metadata": {
        "colab": {
          "base_uri": "https://localhost:8080/"
        },
        "id": "E2ml5GndneE0",
        "outputId": "2ebd13fe-3a82-4899-c043-15463135610a"
      },
      "source": [
        "'''\r\n",
        "[Step 7] test data를 가지고 y_hat을 예측\r\n",
        "'''\r\n",
        "# test data를 가지고 y_hat을 예측 (분류) \r\n",
        "y_hat = clf.predict(X_test)\r\n",
        "\r\n",
        "print(y_hat[0:10])\r\n",
        "print(y_test.values[0:10])\r\n",
        "print('\\n')"
      ],
      "execution_count": 11,
      "outputs": [
        {
          "output_type": "stream",
          "text": [
            "[36.47812292 11.06762334 45.98514134 23.52352179 50.73694178 53.30473313\n",
            " 17.95362979 42.53714652 23.10688494 50.79253454]\n",
            "[47.4  10.35 49.99 14.7  47.82 51.06 13.29 52.82 22.5  47.74]\n",
            "\n",
            "\n"
          ],
          "name": "stdout"
        }
      ]
    },
    {
      "cell_type": "code",
      "metadata": {
        "colab": {
          "base_uri": "https://localhost:8080/"
        },
        "id": "lndaZwjSniq8",
        "outputId": "f7dcc6bc-22de-4581-bac0-51febdd99d43"
      },
      "source": [
        "'''\r\n",
        "[Step 8] 모형 성능 평가 - 상관관계 계산\r\n",
        "'''\r\n",
        "import scipy.stats as stats\r\n",
        "svm_report =  stats.pearsonr(y_test, y_hat)  # 상관계수 확인하는 코드\r\n",
        "print(svm_report)   # 상관계수, p-value(H0 : 상관계수가 0 이다. vs H1 : 상관계수가 0이 아니다.)"
      ],
      "execution_count": 12,
      "outputs": [
        {
          "output_type": "stream",
          "text": [
            "(0.9042961287774729, 2.385285961523617e-77)\n"
          ],
          "name": "stdout"
        }
      ]
    },
    {
      "cell_type": "markdown",
      "metadata": {
        "id": "qz_B4alAqgQz"
      },
      "source": [
        ""
      ]
    },
    {
      "cell_type": "markdown",
      "metadata": {
        "id": "oAr9uyiNqgKU"
      },
      "source": [
        ""
      ]
    },
    {
      "cell_type": "markdown",
      "metadata": {
        "id": "mNsafw_hqgCU"
      },
      "source": [
        "문제40. 위의 신경망의 성능을 더 올리시오 !  \r\n",
        "\t   성능을 더 올리라는 것은 뉴런의 개수를 늘리거나 층을 더 늘리거나 하는\r\n",
        "\t   신경망에 연관된 하이퍼 파라미터를 알아내야 합니다.  \r\n",
        "\t   하이퍼 파라미터를 자동으로 알아내게 하는 파이썬의 기능인 grid search 를 이용해서 알아내시오 !"
      ]
    },
    {
      "cell_type": "code",
      "metadata": {
        "id": "4b-RphQcmwNM"
      },
      "source": [
        "# 힌트코드:\r\n",
        "\r\n",
        "from sklearn.neural_network import MLPRegressor\r\n",
        "from sklearn.model_selection import GridSearchCV  # grid search 기능을 사용하기 위해서\r\n",
        "\r\n",
        "param_grid = [\r\n",
        "        {\r\n",
        "            'activation' : ['identity', 'logistic', 'tanh', 'relu'],   # 활성화 함수의 종류 4가지\r\n",
        "            'solver' : ['lbfgs', 'sgd', 'adam'],   # 옵티마이져(최적화)의 종류 3가지\r\n",
        "            'hidden_layer_sizes': [\r\n",
        "             (1,),(2,),(3,),(4,),(5,),(6,),(7,),(8,),(9,),(10,),(11,), (12,),(13,),(14,),(15,),(16,),(17,),(18,),(19,),(20,),(21,)\r\n",
        "             ]\r\n",
        "        }\r\n",
        "       ]\r\n",
        "\r\n",
        "# 옵티마이져 ? global minima 를 찾아가기 위한 방법론(수학식)을 코드로 구현한 것\r\n",
        "# lbfgs 옵티마이져 ? 가장 인기있는 옵티마이져이고 computer memory 의 제한된 양만을\r\n",
        "#                          사용해서 global minima 를 찾아가도록 코드가 구현되어 있다.\r\n",
        "# hidden_layer_size = (뉴런수, 층수) , 위의 예제에서는 뉴런수만 정해줬다. 층수는 X\r\n",
        "\r\n",
        "# 모델을 생성한다.\r\n",
        "clf = GridSearchCV(MLPRegressor(), param_grid, cv=3, n_jobs = -1, verbose = 2 )\r\n",
        "# 설명: clf = GridSearchCV(모델명, grid 파라미터 값, k-holdout 개수 설정, \r\n",
        "#                                  n_jobs = -1, verbose = 2 )\r\n",
        "# cv=3 은 k-holdout 의 k 값을 3으로 해서 훈련 데이터를 3개의 파티션으로 나누고\r\n",
        "# 2개를 훈련 데이터로 사용하고 나머지 한개를 테스트 데이터로 사용하겠다는 것\r\n",
        "# n_jobs = -1 를 사용하게 되면 최적의 하이퍼 파라미터를 알아내는 작업 전체를 보여주는게\r\n",
        "# 아니라 요약해서 보여준다.\r\n",
        "# verbose = 2 는 gridSearch 하는 과정을 보여준다.\r\n",
        "\r\n",
        "clf.fit(X_train, y_train)  # 위에서 만든 모델을 훈련시킨다.\r\n",
        "\r\n",
        "\r\n",
        "print(\"Best parameters set found on development set:\") \r\n",
        "print(clf.best_params_)  # 최고의 하이퍼 파라미터 조합을 출력해준다."
      ],
      "execution_count": null,
      "outputs": []
    },
    {
      "cell_type": "markdown",
      "metadata": {
        "id": "2_6X_k4bm1Fk"
      },
      "source": [
        ""
      ]
    },
    {
      "cell_type": "code",
      "metadata": {
        "colab": {
          "base_uri": "https://localhost:8080/",
          "height": 402
        },
        "id": "rIl32Rqdm1aA",
        "outputId": "06f3d8ae-3f7b-457a-8e05-9828c4595172"
      },
      "source": [
        "### 기본 라이브러리 불러오기\r\n",
        "import pandas as pd\r\n",
        "\r\n",
        "'''\r\n",
        "[Step 1] 데이터 준비/ 기본 설정\r\n",
        "'''\r\n",
        "# load_dataset 함수를 사용하여 데이터프레임으로 변환\r\n",
        "df = pd.read_csv('/content/drive/MyDrive/data/concrete.csv')\r\n",
        "df\r\n"
      ],
      "execution_count": 14,
      "outputs": [
        {
          "output_type": "execute_result",
          "data": {
            "text/html": [
              "<div>\n",
              "<style scoped>\n",
              "    .dataframe tbody tr th:only-of-type {\n",
              "        vertical-align: middle;\n",
              "    }\n",
              "\n",
              "    .dataframe tbody tr th {\n",
              "        vertical-align: top;\n",
              "    }\n",
              "\n",
              "    .dataframe thead th {\n",
              "        text-align: right;\n",
              "    }\n",
              "</style>\n",
              "<table border=\"1\" class=\"dataframe\">\n",
              "  <thead>\n",
              "    <tr style=\"text-align: right;\">\n",
              "      <th></th>\n",
              "      <th>cement</th>\n",
              "      <th>slag</th>\n",
              "      <th>ash</th>\n",
              "      <th>water</th>\n",
              "      <th>superplastic</th>\n",
              "      <th>coarseagg</th>\n",
              "      <th>fineagg</th>\n",
              "      <th>age</th>\n",
              "      <th>strength</th>\n",
              "    </tr>\n",
              "  </thead>\n",
              "  <tbody>\n",
              "    <tr>\n",
              "      <th>0</th>\n",
              "      <td>141.3</td>\n",
              "      <td>212.0</td>\n",
              "      <td>0.0</td>\n",
              "      <td>203.5</td>\n",
              "      <td>0.0</td>\n",
              "      <td>971.8</td>\n",
              "      <td>748.5</td>\n",
              "      <td>28</td>\n",
              "      <td>29.89</td>\n",
              "    </tr>\n",
              "    <tr>\n",
              "      <th>1</th>\n",
              "      <td>168.9</td>\n",
              "      <td>42.2</td>\n",
              "      <td>124.3</td>\n",
              "      <td>158.3</td>\n",
              "      <td>10.8</td>\n",
              "      <td>1080.8</td>\n",
              "      <td>796.2</td>\n",
              "      <td>14</td>\n",
              "      <td>23.51</td>\n",
              "    </tr>\n",
              "    <tr>\n",
              "      <th>2</th>\n",
              "      <td>250.0</td>\n",
              "      <td>0.0</td>\n",
              "      <td>95.7</td>\n",
              "      <td>187.4</td>\n",
              "      <td>5.5</td>\n",
              "      <td>956.9</td>\n",
              "      <td>861.2</td>\n",
              "      <td>28</td>\n",
              "      <td>29.22</td>\n",
              "    </tr>\n",
              "    <tr>\n",
              "      <th>3</th>\n",
              "      <td>266.0</td>\n",
              "      <td>114.0</td>\n",
              "      <td>0.0</td>\n",
              "      <td>228.0</td>\n",
              "      <td>0.0</td>\n",
              "      <td>932.0</td>\n",
              "      <td>670.0</td>\n",
              "      <td>28</td>\n",
              "      <td>45.85</td>\n",
              "    </tr>\n",
              "    <tr>\n",
              "      <th>4</th>\n",
              "      <td>154.8</td>\n",
              "      <td>183.4</td>\n",
              "      <td>0.0</td>\n",
              "      <td>193.3</td>\n",
              "      <td>9.1</td>\n",
              "      <td>1047.4</td>\n",
              "      <td>696.7</td>\n",
              "      <td>28</td>\n",
              "      <td>18.29</td>\n",
              "    </tr>\n",
              "    <tr>\n",
              "      <th>...</th>\n",
              "      <td>...</td>\n",
              "      <td>...</td>\n",
              "      <td>...</td>\n",
              "      <td>...</td>\n",
              "      <td>...</td>\n",
              "      <td>...</td>\n",
              "      <td>...</td>\n",
              "      <td>...</td>\n",
              "      <td>...</td>\n",
              "    </tr>\n",
              "    <tr>\n",
              "      <th>1025</th>\n",
              "      <td>135.0</td>\n",
              "      <td>0.0</td>\n",
              "      <td>166.0</td>\n",
              "      <td>180.0</td>\n",
              "      <td>10.0</td>\n",
              "      <td>961.0</td>\n",
              "      <td>805.0</td>\n",
              "      <td>28</td>\n",
              "      <td>13.29</td>\n",
              "    </tr>\n",
              "    <tr>\n",
              "      <th>1026</th>\n",
              "      <td>531.3</td>\n",
              "      <td>0.0</td>\n",
              "      <td>0.0</td>\n",
              "      <td>141.8</td>\n",
              "      <td>28.2</td>\n",
              "      <td>852.1</td>\n",
              "      <td>893.7</td>\n",
              "      <td>3</td>\n",
              "      <td>41.30</td>\n",
              "    </tr>\n",
              "    <tr>\n",
              "      <th>1027</th>\n",
              "      <td>276.4</td>\n",
              "      <td>116.0</td>\n",
              "      <td>90.3</td>\n",
              "      <td>179.6</td>\n",
              "      <td>8.9</td>\n",
              "      <td>870.1</td>\n",
              "      <td>768.3</td>\n",
              "      <td>28</td>\n",
              "      <td>44.28</td>\n",
              "    </tr>\n",
              "    <tr>\n",
              "      <th>1028</th>\n",
              "      <td>342.0</td>\n",
              "      <td>38.0</td>\n",
              "      <td>0.0</td>\n",
              "      <td>228.0</td>\n",
              "      <td>0.0</td>\n",
              "      <td>932.0</td>\n",
              "      <td>670.0</td>\n",
              "      <td>270</td>\n",
              "      <td>55.06</td>\n",
              "    </tr>\n",
              "    <tr>\n",
              "      <th>1029</th>\n",
              "      <td>540.0</td>\n",
              "      <td>0.0</td>\n",
              "      <td>0.0</td>\n",
              "      <td>173.0</td>\n",
              "      <td>0.0</td>\n",
              "      <td>1125.0</td>\n",
              "      <td>613.0</td>\n",
              "      <td>7</td>\n",
              "      <td>52.61</td>\n",
              "    </tr>\n",
              "  </tbody>\n",
              "</table>\n",
              "<p>1030 rows × 9 columns</p>\n",
              "</div>"
            ],
            "text/plain": [
              "      cement   slag    ash  water  ...  coarseagg  fineagg  age  strength\n",
              "0      141.3  212.0    0.0  203.5  ...      971.8    748.5   28     29.89\n",
              "1      168.9   42.2  124.3  158.3  ...     1080.8    796.2   14     23.51\n",
              "2      250.0    0.0   95.7  187.4  ...      956.9    861.2   28     29.22\n",
              "3      266.0  114.0    0.0  228.0  ...      932.0    670.0   28     45.85\n",
              "4      154.8  183.4    0.0  193.3  ...     1047.4    696.7   28     18.29\n",
              "...      ...    ...    ...    ...  ...        ...      ...  ...       ...\n",
              "1025   135.0    0.0  166.0  180.0  ...      961.0    805.0   28     13.29\n",
              "1026   531.3    0.0    0.0  141.8  ...      852.1    893.7    3     41.30\n",
              "1027   276.4  116.0   90.3  179.6  ...      870.1    768.3   28     44.28\n",
              "1028   342.0   38.0    0.0  228.0  ...      932.0    670.0  270     55.06\n",
              "1029   540.0    0.0    0.0  173.0  ...     1125.0    613.0    7     52.61\n",
              "\n",
              "[1030 rows x 9 columns]"
            ]
          },
          "metadata": {
            "tags": []
          },
          "execution_count": 14
        }
      ]
    },
    {
      "cell_type": "markdown",
      "metadata": {
        "id": "VoHULRdOnH7n"
      },
      "source": [
        ""
      ]
    },
    {
      "cell_type": "code",
      "metadata": {
        "colab": {
          "base_uri": "https://localhost:8080/"
        },
        "id": "7qoTfSgPm78M",
        "outputId": "1256bd09-aa38-4414-874f-e6327515bb6d"
      },
      "source": [
        "\r\n",
        "'''\r\n",
        "[Step 2] 데이터 탐색/ 전처리\r\n",
        "'''\r\n",
        "# 결측치 확인\r\n",
        "df.isnull().sum()"
      ],
      "execution_count": 15,
      "outputs": [
        {
          "output_type": "execute_result",
          "data": {
            "text/plain": [
              "cement          0\n",
              "slag            0\n",
              "ash             0\n",
              "water           0\n",
              "superplastic    0\n",
              "coarseagg       0\n",
              "fineagg         0\n",
              "age             0\n",
              "strength        0\n",
              "dtype: int64"
            ]
          },
          "metadata": {
            "tags": []
          },
          "execution_count": 15
        }
      ]
    },
    {
      "cell_type": "markdown",
      "metadata": {
        "id": "WY3-BMvNnHkI"
      },
      "source": [
        ""
      ]
    },
    {
      "cell_type": "code",
      "metadata": {
        "colab": {
          "base_uri": "https://localhost:8080/",
          "height": 195
        },
        "id": "nJthwLFMnCRk",
        "outputId": "800a649d-0e47-4de1-8a4d-662a99cde09a"
      },
      "source": [
        "df.head()"
      ],
      "execution_count": 16,
      "outputs": [
        {
          "output_type": "execute_result",
          "data": {
            "text/html": [
              "<div>\n",
              "<style scoped>\n",
              "    .dataframe tbody tr th:only-of-type {\n",
              "        vertical-align: middle;\n",
              "    }\n",
              "\n",
              "    .dataframe tbody tr th {\n",
              "        vertical-align: top;\n",
              "    }\n",
              "\n",
              "    .dataframe thead th {\n",
              "        text-align: right;\n",
              "    }\n",
              "</style>\n",
              "<table border=\"1\" class=\"dataframe\">\n",
              "  <thead>\n",
              "    <tr style=\"text-align: right;\">\n",
              "      <th></th>\n",
              "      <th>cement</th>\n",
              "      <th>slag</th>\n",
              "      <th>ash</th>\n",
              "      <th>water</th>\n",
              "      <th>superplastic</th>\n",
              "      <th>coarseagg</th>\n",
              "      <th>fineagg</th>\n",
              "      <th>age</th>\n",
              "      <th>strength</th>\n",
              "    </tr>\n",
              "  </thead>\n",
              "  <tbody>\n",
              "    <tr>\n",
              "      <th>0</th>\n",
              "      <td>141.3</td>\n",
              "      <td>212.0</td>\n",
              "      <td>0.0</td>\n",
              "      <td>203.5</td>\n",
              "      <td>0.0</td>\n",
              "      <td>971.8</td>\n",
              "      <td>748.5</td>\n",
              "      <td>28</td>\n",
              "      <td>29.89</td>\n",
              "    </tr>\n",
              "    <tr>\n",
              "      <th>1</th>\n",
              "      <td>168.9</td>\n",
              "      <td>42.2</td>\n",
              "      <td>124.3</td>\n",
              "      <td>158.3</td>\n",
              "      <td>10.8</td>\n",
              "      <td>1080.8</td>\n",
              "      <td>796.2</td>\n",
              "      <td>14</td>\n",
              "      <td>23.51</td>\n",
              "    </tr>\n",
              "    <tr>\n",
              "      <th>2</th>\n",
              "      <td>250.0</td>\n",
              "      <td>0.0</td>\n",
              "      <td>95.7</td>\n",
              "      <td>187.4</td>\n",
              "      <td>5.5</td>\n",
              "      <td>956.9</td>\n",
              "      <td>861.2</td>\n",
              "      <td>28</td>\n",
              "      <td>29.22</td>\n",
              "    </tr>\n",
              "    <tr>\n",
              "      <th>3</th>\n",
              "      <td>266.0</td>\n",
              "      <td>114.0</td>\n",
              "      <td>0.0</td>\n",
              "      <td>228.0</td>\n",
              "      <td>0.0</td>\n",
              "      <td>932.0</td>\n",
              "      <td>670.0</td>\n",
              "      <td>28</td>\n",
              "      <td>45.85</td>\n",
              "    </tr>\n",
              "    <tr>\n",
              "      <th>4</th>\n",
              "      <td>154.8</td>\n",
              "      <td>183.4</td>\n",
              "      <td>0.0</td>\n",
              "      <td>193.3</td>\n",
              "      <td>9.1</td>\n",
              "      <td>1047.4</td>\n",
              "      <td>696.7</td>\n",
              "      <td>28</td>\n",
              "      <td>18.29</td>\n",
              "    </tr>\n",
              "  </tbody>\n",
              "</table>\n",
              "</div>"
            ],
            "text/plain": [
              "   cement   slag    ash  water  superplastic  coarseagg  fineagg  age  strength\n",
              "0   141.3  212.0    0.0  203.5           0.0      971.8    748.5   28     29.89\n",
              "1   168.9   42.2  124.3  158.3          10.8     1080.8    796.2   14     23.51\n",
              "2   250.0    0.0   95.7  187.4           5.5      956.9    861.2   28     29.22\n",
              "3   266.0  114.0    0.0  228.0           0.0      932.0    670.0   28     45.85\n",
              "4   154.8  183.4    0.0  193.3           9.1     1047.4    696.7   28     18.29"
            ]
          },
          "metadata": {
            "tags": []
          },
          "execution_count": 16
        }
      ]
    },
    {
      "cell_type": "markdown",
      "metadata": {
        "id": "5QpXQyJNnIjM"
      },
      "source": [
        ""
      ]
    },
    {
      "cell_type": "code",
      "metadata": {
        "colab": {
          "base_uri": "https://localhost:8080/"
        },
        "id": "JXL44CX6nC99",
        "outputId": "84b5ba28-7b73-496e-c3d8-09ee5bde25af"
      },
      "source": [
        "df.info()"
      ],
      "execution_count": 17,
      "outputs": [
        {
          "output_type": "stream",
          "text": [
            "<class 'pandas.core.frame.DataFrame'>\n",
            "RangeIndex: 1030 entries, 0 to 1029\n",
            "Data columns (total 9 columns):\n",
            " #   Column        Non-Null Count  Dtype  \n",
            "---  ------        --------------  -----  \n",
            " 0   cement        1030 non-null   float64\n",
            " 1   slag          1030 non-null   float64\n",
            " 2   ash           1030 non-null   float64\n",
            " 3   water         1030 non-null   float64\n",
            " 4   superplastic  1030 non-null   float64\n",
            " 5   coarseagg     1030 non-null   float64\n",
            " 6   fineagg       1030 non-null   float64\n",
            " 7   age           1030 non-null   int64  \n",
            " 8   strength      1030 non-null   float64\n",
            "dtypes: float64(8), int64(1)\n",
            "memory usage: 72.5 KB\n"
          ],
          "name": "stdout"
        }
      ]
    },
    {
      "cell_type": "markdown",
      "metadata": {
        "id": "ncjAhY9BnJiv"
      },
      "source": [
        ""
      ]
    },
    {
      "cell_type": "code",
      "metadata": {
        "id": "hHgZ_ldinDiU"
      },
      "source": [
        "'''\r\n",
        "[Step 3] 분석에 사용할 속성을 선택\r\n",
        "'''\r\n",
        "# 속성(변수) 선택\r\n",
        "X=df[['cement', 'slag','ash','water','superplastic','coarseagg','fineagg','age']]  #독립 변수 X\r\n",
        "\r\n",
        "y=df['strength']                      #종속 변수 Y"
      ],
      "execution_count": 18,
      "outputs": []
    },
    {
      "cell_type": "markdown",
      "metadata": {
        "id": "m0SAfT8PnMfy"
      },
      "source": [
        ""
      ]
    },
    {
      "cell_type": "code",
      "metadata": {
        "colab": {
          "base_uri": "https://localhost:8080/"
        },
        "id": "3Q656b_hnLT8",
        "outputId": "bbf6635f-9b70-4d42-e055-cc32af06309d"
      },
      "source": [
        "'''\r\n",
        "[Step 4] 데이터셋 구분 - 훈련용(train data)/ 검증용(test data)\r\n",
        "'''\r\n",
        "# 설명 변수 데이터를 표준화(normalization)\r\n",
        "from sklearn import preprocessing\r\n",
        "X = preprocessing.StandardScaler().fit(X).transform(X)\r\n",
        "print(X)\r\n",
        "print('\\n')\r\n",
        "print(type(X))\r\n",
        "print('\\n')"
      ],
      "execution_count": 20,
      "outputs": [
        {
          "output_type": "stream",
          "text": [
            "[[-1.33901711  1.60144087 -0.84714393 ... -0.01439767 -0.31296991\n",
            "  -0.27973311]\n",
            " [-1.07479007 -0.36754132  1.09607803 ...  1.38814131  0.28226038\n",
            "  -0.50146528]\n",
            " [-0.29838379 -0.85688789  0.64896501 ... -0.20612089  1.09337085\n",
            "  -0.27973311]\n",
            " ...\n",
            " [-0.04564488  0.4882354   0.56454507 ... -1.32300514 -0.06589318\n",
            "  -0.27973311]\n",
            " [ 0.58237302 -0.41624406 -0.84714393 ... -0.52651741 -1.29254178\n",
            "   3.55306569]\n",
            " [ 2.47791487 -0.85688789 -0.84714393 ...  1.9568773  -2.00382326\n",
            "  -0.61233136]]\n",
            "\n",
            "\n",
            "<class 'numpy.ndarray'>\n",
            "\n",
            "\n"
          ],
          "name": "stdout"
        }
      ]
    },
    {
      "cell_type": "code",
      "metadata": {
        "colab": {
          "base_uri": "https://localhost:8080/"
        },
        "id": "hUSFkrYvnOr2",
        "outputId": "e9a08206-14ef-49e5-ada9-74ce34e997d6"
      },
      "source": [
        "# train data 와 test data로 구분(8:2 비율)\r\n",
        "from sklearn.model_selection import train_test_split\r\n",
        "X_train, X_test, y_train, y_test = train_test_split(X, y, test_size=0.2, random_state=10) \r\n",
        "\r\n",
        "print('train data 개수: ', X_train.shape)\r\n",
        "print('test data 개수: ', X_test.shape)\r\n",
        "print('\\n')"
      ],
      "execution_count": 21,
      "outputs": [
        {
          "output_type": "stream",
          "text": [
            "train data 개수:  (824, 8)\n",
            "test data 개수:  (206, 8)\n",
            "\n",
            "\n"
          ],
          "name": "stdout"
        }
      ]
    },
    {
      "cell_type": "code",
      "metadata": {
        "id": "x3_Dwp9FnUxf"
      },
      "source": [
        "'''\r\n",
        "[Step 5] 신경망 모형 - sklearn 사용\r\n",
        "'''\r\n",
        "##### from sklearn.neural_network\r\n",
        "##### 1. 분류 : MLPClassifier\r\n",
        "##### 2. 수치예측 : MLPRegressor\r\n",
        "\r\n",
        "from sklearn.neural_network import MLPRegressor\r\n",
        "from sklearn.model_selection import GridSearchCV  # grid search 기능을 사용하기 위해서\r\n",
        "\r\n",
        "param_grid = [\r\n",
        "        {\r\n",
        "            'activation' : ['identity', 'logistic', 'tanh', 'relu'],   # 활성화 함수의 종류 4가지\r\n",
        "            'solver' : ['lbfgs', 'sgd', 'adam'],   # 옵티마이져(최적화)의 종류 3가지\r\n",
        "            'hidden_layer_sizes': [\r\n",
        "             (1,),(2,),(3,),(4,),(5,),(6,),(7,),(8,),(9,),(10,),(11,), (12,),(13,),(14,),(15,),(16,),(17,),(18,),(19,),(20,),(21,)\r\n",
        "             ]\r\n",
        "        }\r\n",
        "       ]\r\n",
        "\r\n",
        "\r\n",
        "clf = GridSearchCV(MLPRegressor(), param_grid, cv=3, n_jobs = -1, verbose = 2 )"
      ],
      "execution_count": 22,
      "outputs": []
    },
    {
      "cell_type": "markdown",
      "metadata": {
        "id": "8p_IqE_GnXXn"
      },
      "source": [
        ""
      ]
    },
    {
      "cell_type": "code",
      "metadata": {
        "colab": {
          "base_uri": "https://localhost:8080/"
        },
        "id": "PdD1tZ7-nXl3",
        "outputId": "24ff524a-4d85-4956-8894-c47f1931a84a"
      },
      "source": [
        "'''\r\n",
        "[Step 6] train data를 가지고 모형 학습\r\n",
        "'''\r\n",
        "# train data를 가지고 모형 학습\r\n",
        "clf.fit(X_train, y_train)"
      ],
      "execution_count": 27,
      "outputs": [
        {
          "output_type": "stream",
          "text": [
            "Fitting 3 folds for each of 252 candidates, totalling 756 fits\n"
          ],
          "name": "stdout"
        },
        {
          "output_type": "stream",
          "text": [
            "[Parallel(n_jobs=-1)]: Using backend LokyBackend with 2 concurrent workers.\n",
            "[Parallel(n_jobs=-1)]: Done  70 tasks      | elapsed:    6.0s\n",
            "[Parallel(n_jobs=-1)]: Done 312 tasks      | elapsed:   36.9s\n",
            "[Parallel(n_jobs=-1)]: Done 718 tasks      | elapsed:  1.8min\n",
            "[Parallel(n_jobs=-1)]: Done 756 out of 756 | elapsed:  2.0min finished\n",
            "/usr/local/lib/python3.7/dist-packages/sklearn/neural_network/_multilayer_perceptron.py:470: ConvergenceWarning: lbfgs failed to converge (status=1):\n",
            "STOP: TOTAL NO. of ITERATIONS REACHED LIMIT.\n",
            "\n",
            "Increase the number of iterations (max_iter) or scale the data as shown in:\n",
            "    https://scikit-learn.org/stable/modules/preprocessing.html\n",
            "  self.n_iter_ = _check_optimize_result(\"lbfgs\", opt_res, self.max_iter)\n"
          ],
          "name": "stderr"
        },
        {
          "output_type": "execute_result",
          "data": {
            "text/plain": [
              "GridSearchCV(cv=3, error_score=nan,\n",
              "             estimator=MLPRegressor(activation='relu', alpha=0.0001,\n",
              "                                    batch_size='auto', beta_1=0.9, beta_2=0.999,\n",
              "                                    early_stopping=False, epsilon=1e-08,\n",
              "                                    hidden_layer_sizes=(100,),\n",
              "                                    learning_rate='constant',\n",
              "                                    learning_rate_init=0.001, max_fun=15000,\n",
              "                                    max_iter=200, momentum=0.9,\n",
              "                                    n_iter_no_change=10,\n",
              "                                    nesterovs_momentum=True, power_t=0.5,\n",
              "                                    random_state=...\n",
              "                                    warm_start=False),\n",
              "             iid='deprecated', n_jobs=-1,\n",
              "             param_grid=[{'activation': ['identity', 'logistic', 'tanh',\n",
              "                                         'relu'],\n",
              "                          'hidden_layer_sizes': [(1,), (2,), (3,), (4,), (5,),\n",
              "                                                 (6,), (7,), (8,), (9,), (10,),\n",
              "                                                 (11,), (12,), (13,), (14,),\n",
              "                                                 (15,), (16,), (17,), (18,),\n",
              "                                                 (19,), (20,), (21,)],\n",
              "                          'solver': ['lbfgs', 'sgd', 'adam']}],\n",
              "             pre_dispatch='2*n_jobs', refit=True, return_train_score=False,\n",
              "             scoring=None, verbose=2)"
            ]
          },
          "metadata": {
            "tags": []
          },
          "execution_count": 27
        }
      ]
    },
    {
      "cell_type": "code",
      "metadata": {
        "colab": {
          "base_uri": "https://localhost:8080/"
        },
        "id": "TlYBstq-n9u-",
        "outputId": "380635e2-079f-405a-9865-8e601f9541fe"
      },
      "source": [
        "print(\"Best parameters set found on development set:\") \r\n",
        "print(clf.best_params_)  # 최고의 하이퍼 파라미터 조합을 출력해준다."
      ],
      "execution_count": 28,
      "outputs": [
        {
          "output_type": "stream",
          "text": [
            "Best parameters set found on development set:\n",
            "{'activation': 'tanh', 'hidden_layer_sizes': (19,), 'solver': 'lbfgs'}\n"
          ],
          "name": "stdout"
        }
      ]
    },
    {
      "cell_type": "markdown",
      "metadata": {
        "id": "6fM4JJtInaVf"
      },
      "source": [
        ""
      ]
    },
    {
      "cell_type": "code",
      "metadata": {
        "colab": {
          "base_uri": "https://localhost:8080/"
        },
        "id": "SaSU1ICFnakX",
        "outputId": "2efd93bf-6c47-4156-d998-06586f168390"
      },
      "source": [
        "'''\r\n",
        "[Step 7] test data를 가지고 y_hat을 예측\r\n",
        "'''\r\n",
        "# test data를 가지고 y_hat을 예측 (분류) \r\n",
        "y_hat = clf.predict(X_test)\r\n",
        "\r\n",
        "print(y_hat[0:10])\r\n",
        "print(y_test.values[0:10])\r\n",
        "print('\\n')"
      ],
      "execution_count": 29,
      "outputs": [
        {
          "output_type": "stream",
          "text": [
            "[41.37003251  8.36959465 56.45780139 14.94350144 45.97480399 46.942434\n",
            " 10.6666804  47.71676041 23.02749951 46.10645193]\n",
            "[47.4  10.35 49.99 14.7  47.82 51.06 13.29 52.82 22.5  47.74]\n",
            "\n",
            "\n"
          ],
          "name": "stdout"
        }
      ]
    },
    {
      "cell_type": "code",
      "metadata": {
        "colab": {
          "base_uri": "https://localhost:8080/"
        },
        "id": "2S52Xphyndj7",
        "outputId": "7c91b7ca-bdc3-4287-9af6-8b6afcb570d2"
      },
      "source": [
        "'''\r\n",
        "[Step 8] 모형 성능 평가 - 상관관계 계산\r\n",
        "'''\r\n",
        "import scipy.stats as stats\r\n",
        "svm_report =  stats.pearsonr(y_test, y_hat)  # 상관계수 확인하는 코드\r\n",
        "print(svm_report)   # 상관계수, p-value"
      ],
      "execution_count": 30,
      "outputs": [
        {
          "output_type": "stream",
          "text": [
            "(0.9610749947497635, 6.329878557246171e-116)\n"
          ],
          "name": "stdout"
        }
      ]
    },
    {
      "cell_type": "markdown",
      "metadata": {
        "id": "tDUQKxWXoONY"
      },
      "source": [
        ""
      ]
    },
    {
      "cell_type": "markdown",
      "metadata": {
        "id": "5FOJDbAQoKNo"
      },
      "source": [
        "Step 5 에서 clf = GridSearchCV(MLPRegressor(random_state=10), param_grid, cv=3, n_jobs = -1, verbose = 2 ] 로 random_state 값을 설정해서 실행하면 값 동일하게 출력.\r\n",
        "\r\n",
        "MLPRegressor(random_state=10) 인 경우 \r\n",
        "\r\n",
        "    Best parameters set found on development set: {'activation': 'tanh', 'hidden_layer_sizes': (21,), 'solver': 'lbfgs'}\r\n",
        "    상관계수, p-value: (0.964207283401068, 1.4270030829531285e-119)"
      ]
    },
    {
      "cell_type": "markdown",
      "metadata": {
        "id": "HEEB2am7ndVw"
      },
      "source": [
        ""
      ]
    },
    {
      "cell_type": "markdown",
      "metadata": {
        "id": "fzqvCVkzngZ-"
      },
      "source": [
        ""
      ]
    },
    {
      "cell_type": "markdown",
      "metadata": {
        "id": "4e5-GBMFngSS"
      },
      "source": [
        "문제41. 모델 생성할때 설정하는 random_stats 도 gridsearch 해서 알아내게 하려면 ?"
      ]
    },
    {
      "cell_type": "code",
      "metadata": {
        "colab": {
          "base_uri": "https://localhost:8080/"
        },
        "id": "CPGDCnzYniT6",
        "outputId": "24441f14-e4df-4983-aef3-04ea458c11a4"
      },
      "source": [
        "### 기본 라이브러리 불러오기\r\n",
        "import pandas as pd\r\n",
        "\r\n",
        "'''\r\n",
        "[Step 1] 데이터 준비/ 기본 설정\r\n",
        "'''\r\n",
        "# load_dataset 함수를 사용하여 데이터프레임으로 변환\r\n",
        "df = pd.read_csv('/content/drive/MyDrive/data/concrete.csv')\r\n",
        "\r\n",
        "'''\r\n",
        "[Step 2] 데이터 탐색/ 전처리\r\n",
        "'''\r\n",
        "# 결측치 확인\r\n",
        "#df.isnull().sum()\r\n",
        "#df.head()\r\n",
        "#df.info()\r\n",
        "\r\n",
        "'''\r\n",
        "[Step 3] 분석에 사용할 속성을 선택\r\n",
        "'''\r\n",
        "# 속성(변수) 선택\r\n",
        "X=df[['cement', 'slag','ash','water','superplastic','coarseagg','fineagg','age']]  #독립 변수 X\r\n",
        "\r\n",
        "y=df['strength']                      #종속 변수 Y\r\n",
        "\r\n",
        "\r\n",
        "'''\r\n",
        "[Step 4] 데이터셋 구분 - 훈련용(train data)/ 검증용(test data)\r\n",
        "'''\r\n",
        "#X.head()\r\n",
        "\r\n",
        "# 설명 변수 데이터를 표준화(normalization)\r\n",
        "from sklearn import preprocessing\r\n",
        "X = preprocessing.StandardScaler().fit(X).transform(X)\r\n",
        "#print(X)\r\n",
        "#print(type(X))\r\n",
        "\r\n",
        "# train data 와 test data로 구분(8:2 비율)\r\n",
        "from sklearn.model_selection import train_test_split\r\n",
        "X_train, X_test, y_train, y_test = train_test_split(X, y, test_size=0.2, random_state=10) \r\n",
        "\r\n",
        "print('train data 개수: ', X_train.shape)\r\n",
        "print('test data 개수: ', X_test.shape)\r\n",
        "print('\\n')\r\n",
        "\r\n",
        "'''\r\n",
        "[Step 5] 신경망 모형 - sklearn 사용\r\n",
        "'''\r\n",
        "##### from sklearn.neural_network\r\n",
        "##### 1. 분류 : MLPClassifier\r\n",
        "##### 2. 수치예측 : MLPRegressor\r\n",
        "\r\n",
        "from sklearn.neural_network import MLPRegressor\r\n",
        "from sklearn.model_selection import GridSearchCV  # grid search 기능을 사용하기 위해서\r\n",
        "\r\n",
        "param_grid = [\r\n",
        "        {\r\n",
        "            'activation' : ['identity', 'logistic', 'tanh', 'relu'],   # 활성화 함수의 종류 4가지\r\n",
        "            'solver' : ['lbfgs', 'sgd', 'adam'],   # 옵티마이져(최적화)의 종류 3가지\r\n",
        "            'hidden_layer_sizes': [\r\n",
        "             (1,),(2,),(3,),(4,),(5,),(6,),(7,),(8,),(9,),(10,),(11,), (12,),(13,),(14,),(15,),(16,),(17,),(18,),(19,),(20,),(21,)\r\n",
        "            ],\r\n",
        "            'random_state' :[0,1,2,3,4,5,6,7,8,9,10]\r\n",
        "            \r\n",
        "        }\r\n",
        "       ]\r\n",
        "\r\n",
        "\r\n",
        "clf = GridSearchCV(MLPRegressor(), param_grid, cv=3, n_jobs = -1, verbose = 2 )\r\n",
        "\r\n",
        "\r\n",
        "'''\r\n",
        "[Step 6] train data를 가지고 모형 학습\r\n",
        "'''\r\n",
        "# train data를 가지고 모형 학습\r\n",
        "clf.fit(X_train, y_train)   \r\n",
        "\r\n",
        "print(\"Best parameters set found on development set:\") \r\n",
        "print(clf.best_params_)  # 최고의 하이퍼 파라미터 조합을 출력해준다.\r\n",
        "print('\\n')\r\n",
        "\r\n",
        "\r\n",
        "'''\r\n",
        "[Step 7] test data를 가지고 y_hat을 예측\r\n",
        "'''\r\n",
        "# test data를 가지고 y_hat을 예측 (분류) \r\n",
        "y_hat = clf.predict(X_test)\r\n",
        "\r\n",
        "print(y_hat[0:10])\r\n",
        "print(y_test.values[0:10])\r\n",
        "print('\\n')\r\n",
        "\r\n",
        "'''\r\n",
        "[Step 8] 모형 성능 평가 - 상관관계 계산\r\n",
        "'''\r\n",
        "import scipy.stats as stats\r\n",
        "svm_report =  stats.pearsonr(y_test, y_hat)  # 상관계수 확인하는 코드\r\n",
        "print(svm_report)  # 상관계수, p-value"
      ],
      "execution_count": 32,
      "outputs": [
        {
          "output_type": "stream",
          "text": [
            "train data 개수:  (824, 8)\n",
            "test data 개수:  (206, 8)\n",
            "\n",
            "\n",
            "Fitting 3 folds for each of 2772 candidates, totalling 8316 fits\n"
          ],
          "name": "stdout"
        },
        {
          "output_type": "stream",
          "text": [
            "[Parallel(n_jobs=-1)]: Using backend LokyBackend with 2 concurrent workers.\n",
            "[Parallel(n_jobs=-1)]: Done  72 tasks      | elapsed:    5.8s\n",
            "[Parallel(n_jobs=-1)]: Done 314 tasks      | elapsed:   27.1s\n",
            "[Parallel(n_jobs=-1)]: Done 720 tasks      | elapsed:  1.1min\n",
            "[Parallel(n_jobs=-1)]: Done 1286 tasks      | elapsed:  1.9min\n",
            "[Parallel(n_jobs=-1)]: Done 2016 tasks      | elapsed:  3.0min\n",
            "[Parallel(n_jobs=-1)]: Done 2906 tasks      | elapsed:  5.2min\n",
            "[Parallel(n_jobs=-1)]: Done 3960 tasks      | elapsed:  8.5min\n",
            "[Parallel(n_jobs=-1)]: Done 5174 tasks      | elapsed: 11.8min\n",
            "[Parallel(n_jobs=-1)]: Done 6552 tasks      | elapsed: 16.1min\n",
            "[Parallel(n_jobs=-1)]: Done 8090 tasks      | elapsed: 20.5min\n",
            "[Parallel(n_jobs=-1)]: Done 8316 out of 8316 | elapsed: 21.2min finished\n"
          ],
          "name": "stderr"
        },
        {
          "output_type": "stream",
          "text": [
            "Best parameters set found on development set:\n",
            "{'activation': 'relu', 'hidden_layer_sizes': (21,), 'random_state': 1, 'solver': 'lbfgs'}\n",
            "\n",
            "\n",
            "[46.46770715 12.32803693 47.72641018 20.62907412 47.51553468 47.46104118\n",
            " 11.80573824 57.42406157 23.0872247  44.06176696]\n",
            "[47.4  10.35 49.99 14.7  47.82 51.06 13.29 52.82 22.5  47.74]\n",
            "\n",
            "\n",
            "(0.9591328018424011, 8.227770552030871e-114)\n"
          ],
          "name": "stdout"
        },
        {
          "output_type": "stream",
          "text": [
            "/usr/local/lib/python3.7/dist-packages/sklearn/neural_network/_multilayer_perceptron.py:470: ConvergenceWarning: lbfgs failed to converge (status=1):\n",
            "STOP: TOTAL NO. of ITERATIONS REACHED LIMIT.\n",
            "\n",
            "Increase the number of iterations (max_iter) or scale the data as shown in:\n",
            "    https://scikit-learn.org/stable/modules/preprocessing.html\n",
            "  self.n_iter_ = _check_optimize_result(\"lbfgs\", opt_res, self.max_iter)\n"
          ],
          "name": "stderr"
        }
      ]
    },
    {
      "cell_type": "markdown",
      "metadata": {
        "id": "4XIpxbhquIqB"
      },
      "source": [
        "Best parameters set found on development set:\r\n",
        "{'activation': 'relu', 'hidden_layer_sizes': (21,), 'random_state': 1, 'solver': 'lbfgs'}   \r\n",
        "상관계수, p-value : (0.9591328018424011, 8.227770552030871e-114)"
      ]
    },
    {
      "cell_type": "markdown",
      "metadata": {
        "id": "mqAB5PLdo4l_"
      },
      "source": [
        ""
      ]
    },
    {
      "cell_type": "markdown",
      "metadata": {
        "id": "UQMFSx9so4hf"
      },
      "source": [
        ""
      ]
    },
    {
      "cell_type": "markdown",
      "metadata": {
        "id": "V2jsh9UOo4b6"
      },
      "source": [
        "문제42 grid search 를 이용하지 말고 보스톤 하우징 데이터의 수치를 예측하는 신경망 코드를 작성하시오 !\r\n",
        "\r\n",
        "보스턴 데이터 설명:\r\n",
        "\r\n",
        "    [01] CRIM 자치시(town) 별 1인당 범죄율 \r\n",
        "    [02] ZN 25,000 평방피트를 초과하는 거주지역의 비율 \r\n",
        "    [03] INDUS 비소매상업지역이 점유하고 있는 토지의 비율\r\n",
        "    [04] CHAS 찰스강에 대한 더미변수(강의 경계에 위치한 경우는 1, 아니면 0) \r\n",
        "    [05] NOX 10ppm 당 농축 일산화질소 \r\n",
        "    [06] RM 주택 1가구당 평균 방의 개수 \r\n",
        "    [07] AGE 1940년 이전에 건축된 소유주택의 비율 \r\n",
        "    [08] DIS 5개의 보스턴 직업센터까지의 접근성 지수 \r\n",
        "    [09] RAD 방사형 도로까지의 접근성 지수 \r\n",
        "    [10] TAX 10,000 달러 당 재산세율 \r\n",
        "    [11] PTRATIO 자치시(town)별 학생/교사 비율 \r\n",
        "    [12] B 1000(Bk-0.63)^2, 여기서 Bk는 자치시별 흑인의 비율을 말함. \r\n",
        "    [13] LSTAT 모집단의 하위계층의 비율(%) \r\n",
        "    [14] MEDV 본인 소유의 주택가격(중앙값) (단위: $1,000)"
      ]
    },
    {
      "cell_type": "code",
      "metadata": {
        "colab": {
          "base_uri": "https://localhost:8080/",
          "height": 402
        },
        "id": "7XWEfclEo6Io",
        "outputId": "ea9d998f-e65c-49d1-bb99-1ef673c29e06"
      },
      "source": [
        "### 기본 라이브러리 불러오기\r\n",
        "import pandas as pd\r\n",
        "\r\n",
        "'''\r\n",
        "[Step 1] 데이터 준비/ 기본 설정\r\n",
        "'''\r\n",
        "# load_dataset 함수를 사용하여 데이터프레임으로 변환\r\n",
        "df = pd.read_csv('/content/drive/MyDrive/data/boston.csv')\r\n",
        "df"
      ],
      "execution_count": 34,
      "outputs": [
        {
          "output_type": "execute_result",
          "data": {
            "text/html": [
              "<div>\n",
              "<style scoped>\n",
              "    .dataframe tbody tr th:only-of-type {\n",
              "        vertical-align: middle;\n",
              "    }\n",
              "\n",
              "    .dataframe tbody tr th {\n",
              "        vertical-align: top;\n",
              "    }\n",
              "\n",
              "    .dataframe thead th {\n",
              "        text-align: right;\n",
              "    }\n",
              "</style>\n",
              "<table border=\"1\" class=\"dataframe\">\n",
              "  <thead>\n",
              "    <tr style=\"text-align: right;\">\n",
              "      <th></th>\n",
              "      <th>Unnamed: 0</th>\n",
              "      <th>CRIM</th>\n",
              "      <th>ZN</th>\n",
              "      <th>INDUS</th>\n",
              "      <th>CHAS</th>\n",
              "      <th>NOX</th>\n",
              "      <th>RM</th>\n",
              "      <th>AGE</th>\n",
              "      <th>DIS</th>\n",
              "      <th>RAD</th>\n",
              "      <th>TAX</th>\n",
              "      <th>PTRATIO</th>\n",
              "      <th>B</th>\n",
              "      <th>LSTAT</th>\n",
              "      <th>price</th>\n",
              "    </tr>\n",
              "  </thead>\n",
              "  <tbody>\n",
              "    <tr>\n",
              "      <th>0</th>\n",
              "      <td>0</td>\n",
              "      <td>0.00632</td>\n",
              "      <td>18.0</td>\n",
              "      <td>2.31</td>\n",
              "      <td>0.0</td>\n",
              "      <td>0.538</td>\n",
              "      <td>6.575</td>\n",
              "      <td>65.2</td>\n",
              "      <td>4.0900</td>\n",
              "      <td>1.0</td>\n",
              "      <td>296.0</td>\n",
              "      <td>15.3</td>\n",
              "      <td>396.90</td>\n",
              "      <td>4.98</td>\n",
              "      <td>24.0</td>\n",
              "    </tr>\n",
              "    <tr>\n",
              "      <th>1</th>\n",
              "      <td>1</td>\n",
              "      <td>0.02731</td>\n",
              "      <td>0.0</td>\n",
              "      <td>7.07</td>\n",
              "      <td>0.0</td>\n",
              "      <td>0.469</td>\n",
              "      <td>6.421</td>\n",
              "      <td>78.9</td>\n",
              "      <td>4.9671</td>\n",
              "      <td>2.0</td>\n",
              "      <td>242.0</td>\n",
              "      <td>17.8</td>\n",
              "      <td>396.90</td>\n",
              "      <td>9.14</td>\n",
              "      <td>21.6</td>\n",
              "    </tr>\n",
              "    <tr>\n",
              "      <th>2</th>\n",
              "      <td>2</td>\n",
              "      <td>0.02729</td>\n",
              "      <td>0.0</td>\n",
              "      <td>7.07</td>\n",
              "      <td>0.0</td>\n",
              "      <td>0.469</td>\n",
              "      <td>7.185</td>\n",
              "      <td>61.1</td>\n",
              "      <td>4.9671</td>\n",
              "      <td>2.0</td>\n",
              "      <td>242.0</td>\n",
              "      <td>17.8</td>\n",
              "      <td>392.83</td>\n",
              "      <td>4.03</td>\n",
              "      <td>34.7</td>\n",
              "    </tr>\n",
              "    <tr>\n",
              "      <th>3</th>\n",
              "      <td>3</td>\n",
              "      <td>0.03237</td>\n",
              "      <td>0.0</td>\n",
              "      <td>2.18</td>\n",
              "      <td>0.0</td>\n",
              "      <td>0.458</td>\n",
              "      <td>6.998</td>\n",
              "      <td>45.8</td>\n",
              "      <td>6.0622</td>\n",
              "      <td>3.0</td>\n",
              "      <td>222.0</td>\n",
              "      <td>18.7</td>\n",
              "      <td>394.63</td>\n",
              "      <td>2.94</td>\n",
              "      <td>33.4</td>\n",
              "    </tr>\n",
              "    <tr>\n",
              "      <th>4</th>\n",
              "      <td>4</td>\n",
              "      <td>0.06905</td>\n",
              "      <td>0.0</td>\n",
              "      <td>2.18</td>\n",
              "      <td>0.0</td>\n",
              "      <td>0.458</td>\n",
              "      <td>7.147</td>\n",
              "      <td>54.2</td>\n",
              "      <td>6.0622</td>\n",
              "      <td>3.0</td>\n",
              "      <td>222.0</td>\n",
              "      <td>18.7</td>\n",
              "      <td>396.90</td>\n",
              "      <td>5.33</td>\n",
              "      <td>36.2</td>\n",
              "    </tr>\n",
              "    <tr>\n",
              "      <th>...</th>\n",
              "      <td>...</td>\n",
              "      <td>...</td>\n",
              "      <td>...</td>\n",
              "      <td>...</td>\n",
              "      <td>...</td>\n",
              "      <td>...</td>\n",
              "      <td>...</td>\n",
              "      <td>...</td>\n",
              "      <td>...</td>\n",
              "      <td>...</td>\n",
              "      <td>...</td>\n",
              "      <td>...</td>\n",
              "      <td>...</td>\n",
              "      <td>...</td>\n",
              "      <td>...</td>\n",
              "    </tr>\n",
              "    <tr>\n",
              "      <th>501</th>\n",
              "      <td>501</td>\n",
              "      <td>0.06263</td>\n",
              "      <td>0.0</td>\n",
              "      <td>11.93</td>\n",
              "      <td>0.0</td>\n",
              "      <td>0.573</td>\n",
              "      <td>6.593</td>\n",
              "      <td>69.1</td>\n",
              "      <td>2.4786</td>\n",
              "      <td>1.0</td>\n",
              "      <td>273.0</td>\n",
              "      <td>21.0</td>\n",
              "      <td>391.99</td>\n",
              "      <td>9.67</td>\n",
              "      <td>22.4</td>\n",
              "    </tr>\n",
              "    <tr>\n",
              "      <th>502</th>\n",
              "      <td>502</td>\n",
              "      <td>0.04527</td>\n",
              "      <td>0.0</td>\n",
              "      <td>11.93</td>\n",
              "      <td>0.0</td>\n",
              "      <td>0.573</td>\n",
              "      <td>6.120</td>\n",
              "      <td>76.7</td>\n",
              "      <td>2.2875</td>\n",
              "      <td>1.0</td>\n",
              "      <td>273.0</td>\n",
              "      <td>21.0</td>\n",
              "      <td>396.90</td>\n",
              "      <td>9.08</td>\n",
              "      <td>20.6</td>\n",
              "    </tr>\n",
              "    <tr>\n",
              "      <th>503</th>\n",
              "      <td>503</td>\n",
              "      <td>0.06076</td>\n",
              "      <td>0.0</td>\n",
              "      <td>11.93</td>\n",
              "      <td>0.0</td>\n",
              "      <td>0.573</td>\n",
              "      <td>6.976</td>\n",
              "      <td>91.0</td>\n",
              "      <td>2.1675</td>\n",
              "      <td>1.0</td>\n",
              "      <td>273.0</td>\n",
              "      <td>21.0</td>\n",
              "      <td>396.90</td>\n",
              "      <td>5.64</td>\n",
              "      <td>23.9</td>\n",
              "    </tr>\n",
              "    <tr>\n",
              "      <th>504</th>\n",
              "      <td>504</td>\n",
              "      <td>0.10959</td>\n",
              "      <td>0.0</td>\n",
              "      <td>11.93</td>\n",
              "      <td>0.0</td>\n",
              "      <td>0.573</td>\n",
              "      <td>6.794</td>\n",
              "      <td>89.3</td>\n",
              "      <td>2.3889</td>\n",
              "      <td>1.0</td>\n",
              "      <td>273.0</td>\n",
              "      <td>21.0</td>\n",
              "      <td>393.45</td>\n",
              "      <td>6.48</td>\n",
              "      <td>22.0</td>\n",
              "    </tr>\n",
              "    <tr>\n",
              "      <th>505</th>\n",
              "      <td>505</td>\n",
              "      <td>0.04741</td>\n",
              "      <td>0.0</td>\n",
              "      <td>11.93</td>\n",
              "      <td>0.0</td>\n",
              "      <td>0.573</td>\n",
              "      <td>6.030</td>\n",
              "      <td>80.8</td>\n",
              "      <td>2.5050</td>\n",
              "      <td>1.0</td>\n",
              "      <td>273.0</td>\n",
              "      <td>21.0</td>\n",
              "      <td>396.90</td>\n",
              "      <td>7.88</td>\n",
              "      <td>11.9</td>\n",
              "    </tr>\n",
              "  </tbody>\n",
              "</table>\n",
              "<p>506 rows × 15 columns</p>\n",
              "</div>"
            ],
            "text/plain": [
              "     Unnamed: 0     CRIM    ZN  INDUS  ...  PTRATIO       B  LSTAT  price\n",
              "0             0  0.00632  18.0   2.31  ...     15.3  396.90   4.98   24.0\n",
              "1             1  0.02731   0.0   7.07  ...     17.8  396.90   9.14   21.6\n",
              "2             2  0.02729   0.0   7.07  ...     17.8  392.83   4.03   34.7\n",
              "3             3  0.03237   0.0   2.18  ...     18.7  394.63   2.94   33.4\n",
              "4             4  0.06905   0.0   2.18  ...     18.7  396.90   5.33   36.2\n",
              "..          ...      ...   ...    ...  ...      ...     ...    ...    ...\n",
              "501         501  0.06263   0.0  11.93  ...     21.0  391.99   9.67   22.4\n",
              "502         502  0.04527   0.0  11.93  ...     21.0  396.90   9.08   20.6\n",
              "503         503  0.06076   0.0  11.93  ...     21.0  396.90   5.64   23.9\n",
              "504         504  0.10959   0.0  11.93  ...     21.0  393.45   6.48   22.0\n",
              "505         505  0.04741   0.0  11.93  ...     21.0  396.90   7.88   11.9\n",
              "\n",
              "[506 rows x 15 columns]"
            ]
          },
          "metadata": {
            "tags": []
          },
          "execution_count": 34
        }
      ]
    },
    {
      "cell_type": "markdown",
      "metadata": {
        "id": "iTCAxd6TpQk-"
      },
      "source": [
        ""
      ]
    },
    {
      "cell_type": "code",
      "metadata": {
        "colab": {
          "base_uri": "https://localhost:8080/"
        },
        "id": "LeNT62gipQ40",
        "outputId": "2ad51fa1-8bae-4c9e-9fcd-de6e551d2f68"
      },
      "source": [
        "'''\r\n",
        "[Step 2] 데이터 탐색/ 전처리\r\n",
        "'''\r\n",
        "# 결측치 확인\r\n",
        "df.isnull().sum()"
      ],
      "execution_count": 35,
      "outputs": [
        {
          "output_type": "execute_result",
          "data": {
            "text/plain": [
              "Unnamed: 0    0\n",
              "CRIM          0\n",
              "ZN            0\n",
              "INDUS         0\n",
              "CHAS          0\n",
              "NOX           0\n",
              "RM            0\n",
              "AGE           0\n",
              "DIS           0\n",
              "RAD           0\n",
              "TAX           0\n",
              "PTRATIO       0\n",
              "B             0\n",
              "LSTAT         0\n",
              "price         0\n",
              "dtype: int64"
            ]
          },
          "metadata": {
            "tags": []
          },
          "execution_count": 35
        }
      ]
    },
    {
      "cell_type": "markdown",
      "metadata": {
        "id": "upfzsQoxpTeI"
      },
      "source": [
        ""
      ]
    },
    {
      "cell_type": "code",
      "metadata": {
        "colab": {
          "base_uri": "https://localhost:8080/",
          "height": 195
        },
        "id": "L8BjX8mjpTTY",
        "outputId": "8748f627-f388-43be-dbd8-f514b3a5a1cc"
      },
      "source": [
        "df.head()"
      ],
      "execution_count": 36,
      "outputs": [
        {
          "output_type": "execute_result",
          "data": {
            "text/html": [
              "<div>\n",
              "<style scoped>\n",
              "    .dataframe tbody tr th:only-of-type {\n",
              "        vertical-align: middle;\n",
              "    }\n",
              "\n",
              "    .dataframe tbody tr th {\n",
              "        vertical-align: top;\n",
              "    }\n",
              "\n",
              "    .dataframe thead th {\n",
              "        text-align: right;\n",
              "    }\n",
              "</style>\n",
              "<table border=\"1\" class=\"dataframe\">\n",
              "  <thead>\n",
              "    <tr style=\"text-align: right;\">\n",
              "      <th></th>\n",
              "      <th>Unnamed: 0</th>\n",
              "      <th>CRIM</th>\n",
              "      <th>ZN</th>\n",
              "      <th>INDUS</th>\n",
              "      <th>CHAS</th>\n",
              "      <th>NOX</th>\n",
              "      <th>RM</th>\n",
              "      <th>AGE</th>\n",
              "      <th>DIS</th>\n",
              "      <th>RAD</th>\n",
              "      <th>TAX</th>\n",
              "      <th>PTRATIO</th>\n",
              "      <th>B</th>\n",
              "      <th>LSTAT</th>\n",
              "      <th>price</th>\n",
              "    </tr>\n",
              "  </thead>\n",
              "  <tbody>\n",
              "    <tr>\n",
              "      <th>0</th>\n",
              "      <td>0</td>\n",
              "      <td>0.00632</td>\n",
              "      <td>18.0</td>\n",
              "      <td>2.31</td>\n",
              "      <td>0.0</td>\n",
              "      <td>0.538</td>\n",
              "      <td>6.575</td>\n",
              "      <td>65.2</td>\n",
              "      <td>4.0900</td>\n",
              "      <td>1.0</td>\n",
              "      <td>296.0</td>\n",
              "      <td>15.3</td>\n",
              "      <td>396.90</td>\n",
              "      <td>4.98</td>\n",
              "      <td>24.0</td>\n",
              "    </tr>\n",
              "    <tr>\n",
              "      <th>1</th>\n",
              "      <td>1</td>\n",
              "      <td>0.02731</td>\n",
              "      <td>0.0</td>\n",
              "      <td>7.07</td>\n",
              "      <td>0.0</td>\n",
              "      <td>0.469</td>\n",
              "      <td>6.421</td>\n",
              "      <td>78.9</td>\n",
              "      <td>4.9671</td>\n",
              "      <td>2.0</td>\n",
              "      <td>242.0</td>\n",
              "      <td>17.8</td>\n",
              "      <td>396.90</td>\n",
              "      <td>9.14</td>\n",
              "      <td>21.6</td>\n",
              "    </tr>\n",
              "    <tr>\n",
              "      <th>2</th>\n",
              "      <td>2</td>\n",
              "      <td>0.02729</td>\n",
              "      <td>0.0</td>\n",
              "      <td>7.07</td>\n",
              "      <td>0.0</td>\n",
              "      <td>0.469</td>\n",
              "      <td>7.185</td>\n",
              "      <td>61.1</td>\n",
              "      <td>4.9671</td>\n",
              "      <td>2.0</td>\n",
              "      <td>242.0</td>\n",
              "      <td>17.8</td>\n",
              "      <td>392.83</td>\n",
              "      <td>4.03</td>\n",
              "      <td>34.7</td>\n",
              "    </tr>\n",
              "    <tr>\n",
              "      <th>3</th>\n",
              "      <td>3</td>\n",
              "      <td>0.03237</td>\n",
              "      <td>0.0</td>\n",
              "      <td>2.18</td>\n",
              "      <td>0.0</td>\n",
              "      <td>0.458</td>\n",
              "      <td>6.998</td>\n",
              "      <td>45.8</td>\n",
              "      <td>6.0622</td>\n",
              "      <td>3.0</td>\n",
              "      <td>222.0</td>\n",
              "      <td>18.7</td>\n",
              "      <td>394.63</td>\n",
              "      <td>2.94</td>\n",
              "      <td>33.4</td>\n",
              "    </tr>\n",
              "    <tr>\n",
              "      <th>4</th>\n",
              "      <td>4</td>\n",
              "      <td>0.06905</td>\n",
              "      <td>0.0</td>\n",
              "      <td>2.18</td>\n",
              "      <td>0.0</td>\n",
              "      <td>0.458</td>\n",
              "      <td>7.147</td>\n",
              "      <td>54.2</td>\n",
              "      <td>6.0622</td>\n",
              "      <td>3.0</td>\n",
              "      <td>222.0</td>\n",
              "      <td>18.7</td>\n",
              "      <td>396.90</td>\n",
              "      <td>5.33</td>\n",
              "      <td>36.2</td>\n",
              "    </tr>\n",
              "  </tbody>\n",
              "</table>\n",
              "</div>"
            ],
            "text/plain": [
              "   Unnamed: 0     CRIM    ZN  INDUS  CHAS  ...    TAX  PTRATIO       B  LSTAT  price\n",
              "0           0  0.00632  18.0   2.31   0.0  ...  296.0     15.3  396.90   4.98   24.0\n",
              "1           1  0.02731   0.0   7.07   0.0  ...  242.0     17.8  396.90   9.14   21.6\n",
              "2           2  0.02729   0.0   7.07   0.0  ...  242.0     17.8  392.83   4.03   34.7\n",
              "3           3  0.03237   0.0   2.18   0.0  ...  222.0     18.7  394.63   2.94   33.4\n",
              "4           4  0.06905   0.0   2.18   0.0  ...  222.0     18.7  396.90   5.33   36.2\n",
              "\n",
              "[5 rows x 15 columns]"
            ]
          },
          "metadata": {
            "tags": []
          },
          "execution_count": 36
        }
      ]
    },
    {
      "cell_type": "markdown",
      "metadata": {
        "id": "UwU7XLjfpTzS"
      },
      "source": [
        ""
      ]
    },
    {
      "cell_type": "code",
      "metadata": {
        "colab": {
          "base_uri": "https://localhost:8080/"
        },
        "id": "U_ELHKjopTN5",
        "outputId": "c21e7729-c6fb-4833-93a0-d2b9d98f9a15"
      },
      "source": [
        "df.info()"
      ],
      "execution_count": 38,
      "outputs": [
        {
          "output_type": "stream",
          "text": [
            "<class 'pandas.core.frame.DataFrame'>\n",
            "RangeIndex: 506 entries, 0 to 505\n",
            "Data columns (total 15 columns):\n",
            " #   Column      Non-Null Count  Dtype  \n",
            "---  ------      --------------  -----  \n",
            " 0   Unnamed: 0  506 non-null    int64  \n",
            " 1   CRIM        506 non-null    float64\n",
            " 2   ZN          506 non-null    float64\n",
            " 3   INDUS       506 non-null    float64\n",
            " 4   CHAS        506 non-null    float64\n",
            " 5   NOX         506 non-null    float64\n",
            " 6   RM          506 non-null    float64\n",
            " 7   AGE         506 non-null    float64\n",
            " 8   DIS         506 non-null    float64\n",
            " 9   RAD         506 non-null    float64\n",
            " 10  TAX         506 non-null    float64\n",
            " 11  PTRATIO     506 non-null    float64\n",
            " 12  B           506 non-null    float64\n",
            " 13  LSTAT       506 non-null    float64\n",
            " 14  price       506 non-null    float64\n",
            "dtypes: float64(14), int64(1)\n",
            "memory usage: 59.4 KB\n"
          ],
          "name": "stdout"
        }
      ]
    },
    {
      "cell_type": "markdown",
      "metadata": {
        "id": "Ncgse9dLpUN2"
      },
      "source": [
        ""
      ]
    },
    {
      "cell_type": "code",
      "metadata": {
        "colab": {
          "base_uri": "https://localhost:8080/"
        },
        "id": "-W-ZqJq2pTKg",
        "outputId": "9f53e318-edc3-4e6c-90c2-7f4f0f9bab68"
      },
      "source": [
        "df.columns"
      ],
      "execution_count": 39,
      "outputs": [
        {
          "output_type": "execute_result",
          "data": {
            "text/plain": [
              "Index(['Unnamed: 0', 'CRIM', 'ZN', 'INDUS', 'CHAS', 'NOX', 'RM', 'AGE', 'DIS',\n",
              "       'RAD', 'TAX', 'PTRATIO', 'B', 'LSTAT', 'price'],\n",
              "      dtype='object')"
            ]
          },
          "metadata": {
            "tags": []
          },
          "execution_count": 39
        }
      ]
    },
    {
      "cell_type": "markdown",
      "metadata": {
        "id": "8DE73lfnpX2K"
      },
      "source": [
        ""
      ]
    },
    {
      "cell_type": "code",
      "metadata": {
        "id": "PClxJzdNpYD2"
      },
      "source": [
        "'''\r\n",
        "[Step 3] 분석에 사용할 속성을 선택\r\n",
        "'''\r\n",
        "# 속성(변수) 선택\r\n",
        "X=df[['CRIM','ZN','INDUS','CHAS','NOX','RM','AGE','DIS','RAD','TAX','PTRATIO','B','LSTAT']]  # 독립 변수 X\r\n",
        "\r\n",
        "y=df['price']       # 종속 변수 Y"
      ],
      "execution_count": 40,
      "outputs": []
    },
    {
      "cell_type": "markdown",
      "metadata": {
        "id": "ouo1h0vNpZu4"
      },
      "source": [
        ""
      ]
    },
    {
      "cell_type": "code",
      "metadata": {
        "colab": {
          "base_uri": "https://localhost:8080/"
        },
        "id": "XzT4wAWYpaSO",
        "outputId": "45094c50-8887-4fc8-89a9-0b1e445f31e9"
      },
      "source": [
        "'''\r\n",
        "[Step 4] 데이터셋 구분 - 훈련용(train data)/ 검증용(test data)\r\n",
        "'''\r\n",
        "X.head()\r\n",
        "\r\n",
        "# 설명 변수 데이터를 표준화(normalization)\r\n",
        "from sklearn import preprocessing\r\n",
        "X = preprocessing.StandardScaler().fit(X).transform(X)\r\n",
        "print(X)\r\n",
        "print('\\n')\r\n",
        "print(type(X))\r\n",
        "print('\\n')"
      ],
      "execution_count": 41,
      "outputs": [
        {
          "output_type": "stream",
          "text": [
            "[[-0.41978194  0.28482986 -1.2879095  ... -1.45900038  0.44105193\n",
            "  -1.0755623 ]\n",
            " [-0.41733926 -0.48772236 -0.59338101 ... -0.30309415  0.44105193\n",
            "  -0.49243937]\n",
            " [-0.41734159 -0.48772236 -0.59338101 ... -0.30309415  0.39642699\n",
            "  -1.2087274 ]\n",
            " ...\n",
            " [-0.41344658 -0.48772236  0.11573841 ...  1.17646583  0.44105193\n",
            "  -0.98304761]\n",
            " [-0.40776407 -0.48772236  0.11573841 ...  1.17646583  0.4032249\n",
            "  -0.86530163]\n",
            " [-0.41500016 -0.48772236  0.11573841 ...  1.17646583  0.44105193\n",
            "  -0.66905833]]\n",
            "\n",
            "\n",
            "<class 'numpy.ndarray'>\n",
            "\n",
            "\n"
          ],
          "name": "stdout"
        }
      ]
    },
    {
      "cell_type": "code",
      "metadata": {
        "colab": {
          "base_uri": "https://localhost:8080/"
        },
        "id": "GTb2U59cpeM-",
        "outputId": "42c4c13a-89f6-4867-e92b-f0acbca3b9a8"
      },
      "source": [
        "# train data 와 test data로 구분(8:2 비율)\r\n",
        "from sklearn.model_selection import train_test_split\r\n",
        "X_train, X_test, y_train, y_test = train_test_split(X, y, test_size=0.2, random_state=10) \r\n",
        "\r\n",
        "print('train data 개수: ', X_train.shape)\r\n",
        "print('test data 개수: ', X_test.shape)\r\n",
        "print('\\n')"
      ],
      "execution_count": 42,
      "outputs": [
        {
          "output_type": "stream",
          "text": [
            "train data 개수:  (404, 13)\n",
            "test data 개수:  (102, 13)\n",
            "\n",
            "\n"
          ],
          "name": "stdout"
        }
      ]
    },
    {
      "cell_type": "code",
      "metadata": {
        "id": "mXerdBBDpiX9"
      },
      "source": [
        "'''\r\n",
        "[Step 5] 신경망 모형 - sklearn 사용\r\n",
        "'''\r\n",
        "##### from sklearn.neural_network\r\n",
        "##### 1. 분류 : MLPClassifier\r\n",
        "##### 2. 수치예측 : MLPRegressor\r\n",
        "\r\n",
        "from sklearn.neural_network import MLPRegressor\r\n",
        "\r\n",
        "# neural network 모델 적합\r\n",
        "clf = MLPRegressor(random_state=0, max_iter=500)  # 학습을 500번 하겠다."
      ],
      "execution_count": 43,
      "outputs": []
    },
    {
      "cell_type": "markdown",
      "metadata": {
        "id": "5bSN8ksjpizZ"
      },
      "source": [
        ""
      ]
    },
    {
      "cell_type": "code",
      "metadata": {
        "colab": {
          "base_uri": "https://localhost:8080/"
        },
        "id": "i1A9oCqEpjCg",
        "outputId": "c520d803-5cef-4ee7-900f-5e1335e1dd28"
      },
      "source": [
        "'''\r\n",
        "[Step 6] train data를 가지고 모형 학습\r\n",
        "'''\r\n",
        "# train data를 가지고 모형 학습\r\n",
        "clf.fit(X_train, y_train)   "
      ],
      "execution_count": 44,
      "outputs": [
        {
          "output_type": "execute_result",
          "data": {
            "text/plain": [
              "MLPRegressor(activation='relu', alpha=0.0001, batch_size='auto', beta_1=0.9,\n",
              "             beta_2=0.999, early_stopping=False, epsilon=1e-08,\n",
              "             hidden_layer_sizes=(100,), learning_rate='constant',\n",
              "             learning_rate_init=0.001, max_fun=15000, max_iter=500,\n",
              "             momentum=0.9, n_iter_no_change=10, nesterovs_momentum=True,\n",
              "             power_t=0.5, random_state=0, shuffle=True, solver='adam',\n",
              "             tol=0.0001, validation_fraction=0.1, verbose=False,\n",
              "             warm_start=False)"
            ]
          },
          "metadata": {
            "tags": []
          },
          "execution_count": 44
        }
      ]
    },
    {
      "cell_type": "markdown",
      "metadata": {
        "id": "sTm1RvnVpkq4"
      },
      "source": [
        ""
      ]
    },
    {
      "cell_type": "code",
      "metadata": {
        "colab": {
          "base_uri": "https://localhost:8080/"
        },
        "id": "bNQa363splLT",
        "outputId": "038d9b64-a4f9-400a-f182-1bbbb6373212"
      },
      "source": [
        "'''\r\n",
        "[Step 7] test data를 가지고 y_hat을 예측\r\n",
        "'''\r\n",
        "# test data를 가지고 y_hat을 예측 (분류) \r\n",
        "y_hat = clf.predict(X_test)\r\n",
        "\r\n",
        "print(y_hat[0:10])\r\n",
        "print(y_test.values[0:10])\r\n",
        "print('\\n')"
      ],
      "execution_count": 45,
      "outputs": [
        {
          "output_type": "stream",
          "text": [
            "[26.43408617 33.88557132 27.87271742 27.10147336 19.47663534 15.9936627\n",
            " 40.44812842 16.32055055 21.13874284 41.52334783]\n",
            "[28.4 31.1 23.5 26.6 19.6 14.3 50.  14.3 20.7 37.6]\n",
            "\n",
            "\n"
          ],
          "name": "stdout"
        }
      ]
    },
    {
      "cell_type": "code",
      "metadata": {
        "colab": {
          "base_uri": "https://localhost:8080/"
        },
        "id": "ODNHa3k7pmhJ",
        "outputId": "c5b7f462-3589-40d7-eb2a-e1fd78644386"
      },
      "source": [
        "'''\r\n",
        "[Step 8] 모형 성능 평가 - 상관관계 계산\r\n",
        "'''\r\n",
        "import scipy.stats as stats\r\n",
        "svm_report =  stats.pearsonr(y_test, y_hat)  # 상관계수 확인하는 코드\r\n",
        "print(svm_report)   # 상관계수, p-value"
      ],
      "execution_count": 46,
      "outputs": [
        {
          "output_type": "stream",
          "text": [
            "(0.9139367239598873, 5.975509766599684e-41)\n"
          ],
          "name": "stdout"
        }
      ]
    },
    {
      "cell_type": "markdown",
      "metadata": {
        "id": "_F5ocVcfptYf"
      },
      "source": [
        ""
      ]
    },
    {
      "cell_type": "markdown",
      "metadata": {
        "id": "13oMiCGpptUb"
      },
      "source": [
        ""
      ]
    },
    {
      "cell_type": "markdown",
      "metadata": {
        "id": "ofLeDPyvptPp"
      },
      "source": [
        "문제43. 보스톤 하우징 데이터의 가격 수치 예측하는 신경망 코드를\r\n",
        "\t    grid Search 를 이용해서 작성하고 상관계수 값을 올리세요"
      ]
    },
    {
      "cell_type": "code",
      "metadata": {
        "colab": {
          "base_uri": "https://localhost:8080/"
        },
        "id": "95VXUyFdpyno",
        "outputId": "ee5974e5-e909-4837-bd3a-dfba71402bed"
      },
      "source": [
        "### 기본 라이브러리 불러오기\r\n",
        "import pandas as pd\r\n",
        "\r\n",
        "'''\r\n",
        "[Step 1] 데이터 준비/ 기본 설정\r\n",
        "'''\r\n",
        "# load_dataset 함수를 사용하여 데이터프레임으로 변환\r\n",
        "df = pd.read_csv('/content/drive/MyDrive/data/boston.csv')\r\n",
        "#df\r\n",
        "\r\n",
        "'''\r\n",
        "[Step 2] 데이터 탐색/ 전처리\r\n",
        "'''\r\n",
        "# 결측치 확인\r\n",
        "#df.isnull().sum()\r\n",
        "#df.head()\r\n",
        "#df.info()\r\n",
        "#df.columns\r\n",
        "\r\n",
        "'''\r\n",
        "[Step 3] 분석에 사용할 속성을 선택\r\n",
        "'''\r\n",
        "# 속성(변수) 선택\r\n",
        "X=df[['CRIM','ZN','INDUS','CHAS','NOX','RM','AGE','DIS','RAD','TAX','PTRATIO','B','LSTAT']]  # 독립 변수 X\r\n",
        "\r\n",
        "y=df['price']       # 종속 변수 Y\r\n",
        "\r\n",
        "\r\n",
        "'''\r\n",
        "[Step 4] 데이터셋 구분 - 훈련용(train data)/ 검증용(test data)\r\n",
        "'''\r\n",
        "#X.head()\r\n",
        "\r\n",
        "# 설명 변수 데이터를 표준화(normalization)\r\n",
        "from sklearn import preprocessing\r\n",
        "X = preprocessing.StandardScaler().fit(X).transform(X)\r\n",
        "#print(X)\r\n",
        "#print(type(X))\r\n",
        "\r\n",
        "# train data 와 test data로 구분(8:2 비율)\r\n",
        "from sklearn.model_selection import train_test_split\r\n",
        "X_train, X_test, y_train, y_test = train_test_split(X, y, test_size=0.2, random_state=10) \r\n",
        "\r\n",
        "print('train data 개수: ', X_train.shape)\r\n",
        "print('test data 개수: ', X_test.shape)\r\n",
        "print('\\n')\r\n",
        "\r\n",
        "'''\r\n",
        "[Step 5] 신경망 모형 - sklearn 사용\r\n",
        "'''\r\n",
        "##### from sklearn.neural_network\r\n",
        "##### 1. 분류 : MLPClassifier\r\n",
        "##### 2. 수치예측 : MLPRegressor\r\n",
        "\r\n",
        "from sklearn.neural_network import MLPRegressor\r\n",
        "from sklearn.model_selection import GridSearchCV  # grid search 기능을 사용하기 위해서\r\n",
        "\r\n",
        "param_grid = [\r\n",
        "        {\r\n",
        "            'activation' : ['identity', 'logistic', 'tanh', 'relu'],   # 활성화 함수의 종류 4가지\r\n",
        "            'solver' : ['lbfgs', 'sgd', 'adam'],   # 옵티마이져(최적화)의 종류 3가지\r\n",
        "            'hidden_layer_sizes': [\r\n",
        "             (1,),(2,),(3,),(4,),(5,),(6,),(7,),(8,),(9,),(10,),(11,), (12,),(13,),(14,),(15,),(16,),(17,),(18,),(19,),(20,),(21,)\r\n",
        "            ],\r\n",
        "            'random_state' :[ 0,1,2,3,4,5,6,7,8,9,10]\r\n",
        "            \r\n",
        "        }\r\n",
        "       ]\r\n",
        "\r\n",
        "\r\n",
        "clf = GridSearchCV(MLPRegressor(), param_grid, cv=3, n_jobs = -1, verbose = 2 )\r\n",
        "\r\n",
        "'''\r\n",
        "[Step 6] train data를 가지고 모형 학습\r\n",
        "'''\r\n",
        "# train data를 가지고 모형 학습\r\n",
        "clf.fit(X_train, y_train)   \r\n",
        "print('\\n')\r\n",
        "\r\n",
        "print(\"Best parameters set found on development set:\") \r\n",
        "print(clf.best_params_)  # 최고의 하이퍼 파라미터 조합을 출력해준다.\r\n",
        "print('\\n')\r\n",
        "\r\n",
        "'''\r\n",
        "[Step 7] test data를 가지고 y_hat을 예측\r\n",
        "'''\r\n",
        "# test data를 가지고 y_hat을 예측 (분류) \r\n",
        "y_hat = clf.predict(X_test)\r\n",
        "\r\n",
        "print(y_hat[0:10])\r\n",
        "print(y_test.values[0:10])\r\n",
        "print('\\n')\r\n",
        "\r\n",
        "'''\r\n",
        "[Step 8] 모형 성능 평가 - 상관관계 계산\r\n",
        "'''\r\n",
        "import scipy.stats as stats\r\n",
        "svm_report =  stats.pearsonr(y_test, y_hat)  # 상관계수 확인하는 코드\r\n",
        "print(svm_report)   # 상관계수, p-value"
      ],
      "execution_count": 49,
      "outputs": [
        {
          "output_type": "stream",
          "text": [
            "train data 개수:  (404, 13)\n",
            "test data 개수:  (102, 13)\n",
            "\n",
            "\n",
            "Fitting 3 folds for each of 2772 candidates, totalling 8316 fits\n"
          ],
          "name": "stdout"
        },
        {
          "output_type": "stream",
          "text": [
            "[Parallel(n_jobs=-1)]: Using backend LokyBackend with 2 concurrent workers.\n",
            "[Parallel(n_jobs=-1)]: Done  37 tasks      | elapsed:    3.4s\n",
            "[Parallel(n_jobs=-1)]: Done 246 tasks      | elapsed:   16.5s\n",
            "[Parallel(n_jobs=-1)]: Done 652 tasks      | elapsed:   42.2s\n",
            "[Parallel(n_jobs=-1)]: Done 1218 tasks      | elapsed:  1.3min\n",
            "[Parallel(n_jobs=-1)]: Done 1948 tasks      | elapsed:  2.1min\n",
            "[Parallel(n_jobs=-1)]: Done 2838 tasks      | elapsed:  3.7min\n",
            "[Parallel(n_jobs=-1)]: Done 3892 tasks      | elapsed:  5.9min\n",
            "[Parallel(n_jobs=-1)]: Done 5106 tasks      | elapsed:  8.4min\n",
            "[Parallel(n_jobs=-1)]: Done 6484 tasks      | elapsed: 11.4min\n",
            "[Parallel(n_jobs=-1)]: Done 8022 tasks      | elapsed: 14.7min\n",
            "[Parallel(n_jobs=-1)]: Done 8313 out of 8316 | elapsed: 15.4min remaining:    0.3s\n"
          ],
          "name": "stderr"
        },
        {
          "output_type": "stream",
          "text": [
            "\n",
            "\n",
            "Best parameters set found on development set:\n",
            "{'activation': 'relu', 'hidden_layer_sizes': (10,), 'random_state': 4, 'solver': 'lbfgs'}\n",
            "\n",
            "\n",
            "[28.64605051 32.20010547 26.46687749 25.6170062  18.33725428 15.85838117\n",
            " 45.03909903 15.44360305 22.72423419 43.37239923]\n",
            "[28.4 31.1 23.5 26.6 19.6 14.3 50.  14.3 20.7 37.6]\n",
            "\n",
            "\n",
            "(0.9270169593988205, 2.179952578866812e-44)\n"
          ],
          "name": "stdout"
        },
        {
          "output_type": "stream",
          "text": [
            "[Parallel(n_jobs=-1)]: Done 8316 out of 8316 | elapsed: 15.4min finished\n",
            "/usr/local/lib/python3.7/dist-packages/sklearn/neural_network/_multilayer_perceptron.py:470: ConvergenceWarning: lbfgs failed to converge (status=1):\n",
            "STOP: TOTAL NO. of ITERATIONS REACHED LIMIT.\n",
            "\n",
            "Increase the number of iterations (max_iter) or scale the data as shown in:\n",
            "    https://scikit-learn.org/stable/modules/preprocessing.html\n",
            "  self.n_iter_ = _check_optimize_result(\"lbfgs\", opt_res, self.max_iter)\n"
          ],
          "name": "stderr"
        }
      ]
    },
    {
      "cell_type": "markdown",
      "metadata": {
        "id": "eTpR-_3ezCKQ"
      },
      "source": [
        "Best parameters set found on development set:\r\n",
        "{'activation': 'relu', 'hidden_layer_sizes': (10,), 'random_state': 4, 'solver': 'lbfgs'}  \r\n",
        "상관계수, p-value: (0.9270169593988205, 2.179952578866812e-44)"
      ]
    },
    {
      "cell_type": "markdown",
      "metadata": {
        "id": "dQIdTO_kqHWZ"
      },
      "source": [
        ""
      ]
    },
    {
      "cell_type": "markdown",
      "metadata": {
        "id": "1nI48jL7qHSI"
      },
      "source": [
        ""
      ]
    },
    {
      "cell_type": "markdown",
      "metadata": {
        "id": "qDFJ7qLyqHNq"
      },
      "source": [
        "# **■ 서포트 벡터 머신(Support Vector Machine, SVM)**\r\n",
        "\r\n",
        "서포트 벡터 머신은 기계학습 분야의 하나로 패턴인식, 자료분석을 위한\r\n",
        "지도학습 모델이며 주로 분류와 회귀분석을 위해 사용한다.  \r\n",
        "서포트 벡터 머신 알고리즘은 데이터를 분류하는 가장 큰 폭을 가진 경계를\r\n",
        "찾는 알고리즘이다.  \r\n",
        "비선형 분류를 하기 위해서 주어진 데이터를 고차원 특징 공간으로\r\n",
        "사상하는 작업이 필요한데, 이를 효율적으로 하기 위해 커널 트릭을 사용하기도 한다.\r\n",
        "\r\n",
        "예제. 서포트 벡터 머신 기본코드"
      ]
    },
    {
      "cell_type": "code",
      "metadata": {
        "id": "ynKX8o32qqnq"
      },
      "source": [
        "### 기본 라이브러리 불러오기\r\n",
        "import pandas as pd\r\n",
        "import seaborn as sns\r\n",
        "\r\n",
        "'''\r\n",
        "[Step 1] 데이터 준비/ 기본 설정\r\n",
        "'''\r\n",
        "# load_dataset 함수를 사용하여 데이터프레임으로 변환\r\n",
        "df = sns.load_dataset('titanic')\r\n",
        "\r\n",
        "#  IPython 디스플레이 설정 - 출력할 열의 개수 한도 늘리기\r\n",
        "pd.set_option('display.max_columns', 15)"
      ],
      "execution_count": 50,
      "outputs": []
    },
    {
      "cell_type": "code",
      "metadata": {
        "id": "gvMyI3ssq3LJ"
      },
      "source": [
        "'''\r\n",
        "[Step 2] 데이터 탐색/ 전처리\r\n",
        "'''\r\n",
        "\r\n",
        "# NaN값이 많은 deck 열을 삭제, embarked와 내용이 겹치는 embark_town 열을 삭제\r\n",
        "rdf = df.drop(['deck', 'embark_town'], axis=1)  \r\n",
        "\r\n",
        "# age 열에 나이 데이터가 없는 모든 행을 삭제 - age 열(891개 중 177개의 NaN 값)\r\n",
        "rdf = rdf.dropna(subset=['age'], how='any', axis=0)  \r\n",
        "\r\n",
        "# embarked 열의 NaN값을 승선도시 중에서 가장 많이 출현한 값으로 치환하기\r\n",
        "most_freq = rdf['embarked'].value_counts(dropna=True).idxmax()   \r\n",
        "rdf['embarked'].fillna(most_freq, inplace=True)"
      ],
      "execution_count": 51,
      "outputs": []
    },
    {
      "cell_type": "code",
      "metadata": {
        "id": "7ecj3ANqq5Ae"
      },
      "source": [
        "'''\r\n",
        "[Step 3] 분석에 사용할 속성을 선택\r\n",
        "'''\r\n",
        "\r\n",
        "# 분석에 활용할 열(속성)을 선택 \r\n",
        "ndf = rdf[['survived', 'pclass', 'sex', 'age', 'sibsp', 'parch', 'embarked']]\r\n",
        "\r\n",
        "# 원핫인코딩 - 범주형 데이터를 모형이 인식할 수 있도록 숫자형으로 변환\r\n",
        "onehot_sex = pd.get_dummies(ndf['sex'])\r\n",
        "ndf = pd.concat([ndf, onehot_sex], axis=1)\r\n",
        "\r\n",
        "onehot_embarked = pd.get_dummies(ndf['embarked'], prefix='town')\r\n",
        "ndf = pd.concat([ndf, onehot_embarked], axis=1)\r\n",
        "\r\n",
        "ndf.drop(['sex', 'embarked'], axis=1, inplace=True)"
      ],
      "execution_count": 52,
      "outputs": []
    },
    {
      "cell_type": "code",
      "metadata": {
        "colab": {
          "base_uri": "https://localhost:8080/"
        },
        "id": "dRK1K4OHq6hX",
        "outputId": "2470b7ff-60ff-4141-a934-47783908457b"
      },
      "source": [
        "'''\r\n",
        "[Step 4] 데이터셋 구분 - 훈련용(train data)/ 검증용(test data)\r\n",
        "'''\r\n",
        "\r\n",
        "# 속성(변수) 선택\r\n",
        "X=ndf[['pclass', 'age', 'sibsp', 'parch', 'female', 'male', 'town_C', 'town_Q', 'town_S']]  # 독립 변수 X\r\n",
        "y=ndf['survived']      # 종속 변수 Y\r\n",
        "\r\n",
        "# 설명 변수 데이터를 정규화(normalization)\r\n",
        "from sklearn import preprocessing\r\n",
        "X = preprocessing.StandardScaler().fit(X).transform(X)\r\n",
        "\r\n",
        "# train data 와 test data로 구분(7:3 비율)\r\n",
        "from sklearn.model_selection import train_test_split\r\n",
        "X_train, X_test, y_train, y_test = train_test_split(X, y, test_size=0.3, random_state=10) \r\n",
        "\r\n",
        "print('train data 개수: ', X_train.shape)\r\n",
        "print('test data 개수: ', X_test.shape)\r\n",
        "print('\\n')"
      ],
      "execution_count": 53,
      "outputs": [
        {
          "output_type": "stream",
          "text": [
            "train data 개수:  (499, 9)\n",
            "test data 개수:  (215, 9)\n",
            "\n",
            "\n"
          ],
          "name": "stdout"
        }
      ]
    },
    {
      "cell_type": "code",
      "metadata": {
        "colab": {
          "base_uri": "https://localhost:8080/"
        },
        "id": "GydwOc8dq8EM",
        "outputId": "265f9d3b-652d-4716-b47a-26e051a6fe56"
      },
      "source": [
        "'''\r\n",
        "[Step 5] SVM 분류 모형 - sklearn 사용\r\n",
        "'''\r\n",
        "\r\n",
        "# sklearn 라이브러리에서 SVM 분류 모형 가져오기\r\n",
        "from sklearn import svm\r\n",
        "\r\n",
        "# 모형 객체 생성 (kernel='rbf' 적용)\r\n",
        "svm_model = svm.SVC(kernel='rbf')\r\n",
        "\r\n",
        "# train data를 가지고 모형 학습\r\n",
        "svm_model.fit(X_train, y_train)   \r\n",
        "\r\n",
        "# test data를 가지고 y_hat을 예측 (분류) \r\n",
        "y_hat = svm_model.predict(X_test)\r\n",
        "\r\n",
        "print(y_hat[0:10])\r\n",
        "print(y_test.values[0:10])\r\n",
        "print('\\n')"
      ],
      "execution_count": 54,
      "outputs": [
        {
          "output_type": "stream",
          "text": [
            "[0 0 1 0 0 0 1 0 0 0]\n",
            "[0 0 1 0 0 1 1 1 0 0]\n",
            "\n",
            "\n"
          ],
          "name": "stdout"
        }
      ]
    },
    {
      "cell_type": "code",
      "metadata": {
        "colab": {
          "base_uri": "https://localhost:8080/"
        },
        "id": "40n2DXVQq-vG",
        "outputId": "001ed470-3512-46c5-b1dd-3a8940862ea6"
      },
      "source": [
        "# 모형 성능 평가 - Confusion Matrix 계산\r\n",
        "from sklearn import metrics \r\n",
        "svm_matrix = metrics.confusion_matrix(y_test, y_hat)  \r\n",
        "print(svm_matrix)\r\n",
        "print('\\n')\r\n",
        "\r\n",
        "# 모형 성능 평가 - 평가지표 계산\r\n",
        "svm_report = metrics.classification_report(y_test, y_hat)            \r\n",
        "print(svm_report)"
      ],
      "execution_count": 55,
      "outputs": [
        {
          "output_type": "stream",
          "text": [
            "[[120   5]\n",
            " [ 35  55]]\n",
            "\n",
            "\n",
            "              precision    recall  f1-score   support\n",
            "\n",
            "           0       0.77      0.96      0.86       125\n",
            "           1       0.92      0.61      0.73        90\n",
            "\n",
            "    accuracy                           0.81       215\n",
            "   macro avg       0.85      0.79      0.80       215\n",
            "weighted avg       0.83      0.81      0.81       215\n",
            "\n"
          ],
          "name": "stdout"
        }
      ]
    },
    {
      "cell_type": "markdown",
      "metadata": {
        "id": "_I_kO_NErjmP"
      },
      "source": [
        ""
      ]
    },
    {
      "cell_type": "markdown",
      "metadata": {
        "id": "-sQQ-2JVrj5i"
      },
      "source": [
        ""
      ]
    },
    {
      "cell_type": "markdown",
      "metadata": {
        "id": "1js0y9whrkKM"
      },
      "source": [
        "문제44. 지금까지의 정확도는 0.81 인데 아이와 여저 먼저라는 파생변수를 추가하면 정확도가 더 올라가는지 확인하시오 ! "
      ]
    },
    {
      "cell_type": "code",
      "metadata": {
        "colab": {
          "base_uri": "https://localhost:8080/",
          "height": 402
        },
        "id": "GrnqrTMHrnoT",
        "outputId": "92005fdf-060e-4192-da30-36ced91956a7"
      },
      "source": [
        "### 기본 라이브러리 불러오기\r\n",
        "import pandas as pd\r\n",
        "import seaborn as sns\r\n",
        "\r\n",
        "'''\r\n",
        "[Step 1] 데이터 준비/ 기본 설정\r\n",
        "'''\r\n",
        "# load_dataset 함수를 사용하여 데이터프레임으로 변환\r\n",
        "df = sns.load_dataset('titanic')\r\n",
        "\r\n",
        "#  IPython 디스플레이 설정 - 출력할 열의 개수 한도 늘리기\r\n",
        "pd.set_option('display.max_columns', 15)\r\n",
        "df"
      ],
      "execution_count": 56,
      "outputs": [
        {
          "output_type": "execute_result",
          "data": {
            "text/html": [
              "<div>\n",
              "<style scoped>\n",
              "    .dataframe tbody tr th:only-of-type {\n",
              "        vertical-align: middle;\n",
              "    }\n",
              "\n",
              "    .dataframe tbody tr th {\n",
              "        vertical-align: top;\n",
              "    }\n",
              "\n",
              "    .dataframe thead th {\n",
              "        text-align: right;\n",
              "    }\n",
              "</style>\n",
              "<table border=\"1\" class=\"dataframe\">\n",
              "  <thead>\n",
              "    <tr style=\"text-align: right;\">\n",
              "      <th></th>\n",
              "      <th>survived</th>\n",
              "      <th>pclass</th>\n",
              "      <th>sex</th>\n",
              "      <th>age</th>\n",
              "      <th>sibsp</th>\n",
              "      <th>parch</th>\n",
              "      <th>fare</th>\n",
              "      <th>embarked</th>\n",
              "      <th>class</th>\n",
              "      <th>who</th>\n",
              "      <th>adult_male</th>\n",
              "      <th>deck</th>\n",
              "      <th>embark_town</th>\n",
              "      <th>alive</th>\n",
              "      <th>alone</th>\n",
              "    </tr>\n",
              "  </thead>\n",
              "  <tbody>\n",
              "    <tr>\n",
              "      <th>0</th>\n",
              "      <td>0</td>\n",
              "      <td>3</td>\n",
              "      <td>male</td>\n",
              "      <td>22.0</td>\n",
              "      <td>1</td>\n",
              "      <td>0</td>\n",
              "      <td>7.2500</td>\n",
              "      <td>S</td>\n",
              "      <td>Third</td>\n",
              "      <td>man</td>\n",
              "      <td>True</td>\n",
              "      <td>NaN</td>\n",
              "      <td>Southampton</td>\n",
              "      <td>no</td>\n",
              "      <td>False</td>\n",
              "    </tr>\n",
              "    <tr>\n",
              "      <th>1</th>\n",
              "      <td>1</td>\n",
              "      <td>1</td>\n",
              "      <td>female</td>\n",
              "      <td>38.0</td>\n",
              "      <td>1</td>\n",
              "      <td>0</td>\n",
              "      <td>71.2833</td>\n",
              "      <td>C</td>\n",
              "      <td>First</td>\n",
              "      <td>woman</td>\n",
              "      <td>False</td>\n",
              "      <td>C</td>\n",
              "      <td>Cherbourg</td>\n",
              "      <td>yes</td>\n",
              "      <td>False</td>\n",
              "    </tr>\n",
              "    <tr>\n",
              "      <th>2</th>\n",
              "      <td>1</td>\n",
              "      <td>3</td>\n",
              "      <td>female</td>\n",
              "      <td>26.0</td>\n",
              "      <td>0</td>\n",
              "      <td>0</td>\n",
              "      <td>7.9250</td>\n",
              "      <td>S</td>\n",
              "      <td>Third</td>\n",
              "      <td>woman</td>\n",
              "      <td>False</td>\n",
              "      <td>NaN</td>\n",
              "      <td>Southampton</td>\n",
              "      <td>yes</td>\n",
              "      <td>True</td>\n",
              "    </tr>\n",
              "    <tr>\n",
              "      <th>3</th>\n",
              "      <td>1</td>\n",
              "      <td>1</td>\n",
              "      <td>female</td>\n",
              "      <td>35.0</td>\n",
              "      <td>1</td>\n",
              "      <td>0</td>\n",
              "      <td>53.1000</td>\n",
              "      <td>S</td>\n",
              "      <td>First</td>\n",
              "      <td>woman</td>\n",
              "      <td>False</td>\n",
              "      <td>C</td>\n",
              "      <td>Southampton</td>\n",
              "      <td>yes</td>\n",
              "      <td>False</td>\n",
              "    </tr>\n",
              "    <tr>\n",
              "      <th>4</th>\n",
              "      <td>0</td>\n",
              "      <td>3</td>\n",
              "      <td>male</td>\n",
              "      <td>35.0</td>\n",
              "      <td>0</td>\n",
              "      <td>0</td>\n",
              "      <td>8.0500</td>\n",
              "      <td>S</td>\n",
              "      <td>Third</td>\n",
              "      <td>man</td>\n",
              "      <td>True</td>\n",
              "      <td>NaN</td>\n",
              "      <td>Southampton</td>\n",
              "      <td>no</td>\n",
              "      <td>True</td>\n",
              "    </tr>\n",
              "    <tr>\n",
              "      <th>...</th>\n",
              "      <td>...</td>\n",
              "      <td>...</td>\n",
              "      <td>...</td>\n",
              "      <td>...</td>\n",
              "      <td>...</td>\n",
              "      <td>...</td>\n",
              "      <td>...</td>\n",
              "      <td>...</td>\n",
              "      <td>...</td>\n",
              "      <td>...</td>\n",
              "      <td>...</td>\n",
              "      <td>...</td>\n",
              "      <td>...</td>\n",
              "      <td>...</td>\n",
              "      <td>...</td>\n",
              "    </tr>\n",
              "    <tr>\n",
              "      <th>886</th>\n",
              "      <td>0</td>\n",
              "      <td>2</td>\n",
              "      <td>male</td>\n",
              "      <td>27.0</td>\n",
              "      <td>0</td>\n",
              "      <td>0</td>\n",
              "      <td>13.0000</td>\n",
              "      <td>S</td>\n",
              "      <td>Second</td>\n",
              "      <td>man</td>\n",
              "      <td>True</td>\n",
              "      <td>NaN</td>\n",
              "      <td>Southampton</td>\n",
              "      <td>no</td>\n",
              "      <td>True</td>\n",
              "    </tr>\n",
              "    <tr>\n",
              "      <th>887</th>\n",
              "      <td>1</td>\n",
              "      <td>1</td>\n",
              "      <td>female</td>\n",
              "      <td>19.0</td>\n",
              "      <td>0</td>\n",
              "      <td>0</td>\n",
              "      <td>30.0000</td>\n",
              "      <td>S</td>\n",
              "      <td>First</td>\n",
              "      <td>woman</td>\n",
              "      <td>False</td>\n",
              "      <td>B</td>\n",
              "      <td>Southampton</td>\n",
              "      <td>yes</td>\n",
              "      <td>True</td>\n",
              "    </tr>\n",
              "    <tr>\n",
              "      <th>888</th>\n",
              "      <td>0</td>\n",
              "      <td>3</td>\n",
              "      <td>female</td>\n",
              "      <td>NaN</td>\n",
              "      <td>1</td>\n",
              "      <td>2</td>\n",
              "      <td>23.4500</td>\n",
              "      <td>S</td>\n",
              "      <td>Third</td>\n",
              "      <td>woman</td>\n",
              "      <td>False</td>\n",
              "      <td>NaN</td>\n",
              "      <td>Southampton</td>\n",
              "      <td>no</td>\n",
              "      <td>False</td>\n",
              "    </tr>\n",
              "    <tr>\n",
              "      <th>889</th>\n",
              "      <td>1</td>\n",
              "      <td>1</td>\n",
              "      <td>male</td>\n",
              "      <td>26.0</td>\n",
              "      <td>0</td>\n",
              "      <td>0</td>\n",
              "      <td>30.0000</td>\n",
              "      <td>C</td>\n",
              "      <td>First</td>\n",
              "      <td>man</td>\n",
              "      <td>True</td>\n",
              "      <td>C</td>\n",
              "      <td>Cherbourg</td>\n",
              "      <td>yes</td>\n",
              "      <td>True</td>\n",
              "    </tr>\n",
              "    <tr>\n",
              "      <th>890</th>\n",
              "      <td>0</td>\n",
              "      <td>3</td>\n",
              "      <td>male</td>\n",
              "      <td>32.0</td>\n",
              "      <td>0</td>\n",
              "      <td>0</td>\n",
              "      <td>7.7500</td>\n",
              "      <td>Q</td>\n",
              "      <td>Third</td>\n",
              "      <td>man</td>\n",
              "      <td>True</td>\n",
              "      <td>NaN</td>\n",
              "      <td>Queenstown</td>\n",
              "      <td>no</td>\n",
              "      <td>True</td>\n",
              "    </tr>\n",
              "  </tbody>\n",
              "</table>\n",
              "<p>891 rows × 15 columns</p>\n",
              "</div>"
            ],
            "text/plain": [
              "     survived  pclass     sex   age  sibsp  parch     fare embarked   class  \\\n",
              "0           0       3    male  22.0      1      0   7.2500        S   Third   \n",
              "1           1       1  female  38.0      1      0  71.2833        C   First   \n",
              "2           1       3  female  26.0      0      0   7.9250        S   Third   \n",
              "3           1       1  female  35.0      1      0  53.1000        S   First   \n",
              "4           0       3    male  35.0      0      0   8.0500        S   Third   \n",
              "..        ...     ...     ...   ...    ...    ...      ...      ...     ...   \n",
              "886         0       2    male  27.0      0      0  13.0000        S  Second   \n",
              "887         1       1  female  19.0      0      0  30.0000        S   First   \n",
              "888         0       3  female   NaN      1      2  23.4500        S   Third   \n",
              "889         1       1    male  26.0      0      0  30.0000        C   First   \n",
              "890         0       3    male  32.0      0      0   7.7500        Q   Third   \n",
              "\n",
              "       who  adult_male deck  embark_town alive  alone  \n",
              "0      man        True  NaN  Southampton    no  False  \n",
              "1    woman       False    C    Cherbourg   yes  False  \n",
              "2    woman       False  NaN  Southampton   yes   True  \n",
              "3    woman       False    C  Southampton   yes  False  \n",
              "4      man        True  NaN  Southampton    no   True  \n",
              "..     ...         ...  ...          ...   ...    ...  \n",
              "886    man        True  NaN  Southampton    no   True  \n",
              "887  woman       False    B  Southampton   yes   True  \n",
              "888  woman       False  NaN  Southampton    no  False  \n",
              "889    man        True    C    Cherbourg   yes   True  \n",
              "890    man        True  NaN   Queenstown    no   True  \n",
              "\n",
              "[891 rows x 15 columns]"
            ]
          },
          "metadata": {
            "tags": []
          },
          "execution_count": 56
        }
      ]
    },
    {
      "cell_type": "markdown",
      "metadata": {
        "id": "CGV-VqV8zi1K"
      },
      "source": [
        ""
      ]
    },
    {
      "cell_type": "code",
      "metadata": {
        "id": "DlcMO2ERrwmH"
      },
      "source": [
        "# 여자와 아이에 대한 파생변수 추가\r\n",
        "mask = ( df.age < 10 ) | ( df.sex=='female') \r\n",
        "mask.astype(int) # True 를 1 로 변경하고 False 를 0 으로 변경\r\n",
        "df['women_child'] = mask.astype(int)"
      ],
      "execution_count": 57,
      "outputs": []
    },
    {
      "cell_type": "markdown",
      "metadata": {
        "id": "RCHbofFZzjOo"
      },
      "source": [
        ""
      ]
    },
    {
      "cell_type": "code",
      "metadata": {
        "colab": {
          "base_uri": "https://localhost:8080/",
          "height": 402
        },
        "id": "D3axUEkLryVU",
        "outputId": "529ead1b-69e1-472c-8de9-c76c25812d0f"
      },
      "source": [
        "'''\r\n",
        "[Step 2] 데이터 탐색/ 전처리\r\n",
        "​'''\r\n",
        "\r\n",
        "# NaN값이 많은 deck 열을 삭제, embarked와 내용이 겹치는 embark_town 열을 삭제\r\n",
        "rdf = df.drop(['deck', 'embark_town'], axis=1)  \r\n",
        "\r\n",
        "# age 열에 나이 데이터가 없는 모든 행을 삭제 - age 열(891개 중 177개의 NaN 값)\r\n",
        "rdf = rdf.dropna(subset=['age'], how='any', axis=0)  \r\n",
        "\r\n",
        "# embarked 열의 NaN값을 승선도시 중에서 가장 많이 출현한 값으로 치환하기\r\n",
        "most_freq = rdf['embarked'].value_counts(dropna=True).idxmax()   \r\n",
        "rdf['embarked'].fillna(most_freq, inplace=True)\r\n",
        "rdf"
      ],
      "execution_count": 63,
      "outputs": [
        {
          "output_type": "execute_result",
          "data": {
            "text/html": [
              "<div>\n",
              "<style scoped>\n",
              "    .dataframe tbody tr th:only-of-type {\n",
              "        vertical-align: middle;\n",
              "    }\n",
              "\n",
              "    .dataframe tbody tr th {\n",
              "        vertical-align: top;\n",
              "    }\n",
              "\n",
              "    .dataframe thead th {\n",
              "        text-align: right;\n",
              "    }\n",
              "</style>\n",
              "<table border=\"1\" class=\"dataframe\">\n",
              "  <thead>\n",
              "    <tr style=\"text-align: right;\">\n",
              "      <th></th>\n",
              "      <th>survived</th>\n",
              "      <th>pclass</th>\n",
              "      <th>sex</th>\n",
              "      <th>age</th>\n",
              "      <th>sibsp</th>\n",
              "      <th>parch</th>\n",
              "      <th>fare</th>\n",
              "      <th>embarked</th>\n",
              "      <th>class</th>\n",
              "      <th>who</th>\n",
              "      <th>adult_male</th>\n",
              "      <th>alive</th>\n",
              "      <th>alone</th>\n",
              "      <th>women_child</th>\n",
              "    </tr>\n",
              "  </thead>\n",
              "  <tbody>\n",
              "    <tr>\n",
              "      <th>0</th>\n",
              "      <td>0</td>\n",
              "      <td>3</td>\n",
              "      <td>male</td>\n",
              "      <td>22.0</td>\n",
              "      <td>1</td>\n",
              "      <td>0</td>\n",
              "      <td>7.2500</td>\n",
              "      <td>S</td>\n",
              "      <td>Third</td>\n",
              "      <td>man</td>\n",
              "      <td>True</td>\n",
              "      <td>no</td>\n",
              "      <td>False</td>\n",
              "      <td>0</td>\n",
              "    </tr>\n",
              "    <tr>\n",
              "      <th>1</th>\n",
              "      <td>1</td>\n",
              "      <td>1</td>\n",
              "      <td>female</td>\n",
              "      <td>38.0</td>\n",
              "      <td>1</td>\n",
              "      <td>0</td>\n",
              "      <td>71.2833</td>\n",
              "      <td>C</td>\n",
              "      <td>First</td>\n",
              "      <td>woman</td>\n",
              "      <td>False</td>\n",
              "      <td>yes</td>\n",
              "      <td>False</td>\n",
              "      <td>1</td>\n",
              "    </tr>\n",
              "    <tr>\n",
              "      <th>2</th>\n",
              "      <td>1</td>\n",
              "      <td>3</td>\n",
              "      <td>female</td>\n",
              "      <td>26.0</td>\n",
              "      <td>0</td>\n",
              "      <td>0</td>\n",
              "      <td>7.9250</td>\n",
              "      <td>S</td>\n",
              "      <td>Third</td>\n",
              "      <td>woman</td>\n",
              "      <td>False</td>\n",
              "      <td>yes</td>\n",
              "      <td>True</td>\n",
              "      <td>1</td>\n",
              "    </tr>\n",
              "    <tr>\n",
              "      <th>3</th>\n",
              "      <td>1</td>\n",
              "      <td>1</td>\n",
              "      <td>female</td>\n",
              "      <td>35.0</td>\n",
              "      <td>1</td>\n",
              "      <td>0</td>\n",
              "      <td>53.1000</td>\n",
              "      <td>S</td>\n",
              "      <td>First</td>\n",
              "      <td>woman</td>\n",
              "      <td>False</td>\n",
              "      <td>yes</td>\n",
              "      <td>False</td>\n",
              "      <td>1</td>\n",
              "    </tr>\n",
              "    <tr>\n",
              "      <th>4</th>\n",
              "      <td>0</td>\n",
              "      <td>3</td>\n",
              "      <td>male</td>\n",
              "      <td>35.0</td>\n",
              "      <td>0</td>\n",
              "      <td>0</td>\n",
              "      <td>8.0500</td>\n",
              "      <td>S</td>\n",
              "      <td>Third</td>\n",
              "      <td>man</td>\n",
              "      <td>True</td>\n",
              "      <td>no</td>\n",
              "      <td>True</td>\n",
              "      <td>0</td>\n",
              "    </tr>\n",
              "    <tr>\n",
              "      <th>...</th>\n",
              "      <td>...</td>\n",
              "      <td>...</td>\n",
              "      <td>...</td>\n",
              "      <td>...</td>\n",
              "      <td>...</td>\n",
              "      <td>...</td>\n",
              "      <td>...</td>\n",
              "      <td>...</td>\n",
              "      <td>...</td>\n",
              "      <td>...</td>\n",
              "      <td>...</td>\n",
              "      <td>...</td>\n",
              "      <td>...</td>\n",
              "      <td>...</td>\n",
              "    </tr>\n",
              "    <tr>\n",
              "      <th>885</th>\n",
              "      <td>0</td>\n",
              "      <td>3</td>\n",
              "      <td>female</td>\n",
              "      <td>39.0</td>\n",
              "      <td>0</td>\n",
              "      <td>5</td>\n",
              "      <td>29.1250</td>\n",
              "      <td>Q</td>\n",
              "      <td>Third</td>\n",
              "      <td>woman</td>\n",
              "      <td>False</td>\n",
              "      <td>no</td>\n",
              "      <td>False</td>\n",
              "      <td>1</td>\n",
              "    </tr>\n",
              "    <tr>\n",
              "      <th>886</th>\n",
              "      <td>0</td>\n",
              "      <td>2</td>\n",
              "      <td>male</td>\n",
              "      <td>27.0</td>\n",
              "      <td>0</td>\n",
              "      <td>0</td>\n",
              "      <td>13.0000</td>\n",
              "      <td>S</td>\n",
              "      <td>Second</td>\n",
              "      <td>man</td>\n",
              "      <td>True</td>\n",
              "      <td>no</td>\n",
              "      <td>True</td>\n",
              "      <td>0</td>\n",
              "    </tr>\n",
              "    <tr>\n",
              "      <th>887</th>\n",
              "      <td>1</td>\n",
              "      <td>1</td>\n",
              "      <td>female</td>\n",
              "      <td>19.0</td>\n",
              "      <td>0</td>\n",
              "      <td>0</td>\n",
              "      <td>30.0000</td>\n",
              "      <td>S</td>\n",
              "      <td>First</td>\n",
              "      <td>woman</td>\n",
              "      <td>False</td>\n",
              "      <td>yes</td>\n",
              "      <td>True</td>\n",
              "      <td>1</td>\n",
              "    </tr>\n",
              "    <tr>\n",
              "      <th>889</th>\n",
              "      <td>1</td>\n",
              "      <td>1</td>\n",
              "      <td>male</td>\n",
              "      <td>26.0</td>\n",
              "      <td>0</td>\n",
              "      <td>0</td>\n",
              "      <td>30.0000</td>\n",
              "      <td>C</td>\n",
              "      <td>First</td>\n",
              "      <td>man</td>\n",
              "      <td>True</td>\n",
              "      <td>yes</td>\n",
              "      <td>True</td>\n",
              "      <td>0</td>\n",
              "    </tr>\n",
              "    <tr>\n",
              "      <th>890</th>\n",
              "      <td>0</td>\n",
              "      <td>3</td>\n",
              "      <td>male</td>\n",
              "      <td>32.0</td>\n",
              "      <td>0</td>\n",
              "      <td>0</td>\n",
              "      <td>7.7500</td>\n",
              "      <td>Q</td>\n",
              "      <td>Third</td>\n",
              "      <td>man</td>\n",
              "      <td>True</td>\n",
              "      <td>no</td>\n",
              "      <td>True</td>\n",
              "      <td>0</td>\n",
              "    </tr>\n",
              "  </tbody>\n",
              "</table>\n",
              "<p>714 rows × 14 columns</p>\n",
              "</div>"
            ],
            "text/plain": [
              "     survived  pclass     sex   age  sibsp  parch     fare embarked   class  \\\n",
              "0           0       3    male  22.0      1      0   7.2500        S   Third   \n",
              "1           1       1  female  38.0      1      0  71.2833        C   First   \n",
              "2           1       3  female  26.0      0      0   7.9250        S   Third   \n",
              "3           1       1  female  35.0      1      0  53.1000        S   First   \n",
              "4           0       3    male  35.0      0      0   8.0500        S   Third   \n",
              "..        ...     ...     ...   ...    ...    ...      ...      ...     ...   \n",
              "885         0       3  female  39.0      0      5  29.1250        Q   Third   \n",
              "886         0       2    male  27.0      0      0  13.0000        S  Second   \n",
              "887         1       1  female  19.0      0      0  30.0000        S   First   \n",
              "889         1       1    male  26.0      0      0  30.0000        C   First   \n",
              "890         0       3    male  32.0      0      0   7.7500        Q   Third   \n",
              "\n",
              "       who  adult_male alive  alone  women_child  \n",
              "0      man        True    no  False            0  \n",
              "1    woman       False   yes  False            1  \n",
              "2    woman       False   yes   True            1  \n",
              "3    woman       False   yes  False            1  \n",
              "4      man        True    no   True            0  \n",
              "..     ...         ...   ...    ...          ...  \n",
              "885  woman       False    no  False            1  \n",
              "886    man        True    no   True            0  \n",
              "887  woman       False   yes   True            1  \n",
              "889    man        True   yes   True            0  \n",
              "890    man        True    no   True            0  \n",
              "\n",
              "[714 rows x 14 columns]"
            ]
          },
          "metadata": {
            "tags": []
          },
          "execution_count": 63
        }
      ]
    },
    {
      "cell_type": "markdown",
      "metadata": {
        "id": "35Orqj4yziLV"
      },
      "source": [
        ""
      ]
    },
    {
      "cell_type": "code",
      "metadata": {
        "colab": {
          "base_uri": "https://localhost:8080/",
          "height": 402
        },
        "id": "S-Xpyqa0rvik",
        "outputId": "cfb7013e-9056-423b-ead5-e6f08fee822c"
      },
      "source": [
        "'''\r\n",
        "[Step 3] 분석에 사용할 속성을 선택\r\n",
        "'''\r\n",
        "\r\n",
        "# 분석에 활용할 열(속성)을 선택 \r\n",
        "ndf = rdf[['survived', 'pclass', 'sex', 'age', 'sibsp', 'parch', 'embarked','women_child']]\r\n",
        "\r\n",
        "# 원핫인코딩 - 범주형 데이터를 모형이 인식할 수 있도록 숫자형으로 변환\r\n",
        "onehot_sex = pd.get_dummies(ndf['sex'])\r\n",
        "ndf = pd.concat([ndf, onehot_sex], axis=1)\r\n",
        "\r\n",
        "onehot_embarked = pd.get_dummies(ndf['embarked'], prefix='town')\r\n",
        "ndf = pd.concat([ndf, onehot_embarked], axis=1)\r\n",
        "\r\n",
        "ndf.drop(['sex', 'embarked'], axis=1, inplace=True)\r\n",
        "ndf"
      ],
      "execution_count": 64,
      "outputs": [
        {
          "output_type": "execute_result",
          "data": {
            "text/html": [
              "<div>\n",
              "<style scoped>\n",
              "    .dataframe tbody tr th:only-of-type {\n",
              "        vertical-align: middle;\n",
              "    }\n",
              "\n",
              "    .dataframe tbody tr th {\n",
              "        vertical-align: top;\n",
              "    }\n",
              "\n",
              "    .dataframe thead th {\n",
              "        text-align: right;\n",
              "    }\n",
              "</style>\n",
              "<table border=\"1\" class=\"dataframe\">\n",
              "  <thead>\n",
              "    <tr style=\"text-align: right;\">\n",
              "      <th></th>\n",
              "      <th>survived</th>\n",
              "      <th>pclass</th>\n",
              "      <th>age</th>\n",
              "      <th>sibsp</th>\n",
              "      <th>parch</th>\n",
              "      <th>women_child</th>\n",
              "      <th>female</th>\n",
              "      <th>male</th>\n",
              "      <th>town_C</th>\n",
              "      <th>town_Q</th>\n",
              "      <th>town_S</th>\n",
              "    </tr>\n",
              "  </thead>\n",
              "  <tbody>\n",
              "    <tr>\n",
              "      <th>0</th>\n",
              "      <td>0</td>\n",
              "      <td>3</td>\n",
              "      <td>22.0</td>\n",
              "      <td>1</td>\n",
              "      <td>0</td>\n",
              "      <td>0</td>\n",
              "      <td>0</td>\n",
              "      <td>1</td>\n",
              "      <td>0</td>\n",
              "      <td>0</td>\n",
              "      <td>1</td>\n",
              "    </tr>\n",
              "    <tr>\n",
              "      <th>1</th>\n",
              "      <td>1</td>\n",
              "      <td>1</td>\n",
              "      <td>38.0</td>\n",
              "      <td>1</td>\n",
              "      <td>0</td>\n",
              "      <td>1</td>\n",
              "      <td>1</td>\n",
              "      <td>0</td>\n",
              "      <td>1</td>\n",
              "      <td>0</td>\n",
              "      <td>0</td>\n",
              "    </tr>\n",
              "    <tr>\n",
              "      <th>2</th>\n",
              "      <td>1</td>\n",
              "      <td>3</td>\n",
              "      <td>26.0</td>\n",
              "      <td>0</td>\n",
              "      <td>0</td>\n",
              "      <td>1</td>\n",
              "      <td>1</td>\n",
              "      <td>0</td>\n",
              "      <td>0</td>\n",
              "      <td>0</td>\n",
              "      <td>1</td>\n",
              "    </tr>\n",
              "    <tr>\n",
              "      <th>3</th>\n",
              "      <td>1</td>\n",
              "      <td>1</td>\n",
              "      <td>35.0</td>\n",
              "      <td>1</td>\n",
              "      <td>0</td>\n",
              "      <td>1</td>\n",
              "      <td>1</td>\n",
              "      <td>0</td>\n",
              "      <td>0</td>\n",
              "      <td>0</td>\n",
              "      <td>1</td>\n",
              "    </tr>\n",
              "    <tr>\n",
              "      <th>4</th>\n",
              "      <td>0</td>\n",
              "      <td>3</td>\n",
              "      <td>35.0</td>\n",
              "      <td>0</td>\n",
              "      <td>0</td>\n",
              "      <td>0</td>\n",
              "      <td>0</td>\n",
              "      <td>1</td>\n",
              "      <td>0</td>\n",
              "      <td>0</td>\n",
              "      <td>1</td>\n",
              "    </tr>\n",
              "    <tr>\n",
              "      <th>...</th>\n",
              "      <td>...</td>\n",
              "      <td>...</td>\n",
              "      <td>...</td>\n",
              "      <td>...</td>\n",
              "      <td>...</td>\n",
              "      <td>...</td>\n",
              "      <td>...</td>\n",
              "      <td>...</td>\n",
              "      <td>...</td>\n",
              "      <td>...</td>\n",
              "      <td>...</td>\n",
              "    </tr>\n",
              "    <tr>\n",
              "      <th>885</th>\n",
              "      <td>0</td>\n",
              "      <td>3</td>\n",
              "      <td>39.0</td>\n",
              "      <td>0</td>\n",
              "      <td>5</td>\n",
              "      <td>1</td>\n",
              "      <td>1</td>\n",
              "      <td>0</td>\n",
              "      <td>0</td>\n",
              "      <td>1</td>\n",
              "      <td>0</td>\n",
              "    </tr>\n",
              "    <tr>\n",
              "      <th>886</th>\n",
              "      <td>0</td>\n",
              "      <td>2</td>\n",
              "      <td>27.0</td>\n",
              "      <td>0</td>\n",
              "      <td>0</td>\n",
              "      <td>0</td>\n",
              "      <td>0</td>\n",
              "      <td>1</td>\n",
              "      <td>0</td>\n",
              "      <td>0</td>\n",
              "      <td>1</td>\n",
              "    </tr>\n",
              "    <tr>\n",
              "      <th>887</th>\n",
              "      <td>1</td>\n",
              "      <td>1</td>\n",
              "      <td>19.0</td>\n",
              "      <td>0</td>\n",
              "      <td>0</td>\n",
              "      <td>1</td>\n",
              "      <td>1</td>\n",
              "      <td>0</td>\n",
              "      <td>0</td>\n",
              "      <td>0</td>\n",
              "      <td>1</td>\n",
              "    </tr>\n",
              "    <tr>\n",
              "      <th>889</th>\n",
              "      <td>1</td>\n",
              "      <td>1</td>\n",
              "      <td>26.0</td>\n",
              "      <td>0</td>\n",
              "      <td>0</td>\n",
              "      <td>0</td>\n",
              "      <td>0</td>\n",
              "      <td>1</td>\n",
              "      <td>1</td>\n",
              "      <td>0</td>\n",
              "      <td>0</td>\n",
              "    </tr>\n",
              "    <tr>\n",
              "      <th>890</th>\n",
              "      <td>0</td>\n",
              "      <td>3</td>\n",
              "      <td>32.0</td>\n",
              "      <td>0</td>\n",
              "      <td>0</td>\n",
              "      <td>0</td>\n",
              "      <td>0</td>\n",
              "      <td>1</td>\n",
              "      <td>0</td>\n",
              "      <td>1</td>\n",
              "      <td>0</td>\n",
              "    </tr>\n",
              "  </tbody>\n",
              "</table>\n",
              "<p>714 rows × 11 columns</p>\n",
              "</div>"
            ],
            "text/plain": [
              "     survived  pclass   age  sibsp  parch  women_child  female  male  town_C  \\\n",
              "0           0       3  22.0      1      0            0       0     1       0   \n",
              "1           1       1  38.0      1      0            1       1     0       1   \n",
              "2           1       3  26.0      0      0            1       1     0       0   \n",
              "3           1       1  35.0      1      0            1       1     0       0   \n",
              "4           0       3  35.0      0      0            0       0     1       0   \n",
              "..        ...     ...   ...    ...    ...          ...     ...   ...     ...   \n",
              "885         0       3  39.0      0      5            1       1     0       0   \n",
              "886         0       2  27.0      0      0            0       0     1       0   \n",
              "887         1       1  19.0      0      0            1       1     0       0   \n",
              "889         1       1  26.0      0      0            0       0     1       1   \n",
              "890         0       3  32.0      0      0            0       0     1       0   \n",
              "\n",
              "     town_Q  town_S  \n",
              "0         0       1  \n",
              "1         0       0  \n",
              "2         0       1  \n",
              "3         0       1  \n",
              "4         0       1  \n",
              "..      ...     ...  \n",
              "885       1       0  \n",
              "886       0       1  \n",
              "887       0       1  \n",
              "889       0       0  \n",
              "890       1       0  \n",
              "\n",
              "[714 rows x 11 columns]"
            ]
          },
          "metadata": {
            "tags": []
          },
          "execution_count": 64
        }
      ]
    },
    {
      "cell_type": "markdown",
      "metadata": {
        "id": "2WIdF6x3zhgS"
      },
      "source": [
        ""
      ]
    },
    {
      "cell_type": "code",
      "metadata": {
        "colab": {
          "base_uri": "https://localhost:8080/"
        },
        "id": "hImhxEZFrt0Z",
        "outputId": "5385d8e2-cb5f-41d0-c9d3-5f1aaade002d"
      },
      "source": [
        "'''\r\n",
        "[Step 4] 데이터셋 구분 - 훈련용(train data)/ 검증용(test data)\r\n",
        "'''\r\n",
        "\r\n",
        "# 속성(변수) 선택\r\n",
        "X=ndf[['pclass', 'age', 'sibsp', 'parch', 'female', 'male', \r\n",
        "       'town_C', 'town_Q', 'town_S','women_child']]  #독립 변수 X\r\n",
        "y=ndf['survived']                      #종속 변수 Y\r\n",
        "\r\n",
        "# 설명 변수 데이터를 정규화(normalization)\r\n",
        "from sklearn import preprocessing\r\n",
        "X = preprocessing.StandardScaler().fit(X).transform(X)\r\n",
        "\r\n",
        "# train data 와 test data로 구분(7:3 비율)\r\n",
        "from sklearn.model_selection import train_test_split\r\n",
        "X_train, X_test, y_train, y_test = train_test_split(X, y, test_size=0.3, random_state=10) \r\n",
        "\r\n",
        "print('train data 개수: ', X_train.shape)\r\n",
        "print('test data 개수: ', X_test.shape)\r\n",
        "print('\\n')"
      ],
      "execution_count": 65,
      "outputs": [
        {
          "output_type": "stream",
          "text": [
            "train data 개수:  (499, 10)\n",
            "test data 개수:  (215, 10)\n",
            "\n",
            "\n"
          ],
          "name": "stdout"
        }
      ]
    },
    {
      "cell_type": "code",
      "metadata": {
        "colab": {
          "base_uri": "https://localhost:8080/"
        },
        "id": "BBmTmQA6r3B9",
        "outputId": "62947168-679f-4c68-b5a6-5cb23124a663"
      },
      "source": [
        "'''\r\n",
        "[Step 5] SVM 분류 모형 - sklearn 사용\r\n",
        "'''\r\n",
        "\r\n",
        "# sklearn 라이브러리에서 SVM 분류 모형 가져오기\r\n",
        "from sklearn import svm\r\n",
        "\r\n",
        "# 모형 객체 생성 (kernel='rbf' 적용)\r\n",
        "svm_model = svm.SVC(kernel='rbf')\r\n",
        "\r\n",
        "# train data를 가지고 모형 학습\r\n",
        "svm_model.fit(X_train, y_train)   \r\n",
        "\r\n",
        "# test data를 가지고 y_hat을 예측 (분류) \r\n",
        "y_hat = svm_model.predict(X_test)\r\n",
        "\r\n",
        "print(y_hat[0:10])\r\n",
        "print(y_test.values[0:10])\r\n",
        "print('\\n')"
      ],
      "execution_count": 66,
      "outputs": [
        {
          "output_type": "stream",
          "text": [
            "[0 0 1 0 0 1 1 0 0 0]\n",
            "[0 0 1 0 0 1 1 1 0 0]\n",
            "\n",
            "\n"
          ],
          "name": "stdout"
        }
      ]
    },
    {
      "cell_type": "code",
      "metadata": {
        "colab": {
          "base_uri": "https://localhost:8080/"
        },
        "id": "nmXMEreRr49t",
        "outputId": "f82415a8-c64c-423c-c54e-c0313df455c8"
      },
      "source": [
        "# 모형 성능 평가 - Confusion Matrix 계산\r\n",
        "from sklearn import metrics \r\n",
        "svm_matrix = metrics.confusion_matrix(y_test, y_hat)  \r\n",
        "print(svm_matrix)\r\n",
        "print('\\n')\r\n",
        "\r\n",
        "# 모형 성능 평가 - 평가지표 계산\r\n",
        "svm_report = metrics.classification_report(y_test, y_hat)            \r\n",
        "print(svm_report)"
      ],
      "execution_count": 67,
      "outputs": [
        {
          "output_type": "stream",
          "text": [
            "[[120   5]\n",
            " [ 31  59]]\n",
            "\n",
            "\n",
            "              precision    recall  f1-score   support\n",
            "\n",
            "           0       0.79      0.96      0.87       125\n",
            "           1       0.92      0.66      0.77        90\n",
            "\n",
            "    accuracy                           0.83       215\n",
            "   macro avg       0.86      0.81      0.82       215\n",
            "weighted avg       0.85      0.83      0.83       215\n",
            "\n"
          ],
          "name": "stdout"
        }
      ]
    },
    {
      "cell_type": "markdown",
      "metadata": {
        "id": "4AzdrWSEsmf9"
      },
      "source": [
        ""
      ]
    },
    {
      "cell_type": "markdown",
      "metadata": {
        "id": "8DWr2KQpsmbJ"
      },
      "source": [
        ""
      ]
    },
    {
      "cell_type": "markdown",
      "metadata": {
        "id": "lEtnXWWYsmXR"
      },
      "source": [
        "문제45. grid search 를 이용해서 최적의 하이퍼 파라미터를 알아내시오 !\r\n",
        "\r\n",
        "서포트 벡터 머신의 하이퍼 파라미터 ?  C 와 gamma 와 kernel"
      ]
    },
    {
      "cell_type": "code",
      "metadata": {
        "colab": {
          "base_uri": "https://localhost:8080/"
        },
        "id": "mwmoZnpasq8W",
        "outputId": "013e5fd1-fabc-45b2-9e79-df4fa10fe38d"
      },
      "source": [
        "### 기본 라이브러리 불러오기\r\n",
        "import pandas as pd\r\n",
        "import seaborn as sns\r\n",
        "\r\n",
        "'''\r\n",
        "[Step 1] 데이터 준비/ 기본 설정\r\n",
        "'''\r\n",
        "# load_dataset 함수를 사용하여 데이터프레임으로 변환\r\n",
        "df = sns.load_dataset('titanic')\r\n",
        "\r\n",
        "#  IPython 디스플레이 설정 - 출력할 열의 개수 한도 늘리기\r\n",
        "pd.set_option('display.max_columns', 15)\r\n",
        "#df\r\n",
        "\r\n",
        "# 여자와 아이에 대한 파생변수 추가\r\n",
        "mask = ( df.age < 10 ) | ( df.sex=='female') \r\n",
        "mask.astype(int) # True 를 1 로 변경하고 False 를 0 으로 변경\r\n",
        "df['women_child'] = mask.astype(int)\r\n",
        "\r\n",
        "'''\r\n",
        "[Step 2] 데이터 탐색/ 전처리\r\n",
        "'''\r\n",
        "\r\n",
        "# NaN값이 많은 deck 열을 삭제, embarked와 내용이 겹치는 embark_town 열을 삭제\r\n",
        "rdf = df.drop(['deck', 'embark_town'], axis=1)  \r\n",
        "\r\n",
        "# age 열에 나이 데이터가 없는 모든 행을 삭제 - age 열(891개 중 177개의 NaN 값)\r\n",
        "rdf = rdf.dropna(subset=['age'], how='any', axis=0)  \r\n",
        "\r\n",
        "# embarked 열의 NaN값을 승선도시 중에서 가장 많이 출현한 값으로 치환하기\r\n",
        "most_freq = rdf['embarked'].value_counts(dropna=True).idxmax()   \r\n",
        "rdf['embarked'].fillna(most_freq, inplace=True)\r\n",
        "#rdf\r\n",
        "\r\n",
        "'''\r\n",
        "[Step 3] 분석에 사용할 속성을 선택\r\n",
        "'''\r\n",
        "\r\n",
        "# 분석에 활용할 열(속성)을 선택 \r\n",
        "ndf = rdf[['survived', 'pclass', 'sex', 'age', 'sibsp', 'parch', 'embarked','women_child']]\r\n",
        "\r\n",
        "# 원핫인코딩 - 범주형 데이터를 모형이 인식할 수 있도록 숫자형으로 변환\r\n",
        "onehot_sex = pd.get_dummies(ndf['sex'])\r\n",
        "ndf = pd.concat([ndf, onehot_sex], axis=1)\r\n",
        "\r\n",
        "onehot_embarked = pd.get_dummies(ndf['embarked'], prefix='town')\r\n",
        "ndf = pd.concat([ndf, onehot_embarked], axis=1)\r\n",
        "\r\n",
        "ndf.drop(['sex', 'embarked'], axis=1, inplace=True)\r\n",
        "#ndf\r\n",
        "\r\n",
        "'''\r\n",
        "[Step 4] 데이터셋 구분 - 훈련용(train data)/ 검증용(test data)\r\n",
        "'''\r\n",
        "\r\n",
        "# 속성(변수) 선택\r\n",
        "X=ndf[['pclass', 'age', 'sibsp', 'parch', 'female', 'male', \r\n",
        "       'town_C', 'town_Q', 'town_S','women_child']]  #독립 변수 X\r\n",
        "y=ndf['survived']                      #종속 변수 Y\r\n",
        "\r\n",
        "# 설명 변수 데이터를 정규화(normalization)\r\n",
        "from sklearn import preprocessing\r\n",
        "X = preprocessing.StandardScaler().fit(X).transform(X)\r\n",
        "\r\n",
        "# train data 와 test data로 구분(7:3 비율)\r\n",
        "from sklearn.model_selection import train_test_split\r\n",
        "X_train, X_test, y_train, y_test = train_test_split(X, y, test_size=0.3, random_state=10) \r\n",
        "\r\n",
        "print('train data 개수: ', X_train.shape)\r\n",
        "print('test data 개수: ', X_test.shape)\r\n",
        "print('\\n')\r\n",
        "\r\n",
        "'''\r\n",
        "[Step 5] SVM 분류 모형 - sklearn 사용\r\n",
        "'''\r\n",
        "\r\n",
        "# sklearn 라이브러리에서 SVM 분류 모형 가져오기\r\n",
        "from sklearn import svm\r\n",
        "from sklearn.model_selection import GridSearchCV \r\n",
        "  \r\n",
        "# defining parameter range \r\n",
        "param_grid = {'C': [0.1, 1, 10, 100, 1000],  \r\n",
        "              'gamma': [1, 0.1, 0.01, 0.001, 0.0001], \r\n",
        "              'kernel': ['rbf','poly', 'sigmoid','linear']}  \r\n",
        "  \r\n",
        "grid = GridSearchCV( svm.SVC(), param_grid, refit = True,cv=3, n_jobs = -1, verbose = 2 )\r\n",
        "\r\n",
        "# fitting the model for grid search \r\n",
        "grid.fit(X_train, y_train) \r\n",
        "print('\\n')\r\n",
        "\r\n",
        "# test data를 가지고 y_hat을 예측 (분류) \r\n",
        "y_hat = grid.predict(X_test)\r\n",
        "\r\n",
        "print(y_hat[0:10])\r\n",
        "print(y_test.values[0:10])\r\n",
        "print('\\n')\r\n",
        "\r\n",
        "# 모형 성능 평가 - Confusion Matrix 계산\r\n",
        "from sklearn import metrics \r\n",
        "svm_matrix = metrics.confusion_matrix(y_test, y_hat)  \r\n",
        "print(svm_matrix)\r\n",
        "print('\\n')\r\n",
        "\r\n",
        "# 모형 성능 평가 - 평가지표 계산\r\n",
        "svm_report = metrics.classification_report(y_test, y_hat)            \r\n",
        "print(svm_report)"
      ],
      "execution_count": 68,
      "outputs": [
        {
          "output_type": "stream",
          "text": [
            "train data 개수:  (499, 10)\n",
            "test data 개수:  (215, 10)\n",
            "\n",
            "\n",
            "Fitting 3 folds for each of 100 candidates, totalling 300 fits\n"
          ],
          "name": "stdout"
        },
        {
          "output_type": "stream",
          "text": [
            "[Parallel(n_jobs=-1)]: Using backend LokyBackend with 2 concurrent workers.\n",
            "[Parallel(n_jobs=-1)]: Done 186 tasks      | elapsed:    6.9s\n"
          ],
          "name": "stderr"
        },
        {
          "output_type": "stream",
          "text": [
            "\n",
            "\n",
            "[0 0 1 0 0 1 1 0 0 0]\n",
            "[0 0 1 0 0 1 1 1 0 0]\n",
            "\n",
            "\n",
            "[[120   5]\n",
            " [ 31  59]]\n",
            "\n",
            "\n",
            "              precision    recall  f1-score   support\n",
            "\n",
            "           0       0.79      0.96      0.87       125\n",
            "           1       0.92      0.66      0.77        90\n",
            "\n",
            "    accuracy                           0.83       215\n",
            "   macro avg       0.86      0.81      0.82       215\n",
            "weighted avg       0.85      0.83      0.83       215\n",
            "\n"
          ],
          "name": "stdout"
        },
        {
          "output_type": "stream",
          "text": [
            "[Parallel(n_jobs=-1)]: Done 300 out of 300 | elapsed:  4.7min finished\n"
          ],
          "name": "stderr"
        }
      ]
    },
    {
      "cell_type": "markdown",
      "metadata": {
        "id": "KMBM_tPxtCMF"
      },
      "source": [
        ""
      ]
    },
    {
      "cell_type": "markdown",
      "metadata": {
        "id": "1cbpJ1vVtCHt"
      },
      "source": [
        ""
      ]
    },
    {
      "cell_type": "markdown",
      "metadata": {
        "id": "j_RQL8jStCCY"
      },
      "source": [
        "문제46. 서포트 벡터 머신으로 최고로 올릴 수 있는 타이타닉 데이터의 정확도는 0.83 이었습니다. 위에서 했던 gridsearch 를 이용한 신경망 코드를 이용해서 수치예측이 아닌 분류로 머신러닝 함수를 변경해서 훈련시키고 정확도를 확인하시오 !\r\n",
        "\r\n",
        " 1. 분류 : MLPClassifier\r\n",
        " 2. 수치예측 : MLPRegressor\r\n",
        "from sklearn.neural_network import MLPClassifier  ----->  분류\r\n",
        "from sklearn.neural_network import MLPRegressor  ----->  수치예측\r\n"
      ]
    },
    {
      "cell_type": "code",
      "metadata": {
        "id": "3xY4GWLstQuW"
      },
      "source": [
        "#힌트코드:\r\n",
        "'''\r\n",
        "[Step 5] 신경망 분류 모형 - sklearn 사용\r\n",
        "'''\r\n",
        "\r\n",
        "from sklearn.neural_network  import  MLPClassifier\r\n",
        "from sklearn.model_selection import GridSearchCV\r\n",
        "\r\n",
        "param_grid = [\r\n",
        "        {\r\n",
        "            'activation' : ['identity', 'logistic', 'tanh', 'relu'],\r\n",
        "            'solver' : ['lbfgs', 'sgd', 'adam'],\r\n",
        "            'hidden_layer_sizes': [\r\n",
        "             (1,),(2,),(3,),(4,),(5,),(6,),(7,),(8,),(9,),(10,),(11,), (12,),(13,),(14,),(15,),(16,),(17,),(18,),(19,),(20,),(21,)\r\n",
        "             ],\r\n",
        "            'random_state' :[ 0,1,2,3,4,5,6,7,8,9,10]\r\n",
        "        }\r\n",
        "       ]\r\n",
        " \r\n",
        "grid = GridSearchCV(MLPClassifier(), param_grid, cv=3, n_jobs = -1, verbose = 2 )"
      ],
      "execution_count": null,
      "outputs": []
    },
    {
      "cell_type": "markdown",
      "metadata": {
        "id": "UBZYyrnPtSQs"
      },
      "source": [
        ""
      ]
    },
    {
      "cell_type": "code",
      "metadata": {
        "colab": {
          "base_uri": "https://localhost:8080/"
        },
        "id": "8DPDBKc1tSq3",
        "outputId": "78693c89-2847-40b1-98eb-55912be91673"
      },
      "source": [
        "### 기본 라이브러리 불러오기\r\n",
        "import pandas as pd\r\n",
        "import seaborn as sns\r\n",
        "\r\n",
        "'''\r\n",
        "[Step 1] 데이터 준비/ 기본 설정\r\n",
        "'''\r\n",
        "# load_dataset 함수를 사용하여 데이터프레임으로 변환\r\n",
        "df = sns.load_dataset('titanic')\r\n",
        "\r\n",
        "#  IPython 디스플레이 설정 - 출력할 열의 개수 한도 늘리기\r\n",
        "pd.set_option('display.max_columns', 15)\r\n",
        "#df\r\n",
        "\r\n",
        "# 여자와 아이에 대한 파생변수 추가\r\n",
        "mask = ( df.age < 10 ) | ( df.sex=='female') \r\n",
        "mask.astype(int) # True 를 1 로 변경하고 False 를 0 으로 변경\r\n",
        "df['women_child'] = mask.astype(int)\r\n",
        "\r\n",
        "'''\r\n",
        "[Step 2] 데이터 탐색/ 전처리\r\n",
        "'''\r\n",
        "\r\n",
        "# NaN값이 많은 deck 열을 삭제, embarked와 내용이 겹치는 embark_town 열을 삭제\r\n",
        "rdf = df.drop(['deck', 'embark_town'], axis=1)  \r\n",
        "\r\n",
        "# age 열에 나이 데이터가 없는 모든 행을 삭제 - age 열(891개 중 177개의 NaN 값)\r\n",
        "rdf = rdf.dropna(subset=['age'], how='any', axis=0)  \r\n",
        "\r\n",
        "# embarked 열의 NaN값을 승선도시 중에서 가장 많이 출현한 값으로 치환하기\r\n",
        "most_freq = rdf['embarked'].value_counts(dropna=True).idxmax()   \r\n",
        "rdf['embarked'].fillna(most_freq, inplace=True)\r\n",
        "#rdf\r\n",
        "\r\n",
        "'''\r\n",
        "[Step 3] 분석에 사용할 속성을 선택\r\n",
        "'''\r\n",
        "\r\n",
        "# 분석에 활용할 열(속성)을 선택 \r\n",
        "ndf = rdf[['survived', 'pclass', 'sex', 'age', 'sibsp', 'parch', 'embarked','women_child']]\r\n",
        "\r\n",
        "# 원핫인코딩 - 범주형 데이터를 모형이 인식할 수 있도록 숫자형으로 변환\r\n",
        "onehot_sex = pd.get_dummies(ndf['sex'])\r\n",
        "ndf = pd.concat([ndf, onehot_sex], axis=1)\r\n",
        "\r\n",
        "onehot_embarked = pd.get_dummies(ndf['embarked'], prefix='town')\r\n",
        "ndf = pd.concat([ndf, onehot_embarked], axis=1)\r\n",
        "\r\n",
        "ndf.drop(['sex', 'embarked'], axis=1, inplace=True)\r\n",
        "#ndf\r\n",
        "\r\n",
        "'''\r\n",
        "[Step 4] 데이터셋 구분 - 훈련용(train data)/ 검증용(test data)\r\n",
        "'''\r\n",
        "\r\n",
        "# 속성(변수) 선택\r\n",
        "X=ndf[['pclass', 'age', 'sibsp', 'parch', 'female', 'male', \r\n",
        "       'town_C', 'town_Q', 'town_S','women_child']]  #독립 변수 X\r\n",
        "y=ndf['survived']                      #종속 변수 Y\r\n",
        "\r\n",
        "# 설명 변수 데이터를 정규화(normalization)\r\n",
        "from sklearn import preprocessing\r\n",
        "X = preprocessing.StandardScaler().fit(X).transform(X)\r\n",
        "\r\n",
        "# train data 와 test data로 구분(7:3 비율)\r\n",
        "from sklearn.model_selection import train_test_split\r\n",
        "X_train, X_test, y_train, y_test = train_test_split(X, y, test_size=0.3, random_state=10) \r\n",
        "\r\n",
        "print('train data 개수: ', X_train.shape)\r\n",
        "print('test data 개수: ', X_test.shape)\r\n",
        "print('\\n')\r\n",
        "\r\n",
        "'''\r\n",
        "[Step 5] 신경망 분류 모형 - sklearn 사용\r\n",
        "'''\r\n",
        "\r\n",
        "from sklearn.neural_network  import  MLPClassifier\r\n",
        "from sklearn.model_selection import GridSearchCV\r\n",
        "\r\n",
        "param_grid = [\r\n",
        "        {\r\n",
        "            'activation' : ['identity', 'logistic', 'tanh', 'relu'],\r\n",
        "            'solver' : ['lbfgs', 'sgd', 'adam'],\r\n",
        "            'hidden_layer_sizes': [\r\n",
        "             (1,),(2,),(3,),(4,),(5,),(6,),(7,),(8,),(9,),(10,),(11,), (12,),(13,),(14,),(15,),(16,),(17,),(18,),(19,),(20,),(21,)\r\n",
        "             ],\r\n",
        "            'random_state' :[ 0,1,2,3,4,5,6,7,8,9,10]\r\n",
        "        }\r\n",
        "       ]\r\n",
        " \r\n",
        "grid = GridSearchCV(MLPClassifier(), param_grid, cv=3, n_jobs = -1, verbose = 2 )\r\n",
        "\r\n",
        "# fitting the model for grid search \r\n",
        "grid.fit(X_train, y_train) \r\n",
        "print('\\n')\r\n",
        "\r\n",
        "print(\"Best parameters set found on development set:\")\r\n",
        "print(grid.best_params_) \r\n",
        "print('\\n')\r\n",
        "\r\n",
        "# test data를 가지고 y_hat을 예측 (분류) \r\n",
        "y_hat = grid.predict(X_test)\r\n",
        "\r\n",
        "print(y_hat[0:10])\r\n",
        "print(y_test.values[0:10])\r\n",
        "print('\\n')\r\n",
        "\r\n",
        "# 모형 성능 평가 - Confusion Matrix 계산\r\n",
        "from sklearn import metrics \r\n",
        "svm_matrix = metrics.confusion_matrix(y_test, y_hat)  \r\n",
        "print(svm_matrix)\r\n",
        "print('\\n')\r\n",
        "\r\n",
        "# 모형 성능 평가 - 평가지표 계산\r\n",
        "svm_report = metrics.classification_report(y_test, y_hat)            \r\n",
        "print(svm_report)"
      ],
      "execution_count": 70,
      "outputs": [
        {
          "output_type": "stream",
          "text": [
            "train data 개수:  (499, 10)\n",
            "test data 개수:  (215, 10)\n",
            "\n",
            "\n",
            "Fitting 3 folds for each of 2772 candidates, totalling 8316 fits\n"
          ],
          "name": "stdout"
        },
        {
          "output_type": "stream",
          "text": [
            "[Parallel(n_jobs=-1)]: Using backend LokyBackend with 2 concurrent workers.\n",
            "[Parallel(n_jobs=-1)]: Done  37 tasks      | elapsed:    4.2s\n",
            "[Parallel(n_jobs=-1)]: Done 158 tasks      | elapsed:   14.6s\n",
            "[Parallel(n_jobs=-1)]: Done 361 tasks      | elapsed:   32.9s\n",
            "[Parallel(n_jobs=-1)]: Done 644 tasks      | elapsed:   58.3s\n",
            "[Parallel(n_jobs=-1)]: Done 1009 tasks      | elapsed:  1.5min\n",
            "[Parallel(n_jobs=-1)]: Done 1454 tasks      | elapsed:  2.2min\n",
            "[Parallel(n_jobs=-1)]: Done 1981 tasks      | elapsed:  3.0min\n",
            "[Parallel(n_jobs=-1)]: Done 3072 tasks      | elapsed:  5.1min\n",
            "[Parallel(n_jobs=-1)]: Done 4450 tasks      | elapsed:  8.2min\n",
            "[Parallel(n_jobs=-1)]: Done 5988 tasks      | elapsed: 11.7min\n",
            "[Parallel(n_jobs=-1)]: Done 7690 tasks      | elapsed: 15.6min\n",
            "[Parallel(n_jobs=-1)]: Done 8316 out of 8316 | elapsed: 17.1min finished\n"
          ],
          "name": "stderr"
        },
        {
          "output_type": "stream",
          "text": [
            "\n",
            "\n",
            "Best parameters set found on development set:\n",
            "{'activation': 'relu', 'hidden_layer_sizes': (17,), 'random_state': 8, 'solver': 'adam'}\n",
            "\n",
            "\n",
            "[0 0 1 0 0 1 1 0 0 0]\n",
            "[0 0 1 0 0 1 1 1 0 0]\n",
            "\n",
            "\n",
            "[[120   5]\n",
            " [ 26  64]]\n",
            "\n",
            "\n",
            "              precision    recall  f1-score   support\n",
            "\n",
            "           0       0.82      0.96      0.89       125\n",
            "           1       0.93      0.71      0.81        90\n",
            "\n",
            "    accuracy                           0.86       215\n",
            "   macro avg       0.87      0.84      0.85       215\n",
            "weighted avg       0.87      0.86      0.85       215\n",
            "\n"
          ],
          "name": "stdout"
        },
        {
          "output_type": "stream",
          "text": [
            "/usr/local/lib/python3.7/dist-packages/sklearn/neural_network/_multilayer_perceptron.py:571: ConvergenceWarning: Stochastic Optimizer: Maximum iterations (200) reached and the optimization hasn't converged yet.\n",
            "  % self.max_iter, ConvergenceWarning)\n"
          ],
          "name": "stderr"
        }
      ]
    },
    {
      "cell_type": "markdown",
      "metadata": {
        "id": "32MzjKbyvFT7"
      },
      "source": [
        ""
      ]
    },
    {
      "cell_type": "markdown",
      "metadata": {
        "id": "QrGQBOY9vFPn"
      },
      "source": [
        ""
      ]
    },
    {
      "cell_type": "markdown",
      "metadata": {
        "id": "VHD53dqUvFKg"
      },
      "source": [
        "# **■ 연관규칙(Association Rules)**\r\n",
        "\r\n",
        "간단한 성능 측정치(지지도, 신뢰도, 향상도) 를 이용해서 거대한 데이터에서\r\n",
        "데이터간의 연관성을 찾는 알고리즘\r\n",
        "\r\n",
        "예제:"
      ]
    },
    {
      "cell_type": "code",
      "metadata": {
        "colab": {
          "base_uri": "https://localhost:8080/"
        },
        "id": "lSWIQyXDvMvq",
        "outputId": "788232c9-bde5-427b-b99d-62a31408ce38"
      },
      "source": [
        "import pandas as pd\r\n",
        "from mlxtend.preprocessing import TransactionEncoder  # 연관성 분석을 위한 데이터 전처리\r\n",
        "from mlxtend.frequent_patterns import apriori # 연관성 분석을 위한 아프리오리 알고리즘 함수 \r\n",
        "\r\n",
        "dataset=[['사과','치즈','생수'],\r\n",
        "['생수','호두','치즈','고등어'],\r\n",
        "['수박','사과','생수'],\r\n",
        "['생수','호두','치즈','옥수수']]\r\n",
        "\r\n",
        "te = TransactionEncoder()\r\n",
        "te_ary = te.fit(dataset).transform(dataset)\r\n",
        "print(te.columns_)\r\n",
        "te_ary\r\n",
        "\r\n",
        "df = pd.DataFrame(te_ary, columns=te.columns_)  # 보기 좋게 데이터프레임으로 변경\r\n",
        "df\r\n",
        "\r\n",
        "frequent_itemsets = apriori(df, min_support=0.5, use_colnames=True)  # 지지도 0.5 이상\r\n",
        "print(frequent_itemsets )   # 사람들이 많이 산 물건들만 출력\r\n",
        "\r\n",
        "from mlxtend.frequent_patterns import association_rules # 연관성을 찾는 함수 import\r\n",
        "print( association_rules(frequent_itemsets, metric=\"confidence\", min_threshold=0.3) ) \r\n",
        "# 신뢰도를 기준으로 물품들간의 연관성을 출력하는데 임계치를 0.3 이상인 것만 출력"
      ],
      "execution_count": 71,
      "outputs": [
        {
          "output_type": "stream",
          "text": [
            "['고등어', '사과', '생수', '수박', '옥수수', '치즈', '호두']\n",
            "   support      itemsets\n",
            "0     0.50          (사과)\n",
            "1     1.00          (생수)\n",
            "2     0.75          (치즈)\n",
            "3     0.50          (호두)\n",
            "4     0.50      (생수, 사과)\n",
            "5     0.75      (생수, 치즈)\n",
            "6     0.50      (생수, 호두)\n",
            "7     0.50      (호두, 치즈)\n",
            "8     0.50  (생수, 호두, 치즈)\n",
            "   antecedents consequents  antecedent support  consequent support  support  \\\n",
            "0         (생수)        (사과)                1.00                0.50     0.50   \n",
            "1         (사과)        (생수)                0.50                1.00     0.50   \n",
            "2         (생수)        (치즈)                1.00                0.75     0.75   \n",
            "3         (치즈)        (생수)                0.75                1.00     0.75   \n",
            "4         (생수)        (호두)                1.00                0.50     0.50   \n",
            "5         (호두)        (생수)                0.50                1.00     0.50   \n",
            "6         (호두)        (치즈)                0.50                0.75     0.50   \n",
            "7         (치즈)        (호두)                0.75                0.50     0.50   \n",
            "8     (생수, 호두)        (치즈)                0.50                0.75     0.50   \n",
            "9     (생수, 치즈)        (호두)                0.75                0.50     0.50   \n",
            "10    (호두, 치즈)        (생수)                0.50                1.00     0.50   \n",
            "11        (생수)    (호두, 치즈)                1.00                0.50     0.50   \n",
            "12        (호두)    (생수, 치즈)                0.50                0.75     0.50   \n",
            "13        (치즈)    (생수, 호두)                0.75                0.50     0.50   \n",
            "\n",
            "    confidence      lift  leverage  conviction  \n",
            "0     0.500000  1.000000     0.000         1.0  \n",
            "1     1.000000  1.000000     0.000         inf  \n",
            "2     0.750000  1.000000     0.000         1.0  \n",
            "3     1.000000  1.000000     0.000         inf  \n",
            "4     0.500000  1.000000     0.000         1.0  \n",
            "5     1.000000  1.000000     0.000         inf  \n",
            "6     1.000000  1.333333     0.125         inf  \n",
            "7     0.666667  1.333333     0.125         1.5  \n",
            "8     1.000000  1.333333     0.125         inf  \n",
            "9     0.666667  1.333333     0.125         1.5  \n",
            "10    1.000000  1.000000     0.000         inf  \n",
            "11    0.500000  1.000000     0.000         1.0  \n",
            "12    1.000000  1.333333     0.125         inf  \n",
            "13    0.666667  1.333333     0.125         1.5  \n"
          ],
          "name": "stdout"
        }
      ]
    },
    {
      "cell_type": "markdown",
      "metadata": {
        "id": "fHplmEjzvPsu"
      },
      "source": [
        "결론:\r\n",
        "생수와 사과는 같은 곳에 진열을 해야한다."
      ]
    },
    {
      "cell_type": "markdown",
      "metadata": {
        "id": "2jQMILdCvSel"
      },
      "source": [
        ""
      ]
    },
    {
      "cell_type": "markdown",
      "metadata": {
        "id": "PtTTpNtCvSOd"
      },
      "source": [
        ""
      ]
    },
    {
      "cell_type": "markdown",
      "metadata": {
        "id": "RlruWcthvTFu"
      },
      "source": [
        "문제47. 아래의 데이터에서 연관성을 도출하시오 !\r\n",
        "\r\n",
        "    dataset=[['빵','우유'],\r\n",
        "            ['맥주','빵','기저귀','계란'],\r\n",
        "           ['맥주','콜라','기저귀','우유'],\r\n",
        "           ['콜라','빵','기저귀','우유']]"
      ]
    },
    {
      "cell_type": "code",
      "metadata": {
        "colab": {
          "base_uri": "https://localhost:8080/"
        },
        "id": "aJFetqtOvQB0",
        "outputId": "98f32724-fe6c-4ca9-c55c-9aacb457a4e0"
      },
      "source": [
        "import pandas as pd\r\n",
        "from mlxtend.preprocessing import TransactionEncoder\r\n",
        "from mlxtend.frequent_patterns import apriori \r\n",
        "\r\n",
        "dataset=[['빵','우유'],\r\n",
        "            ['맥주','빵','기저귀','계란'],\r\n",
        "           ['맥주','콜라','기저귀','우유'],\r\n",
        "           ['콜라','빵','기저귀','우유']]\r\n",
        "\r\n",
        "te = TransactionEncoder()\r\n",
        "te_ary = te.fit(dataset).transform(dataset)\r\n",
        "print(te.columns_)\r\n",
        "te_ary\r\n",
        "\r\n",
        "df = pd.DataFrame(te_ary, columns=te.columns_)  \r\n",
        "df\r\n",
        "\r\n",
        "frequent_itemsets = apriori(df, min_support=0.5, use_colnames=True)  \r\n",
        "print(frequent_itemsets ) \r\n",
        "\r\n",
        "from mlxtend.frequent_patterns import association_rules \r\n",
        "print( association_rules(frequent_itemsets, metric=\"confidence\", min_threshold=0.3) ) "
      ],
      "execution_count": 72,
      "outputs": [
        {
          "output_type": "stream",
          "text": [
            "['계란', '기저귀', '맥주', '빵', '우유', '콜라']\n",
            "    support       itemsets\n",
            "0      0.75          (기저귀)\n",
            "1      0.50           (맥주)\n",
            "2      0.75            (빵)\n",
            "3      0.75           (우유)\n",
            "4      0.50           (콜라)\n",
            "5      0.50      (맥주, 기저귀)\n",
            "6      0.50       (빵, 기저귀)\n",
            "7      0.50      (우유, 기저귀)\n",
            "8      0.50      (기저귀, 콜라)\n",
            "9      0.50        (빵, 우유)\n",
            "10     0.50       (우유, 콜라)\n",
            "11     0.50  (우유, 기저귀, 콜라)\n",
            "   antecedents consequents  antecedent support  consequent support  support  \\\n",
            "0         (맥주)       (기저귀)                0.50                0.75      0.5   \n",
            "1        (기저귀)        (맥주)                0.75                0.50      0.5   \n",
            "2          (빵)       (기저귀)                0.75                0.75      0.5   \n",
            "3        (기저귀)         (빵)                0.75                0.75      0.5   \n",
            "4         (우유)       (기저귀)                0.75                0.75      0.5   \n",
            "5        (기저귀)        (우유)                0.75                0.75      0.5   \n",
            "6        (기저귀)        (콜라)                0.75                0.50      0.5   \n",
            "7         (콜라)       (기저귀)                0.50                0.75      0.5   \n",
            "8          (빵)        (우유)                0.75                0.75      0.5   \n",
            "9         (우유)         (빵)                0.75                0.75      0.5   \n",
            "10        (우유)        (콜라)                0.75                0.50      0.5   \n",
            "11        (콜라)        (우유)                0.50                0.75      0.5   \n",
            "12   (우유, 기저귀)        (콜라)                0.50                0.50      0.5   \n",
            "13    (우유, 콜라)       (기저귀)                0.50                0.75      0.5   \n",
            "14   (기저귀, 콜라)        (우유)                0.50                0.75      0.5   \n",
            "15        (우유)   (기저귀, 콜라)                0.75                0.50      0.5   \n",
            "16       (기저귀)    (우유, 콜라)                0.75                0.50      0.5   \n",
            "17        (콜라)   (우유, 기저귀)                0.50                0.50      0.5   \n",
            "\n",
            "    confidence      lift  leverage  conviction  \n",
            "0     1.000000  1.333333    0.1250         inf  \n",
            "1     0.666667  1.333333    0.1250        1.50  \n",
            "2     0.666667  0.888889   -0.0625        0.75  \n",
            "3     0.666667  0.888889   -0.0625        0.75  \n",
            "4     0.666667  0.888889   -0.0625        0.75  \n",
            "5     0.666667  0.888889   -0.0625        0.75  \n",
            "6     0.666667  1.333333    0.1250        1.50  \n",
            "7     1.000000  1.333333    0.1250         inf  \n",
            "8     0.666667  0.888889   -0.0625        0.75  \n",
            "9     0.666667  0.888889   -0.0625        0.75  \n",
            "10    0.666667  1.333333    0.1250        1.50  \n",
            "11    1.000000  1.333333    0.1250         inf  \n",
            "12    1.000000  2.000000    0.2500         inf  \n",
            "13    1.000000  1.333333    0.1250         inf  \n",
            "14    1.000000  1.333333    0.1250         inf  \n",
            "15    0.666667  1.333333    0.1250        1.50  \n",
            "16    0.666667  1.333333    0.1250        1.50  \n",
            "17    1.000000  2.000000    0.2500         inf  \n"
          ],
          "name": "stdout"
        }
      ]
    },
    {
      "cell_type": "markdown",
      "metadata": {
        "id": "VUwuqRV5vrku"
      },
      "source": [
        ""
      ]
    },
    {
      "cell_type": "markdown",
      "metadata": {
        "id": "o3nw9Ip_vrha"
      },
      "source": [
        ""
      ]
    },
    {
      "cell_type": "markdown",
      "metadata": {
        "id": "92qzVNK3vrdm"
      },
      "source": [
        "문제48. 보습학원 데이터로 연관분석을 \r\n",
        "\t   해보겠습니다. 보습학원이 있는 건물에는 어떤 업종이 많이 있는가?\r\n",
        "\t "
      ]
    },
    {
      "cell_type": "code",
      "metadata": {
        "colab": {
          "base_uri": "https://localhost:8080/",
          "height": 639
        },
        "id": "uNebgoMavwCB",
        "outputId": "162dff81-6649-4d90-d2fc-97df3a10cde1"
      },
      "source": [
        "import pandas as pd\r\n",
        "from mlxtend.preprocessing import TransactionEncoder\r\n",
        "from mlxtend.frequent_patterns import apriori\r\n",
        "import numpy as np\r\n",
        "\r\n",
        "# CSV 파일을 데이터프레임으로 변환\r\n",
        "dataset = pd.read_csv('/content/drive/MyDrive/data/building3.csv', encoding='cp949', header=None)\r\n",
        "dataset = dataset[ [1,2,3,4,5,6,7,8,9,10,11,12]]\r\n",
        "dataset = dataset.fillna(0)\r\n",
        "dataset"
      ],
      "execution_count": 74,
      "outputs": [
        {
          "output_type": "execute_result",
          "data": {
            "text/html": [
              "<div>\n",
              "<style scoped>\n",
              "    .dataframe tbody tr th:only-of-type {\n",
              "        vertical-align: middle;\n",
              "    }\n",
              "\n",
              "    .dataframe tbody tr th {\n",
              "        vertical-align: top;\n",
              "    }\n",
              "\n",
              "    .dataframe thead th {\n",
              "        text-align: right;\n",
              "    }\n",
              "</style>\n",
              "<table border=\"1\" class=\"dataframe\">\n",
              "  <thead>\n",
              "    <tr style=\"text-align: right;\">\n",
              "      <th></th>\n",
              "      <th>1</th>\n",
              "      <th>2</th>\n",
              "      <th>3</th>\n",
              "      <th>4</th>\n",
              "      <th>5</th>\n",
              "      <th>6</th>\n",
              "      <th>7</th>\n",
              "      <th>8</th>\n",
              "      <th>9</th>\n",
              "      <th>10</th>\n",
              "      <th>11</th>\n",
              "      <th>12</th>\n",
              "    </tr>\n",
              "  </thead>\n",
              "  <tbody>\n",
              "    <tr>\n",
              "      <th>0</th>\n",
              "      <td>1.0</td>\n",
              "      <td>1.0</td>\n",
              "      <td>0.0</td>\n",
              "      <td>1.0</td>\n",
              "      <td>0.0</td>\n",
              "      <td>0.0</td>\n",
              "      <td>0.0</td>\n",
              "      <td>0.0</td>\n",
              "      <td>0.0</td>\n",
              "      <td>0.0</td>\n",
              "      <td>0.0</td>\n",
              "      <td>1.0</td>\n",
              "    </tr>\n",
              "    <tr>\n",
              "      <th>1</th>\n",
              "      <td>0.0</td>\n",
              "      <td>0.0</td>\n",
              "      <td>0.0</td>\n",
              "      <td>0.0</td>\n",
              "      <td>1.0</td>\n",
              "      <td>1.0</td>\n",
              "      <td>1.0</td>\n",
              "      <td>0.0</td>\n",
              "      <td>0.0</td>\n",
              "      <td>0.0</td>\n",
              "      <td>1.0</td>\n",
              "      <td>0.0</td>\n",
              "    </tr>\n",
              "    <tr>\n",
              "      <th>2</th>\n",
              "      <td>0.0</td>\n",
              "      <td>0.0</td>\n",
              "      <td>1.0</td>\n",
              "      <td>0.0</td>\n",
              "      <td>0.0</td>\n",
              "      <td>0.0</td>\n",
              "      <td>0.0</td>\n",
              "      <td>1.0</td>\n",
              "      <td>0.0</td>\n",
              "      <td>1.0</td>\n",
              "      <td>0.0</td>\n",
              "      <td>0.0</td>\n",
              "    </tr>\n",
              "    <tr>\n",
              "      <th>3</th>\n",
              "      <td>0.0</td>\n",
              "      <td>0.0</td>\n",
              "      <td>1.0</td>\n",
              "      <td>0.0</td>\n",
              "      <td>0.0</td>\n",
              "      <td>0.0</td>\n",
              "      <td>0.0</td>\n",
              "      <td>1.0</td>\n",
              "      <td>0.0</td>\n",
              "      <td>1.0</td>\n",
              "      <td>0.0</td>\n",
              "      <td>0.0</td>\n",
              "    </tr>\n",
              "    <tr>\n",
              "      <th>4</th>\n",
              "      <td>1.0</td>\n",
              "      <td>0.0</td>\n",
              "      <td>0.0</td>\n",
              "      <td>0.0</td>\n",
              "      <td>1.0</td>\n",
              "      <td>1.0</td>\n",
              "      <td>0.0</td>\n",
              "      <td>0.0</td>\n",
              "      <td>0.0</td>\n",
              "      <td>0.0</td>\n",
              "      <td>1.0</td>\n",
              "      <td>1.0</td>\n",
              "    </tr>\n",
              "    <tr>\n",
              "      <th>5</th>\n",
              "      <td>0.0</td>\n",
              "      <td>0.0</td>\n",
              "      <td>1.0</td>\n",
              "      <td>1.0</td>\n",
              "      <td>0.0</td>\n",
              "      <td>0.0</td>\n",
              "      <td>0.0</td>\n",
              "      <td>0.0</td>\n",
              "      <td>0.0</td>\n",
              "      <td>0.0</td>\n",
              "      <td>0.0</td>\n",
              "      <td>0.0</td>\n",
              "    </tr>\n",
              "    <tr>\n",
              "      <th>6</th>\n",
              "      <td>0.0</td>\n",
              "      <td>0.0</td>\n",
              "      <td>0.0</td>\n",
              "      <td>0.0</td>\n",
              "      <td>0.0</td>\n",
              "      <td>1.0</td>\n",
              "      <td>0.0</td>\n",
              "      <td>0.0</td>\n",
              "      <td>0.0</td>\n",
              "      <td>0.0</td>\n",
              "      <td>0.0</td>\n",
              "      <td>1.0</td>\n",
              "    </tr>\n",
              "    <tr>\n",
              "      <th>7</th>\n",
              "      <td>1.0</td>\n",
              "      <td>1.0</td>\n",
              "      <td>0.0</td>\n",
              "      <td>1.0</td>\n",
              "      <td>0.0</td>\n",
              "      <td>0.0</td>\n",
              "      <td>0.0</td>\n",
              "      <td>0.0</td>\n",
              "      <td>0.0</td>\n",
              "      <td>0.0</td>\n",
              "      <td>0.0</td>\n",
              "      <td>0.0</td>\n",
              "    </tr>\n",
              "    <tr>\n",
              "      <th>8</th>\n",
              "      <td>0.0</td>\n",
              "      <td>0.0</td>\n",
              "      <td>0.0</td>\n",
              "      <td>0.0</td>\n",
              "      <td>0.0</td>\n",
              "      <td>0.0</td>\n",
              "      <td>1.0</td>\n",
              "      <td>0.0</td>\n",
              "      <td>1.0</td>\n",
              "      <td>0.0</td>\n",
              "      <td>0.0</td>\n",
              "      <td>0.0</td>\n",
              "    </tr>\n",
              "    <tr>\n",
              "      <th>9</th>\n",
              "      <td>0.0</td>\n",
              "      <td>0.0</td>\n",
              "      <td>0.0</td>\n",
              "      <td>0.0</td>\n",
              "      <td>1.0</td>\n",
              "      <td>1.0</td>\n",
              "      <td>0.0</td>\n",
              "      <td>0.0</td>\n",
              "      <td>0.0</td>\n",
              "      <td>0.0</td>\n",
              "      <td>1.0</td>\n",
              "      <td>1.0</td>\n",
              "    </tr>\n",
              "    <tr>\n",
              "      <th>10</th>\n",
              "      <td>0.0</td>\n",
              "      <td>0.0</td>\n",
              "      <td>1.0</td>\n",
              "      <td>0.0</td>\n",
              "      <td>0.0</td>\n",
              "      <td>0.0</td>\n",
              "      <td>0.0</td>\n",
              "      <td>1.0</td>\n",
              "      <td>0.0</td>\n",
              "      <td>1.0</td>\n",
              "      <td>0.0</td>\n",
              "      <td>0.0</td>\n",
              "    </tr>\n",
              "    <tr>\n",
              "      <th>11</th>\n",
              "      <td>0.0</td>\n",
              "      <td>0.0</td>\n",
              "      <td>0.0</td>\n",
              "      <td>0.0</td>\n",
              "      <td>1.0</td>\n",
              "      <td>1.0</td>\n",
              "      <td>1.0</td>\n",
              "      <td>0.0</td>\n",
              "      <td>0.0</td>\n",
              "      <td>0.0</td>\n",
              "      <td>0.0</td>\n",
              "      <td>0.0</td>\n",
              "    </tr>\n",
              "    <tr>\n",
              "      <th>12</th>\n",
              "      <td>1.0</td>\n",
              "      <td>1.0</td>\n",
              "      <td>0.0</td>\n",
              "      <td>1.0</td>\n",
              "      <td>0.0</td>\n",
              "      <td>0.0</td>\n",
              "      <td>0.0</td>\n",
              "      <td>0.0</td>\n",
              "      <td>0.0</td>\n",
              "      <td>0.0</td>\n",
              "      <td>0.0</td>\n",
              "      <td>0.0</td>\n",
              "    </tr>\n",
              "    <tr>\n",
              "      <th>13</th>\n",
              "      <td>0.0</td>\n",
              "      <td>0.0</td>\n",
              "      <td>0.0</td>\n",
              "      <td>0.0</td>\n",
              "      <td>1.0</td>\n",
              "      <td>1.0</td>\n",
              "      <td>0.0</td>\n",
              "      <td>0.0</td>\n",
              "      <td>0.0</td>\n",
              "      <td>0.0</td>\n",
              "      <td>1.0</td>\n",
              "      <td>1.0</td>\n",
              "    </tr>\n",
              "    <tr>\n",
              "      <th>14</th>\n",
              "      <td>0.0</td>\n",
              "      <td>0.0</td>\n",
              "      <td>0.0</td>\n",
              "      <td>0.0</td>\n",
              "      <td>1.0</td>\n",
              "      <td>1.0</td>\n",
              "      <td>0.0</td>\n",
              "      <td>0.0</td>\n",
              "      <td>0.0</td>\n",
              "      <td>0.0</td>\n",
              "      <td>1.0</td>\n",
              "      <td>1.0</td>\n",
              "    </tr>\n",
              "    <tr>\n",
              "      <th>15</th>\n",
              "      <td>0.0</td>\n",
              "      <td>0.0</td>\n",
              "      <td>1.0</td>\n",
              "      <td>0.0</td>\n",
              "      <td>0.0</td>\n",
              "      <td>0.0</td>\n",
              "      <td>0.0</td>\n",
              "      <td>1.0</td>\n",
              "      <td>0.0</td>\n",
              "      <td>1.0</td>\n",
              "      <td>0.0</td>\n",
              "      <td>0.0</td>\n",
              "    </tr>\n",
              "    <tr>\n",
              "      <th>16</th>\n",
              "      <td>0.0</td>\n",
              "      <td>0.0</td>\n",
              "      <td>0.0</td>\n",
              "      <td>0.0</td>\n",
              "      <td>1.0</td>\n",
              "      <td>1.0</td>\n",
              "      <td>1.0</td>\n",
              "      <td>0.0</td>\n",
              "      <td>0.0</td>\n",
              "      <td>0.0</td>\n",
              "      <td>0.0</td>\n",
              "      <td>0.0</td>\n",
              "    </tr>\n",
              "    <tr>\n",
              "      <th>17</th>\n",
              "      <td>1.0</td>\n",
              "      <td>1.0</td>\n",
              "      <td>0.0</td>\n",
              "      <td>1.0</td>\n",
              "      <td>0.0</td>\n",
              "      <td>0.0</td>\n",
              "      <td>0.0</td>\n",
              "      <td>0.0</td>\n",
              "      <td>0.0</td>\n",
              "      <td>0.0</td>\n",
              "      <td>0.0</td>\n",
              "      <td>0.0</td>\n",
              "    </tr>\n",
              "    <tr>\n",
              "      <th>18</th>\n",
              "      <td>0.0</td>\n",
              "      <td>0.0</td>\n",
              "      <td>0.0</td>\n",
              "      <td>0.0</td>\n",
              "      <td>1.0</td>\n",
              "      <td>1.0</td>\n",
              "      <td>1.0</td>\n",
              "      <td>0.0</td>\n",
              "      <td>0.0</td>\n",
              "      <td>0.0</td>\n",
              "      <td>0.0</td>\n",
              "      <td>0.0</td>\n",
              "    </tr>\n",
              "    <tr>\n",
              "      <th>19</th>\n",
              "      <td>1.0</td>\n",
              "      <td>1.0</td>\n",
              "      <td>0.0</td>\n",
              "      <td>1.0</td>\n",
              "      <td>0.0</td>\n",
              "      <td>0.0</td>\n",
              "      <td>0.0</td>\n",
              "      <td>0.0</td>\n",
              "      <td>0.0</td>\n",
              "      <td>0.0</td>\n",
              "      <td>0.0</td>\n",
              "      <td>0.0</td>\n",
              "    </tr>\n",
              "  </tbody>\n",
              "</table>\n",
              "</div>"
            ],
            "text/plain": [
              "     1    2    3    4    5    6    7    8    9    10   11   12\n",
              "0   1.0  1.0  0.0  1.0  0.0  0.0  0.0  0.0  0.0  0.0  0.0  1.0\n",
              "1   0.0  0.0  0.0  0.0  1.0  1.0  1.0  0.0  0.0  0.0  1.0  0.0\n",
              "2   0.0  0.0  1.0  0.0  0.0  0.0  0.0  1.0  0.0  1.0  0.0  0.0\n",
              "3   0.0  0.0  1.0  0.0  0.0  0.0  0.0  1.0  0.0  1.0  0.0  0.0\n",
              "4   1.0  0.0  0.0  0.0  1.0  1.0  0.0  0.0  0.0  0.0  1.0  1.0\n",
              "5   0.0  0.0  1.0  1.0  0.0  0.0  0.0  0.0  0.0  0.0  0.0  0.0\n",
              "6   0.0  0.0  0.0  0.0  0.0  1.0  0.0  0.0  0.0  0.0  0.0  1.0\n",
              "7   1.0  1.0  0.0  1.0  0.0  0.0  0.0  0.0  0.0  0.0  0.0  0.0\n",
              "8   0.0  0.0  0.0  0.0  0.0  0.0  1.0  0.0  1.0  0.0  0.0  0.0\n",
              "9   0.0  0.0  0.0  0.0  1.0  1.0  0.0  0.0  0.0  0.0  1.0  1.0\n",
              "10  0.0  0.0  1.0  0.0  0.0  0.0  0.0  1.0  0.0  1.0  0.0  0.0\n",
              "11  0.0  0.0  0.0  0.0  1.0  1.0  1.0  0.0  0.0  0.0  0.0  0.0\n",
              "12  1.0  1.0  0.0  1.0  0.0  0.0  0.0  0.0  0.0  0.0  0.0  0.0\n",
              "13  0.0  0.0  0.0  0.0  1.0  1.0  0.0  0.0  0.0  0.0  1.0  1.0\n",
              "14  0.0  0.0  0.0  0.0  1.0  1.0  0.0  0.0  0.0  0.0  1.0  1.0\n",
              "15  0.0  0.0  1.0  0.0  0.0  0.0  0.0  1.0  0.0  1.0  0.0  0.0\n",
              "16  0.0  0.0  0.0  0.0  1.0  1.0  1.0  0.0  0.0  0.0  0.0  0.0\n",
              "17  1.0  1.0  0.0  1.0  0.0  0.0  0.0  0.0  0.0  0.0  0.0  0.0\n",
              "18  0.0  0.0  0.0  0.0  1.0  1.0  1.0  0.0  0.0  0.0  0.0  0.0\n",
              "19  1.0  1.0  0.0  1.0  0.0  0.0  0.0  0.0  0.0  0.0  0.0  0.0"
            ]
          },
          "metadata": {
            "tags": []
          },
          "execution_count": 74
        }
      ]
    },
    {
      "cell_type": "markdown",
      "metadata": {
        "id": "pnIiPk_JvyIN"
      },
      "source": [
        ""
      ]
    },
    {
      "cell_type": "code",
      "metadata": {
        "colab": {
          "base_uri": "https://localhost:8080/"
        },
        "id": "Qlk34PPEvyXE",
        "outputId": "e33aca9b-58f2-4273-d6e0-8724ab041860"
      },
      "source": [
        "import  numpy  as  np\r\n",
        "\r\n",
        "d = np.array(dataset)\r\n",
        "d2 = d.astype('bool')\r\n",
        "d2"
      ],
      "execution_count": 75,
      "outputs": [
        {
          "output_type": "execute_result",
          "data": {
            "text/plain": [
              "array([[ True,  True, False,  True, False, False, False, False, False,\n",
              "        False, False,  True],\n",
              "       [False, False, False, False,  True,  True,  True, False, False,\n",
              "        False,  True, False],\n",
              "       [False, False,  True, False, False, False, False,  True, False,\n",
              "         True, False, False],\n",
              "       [False, False,  True, False, False, False, False,  True, False,\n",
              "         True, False, False],\n",
              "       [ True, False, False, False,  True,  True, False, False, False,\n",
              "        False,  True,  True],\n",
              "       [False, False,  True,  True, False, False, False, False, False,\n",
              "        False, False, False],\n",
              "       [False, False, False, False, False,  True, False, False, False,\n",
              "        False, False,  True],\n",
              "       [ True,  True, False,  True, False, False, False, False, False,\n",
              "        False, False, False],\n",
              "       [False, False, False, False, False, False,  True, False,  True,\n",
              "        False, False, False],\n",
              "       [False, False, False, False,  True,  True, False, False, False,\n",
              "        False,  True,  True],\n",
              "       [False, False,  True, False, False, False, False,  True, False,\n",
              "         True, False, False],\n",
              "       [False, False, False, False,  True,  True,  True, False, False,\n",
              "        False, False, False],\n",
              "       [ True,  True, False,  True, False, False, False, False, False,\n",
              "        False, False, False],\n",
              "       [False, False, False, False,  True,  True, False, False, False,\n",
              "        False,  True,  True],\n",
              "       [False, False, False, False,  True,  True, False, False, False,\n",
              "        False,  True,  True],\n",
              "       [False, False,  True, False, False, False, False,  True, False,\n",
              "         True, False, False],\n",
              "       [False, False, False, False,  True,  True,  True, False, False,\n",
              "        False, False, False],\n",
              "       [ True,  True, False,  True, False, False, False, False, False,\n",
              "        False, False, False],\n",
              "       [False, False, False, False,  True,  True,  True, False, False,\n",
              "        False, False, False],\n",
              "       [ True,  True, False,  True, False, False, False, False, False,\n",
              "        False, False, False]])"
            ]
          },
          "metadata": {
            "tags": []
          },
          "execution_count": 75
        }
      ]
    },
    {
      "cell_type": "markdown",
      "metadata": {
        "id": "O-pvM7M0v2OZ"
      },
      "source": [
        ""
      ]
    },
    {
      "cell_type": "code",
      "metadata": {
        "colab": {
          "base_uri": "https://localhost:8080/",
          "height": 639
        },
        "id": "_SXom14Nv1tY",
        "outputId": "7b31defc-5c4a-4a30-dbd2-3a7dba746141"
      },
      "source": [
        "df = pd.DataFrame(d2, columns=['hospital', 'pharmacy', 'cafe', 'mobile', 'restaurant',\r\n",
        "       'familyrest', 'billiardroom', 'academy', 'supermarket', 'bank',\r\n",
        "       'convenience', 'cosmetics']) #위에서 나온걸 보기 좋게 데이터프레임으로 변경\r\n",
        "df"
      ],
      "execution_count": 76,
      "outputs": [
        {
          "output_type": "execute_result",
          "data": {
            "text/html": [
              "<div>\n",
              "<style scoped>\n",
              "    .dataframe tbody tr th:only-of-type {\n",
              "        vertical-align: middle;\n",
              "    }\n",
              "\n",
              "    .dataframe tbody tr th {\n",
              "        vertical-align: top;\n",
              "    }\n",
              "\n",
              "    .dataframe thead th {\n",
              "        text-align: right;\n",
              "    }\n",
              "</style>\n",
              "<table border=\"1\" class=\"dataframe\">\n",
              "  <thead>\n",
              "    <tr style=\"text-align: right;\">\n",
              "      <th></th>\n",
              "      <th>hospital</th>\n",
              "      <th>pharmacy</th>\n",
              "      <th>cafe</th>\n",
              "      <th>mobile</th>\n",
              "      <th>restaurant</th>\n",
              "      <th>familyrest</th>\n",
              "      <th>billiardroom</th>\n",
              "      <th>academy</th>\n",
              "      <th>supermarket</th>\n",
              "      <th>bank</th>\n",
              "      <th>convenience</th>\n",
              "      <th>cosmetics</th>\n",
              "    </tr>\n",
              "  </thead>\n",
              "  <tbody>\n",
              "    <tr>\n",
              "      <th>0</th>\n",
              "      <td>True</td>\n",
              "      <td>True</td>\n",
              "      <td>False</td>\n",
              "      <td>True</td>\n",
              "      <td>False</td>\n",
              "      <td>False</td>\n",
              "      <td>False</td>\n",
              "      <td>False</td>\n",
              "      <td>False</td>\n",
              "      <td>False</td>\n",
              "      <td>False</td>\n",
              "      <td>True</td>\n",
              "    </tr>\n",
              "    <tr>\n",
              "      <th>1</th>\n",
              "      <td>False</td>\n",
              "      <td>False</td>\n",
              "      <td>False</td>\n",
              "      <td>False</td>\n",
              "      <td>True</td>\n",
              "      <td>True</td>\n",
              "      <td>True</td>\n",
              "      <td>False</td>\n",
              "      <td>False</td>\n",
              "      <td>False</td>\n",
              "      <td>True</td>\n",
              "      <td>False</td>\n",
              "    </tr>\n",
              "    <tr>\n",
              "      <th>2</th>\n",
              "      <td>False</td>\n",
              "      <td>False</td>\n",
              "      <td>True</td>\n",
              "      <td>False</td>\n",
              "      <td>False</td>\n",
              "      <td>False</td>\n",
              "      <td>False</td>\n",
              "      <td>True</td>\n",
              "      <td>False</td>\n",
              "      <td>True</td>\n",
              "      <td>False</td>\n",
              "      <td>False</td>\n",
              "    </tr>\n",
              "    <tr>\n",
              "      <th>3</th>\n",
              "      <td>False</td>\n",
              "      <td>False</td>\n",
              "      <td>True</td>\n",
              "      <td>False</td>\n",
              "      <td>False</td>\n",
              "      <td>False</td>\n",
              "      <td>False</td>\n",
              "      <td>True</td>\n",
              "      <td>False</td>\n",
              "      <td>True</td>\n",
              "      <td>False</td>\n",
              "      <td>False</td>\n",
              "    </tr>\n",
              "    <tr>\n",
              "      <th>4</th>\n",
              "      <td>True</td>\n",
              "      <td>False</td>\n",
              "      <td>False</td>\n",
              "      <td>False</td>\n",
              "      <td>True</td>\n",
              "      <td>True</td>\n",
              "      <td>False</td>\n",
              "      <td>False</td>\n",
              "      <td>False</td>\n",
              "      <td>False</td>\n",
              "      <td>True</td>\n",
              "      <td>True</td>\n",
              "    </tr>\n",
              "    <tr>\n",
              "      <th>5</th>\n",
              "      <td>False</td>\n",
              "      <td>False</td>\n",
              "      <td>True</td>\n",
              "      <td>True</td>\n",
              "      <td>False</td>\n",
              "      <td>False</td>\n",
              "      <td>False</td>\n",
              "      <td>False</td>\n",
              "      <td>False</td>\n",
              "      <td>False</td>\n",
              "      <td>False</td>\n",
              "      <td>False</td>\n",
              "    </tr>\n",
              "    <tr>\n",
              "      <th>6</th>\n",
              "      <td>False</td>\n",
              "      <td>False</td>\n",
              "      <td>False</td>\n",
              "      <td>False</td>\n",
              "      <td>False</td>\n",
              "      <td>True</td>\n",
              "      <td>False</td>\n",
              "      <td>False</td>\n",
              "      <td>False</td>\n",
              "      <td>False</td>\n",
              "      <td>False</td>\n",
              "      <td>True</td>\n",
              "    </tr>\n",
              "    <tr>\n",
              "      <th>7</th>\n",
              "      <td>True</td>\n",
              "      <td>True</td>\n",
              "      <td>False</td>\n",
              "      <td>True</td>\n",
              "      <td>False</td>\n",
              "      <td>False</td>\n",
              "      <td>False</td>\n",
              "      <td>False</td>\n",
              "      <td>False</td>\n",
              "      <td>False</td>\n",
              "      <td>False</td>\n",
              "      <td>False</td>\n",
              "    </tr>\n",
              "    <tr>\n",
              "      <th>8</th>\n",
              "      <td>False</td>\n",
              "      <td>False</td>\n",
              "      <td>False</td>\n",
              "      <td>False</td>\n",
              "      <td>False</td>\n",
              "      <td>False</td>\n",
              "      <td>True</td>\n",
              "      <td>False</td>\n",
              "      <td>True</td>\n",
              "      <td>False</td>\n",
              "      <td>False</td>\n",
              "      <td>False</td>\n",
              "    </tr>\n",
              "    <tr>\n",
              "      <th>9</th>\n",
              "      <td>False</td>\n",
              "      <td>False</td>\n",
              "      <td>False</td>\n",
              "      <td>False</td>\n",
              "      <td>True</td>\n",
              "      <td>True</td>\n",
              "      <td>False</td>\n",
              "      <td>False</td>\n",
              "      <td>False</td>\n",
              "      <td>False</td>\n",
              "      <td>True</td>\n",
              "      <td>True</td>\n",
              "    </tr>\n",
              "    <tr>\n",
              "      <th>10</th>\n",
              "      <td>False</td>\n",
              "      <td>False</td>\n",
              "      <td>True</td>\n",
              "      <td>False</td>\n",
              "      <td>False</td>\n",
              "      <td>False</td>\n",
              "      <td>False</td>\n",
              "      <td>True</td>\n",
              "      <td>False</td>\n",
              "      <td>True</td>\n",
              "      <td>False</td>\n",
              "      <td>False</td>\n",
              "    </tr>\n",
              "    <tr>\n",
              "      <th>11</th>\n",
              "      <td>False</td>\n",
              "      <td>False</td>\n",
              "      <td>False</td>\n",
              "      <td>False</td>\n",
              "      <td>True</td>\n",
              "      <td>True</td>\n",
              "      <td>True</td>\n",
              "      <td>False</td>\n",
              "      <td>False</td>\n",
              "      <td>False</td>\n",
              "      <td>False</td>\n",
              "      <td>False</td>\n",
              "    </tr>\n",
              "    <tr>\n",
              "      <th>12</th>\n",
              "      <td>True</td>\n",
              "      <td>True</td>\n",
              "      <td>False</td>\n",
              "      <td>True</td>\n",
              "      <td>False</td>\n",
              "      <td>False</td>\n",
              "      <td>False</td>\n",
              "      <td>False</td>\n",
              "      <td>False</td>\n",
              "      <td>False</td>\n",
              "      <td>False</td>\n",
              "      <td>False</td>\n",
              "    </tr>\n",
              "    <tr>\n",
              "      <th>13</th>\n",
              "      <td>False</td>\n",
              "      <td>False</td>\n",
              "      <td>False</td>\n",
              "      <td>False</td>\n",
              "      <td>True</td>\n",
              "      <td>True</td>\n",
              "      <td>False</td>\n",
              "      <td>False</td>\n",
              "      <td>False</td>\n",
              "      <td>False</td>\n",
              "      <td>True</td>\n",
              "      <td>True</td>\n",
              "    </tr>\n",
              "    <tr>\n",
              "      <th>14</th>\n",
              "      <td>False</td>\n",
              "      <td>False</td>\n",
              "      <td>False</td>\n",
              "      <td>False</td>\n",
              "      <td>True</td>\n",
              "      <td>True</td>\n",
              "      <td>False</td>\n",
              "      <td>False</td>\n",
              "      <td>False</td>\n",
              "      <td>False</td>\n",
              "      <td>True</td>\n",
              "      <td>True</td>\n",
              "    </tr>\n",
              "    <tr>\n",
              "      <th>15</th>\n",
              "      <td>False</td>\n",
              "      <td>False</td>\n",
              "      <td>True</td>\n",
              "      <td>False</td>\n",
              "      <td>False</td>\n",
              "      <td>False</td>\n",
              "      <td>False</td>\n",
              "      <td>True</td>\n",
              "      <td>False</td>\n",
              "      <td>True</td>\n",
              "      <td>False</td>\n",
              "      <td>False</td>\n",
              "    </tr>\n",
              "    <tr>\n",
              "      <th>16</th>\n",
              "      <td>False</td>\n",
              "      <td>False</td>\n",
              "      <td>False</td>\n",
              "      <td>False</td>\n",
              "      <td>True</td>\n",
              "      <td>True</td>\n",
              "      <td>True</td>\n",
              "      <td>False</td>\n",
              "      <td>False</td>\n",
              "      <td>False</td>\n",
              "      <td>False</td>\n",
              "      <td>False</td>\n",
              "    </tr>\n",
              "    <tr>\n",
              "      <th>17</th>\n",
              "      <td>True</td>\n",
              "      <td>True</td>\n",
              "      <td>False</td>\n",
              "      <td>True</td>\n",
              "      <td>False</td>\n",
              "      <td>False</td>\n",
              "      <td>False</td>\n",
              "      <td>False</td>\n",
              "      <td>False</td>\n",
              "      <td>False</td>\n",
              "      <td>False</td>\n",
              "      <td>False</td>\n",
              "    </tr>\n",
              "    <tr>\n",
              "      <th>18</th>\n",
              "      <td>False</td>\n",
              "      <td>False</td>\n",
              "      <td>False</td>\n",
              "      <td>False</td>\n",
              "      <td>True</td>\n",
              "      <td>True</td>\n",
              "      <td>True</td>\n",
              "      <td>False</td>\n",
              "      <td>False</td>\n",
              "      <td>False</td>\n",
              "      <td>False</td>\n",
              "      <td>False</td>\n",
              "    </tr>\n",
              "    <tr>\n",
              "      <th>19</th>\n",
              "      <td>True</td>\n",
              "      <td>True</td>\n",
              "      <td>False</td>\n",
              "      <td>True</td>\n",
              "      <td>False</td>\n",
              "      <td>False</td>\n",
              "      <td>False</td>\n",
              "      <td>False</td>\n",
              "      <td>False</td>\n",
              "      <td>False</td>\n",
              "      <td>False</td>\n",
              "      <td>False</td>\n",
              "    </tr>\n",
              "  </tbody>\n",
              "</table>\n",
              "</div>"
            ],
            "text/plain": [
              "    hospital  pharmacy   cafe  mobile  restaurant  familyrest  billiardroom  \\\n",
              "0       True      True  False    True       False       False         False   \n",
              "1      False     False  False   False        True        True          True   \n",
              "2      False     False   True   False       False       False         False   \n",
              "3      False     False   True   False       False       False         False   \n",
              "4       True     False  False   False        True        True         False   \n",
              "5      False     False   True    True       False       False         False   \n",
              "6      False     False  False   False       False        True         False   \n",
              "7       True      True  False    True       False       False         False   \n",
              "8      False     False  False   False       False       False          True   \n",
              "9      False     False  False   False        True        True         False   \n",
              "10     False     False   True   False       False       False         False   \n",
              "11     False     False  False   False        True        True          True   \n",
              "12      True      True  False    True       False       False         False   \n",
              "13     False     False  False   False        True        True         False   \n",
              "14     False     False  False   False        True        True         False   \n",
              "15     False     False   True   False       False       False         False   \n",
              "16     False     False  False   False        True        True          True   \n",
              "17      True      True  False    True       False       False         False   \n",
              "18     False     False  False   False        True        True          True   \n",
              "19      True      True  False    True       False       False         False   \n",
              "\n",
              "    academy  supermarket   bank  convenience  cosmetics  \n",
              "0     False        False  False        False       True  \n",
              "1     False        False  False         True      False  \n",
              "2      True        False   True        False      False  \n",
              "3      True        False   True        False      False  \n",
              "4     False        False  False         True       True  \n",
              "5     False        False  False        False      False  \n",
              "6     False        False  False        False       True  \n",
              "7     False        False  False        False      False  \n",
              "8     False         True  False        False      False  \n",
              "9     False        False  False         True       True  \n",
              "10     True        False   True        False      False  \n",
              "11    False        False  False        False      False  \n",
              "12    False        False  False        False      False  \n",
              "13    False        False  False         True       True  \n",
              "14    False        False  False         True       True  \n",
              "15     True        False   True        False      False  \n",
              "16    False        False  False        False      False  \n",
              "17    False        False  False        False      False  \n",
              "18    False        False  False        False      False  \n",
              "19    False        False  False        False      False  "
            ]
          },
          "metadata": {
            "tags": []
          },
          "execution_count": 76
        }
      ]
    },
    {
      "cell_type": "markdown",
      "metadata": {
        "id": "6_IoPS-mv3iZ"
      },
      "source": [
        ""
      ]
    },
    {
      "cell_type": "code",
      "metadata": {
        "colab": {
          "base_uri": "https://localhost:8080/"
        },
        "id": "gISjtCUdv3wF",
        "outputId": "5cac577e-9279-4ef2-fc40-5237d688a83c"
      },
      "source": [
        "frequent_itemsets = apriori(df, min_support=0.01, use_colnames=True)\r\n",
        "print(frequent_itemsets)"
      ],
      "execution_count": 77,
      "outputs": [
        {
          "output_type": "stream",
          "text": [
            "    support                                           itemsets\n",
            "0      0.30                                         (hospital)\n",
            "1      0.25                                         (pharmacy)\n",
            "2      0.25                                             (cafe)\n",
            "3      0.30                                           (mobile)\n",
            "4      0.40                                       (restaurant)\n",
            "..      ...                                                ...\n",
            "56     0.05     (restaurant, convenience, hospital, cosmetics)\n",
            "57     0.05     (familyrest, convenience, hospital, cosmetics)\n",
            "58     0.05  (familyrest, billiardroom, convenience, restau...\n",
            "59     0.20   (familyrest, restaurant, convenience, cosmetics)\n",
            "60     0.05  (familyrest, convenience, cosmetics, hospital,...\n",
            "\n",
            "[61 rows x 2 columns]\n"
          ],
          "name": "stdout"
        }
      ]
    },
    {
      "cell_type": "markdown",
      "metadata": {
        "id": "Pn25vPkAv5pX"
      },
      "source": [
        ""
      ]
    },
    {
      "cell_type": "code",
      "metadata": {
        "colab": {
          "base_uri": "https://localhost:8080/",
          "height": 502
        },
        "id": "wCFijnb1v58N",
        "outputId": "a5c2ca03-cabc-4409-c205-784dd1505f1b"
      },
      "source": [
        "from mlxtend.frequent_patterns import association_rules\r\n",
        "rules1 = association_rules(frequent_itemsets, metric=\"confidence\", min_threshold=0.1) \r\n",
        "rules1"
      ],
      "execution_count": 78,
      "outputs": [
        {
          "output_type": "execute_result",
          "data": {
            "text/html": [
              "<div>\n",
              "<style scoped>\n",
              "    .dataframe tbody tr th:only-of-type {\n",
              "        vertical-align: middle;\n",
              "    }\n",
              "\n",
              "    .dataframe tbody tr th {\n",
              "        vertical-align: top;\n",
              "    }\n",
              "\n",
              "    .dataframe thead th {\n",
              "        text-align: right;\n",
              "    }\n",
              "</style>\n",
              "<table border=\"1\" class=\"dataframe\">\n",
              "  <thead>\n",
              "    <tr style=\"text-align: right;\">\n",
              "      <th></th>\n",
              "      <th>antecedents</th>\n",
              "      <th>consequents</th>\n",
              "      <th>antecedent support</th>\n",
              "      <th>consequent support</th>\n",
              "      <th>support</th>\n",
              "      <th>confidence</th>\n",
              "      <th>lift</th>\n",
              "      <th>leverage</th>\n",
              "      <th>conviction</th>\n",
              "    </tr>\n",
              "  </thead>\n",
              "  <tbody>\n",
              "    <tr>\n",
              "      <th>0</th>\n",
              "      <td>(pharmacy)</td>\n",
              "      <td>(hospital)</td>\n",
              "      <td>0.25</td>\n",
              "      <td>0.30</td>\n",
              "      <td>0.25</td>\n",
              "      <td>1.000000</td>\n",
              "      <td>3.333333</td>\n",
              "      <td>0.1750</td>\n",
              "      <td>inf</td>\n",
              "    </tr>\n",
              "    <tr>\n",
              "      <th>1</th>\n",
              "      <td>(hospital)</td>\n",
              "      <td>(pharmacy)</td>\n",
              "      <td>0.30</td>\n",
              "      <td>0.25</td>\n",
              "      <td>0.25</td>\n",
              "      <td>0.833333</td>\n",
              "      <td>3.333333</td>\n",
              "      <td>0.1750</td>\n",
              "      <td>4.500000</td>\n",
              "    </tr>\n",
              "    <tr>\n",
              "      <th>2</th>\n",
              "      <td>(mobile)</td>\n",
              "      <td>(hospital)</td>\n",
              "      <td>0.30</td>\n",
              "      <td>0.30</td>\n",
              "      <td>0.25</td>\n",
              "      <td>0.833333</td>\n",
              "      <td>2.777778</td>\n",
              "      <td>0.1600</td>\n",
              "      <td>4.200000</td>\n",
              "    </tr>\n",
              "    <tr>\n",
              "      <th>3</th>\n",
              "      <td>(hospital)</td>\n",
              "      <td>(mobile)</td>\n",
              "      <td>0.30</td>\n",
              "      <td>0.30</td>\n",
              "      <td>0.25</td>\n",
              "      <td>0.833333</td>\n",
              "      <td>2.777778</td>\n",
              "      <td>0.1600</td>\n",
              "      <td>4.200000</td>\n",
              "    </tr>\n",
              "    <tr>\n",
              "      <th>4</th>\n",
              "      <td>(hospital)</td>\n",
              "      <td>(restaurant)</td>\n",
              "      <td>0.30</td>\n",
              "      <td>0.40</td>\n",
              "      <td>0.05</td>\n",
              "      <td>0.166667</td>\n",
              "      <td>0.416667</td>\n",
              "      <td>-0.0700</td>\n",
              "      <td>0.720000</td>\n",
              "    </tr>\n",
              "    <tr>\n",
              "      <th>...</th>\n",
              "      <td>...</td>\n",
              "      <td>...</td>\n",
              "      <td>...</td>\n",
              "      <td>...</td>\n",
              "      <td>...</td>\n",
              "      <td>...</td>\n",
              "      <td>...</td>\n",
              "      <td>...</td>\n",
              "      <td>...</td>\n",
              "    </tr>\n",
              "    <tr>\n",
              "      <th>277</th>\n",
              "      <td>(familyrest)</td>\n",
              "      <td>(restaurant, convenience, hospital, cosmetics)</td>\n",
              "      <td>0.45</td>\n",
              "      <td>0.05</td>\n",
              "      <td>0.05</td>\n",
              "      <td>0.111111</td>\n",
              "      <td>2.222222</td>\n",
              "      <td>0.0275</td>\n",
              "      <td>1.068750</td>\n",
              "    </tr>\n",
              "    <tr>\n",
              "      <th>278</th>\n",
              "      <td>(convenience)</td>\n",
              "      <td>(familyrest, restaurant, hospital, cosmetics)</td>\n",
              "      <td>0.25</td>\n",
              "      <td>0.05</td>\n",
              "      <td>0.05</td>\n",
              "      <td>0.200000</td>\n",
              "      <td>4.000000</td>\n",
              "      <td>0.0375</td>\n",
              "      <td>1.187500</td>\n",
              "    </tr>\n",
              "    <tr>\n",
              "      <th>279</th>\n",
              "      <td>(cosmetics)</td>\n",
              "      <td>(familyrest, convenience, hospital, restaurant)</td>\n",
              "      <td>0.30</td>\n",
              "      <td>0.05</td>\n",
              "      <td>0.05</td>\n",
              "      <td>0.166667</td>\n",
              "      <td>3.333333</td>\n",
              "      <td>0.0350</td>\n",
              "      <td>1.140000</td>\n",
              "    </tr>\n",
              "    <tr>\n",
              "      <th>280</th>\n",
              "      <td>(hospital)</td>\n",
              "      <td>(familyrest, restaurant, convenience, cosmetics)</td>\n",
              "      <td>0.30</td>\n",
              "      <td>0.20</td>\n",
              "      <td>0.05</td>\n",
              "      <td>0.166667</td>\n",
              "      <td>0.833333</td>\n",
              "      <td>-0.0100</td>\n",
              "      <td>0.960000</td>\n",
              "    </tr>\n",
              "    <tr>\n",
              "      <th>281</th>\n",
              "      <td>(restaurant)</td>\n",
              "      <td>(familyrest, convenience, hospital, cosmetics)</td>\n",
              "      <td>0.40</td>\n",
              "      <td>0.05</td>\n",
              "      <td>0.05</td>\n",
              "      <td>0.125000</td>\n",
              "      <td>2.500000</td>\n",
              "      <td>0.0300</td>\n",
              "      <td>1.085714</td>\n",
              "    </tr>\n",
              "  </tbody>\n",
              "</table>\n",
              "<p>282 rows × 9 columns</p>\n",
              "</div>"
            ],
            "text/plain": [
              "       antecedents                                       consequents  \\\n",
              "0       (pharmacy)                                        (hospital)   \n",
              "1       (hospital)                                        (pharmacy)   \n",
              "2         (mobile)                                        (hospital)   \n",
              "3       (hospital)                                          (mobile)   \n",
              "4       (hospital)                                      (restaurant)   \n",
              "..             ...                                               ...   \n",
              "277   (familyrest)    (restaurant, convenience, hospital, cosmetics)   \n",
              "278  (convenience)     (familyrest, restaurant, hospital, cosmetics)   \n",
              "279    (cosmetics)   (familyrest, convenience, hospital, restaurant)   \n",
              "280     (hospital)  (familyrest, restaurant, convenience, cosmetics)   \n",
              "281   (restaurant)    (familyrest, convenience, hospital, cosmetics)   \n",
              "\n",
              "     antecedent support  consequent support  support  confidence      lift  \\\n",
              "0                  0.25                0.30     0.25    1.000000  3.333333   \n",
              "1                  0.30                0.25     0.25    0.833333  3.333333   \n",
              "2                  0.30                0.30     0.25    0.833333  2.777778   \n",
              "3                  0.30                0.30     0.25    0.833333  2.777778   \n",
              "4                  0.30                0.40     0.05    0.166667  0.416667   \n",
              "..                  ...                 ...      ...         ...       ...   \n",
              "277                0.45                0.05     0.05    0.111111  2.222222   \n",
              "278                0.25                0.05     0.05    0.200000  4.000000   \n",
              "279                0.30                0.05     0.05    0.166667  3.333333   \n",
              "280                0.30                0.20     0.05    0.166667  0.833333   \n",
              "281                0.40                0.05     0.05    0.125000  2.500000   \n",
              "\n",
              "     leverage  conviction  \n",
              "0      0.1750         inf  \n",
              "1      0.1750    4.500000  \n",
              "2      0.1600    4.200000  \n",
              "3      0.1600    4.200000  \n",
              "4     -0.0700    0.720000  \n",
              "..        ...         ...  \n",
              "277    0.0275    1.068750  \n",
              "278    0.0375    1.187500  \n",
              "279    0.0350    1.140000  \n",
              "280   -0.0100    0.960000  \n",
              "281    0.0300    1.085714  \n",
              "\n",
              "[282 rows x 9 columns]"
            ]
          },
          "metadata": {
            "tags": []
          },
          "execution_count": 78
        }
      ]
    },
    {
      "cell_type": "markdown",
      "metadata": {
        "id": "xfvnBkjfv6SU"
      },
      "source": [
        ""
      ]
    },
    {
      "cell_type": "code",
      "metadata": {
        "colab": {
          "base_uri": "https://localhost:8080/",
          "height": 195
        },
        "id": "xmwfobtrv6gs",
        "outputId": "0fa077d5-7d81-4928-aa1f-1cb4d15cd862"
      },
      "source": [
        "rules1[rules1.antecedents.apply(str).str.contains(\"academy\")].sort_values('lift', ascending=False)\r\n",
        "# 참고 : https://ichi.pro/ko/python-ui-sijang-baguni-bunseog-e-daehan-jaseubseo-80804556335911"
      ],
      "execution_count": 79,
      "outputs": [
        {
          "output_type": "execute_result",
          "data": {
            "text/html": [
              "<div>\n",
              "<style scoped>\n",
              "    .dataframe tbody tr th:only-of-type {\n",
              "        vertical-align: middle;\n",
              "    }\n",
              "\n",
              "    .dataframe tbody tr th {\n",
              "        vertical-align: top;\n",
              "    }\n",
              "\n",
              "    .dataframe thead th {\n",
              "        text-align: right;\n",
              "    }\n",
              "</style>\n",
              "<table border=\"1\" class=\"dataframe\">\n",
              "  <thead>\n",
              "    <tr style=\"text-align: right;\">\n",
              "      <th></th>\n",
              "      <th>antecedents</th>\n",
              "      <th>consequents</th>\n",
              "      <th>antecedent support</th>\n",
              "      <th>consequent support</th>\n",
              "      <th>support</th>\n",
              "      <th>confidence</th>\n",
              "      <th>lift</th>\n",
              "      <th>leverage</th>\n",
              "      <th>conviction</th>\n",
              "    </tr>\n",
              "  </thead>\n",
              "  <tbody>\n",
              "    <tr>\n",
              "      <th>43</th>\n",
              "      <td>(academy)</td>\n",
              "      <td>(bank)</td>\n",
              "      <td>0.2</td>\n",
              "      <td>0.20</td>\n",
              "      <td>0.2</td>\n",
              "      <td>1.0</td>\n",
              "      <td>5.0</td>\n",
              "      <td>0.16</td>\n",
              "      <td>inf</td>\n",
              "    </tr>\n",
              "    <tr>\n",
              "      <th>108</th>\n",
              "      <td>(cafe, academy)</td>\n",
              "      <td>(bank)</td>\n",
              "      <td>0.2</td>\n",
              "      <td>0.20</td>\n",
              "      <td>0.2</td>\n",
              "      <td>1.0</td>\n",
              "      <td>5.0</td>\n",
              "      <td>0.16</td>\n",
              "      <td>inf</td>\n",
              "    </tr>\n",
              "    <tr>\n",
              "      <th>110</th>\n",
              "      <td>(academy)</td>\n",
              "      <td>(bank, cafe)</td>\n",
              "      <td>0.2</td>\n",
              "      <td>0.20</td>\n",
              "      <td>0.2</td>\n",
              "      <td>1.0</td>\n",
              "      <td>5.0</td>\n",
              "      <td>0.16</td>\n",
              "      <td>inf</td>\n",
              "    </tr>\n",
              "    <tr>\n",
              "      <th>18</th>\n",
              "      <td>(academy)</td>\n",
              "      <td>(cafe)</td>\n",
              "      <td>0.2</td>\n",
              "      <td>0.25</td>\n",
              "      <td>0.2</td>\n",
              "      <td>1.0</td>\n",
              "      <td>4.0</td>\n",
              "      <td>0.15</td>\n",
              "      <td>inf</td>\n",
              "    </tr>\n",
              "    <tr>\n",
              "      <th>106</th>\n",
              "      <td>(bank, academy)</td>\n",
              "      <td>(cafe)</td>\n",
              "      <td>0.2</td>\n",
              "      <td>0.25</td>\n",
              "      <td>0.2</td>\n",
              "      <td>1.0</td>\n",
              "      <td>4.0</td>\n",
              "      <td>0.15</td>\n",
              "      <td>inf</td>\n",
              "    </tr>\n",
              "  </tbody>\n",
              "</table>\n",
              "</div>"
            ],
            "text/plain": [
              "         antecedents   consequents  antecedent support  consequent support  \\\n",
              "43         (academy)        (bank)                 0.2                0.20   \n",
              "108  (cafe, academy)        (bank)                 0.2                0.20   \n",
              "110        (academy)  (bank, cafe)                 0.2                0.20   \n",
              "18         (academy)        (cafe)                 0.2                0.25   \n",
              "106  (bank, academy)        (cafe)                 0.2                0.25   \n",
              "\n",
              "     support  confidence  lift  leverage  conviction  \n",
              "43       0.2         1.0   5.0      0.16         inf  \n",
              "108      0.2         1.0   5.0      0.16         inf  \n",
              "110      0.2         1.0   5.0      0.16         inf  \n",
              "18       0.2         1.0   4.0      0.15         inf  \n",
              "106      0.2         1.0   4.0      0.15         inf  "
            ]
          },
          "metadata": {
            "tags": []
          },
          "execution_count": 79
        }
      ]
    }
  ]
}